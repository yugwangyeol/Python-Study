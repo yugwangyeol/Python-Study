{
 "cells": [
  {
   "cell_type": "code",
   "execution_count": 1,
   "metadata": {},
   "outputs": [],
   "source": [
    " import pandas as pd"
   ]
  },
  {
   "cell_type": "markdown",
   "metadata": {},
   "source": [
    "Q1. 하이닉스 데이터를 불러와 각 열별 평균값,중간값,최댓값,최솟값,표준편차를 구하여 새로운 데이터 프레임을 만드시오"
   ]
  },
  {
   "cell_type": "code",
   "execution_count": 2,
   "metadata": {
    "scrolled": true
   },
   "outputs": [
    {
     "data": {
      "text/html": [
       "<div>\n",
       "<style scoped>\n",
       "    .dataframe tbody tr th:only-of-type {\n",
       "        vertical-align: middle;\n",
       "    }\n",
       "\n",
       "    .dataframe tbody tr th {\n",
       "        vertical-align: top;\n",
       "    }\n",
       "\n",
       "    .dataframe thead th {\n",
       "        text-align: right;\n",
       "    }\n",
       "</style>\n",
       "<table border=\"1\" class=\"dataframe\">\n",
       "  <thead>\n",
       "    <tr style=\"text-align: right;\">\n",
       "      <th></th>\n",
       "      <th>평균값</th>\n",
       "      <th>중간값</th>\n",
       "      <th>최대값</th>\n",
       "      <th>최솟값</th>\n",
       "      <th>표준편차</th>\n",
       "    </tr>\n",
       "  </thead>\n",
       "  <tbody>\n",
       "    <tr>\n",
       "      <th>종가</th>\n",
       "      <td>53970.333333</td>\n",
       "      <td>51350.0000</td>\n",
       "      <td>71300.0000</td>\n",
       "      <td>44700.0000</td>\n",
       "      <td>7267.162276</td>\n",
       "    </tr>\n",
       "    <tr>\n",
       "      <th>전일비</th>\n",
       "      <td>-837.333333</td>\n",
       "      <td>-725.0000</td>\n",
       "      <td>0.0000</td>\n",
       "      <td>-2700.0000</td>\n",
       "      <td>627.693837</td>\n",
       "    </tr>\n",
       "    <tr>\n",
       "      <th>등락률</th>\n",
       "      <td>0.003206</td>\n",
       "      <td>0.0024</td>\n",
       "      <td>0.0478</td>\n",
       "      <td>-0.0538</td>\n",
       "      <td>0.019385</td>\n",
       "    </tr>\n",
       "    <tr>\n",
       "      <th>5일</th>\n",
       "      <td>53628.933333</td>\n",
       "      <td>50870.0000</td>\n",
       "      <td>71100.0000</td>\n",
       "      <td>45420.0000</td>\n",
       "      <td>6987.164373</td>\n",
       "    </tr>\n",
       "    <tr>\n",
       "      <th>10일</th>\n",
       "      <td>53199.033333</td>\n",
       "      <td>50610.0000</td>\n",
       "      <td>70240.0000</td>\n",
       "      <td>44835.0000</td>\n",
       "      <td>6629.066074</td>\n",
       "    </tr>\n",
       "    <tr>\n",
       "      <th>20일</th>\n",
       "      <td>52357.220000</td>\n",
       "      <td>50623.0000</td>\n",
       "      <td>68850.0000</td>\n",
       "      <td>43493.0000</td>\n",
       "      <td>6039.474870</td>\n",
       "    </tr>\n",
       "    <tr>\n",
       "      <th>60일</th>\n",
       "      <td>49618.420000</td>\n",
       "      <td>49949.0000</td>\n",
       "      <td>61093.0000</td>\n",
       "      <td>41809.0000</td>\n",
       "      <td>4599.910439</td>\n",
       "    </tr>\n",
       "    <tr>\n",
       "      <th>120일</th>\n",
       "      <td>46492.120000</td>\n",
       "      <td>46480.0000</td>\n",
       "      <td>55578.0000</td>\n",
       "      <td>37965.0000</td>\n",
       "      <td>4722.036095</td>\n",
       "    </tr>\n",
       "  </tbody>\n",
       "</table>\n",
       "</div>"
      ],
      "text/plain": [
       "               평균값         중간값         최대값         최솟값         표준편차\n",
       "종가    53970.333333  51350.0000  71300.0000  44700.0000  7267.162276\n",
       "전일비    -837.333333   -725.0000      0.0000  -2700.0000   627.693837\n",
       "등락률       0.003206      0.0024      0.0478     -0.0538     0.019385\n",
       "5일    53628.933333  50870.0000  71100.0000  45420.0000  6987.164373\n",
       "10일   53199.033333  50610.0000  70240.0000  44835.0000  6629.066074\n",
       "20일   52357.220000  50623.0000  68850.0000  43493.0000  6039.474870\n",
       "60일   49618.420000  49949.0000  61093.0000  41809.0000  4599.910439\n",
       "120일  46492.120000  46480.0000  55578.0000  37965.0000  4722.036095"
      ]
     },
     "execution_count": 2,
     "metadata": {},
     "output_type": "execute_result"
    }
   ],
   "source": [
    "hynix=pd.read_csv('hynix.csv',encoding=('cp949'));hynix.head()\n",
    "a=hynix.mean()\n",
    "b=hynix.median()\n",
    "c=hynix.max()\n",
    "d=hynix.min()\n",
    "e=hynix.std()\n",
    "hynix_1=pd.DataFrame(pd.concat([a,b,c,d,e],axis=1))\n",
    "hynix_1.columns=['평균값','중간값','최대값','최솟값','표준편차'];hynix_1"
   ]
  },
  {
   "cell_type": "markdown",
   "metadata": {},
   "source": [
    "Q1-1. 각 열별 상관계수를 구하여 1번 문제와 서로 다른 엑셀 시트에 저장하는 엑셀 파일을 만들어 주세요."
   ]
  },
  {
   "cell_type": "code",
   "execution_count": 3,
   "metadata": {},
   "outputs": [],
   "source": [
    "f=hynix.corr()\n",
    "writer = pd.ExcelWriter('하이닉스.xlsx')\n",
    "hynix_1.to_excel(writer,sheet_name='여러값')\n",
    "f.to_excel(writer,sheet_name='상관계수')\n",
    "writer.save()"
   ]
  },
  {
   "cell_type": "markdown",
   "metadata": {},
   "source": [
    "Q2.titanic데이터를 불러와 나이별 상자그림을 만든 후, 사분위수 범위를 구해 주세요."
   ]
  },
  {
   "cell_type": "code",
   "execution_count": 62,
   "metadata": {
    "scrolled": true
   },
   "outputs": [
    {
     "name": "stdout",
     "output_type": "stream",
     "text": [
      "17.875\n"
     ]
    },
    {
     "data": {
      "image/png": "[encoded data removed]",
      "text/plain": [
       "<Figure size 432x288 with 1 Axes>"
      ]
     },
     "metadata": {
      "needs_background": "light"
     },
     "output_type": "display_data"
    }
   ],
   "source": [
    "import datetime\n",
    "\n",
    "titanic=pd.read_csv('titanic.csv');titanic\n",
    "titanic['Age'].plot(kind='box')\n",
    "db=titanic.Age.describe()\n",
    "print(db.iloc[6]-db.iloc[4])"
   ]
  },
  {
   "cell_type": "markdown",
   "metadata": {},
   "source": [
    "Q3. FuelData를 불러와 배기량과 도시연비를 가지고 산점도 그래프를 그린후에 가장 좋다고 생각하는 배기량 값 또는 범위와 이유를 말해주세요. Displacement=배기량, City MPG= 도시연비"
   ]
  },
  {
   "cell_type": "code",
   "execution_count": 76,
   "metadata": {
    "scrolled": true
   },
   "outputs": [
    {
     "data": {
      "text/plain": [
       "<matplotlib.axes._subplots.AxesSubplot at 0x237c80bea20>"
      ]
     },
     "execution_count": 76,
     "metadata": {},
     "output_type": "execute_result"
    },
    {
     "data": {
      "image/png": "[encoded data removed]",
      "text/plain": [
       "<Figure size 432x288 with 1 Axes>"
      ]
     },
     "metadata": {
      "needs_background": "light"
     },
     "output_type": "display_data"
    }
   ],
   "source": [
    "FuelData=pd.read_excel('FuelData.xlsx');FuelData\n",
    "FuelData['Displacement'].astype('int')\n",
    "FuelData['City MPG'].astype('int')\n",
    "FuelData.plot(x='City MPG',y='Displacement',kind='scatter')"
   ]
  },
  {
   "cell_type": "markdown",
   "metadata": {},
   "source": [
    "Q4.Restaurant데이터를 불러와 교차제표를 만드세요."
   ]
  },
  {
   "cell_type": "code",
   "execution_count": 161,
   "metadata": {
    "scrolled": true
   },
   "outputs": [
    {
     "data": {
      "text/html": [
       "<div>\n",
       "<style scoped>\n",
       "    .dataframe tbody tr th:only-of-type {\n",
       "        vertical-align: middle;\n",
       "    }\n",
       "\n",
       "    .dataframe tbody tr th {\n",
       "        vertical-align: top;\n",
       "    }\n",
       "\n",
       "    .dataframe thead th {\n",
       "        text-align: right;\n",
       "    }\n",
       "</style>\n",
       "<table border=\"1\" class=\"dataframe\">\n",
       "  <thead>\n",
       "    <tr style=\"text-align: right;\">\n",
       "      <th></th>\n",
       "      <th>10-19</th>\n",
       "      <th>20-29</th>\n",
       "      <th>30-39</th>\n",
       "      <th>40-49</th>\n",
       "    </tr>\n",
       "  </thead>\n",
       "  <tbody>\n",
       "    <tr>\n",
       "      <th>Good</th>\n",
       "      <td>42</td>\n",
       "      <td>40</td>\n",
       "      <td>2</td>\n",
       "      <td>0</td>\n",
       "    </tr>\n",
       "    <tr>\n",
       "      <th>VeryGood</th>\n",
       "      <td>34</td>\n",
       "      <td>64</td>\n",
       "      <td>46</td>\n",
       "      <td>6</td>\n",
       "    </tr>\n",
       "    <tr>\n",
       "      <th>Excellent</th>\n",
       "      <td>2</td>\n",
       "      <td>14</td>\n",
       "      <td>28</td>\n",
       "      <td>22</td>\n",
       "    </tr>\n",
       "  </tbody>\n",
       "</table>\n",
       "</div>"
      ],
      "text/plain": [
       "           10-19  20-29  30-39  40-49\n",
       "Good          42     40      2      0\n",
       "VeryGood      34     64     46      6\n",
       "Excellent      2     14     28     22"
      ]
     },
     "execution_count": 161,
     "metadata": {},
     "output_type": "execute_result"
    }
   ],
   "source": [
    "restaurant=pd.read_excel('Restaurant.xlsx');restaurant\n",
    "\n",
    "restaurant_1=pd.DataFrame(index=range(0,3), columns=['10-19','20-29','30-39','40-49'])\n",
    "restaurant_1.index=[['Good','VeryGood','Excellent']];restaurant_1\n",
    "restaurant['Meal Price ($)'].astype('int')\n",
    "restaurant_1.fillna(0,inplace=True)\n",
    "\n",
    "for i in range(0,300):\n",
    "    if restaurant['Quality Rating'][i]=='Good':\n",
    "        if restaurant['Meal Price ($)'][i]>=10 and restaurant['Meal Price ($)'][i]<=19:\n",
    "            restaurant_1.loc['Good','10-19']=restaurant_1.loc['Good','10-19']+1\n",
    "        elif restaurant['Meal Price ($)'][i]>=20 and restaurant['Meal Price ($)'][i]<=29:\n",
    "            restaurant_1.loc['Good','20-29']=restaurant_1.loc['Good','20-29']+1\n",
    "        elif restaurant['Meal Price ($)'][i]>=30 and restaurant['Meal Price ($)'][i]<=39:\n",
    "            restaurant_1.loc['Good','30-39']=restaurant_1.loc['Good','30-39']+1\n",
    "        else:\n",
    "            restaurant_1.loc['Good','40-49']=restaurant_1.loc['Good','40-49']+1\n",
    "    elif restaurant['Quality Rating'][i]=='Very Good':\n",
    "        if restaurant['Meal Price ($)'][i]>=10 and restaurant['Meal Price ($)'][i]<=19:\n",
    "            restaurant_1.loc['VeryGood','10-19']=restaurant_1.loc['VeryGood','10-19']+1\n",
    "        elif restaurant['Meal Price ($)'][i]>=20 and restaurant['Meal Price ($)'][i]<=29:\n",
    "            restaurant_1.loc['VeryGood','20-29']=restaurant_1.loc['VeryGood','20-29']+1\n",
    "        elif restaurant['Meal Price ($)'][i]>=30 and restaurant['Meal Price ($)'][i]<=39:\n",
    "            restaurant_1.loc['VeryGood','30-39']=restaurant_1.loc['VeryGood','30-39']+1\n",
    "        else:\n",
    "            restaurant_1.loc['VeryGood','40-49']=restaurant_1.loc['VeryGood','40-49']+1\n",
    "    elif restaurant['Quality Rating'][i]=='Excellent':\n",
    "        if restaurant['Meal Price ($)'][i]>=10 and restaurant['Meal Price ($)'][i]<=19:\n",
    "            restaurant_1.loc['Excellent','10-19']=restaurant_1.loc['Excellent','10-19']+1\n",
    "        elif restaurant['Meal Price ($)'][i]>=20 and restaurant['Meal Price ($)'][i]<=29:\n",
    "            restaurant_1.loc['Excellent','20-29']=restaurant_1.loc['Excellent','20-29']+1\n",
    "        elif restaurant['Meal Price ($)'][i]>=30 and restaurant['Meal Price ($)'][i]<=39:\n",
    "            restaurant_1.loc['Excellent','30-39']=restaurant_1.loc['Excellent','30-39']+1\n",
    "        else:\n",
    "            restaurant_1.loc['Excellent','40-49']=restaurant_1.loc['Excellent','40-49']+1\n",
    "    else:\n",
    "        continue\n",
    "restaurant_1"
   ]
  },
  {
   "cell_type": "markdown",
   "metadata": {},
   "source": [
    "Q4-1. 식사비 구간별 히스토그램을 그려주세요."
   ]
  },
  {
   "cell_type": "code",
   "execution_count": 170,
   "metadata": {},
   "outputs": [
    {
     "data": {
      "text/plain": [
       "<matplotlib.axes._subplots.AxesSubplot at 0x237d30b7c88>"
      ]
     },
     "execution_count": 170,
     "metadata": {},
     "output_type": "execute_result"
    },
    {
     "data": {
      "image/png": "[encoded data removed]",
      "text/plain": [
       "<Figure size 432x288 with 1 Axes>"
      ]
     },
     "metadata": {
      "needs_background": "light"
     },
     "output_type": "display_data"
    }
   ],
   "source": [
    "restaurant['Meal Price ($)'].plot(kind='hist')"
   ]
  }
 ],
 "metadata": {
  "kernelspec": {
   "display_name": "Python 3",
   "language": "python",
   "name": "python3"
  },
  "language_info": {
   "codemirror_mode": {
    "name": "ipython",
    "version": 3
   },
   "file_extension": ".py",
   "mimetype": "text/x-python",
   "name": "python",
   "nbconvert_exporter": "python",
   "pygments_lexer": "ipython3",
   "version": "3.7.3"
  }
 },
 "nbformat": 4,
 "nbformat_minor": 2
}
