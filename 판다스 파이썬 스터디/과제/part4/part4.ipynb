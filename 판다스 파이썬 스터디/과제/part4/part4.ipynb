{
 "cells": [
  {
   "cell_type": "markdown",
   "metadata": {},
   "source": [
    "요번주 과제는 문제를 푸는 대신에 시각화를 복습하는 것으로 하겠습니다. 주어진 여러개의 데이터를 활용하여 조건에 맞는 그래프를 작성해 주세요. 복습의 의미이므로 수업시간에 배운 축 이름달기와 같은 시각화를 극대화하는 여러 함수를 사용하여 그래프를 작성해주세요. 같은 데이터로 여러개의 그래프를 그리셔도 상관없습니다. 또한 주어진 데이터 외에도 가지고 계신 데이터가 있으시면 사용하셔도 됩니다."
   ]
  },
  {
   "cell_type": "code",
   "execution_count": null,
   "metadata": {},
   "outputs": [],
   "source": [
    "import pandas as pd"
   ]
  },
  {
   "cell_type": "code",
   "execution_count": null,
   "metadata": {},
   "outputs": [],
   "source": [
    "#1.Matplotlib라이브러리 사용한 선그래프 그리기\n",
    "#한 화면에 2개의 선그래프 그리기 or 한 화면에 여러개의 선 그래프 그리기 p(122,125)\n",
    "#주석 달기, 범례 달기\n",
    "\n"
   ]
  },
  {
   "cell_type": "code",
   "execution_count": null,
   "metadata": {},
   "outputs": [],
   "source": [
    "#2.Matplotlib라이브러리 사용한 면적그래프 그리기\n",
    "\n",
    "\n"
   ]
  },
  {
   "cell_type": "code",
   "execution_count": null,
   "metadata": {},
   "outputs": [],
   "source": [
    "#3. Matplotlib라이브러리 사용한 보조축이 들어간 막대그래프 그리기\n",
    "\n"
   ]
  },
  {
   "cell_type": "code",
   "execution_count": null,
   "metadata": {},
   "outputs": [],
   "source": [
    "#4. Matplotlib라이브러리 사용한 히스토그램 그래프 그리기\n",
    "\n"
   ]
  },
  {
   "cell_type": "code",
   "execution_count": null,
   "metadata": {},
   "outputs": [],
   "source": [
    "#5.Matplotlib라이브러리 사용한 버블차트 그래프 그리기\n",
    "\n"
   ]
  },
  {
   "cell_type": "code",
   "execution_count": null,
   "metadata": {},
   "outputs": [],
   "source": [
    "#6.Matplotlib라이브러리 사용한 파이차트 그래프 그리기\n",
    "\n"
   ]
  },
  {
   "cell_type": "code",
   "execution_count": null,
   "metadata": {},
   "outputs": [],
   "source": [
    "#7.Matplotlib라이브러리 사용한 박스플롯 그래프 그리기\n",
    "\n"
   ]
  },
  {
   "cell_type": "code",
   "execution_count": null,
   "metadata": {},
   "outputs": [],
   "source": [
    "#8.Matplotlib라이브러리 사용한 버블차트 그래프 그리기\n",
    "\n"
   ]
  },
  {
   "cell_type": "code",
   "execution_count": null,
   "metadata": {},
   "outputs": [],
   "source": [
    "#9.Seaborn라이브러리 사용한 회귀선이 있는 산점도 그래프 그리기\n",
    "\n"
   ]
  },
  {
   "cell_type": "code",
   "execution_count": null,
   "metadata": {},
   "outputs": [],
   "source": [
    "#10.Seaborn라이브러리 사용한 히스토그램/커널밀도 함수 그래프 그리기\n",
    "#3가지 형태 나타낼것\n",
    "\n"
   ]
  },
  {
   "cell_type": "code",
   "execution_count": null,
   "metadata": {},
   "outputs": [],
   "source": [
    "#11.Seaborn라이브러리 사용한 범주형 데이터의 산점도 그래프 그리기\n",
    "#2가지 형태로 나타낼것\n",
    "\n"
   ]
  },
  {
   "cell_type": "code",
   "execution_count": null,
   "metadata": {},
   "outputs": [],
   "source": [
    "#12.Seaborn라이브러리 사용한 막대그래프 그리기\n",
    "#hue옵션 넣어서 만들기\n",
    "\n"
   ]
  },
  {
   "cell_type": "code",
   "execution_count": null,
   "metadata": {},
   "outputs": [],
   "source": [
    "#13.Seaborn라이브러리 사용한 빈도그래프 그리기\n",
    "#hue옵션 넣어서 만들기\n",
    "\n"
   ]
  },
  {
   "cell_type": "code",
   "execution_count": null,
   "metadata": {},
   "outputs": [],
   "source": [
    "#14.Seaborn라이브러리 사용한 박스플롯그래프 그리기\n",
    "#hue옵션 넣어서 만들기\n",
    "\n"
   ]
  },
  {
   "cell_type": "code",
   "execution_count": null,
   "metadata": {},
   "outputs": [],
   "source": [
    "#15.Seaborn라이브러리 사용한 바이올린그래프 그리기\n",
    "#hue옵션 넣어서 만들기\n",
    "\n"
   ]
  },
  {
   "cell_type": "code",
   "execution_count": null,
   "metadata": {},
   "outputs": [],
   "source": [
    "#16.Seaborn라이브러리 사용한 조인트그래프 그리기\n",
    "#4가지 형태 만들기\n",
    "\n"
   ]
  },
  {
   "cell_type": "code",
   "execution_count": null,
   "metadata": {},
   "outputs": [],
   "source": [
    "#17.Seaborn라이브러리 사용하여 조건을 적용하여 화면을 그리드로 분활한 그래프 그리기\n",
    "\n"
   ]
  },
  {
   "cell_type": "code",
   "execution_count": null,
   "metadata": {},
   "outputs": [],
   "source": [
    "#18.Seaborn라이브러리 사용하여 이변수데이터의 분포 그래프 그리기\n",
    "\n"
   ]
  }
 ],
 "metadata": {
  "kernelspec": {
   "display_name": "Python 3",
   "language": "python",
   "name": "python3"
  },
  "language_info": {
   "codemirror_mode": {
    "name": "ipython",
    "version": 3
   },
   "file_extension": ".py",
   "mimetype": "text/x-python",
   "name": "python",
   "nbconvert_exporter": "python",
   "pygments_lexer": "ipython3",
   "version": "3.7.3"
  }
 },
 "nbformat": 4,
 "nbformat_minor": 2
}
