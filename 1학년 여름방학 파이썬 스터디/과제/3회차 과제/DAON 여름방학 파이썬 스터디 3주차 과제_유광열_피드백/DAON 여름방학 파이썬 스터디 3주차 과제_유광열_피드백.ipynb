{
 "cells": [
  {
   "cell_type": "markdown",
   "metadata": {},
   "source": [
    "# DAON 하계 파이썬 스터디 2주차 과제"
   ]
  },
  {
   "cell_type": "markdown",
   "metadata": {},
   "source": [
    "#### 1. <파일 저장 형식> 'n회차_이름_과제'으로 저장하여 보내주세요!!(꼭 지켜주세요) \n",
    "#### 2. 못 풀고 끄적인 흔적이라도 남겨주셔도 괜찮아요! 나중에 꼭 다시 풀어주세요!!\n",
    "#### 3. 모든 결과를 출력해 주세요. "
   ]
  },
  {
   "cell_type": "markdown",
   "metadata": {},
   "source": [
    "# <1번>"
   ]
  },
  {
   "cell_type": "markdown",
   "metadata": {},
   "source": [
    "```\n",
    "(1) players 명단에 '이강인','조현우' 선수를 추가하세요.\n",
    "(2) 그리고, '기성용'선수를 빼고, (3) 백승호 선수부터 이강인 선수까지  인덱싱 추출해주세요.\n",
    "```"
   ]
  },
  {
   "cell_type": "code",
   "execution_count": 17,
   "metadata": {},
   "outputs": [
    {
     "name": "stdout",
     "output_type": "stream",
     "text": [
      "['손흥민', '백승호', ' 이승우', '기성용']\n"
     ]
    }
   ],
   "source": [
    "players = ['손흥민', '백승호',' 이승우', '기성용']\n",
    "print(players)"
   ]
  },
  {
   "cell_type": "code",
   "execution_count": 18,
   "metadata": {},
   "outputs": [
    {
     "name": "stdout",
     "output_type": "stream",
     "text": [
      "['손흥민', '백승호', ' 이승우', '기성용', '이강인', '조현우']\n"
     ]
    }
   ],
   "source": [
    "players.append('이강인')\n",
    "players.append('조현우')\n",
    "print(players)"
   ]
  },
  {
   "cell_type": "code",
   "execution_count": 20,
   "metadata": {},
   "outputs": [
    {
     "name": "stdout",
     "output_type": "stream",
     "text": [
      "['손흥민', '백승호', ' 이승우', '이강인', '조현우']\n"
     ]
    }
   ],
   "source": [
    "players.pop(3)\n",
    "print(players)"
   ]
  },
  {
   "cell_type": "markdown",
   "metadata": {},
   "source": [
    "### <span style=\"color:red\">\n",
    "이 방법도 잘 기억해두고있어~~\n",
    "del players[3]\n",
    "print(players)"
   ]
  },
  {
   "cell_type": "code",
   "execution_count": 23,
   "metadata": {},
   "outputs": [
    {
     "data": {
      "text/plain": [
       "['백승호', ' 이승우', '이강인']"
      ]
     },
     "execution_count": 23,
     "metadata": {},
     "output_type": "execute_result"
    }
   ],
   "source": [
    "players[1:4]"
   ]
  },
  {
   "cell_type": "markdown",
   "metadata": {},
   "source": [
    "## 다른건 굳"
   ]
  },
  {
   "cell_type": "markdown",
   "metadata": {},
   "source": [
    "# <2번>"
   ]
  },
  {
   "cell_type": "markdown",
   "metadata": {},
   "source": [
    "```\n",
    "여름이 몇 번 나오는지 세시오.\n",
    "```"
   ]
  },
  {
   "cell_type": "code",
   "execution_count": 41,
   "metadata": {},
   "outputs": [],
   "source": [
    "seasons = ['여름','겨울','여름','가을','겨울','봄','여름']"
   ]
  },
  {
   "cell_type": "code",
   "execution_count": 43,
   "metadata": {},
   "outputs": [
    {
     "data": {
      "text/plain": [
       "3"
      ]
     },
     "execution_count": 43,
     "metadata": {},
     "output_type": "execute_result"
    }
   ],
   "source": [
    "seasons.count('여름')"
   ]
  },
  {
   "cell_type": "markdown",
   "metadata": {},
   "source": [
    "## count 메서드는 나중에도 유용하게 쓰이니깐 잘 기억해두고잇어~"
   ]
  },
  {
   "cell_type": "markdown",
   "metadata": {},
   "source": [
    "# <3번>\n",
    "```\n",
    "보기와 함께 학술부자의 이름을 묻고 name에 저장하세요.\n",
    ">>> ('유나,현빈,종언,재성, 보현 중 학술부장이 누구인가요?')\n",
    "틀린 답을 말하면 '실망입니다'라고 말해주세요.\n",
    "보기에 없는 답을 말하면 보기에서 고르도록 안내하세요.\n",
    "정답인 '종언'을 맞힐 때까지 반복해서 질문하세요.\n",
    "정답을 맞히면 break를 사용해 반복을 멈추세요.\n",
    "```"
   ]
  },
  {
   "cell_type": "code",
   "execution_count": 1,
   "metadata": {},
   "outputs": [
    {
     "name": "stdout",
     "output_type": "stream",
     "text": [
      "유나,현빈,종언,재성, 보현 중 학술부장이 누구인가요?유나\n",
      "실망입니다.\n",
      "유나,현빈,종언,재성, 보현 중 학술부장이 누구인가요?보현\n",
      "실망입니다.\n",
      "유나,현빈,종언,재성, 보현 중 학술부장이 누구인가요?종언\n",
      " 정답입니다.\n"
     ]
    }
   ],
   "source": [
    "while True:\n",
    "    answer = input('유나,현빈,종언,재성, 보현 중 학술부장이 누구인가요?')\n",
    "    if answer == '종언':\n",
    "        print(' 정답입니다.')\n",
    "        break\n",
    "    elif answer == '유나':\n",
    "        print('실망입니다.')\n",
    "    elif answer == '현빈':\n",
    "        print('실망입니다.')\n",
    "    elif answer == '재성':\n",
    "        print('실망입니다.')\n",
    "    elif answer == '보현':\n",
    "        print('실망입니다.')\n",
    "    else:\n",
    "        print('보기에서 골라주세요.')"
   ]
  },
  {
   "cell_type": "code",
   "execution_count": null,
   "metadata": {},
   "outputs": [],
   "source": [
    "## 조금 더 간단하게 만들어줄 수 있지 않을까?\n",
    "유나 현빈 재성 보현을 리스트에 담아주고\n"
   ]
  },
  {
   "cell_type": "markdown",
   "metadata": {},
   "source": [
    "# <4번>\n",
    "``` \n",
    "모든 카드 병상에게 유죄판결을 내리는 코드를 for문 사용하여 judge_cards 함수를 만드세요.\n",
    "(카드병사 : 하트1,2,3, 클로버1,2,3, 스페이드1,2,3)\n",
    "```"
   ]
  },
  {
   "cell_type": "code",
   "execution_count": 4,
   "metadata": {},
   "outputs": [
    {
     "name": "stdout",
     "output_type": "stream",
     "text": [
      "하트 1 유죄\n",
      "하트 2 유죄\n",
      "하트 3 유죄\n",
      "클로버 1 유죄\n",
      "클로버 2 유죄\n",
      "클로버 3 유죄\n",
      "스페이드 1 유죄\n",
      "스페이드 2 유죄\n",
      "스페이드 3 유죄\n"
     ]
    }
   ],
   "source": [
    "def judge_cards(name):\n",
    "    for i in range(1,4):\n",
    "        print(name,i,'유죄')\n",
    "\n",
    "judge_cards('하트')\n",
    "judge_cards('클로버')\n",
    "judge_cards('스페이드')"
   ]
  },
  {
   "cell_type": "markdown",
   "metadata": {},
   "source": [
    "### 이것도 조금 더 줄일수 있지 않을까?\n",
    "리스트에 하트,클로버 스페이드를 넣고 for문을 돌리면 세 줄을 줄일수 있을거야!\n",
    "\n",
    "한 번 생각해봐~"
   ]
  },
  {
   "cell_type": "markdown",
   "metadata": {},
   "source": [
    "# <5번>"
   ]
  },
  {
   "cell_type": "markdown",
   "metadata": {},
   "source": [
    "```\n",
    "거북이 100마리에게 한마리 한마리에게 인사를 하려고합니다. 거북이 이름이 '거북이 1, 거북이 2,,,, 거북이 100'일 때 (1) for문 과 (2) while문을 사용하여 인사해주세요.\n",
    "```"
   ]
  },
  {
   "cell_type": "code",
   "execution_count": 6,
   "metadata": {},
   "outputs": [
    {
     "name": "stdout",
     "output_type": "stream",
     "text": [
      "거북이 1 안녕\n",
      "거북이 2 안녕\n",
      "거북이 3 안녕\n",
      "거북이 4 안녕\n",
      "거북이 5 안녕\n",
      "거북이 6 안녕\n",
      "거북이 7 안녕\n",
      "거북이 8 안녕\n",
      "거북이 9 안녕\n",
      "거북이 10 안녕\n",
      "거북이 11 안녕\n",
      "거북이 12 안녕\n",
      "거북이 13 안녕\n",
      "거북이 14 안녕\n",
      "거북이 15 안녕\n",
      "거북이 16 안녕\n",
      "거북이 17 안녕\n",
      "거북이 18 안녕\n",
      "거북이 19 안녕\n",
      "거북이 20 안녕\n",
      "거북이 21 안녕\n",
      "거북이 22 안녕\n",
      "거북이 23 안녕\n",
      "거북이 24 안녕\n",
      "거북이 25 안녕\n",
      "거북이 26 안녕\n",
      "거북이 27 안녕\n",
      "거북이 28 안녕\n",
      "거북이 29 안녕\n",
      "거북이 30 안녕\n",
      "거북이 31 안녕\n",
      "거북이 32 안녕\n",
      "거북이 33 안녕\n",
      "거북이 34 안녕\n",
      "거북이 35 안녕\n",
      "거북이 36 안녕\n",
      "거북이 37 안녕\n",
      "거북이 38 안녕\n",
      "거북이 39 안녕\n",
      "거북이 40 안녕\n",
      "거북이 41 안녕\n",
      "거북이 42 안녕\n",
      "거북이 43 안녕\n",
      "거북이 44 안녕\n",
      "거북이 45 안녕\n",
      "거북이 46 안녕\n",
      "거북이 47 안녕\n",
      "거북이 48 안녕\n",
      "거북이 49 안녕\n",
      "거북이 50 안녕\n",
      "거북이 51 안녕\n",
      "거북이 52 안녕\n",
      "거북이 53 안녕\n",
      "거북이 54 안녕\n",
      "거북이 55 안녕\n",
      "거북이 56 안녕\n",
      "거북이 57 안녕\n",
      "거북이 58 안녕\n",
      "거북이 59 안녕\n",
      "거북이 60 안녕\n",
      "거북이 61 안녕\n",
      "거북이 62 안녕\n",
      "거북이 63 안녕\n",
      "거북이 64 안녕\n",
      "거북이 65 안녕\n",
      "거북이 66 안녕\n",
      "거북이 67 안녕\n",
      "거북이 68 안녕\n",
      "거북이 69 안녕\n",
      "거북이 70 안녕\n",
      "거북이 71 안녕\n",
      "거북이 72 안녕\n",
      "거북이 73 안녕\n",
      "거북이 74 안녕\n",
      "거북이 75 안녕\n",
      "거북이 76 안녕\n",
      "거북이 77 안녕\n",
      "거북이 78 안녕\n",
      "거북이 79 안녕\n",
      "거북이 80 안녕\n",
      "거북이 81 안녕\n",
      "거북이 82 안녕\n",
      "거북이 83 안녕\n",
      "거북이 84 안녕\n",
      "거북이 85 안녕\n",
      "거북이 86 안녕\n",
      "거북이 87 안녕\n",
      "거북이 88 안녕\n",
      "거북이 89 안녕\n",
      "거북이 90 안녕\n",
      "거북이 91 안녕\n",
      "거북이 92 안녕\n",
      "거북이 93 안녕\n",
      "거북이 94 안녕\n",
      "거북이 95 안녕\n",
      "거북이 96 안녕\n",
      "거북이 97 안녕\n",
      "거북이 98 안녕\n",
      "거북이 99 안녕\n",
      "거북이 100 안녕\n"
     ]
    }
   ],
   "source": [
    "for num in range(1,101):\n",
    "    print('거북이',num,'안녕')"
   ]
  },
  {
   "cell_type": "code",
   "execution_count": 13,
   "metadata": {},
   "outputs": [
    {
     "name": "stdout",
     "output_type": "stream",
     "text": [
      "거북이 1 안녕\n",
      "거북이 2 안녕\n",
      "거북이 3 안녕\n",
      "거북이 4 안녕\n",
      "거북이 5 안녕\n",
      "거북이 6 안녕\n",
      "거북이 7 안녕\n",
      "거북이 8 안녕\n",
      "거북이 9 안녕\n",
      "거북이 10 안녕\n",
      "거북이 11 안녕\n",
      "거북이 12 안녕\n",
      "거북이 13 안녕\n",
      "거북이 14 안녕\n",
      "거북이 15 안녕\n",
      "거북이 16 안녕\n",
      "거북이 17 안녕\n",
      "거북이 18 안녕\n",
      "거북이 19 안녕\n",
      "거북이 20 안녕\n",
      "거북이 21 안녕\n",
      "거북이 22 안녕\n",
      "거북이 23 안녕\n",
      "거북이 24 안녕\n",
      "거북이 25 안녕\n",
      "거북이 26 안녕\n",
      "거북이 27 안녕\n",
      "거북이 28 안녕\n",
      "거북이 29 안녕\n",
      "거북이 30 안녕\n",
      "거북이 31 안녕\n",
      "거북이 32 안녕\n",
      "거북이 33 안녕\n",
      "거북이 34 안녕\n",
      "거북이 35 안녕\n",
      "거북이 36 안녕\n",
      "거북이 37 안녕\n",
      "거북이 38 안녕\n",
      "거북이 39 안녕\n",
      "거북이 40 안녕\n",
      "거북이 41 안녕\n",
      "거북이 42 안녕\n",
      "거북이 43 안녕\n",
      "거북이 44 안녕\n",
      "거북이 45 안녕\n",
      "거북이 46 안녕\n",
      "거북이 47 안녕\n",
      "거북이 48 안녕\n",
      "거북이 49 안녕\n",
      "거북이 50 안녕\n",
      "거북이 51 안녕\n",
      "거북이 52 안녕\n",
      "거북이 53 안녕\n",
      "거북이 54 안녕\n",
      "거북이 55 안녕\n",
      "거북이 56 안녕\n",
      "거북이 57 안녕\n",
      "거북이 58 안녕\n",
      "거북이 59 안녕\n",
      "거북이 60 안녕\n",
      "거북이 61 안녕\n",
      "거북이 62 안녕\n",
      "거북이 63 안녕\n",
      "거북이 64 안녕\n",
      "거북이 65 안녕\n",
      "거북이 66 안녕\n",
      "거북이 67 안녕\n",
      "거북이 68 안녕\n",
      "거북이 69 안녕\n",
      "거북이 70 안녕\n",
      "거북이 71 안녕\n",
      "거북이 72 안녕\n",
      "거북이 73 안녕\n",
      "거북이 74 안녕\n",
      "거북이 75 안녕\n",
      "거북이 76 안녕\n",
      "거북이 77 안녕\n",
      "거북이 78 안녕\n",
      "거북이 79 안녕\n",
      "거북이 80 안녕\n",
      "거북이 81 안녕\n",
      "거북이 82 안녕\n",
      "거북이 83 안녕\n",
      "거북이 84 안녕\n",
      "거북이 85 안녕\n",
      "거북이 86 안녕\n",
      "거북이 87 안녕\n",
      "거북이 88 안녕\n",
      "거북이 89 안녕\n",
      "거북이 90 안녕\n",
      "거북이 91 안녕\n",
      "거북이 92 안녕\n",
      "거북이 93 안녕\n",
      "거북이 94 안녕\n",
      "거북이 95 안녕\n",
      "거북이 96 안녕\n",
      "거북이 97 안녕\n",
      "거북이 98 안녕\n",
      "거북이 99 안녕\n",
      "거북이 100 안녕\n"
     ]
    }
   ],
   "source": [
    "num=1\n",
    "while num < 101:\n",
    "    print('거북이',num,'안녕')\n",
    "    num=num+1"
   ]
  },
  {
   "cell_type": "markdown",
   "metadata": {},
   "source": [
    "### 5번도 잘 풀었네\n",
    "while문과 for문의 차이를 잘 알겠지?"
   ]
  },
  {
   "cell_type": "markdown",
   "metadata": {},
   "source": [
    "# <6번>"
   ]
  },
  {
   "cell_type": "markdown",
   "metadata": {},
   "source": [
    "```\n",
    "보기와 함께 손흥민 선수의 소속팀으 묻고 answer에 저장하세요.\n",
    ">>> '맨유, 아스날, 토트넘 중 손흥민이 소속한 팀은 어디일까요? '\n",
    "틀린 답을 말하면 '띠용?'이라고 말해주세요.\n",
    "보기에 없는 답을 말하면 보기에서 고르도록 안내하세요.\n",
    "정답인 '토트넘'을 맞힐 때까지 반복해서 질문하세요.\n",
    "정답을 맞히면 break를 사용해 반복을 멈추세요.\n",
    "```"
   ]
  },
  {
   "cell_type": "code",
   "execution_count": 2,
   "metadata": {},
   "outputs": [
    {
     "name": "stdout",
     "output_type": "stream",
     "text": [
      "맨유, 아스날, 토트넘 중 손흥민이 소속한 팀은 어디일까요? 맨유\n",
      "띠용?\n",
      "맨유, 아스날, 토트넘 중 손흥민이 소속한 팀은 어디일까요? 맨우\n",
      "보기에서 골라주세요.\n",
      "맨유, 아스날, 토트넘 중 손흥민이 소속한 팀은 어디일까요? 토트넘\n",
      " 정답입니다.\n"
     ]
    }
   ],
   "source": [
    "while True:\n",
    "    answer = input('맨유, 아스날, 토트넘 중 손흥민이 소속한 팀은 어디일까요? ')\n",
    "    if answer == '토트넘':\n",
    "        print(' 정답입니다.')\n",
    "        break\n",
    "    elif answer == '맨유':\n",
    "        print('띠용?')\n",
    "    elif answer == '아스날':\n",
    "        print('띠용?')\n",
    "    else:\n",
    "        print('보기에서 골라주세요.')"
   ]
  },
  {
   "cell_type": "markdown",
   "metadata": {},
   "source": [
    "### 정석대로 잘 풀어줬어!\n",
    "근데 이것도 6번문제에서 말했던 것 처럼 리스트에 넣고 판별해달라하면 조금 더 짧아질 수 있을거같아!"
   ]
  },
  {
   "cell_type": "markdown",
   "metadata": {},
   "source": [
    "# <7번>"
   ]
  },
  {
   "cell_type": "markdown",
   "metadata": {},
   "source": [
    "```\n",
    "1부터 10까지 합을 구하려고 한다. while문을 사용하여 구하시오. (if문 사용)\n",
    "```"
   ]
  },
  {
   "cell_type": "code",
   "execution_count": 3,
   "metadata": {},
   "outputs": [
    {
     "data": {
      "text/plain": [
       "55"
      ]
     },
     "execution_count": 3,
     "metadata": {},
     "output_type": "execute_result"
    }
   ],
   "source": [
    "i = 0\n",
    "num = []\n",
    "while i <= 10:\n",
    "    if i <= 10:\n",
    "        num.append(i)\n",
    "        i = i + 1\n",
    "sum(num)"
   ]
  },
  {
   "cell_type": "markdown",
   "metadata": {},
   "source": [
    "### 굳!"
   ]
  },
  {
   "cell_type": "markdown",
   "metadata": {},
   "source": [
    "# <8번>"
   ]
  },
  {
   "cell_type": "markdown",
   "metadata": {},
   "source": [
    "```\n",
    "멘티들이 멘토들에게 감사한 마음을 전달하려고 하는데, 일일히 쓰기가 귀찮아 파이썬을 사용해 간지나게 감사인사를 하려고 합니다. for문을 사용해 (ex. '임종언 감사합니다^^')를 완성해 보세요.\n",
    "```"
   ]
  },
  {
   "cell_type": "code",
   "execution_count": 9,
   "metadata": {},
   "outputs": [
    {
     "name": "stdout",
     "output_type": "stream",
     "text": [
      "종언이형 감사합니다~♥\n",
      "유나누나 감사합니다~♥\n",
      "재성이형 감사합니다~♥\n",
      "현빈누나 감사합니다~♥\n",
      "보현누나 감사합니다~♥\n"
     ]
    }
   ],
   "source": [
    "members = ['종언이형','유나누나','재성이형','현빈누나','보현누나']\n",
    "for member in members:\n",
    "    print(member+' 감사합니다~♥')"
   ]
  },
  {
   "cell_type": "markdown",
   "metadata": {},
   "source": [
    "유팡렬이 감사합니다~♥"
   ]
  },
  {
   "cell_type": "markdown",
   "metadata": {},
   "source": [
    "# <9번>"
   ]
  },
  {
   "cell_type": "markdown",
   "metadata": {},
   "source": [
    "```\n",
    "어느 항공사는 수화물이 40kg를 초과할 시 1000원, 50kg 이상인 경우 2000원, 이 외의 무게의 수화물에는 10000원의 추가비용을 부임한다. 해당 비행기 'KA909'의 수화물 무게들이 '30,40,38,50,49,23,80'이라고 한다. 이 비행기에서 발생하는 총 초과 수화물비는 얼마인가? (기본 수화물비는 0원)\n",
    "```"
   ]
  },
  {
   "cell_type": "code",
   "execution_count": 10,
   "metadata": {},
   "outputs": [
    {
     "name": "stdout",
     "output_type": "stream",
     "text": [
      "5000\n"
     ]
    }
   ],
   "source": [
    "KA909_kg = [30,40,38,50,49,23,80]\n",
    "total_price=0\n",
    "for kg in KA909_kg:\n",
    "    if kg<=40:\n",
    "        total_price=total_price+0\n",
    "    elif 40< kg <50:\n",
    "        total_price=total_price+1000\n",
    "    elif 50<= kg <60:\n",
    "        total_price=total_price+2000\n",
    "    else:\n",
    "        total_price=total_price+10000\n",
    "print(total_price)"
   ]
  },
  {
   "cell_type": "markdown",
   "metadata": {},
   "source": [
    "### for문에 if문 아래에\n",
    "#total_price=total_price+0 에서 굳이 +0 해줄 필요는 없겠지? ㅋㅋㅋㅋㅋㅋㅋㅋㅋㅋㅋㅋㅋㅋ\n",
    "#m그리구 나중에는 'continue'라고 적어서 이게 일어나도 아무일도 안하고 넘어가겠다~ 라고 표현해줄수도 있어!"
   ]
  },
  {
   "cell_type": "markdown",
   "metadata": {},
   "source": [
    "# <10번>"
   ]
  },
  {
   "cell_type": "markdown",
   "metadata": {},
   "source": [
    "```\n",
    "구구단을 2단부터 9단까지 for문을 사용하여 구하라. ( 이중 for문을 요함. 구글링 해보세요! 충분히 풀 수 있습니다.)\n",
    "```"
   ]
  },
  {
   "cell_type": "code",
   "execution_count": 19,
   "metadata": {},
   "outputs": [
    {
     "name": "stdout",
     "output_type": "stream",
     "text": [
      "2 x 1 = 2\n",
      "2 x 2 = 4\n",
      "2 x 3 = 6\n",
      "2 x 4 = 8\n",
      "2 x 5 = 10\n",
      "2 x 6 = 12\n",
      "2 x 7 = 14\n",
      "2 x 8 = 16\n",
      "2 x 9 = 18\n",
      "3 x 1 = 3\n",
      "3 x 2 = 6\n",
      "3 x 3 = 9\n",
      "3 x 4 = 12\n",
      "3 x 5 = 15\n",
      "3 x 6 = 18\n",
      "3 x 7 = 21\n",
      "3 x 8 = 24\n",
      "3 x 9 = 27\n",
      "4 x 1 = 4\n",
      "4 x 2 = 8\n",
      "4 x 3 = 12\n",
      "4 x 4 = 16\n",
      "4 x 5 = 20\n",
      "4 x 6 = 24\n",
      "4 x 7 = 28\n",
      "4 x 8 = 32\n",
      "4 x 9 = 36\n",
      "5 x 1 = 5\n",
      "5 x 2 = 10\n",
      "5 x 3 = 15\n",
      "5 x 4 = 20\n",
      "5 x 5 = 25\n",
      "5 x 6 = 30\n",
      "5 x 7 = 35\n",
      "5 x 8 = 40\n",
      "5 x 9 = 45\n",
      "6 x 1 = 6\n",
      "6 x 2 = 12\n",
      "6 x 3 = 18\n",
      "6 x 4 = 24\n",
      "6 x 5 = 30\n",
      "6 x 6 = 36\n",
      "6 x 7 = 42\n",
      "6 x 8 = 48\n",
      "6 x 9 = 54\n",
      "7 x 1 = 7\n",
      "7 x 2 = 14\n",
      "7 x 3 = 21\n",
      "7 x 4 = 28\n",
      "7 x 5 = 35\n",
      "7 x 6 = 42\n",
      "7 x 7 = 49\n",
      "7 x 8 = 56\n",
      "7 x 9 = 63\n",
      "8 x 1 = 8\n",
      "8 x 2 = 16\n",
      "8 x 3 = 24\n",
      "8 x 4 = 32\n",
      "8 x 5 = 40\n",
      "8 x 6 = 48\n",
      "8 x 7 = 56\n",
      "8 x 8 = 64\n",
      "8 x 9 = 72\n",
      "9 x 1 = 9\n",
      "9 x 2 = 18\n",
      "9 x 3 = 27\n",
      "9 x 4 = 36\n",
      "9 x 5 = 45\n",
      "9 x 6 = 54\n",
      "9 x 7 = 63\n",
      "9 x 8 = 72\n",
      "9 x 9 = 81\n"
     ]
    }
   ],
   "source": [
    "for x in range(2,10):\n",
    "    for y in range(1,10):\n",
    "        print(x,'x',y,'=',x*y)"
   ]
  },
  {
   "cell_type": "markdown",
   "metadata": {},
   "source": [
    "## 좋아좋아~"
   ]
  },
  {
   "cell_type": "markdown",
   "metadata": {},
   "source": [
    "# <11번>"
   ]
  },
  {
   "cell_type": "markdown",
   "metadata": {},
   "source": [
    "```\n",
    "다온 시험은 점수가 80을 넘을 경우 합격, 80이하는 불합격 처리 된다고 합니다.\n",
    "응시자의 시험 성적이 '90,80,75,89,50,97'이라고 한다. 합격과 불합격 통보를 하려고 하는데, for문을 사용하여 자동 통보 시스템을 만드려고한다. (1) 단순히, '합격, 불합격' 만을 통보하는 시스템,(ex, '합격입니다') (2) 응시자이름과 함께 합불여부 통보 시스템('A님 합격입니다') 을 구축하시오.\n",
    "```"
   ]
  },
  {
   "cell_type": "code",
   "execution_count": 26,
   "metadata": {},
   "outputs": [
    {
     "name": "stdout",
     "output_type": "stream",
     "text": [
      "90 합격입니다\n",
      "80 불합격입니다\n",
      "75 불합격입니다\n",
      "89 합격입니다\n",
      "50 불합격입니다\n",
      "97 합격입니다\n"
     ]
    }
   ],
   "source": [
    "scores = [90,80,75,89,50,97]\n",
    "for score in scores:\n",
    "    if score > 80:\n",
    "        print(str(score)+' 합격입니다')\n",
    "    else:\n",
    "        print(str(score)+' 불합격입니다')"
   ]
  },
  {
   "cell_type": "markdown",
   "metadata": {},
   "source": [
    "## 굳\n",
    "str메서드 잘 써줬네"
   ]
  },
  {
   "cell_type": "code",
   "execution_count": 5,
   "metadata": {},
   "outputs": [
    {
     "name": "stdout",
     "output_type": "stream",
     "text": [
      "이름을 말해주세요 A\n",
      "A님 90 합격입니다\n",
      "A님 80 불합격입니다\n",
      "A님 75 불합격입니다\n",
      "A님 89 합격입니다\n",
      "A님 50 불합격입니다\n",
      "A님 97 합격입니다\n"
     ]
    }
   ],
   "source": [
    "name_scores = [['A',90],['B',80],['C',75],['D',89],['E',50],['F',97]]\n",
    "name_scores\n",
    "for ns in name_scores:\n",
    "    if ns[1] > 80:\n",
    "        print(ns[0] + ' 님 합격입니다')\n",
    "    else:\n",
    "        print(ns[0] + ' 님 불합격입니다')"
   ]
  },
  {
   "cell_type": "markdown",
   "metadata": {},
   "source": [
    "## 이것두 잘 풀어줬네\n",
    "인덱싱과 리스트의 개념을 이젠 잘 이해한거같아서 좋다 룰루~"
   ]
  },
  {
   "cell_type": "markdown",
   "metadata": {},
   "source": [
    "# <12번>"
   ]
  },
  {
   "cell_type": "markdown",
   "metadata": {},
   "source": [
    "```\n",
    "다온 하계 파이썬 스터디는 총 8번의 수업으로 구성됩니다. 멘토는 8번의 수업진행여부를 while 문을 사용하여  수업인지와 함께 확인하려고 합니다. 8회 출력이 다 끝나면 '수업 끝/'을 외치는 반복문을 만드세요. \n",
    "```"
   ]
  },
  {
   "cell_type": "code",
   "execution_count": 6,
   "metadata": {},
   "outputs": [
    {
     "name": "stdout",
     "output_type": "stream",
     "text": [
      "1 회차 수업입니다.\n",
      "2 회차 수업입니다.\n",
      "3 회차 수업입니다.\n",
      "4 회차 수업입니다.\n",
      "5 회차 수업입니다.\n",
      "6 회차 수업입니다.\n",
      "7 회차 수업입니다.\n",
      "8 회차 수업입니다.\n",
      "수업  끝/\n"
     ]
    }
   ],
   "source": [
    "cla = 1\n",
    "while cla <=8:\n",
    "    print(cla,'회차 수업입니다.')\n",
    "    cla = cla + 1\n",
    "print('수업  끝/')"
   ]
  },
  {
   "cell_type": "markdown",
   "metadata": {},
   "source": [
    "# 과제 끝"
   ]
  },
  {
   "cell_type": "markdown",
   "metadata": {},
   "source": [
    "## 수고하셨습니다 ^^"
   ]
  }
 ],
 "metadata": {
  "kernelspec": {
   "display_name": "Python 3",
   "language": "python",
   "name": "python3"
  },
  "language_info": {
   "codemirror_mode": {
    "name": "ipython",
    "version": 3
   },
   "file_extension": ".py",
   "mimetype": "text/x-python",
   "name": "python",
   "nbconvert_exporter": "python",
   "pygments_lexer": "ipython3",
   "version": "3.7.3"
  }
 },
 "nbformat": 4,
 "nbformat_minor": 2
}
