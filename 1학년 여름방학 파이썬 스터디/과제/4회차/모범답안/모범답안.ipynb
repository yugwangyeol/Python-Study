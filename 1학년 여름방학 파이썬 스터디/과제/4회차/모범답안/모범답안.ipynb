{
 "cells": [
  {
   "cell_type": "markdown",
   "metadata": {},
   "source": [
    "# 1번"
   ]
  },
  {
   "cell_type": "markdown",
   "metadata": {},
   "source": [
    "```\n",
    "(1) players 명단에 '이강인','조현우' 선수를 추가하세요.\n",
    "(2) 그리고, '기성용'선수를 빼고, (3) 백승호 선수부터 이강인 선수까지  인덱싱 추출해주세요.\n",
    "```"
   ]
  },
  {
   "cell_type": "code",
   "execution_count": 8,
   "metadata": {},
   "outputs": [
    {
     "name": "stdout",
     "output_type": "stream",
     "text": [
      "['손흥민', '백승호', '이승우', '기성용']\n"
     ]
    }
   ],
   "source": [
    "players = ['손흥민', '백승호','이승우', '기성용']\n",
    "print(players)"
   ]
  },
  {
   "cell_type": "code",
   "execution_count": 9,
   "metadata": {},
   "outputs": [
    {
     "name": "stdout",
     "output_type": "stream",
     "text": [
      "손흥민 1\n",
      "백승호 2\n",
      "이승우 3\n"
     ]
    }
   ],
   "source": [
    "num=0\n",
    "\n",
    "for player in players:\n",
    "    num=num+1\n",
    "    if player=='기성용':\n",
    "        continue\n",
    "    print(player,num)"
   ]
  },
  {
   "cell_type": "markdown",
   "metadata": {},
   "source": [
    "# 2번"
   ]
  },
  {
   "cell_type": "markdown",
   "metadata": {},
   "source": [
    "```\n",
    "여름이 몇 번 나오는지 세시오.\n",
    "```"
   ]
  },
  {
   "cell_type": "code",
   "execution_count": 11,
   "metadata": {},
   "outputs": [],
   "source": [
    "seasons = ['여름','겨울','여름','가을','겨울','봄','여름']"
   ]
  },
  {
   "cell_type": "code",
   "execution_count": 12,
   "metadata": {},
   "outputs": [
    {
     "name": "stdout",
     "output_type": "stream",
     "text": [
      "3\n"
     ]
    }
   ],
   "source": [
    "count=0\n",
    "for i in seasons:\n",
    "    if i=='여름':\n",
    "        count=count+1\n",
    "    elif i!='여름':\n",
    "        count=count\n",
    "print(count)"
   ]
  },
  {
   "cell_type": "markdown",
   "metadata": {},
   "source": [
    "# 3번"
   ]
  },
  {
   "cell_type": "markdown",
   "metadata": {},
   "source": [
    "```\n",
    "보기와 함께 학술부자의 이름을 묻고 name에 저장하세요.\n",
    ">>> ('유나,현빈,종언,재성, 보현 중 학술부장이 누구인가요?')\n",
    "틀린 답을 말하면 '실망입니다'라고 말해주세요.\n",
    "보기에 없는 답을 말하면 보기에서 고르도록 안내하세요.\n",
    "정답인 '종언'을 맞힐 때까지 반복해서 질문하세요.\n",
    "정답을 맞히면 break를 사용해 반복을 멈추세요.\n",
    "```"
   ]
  },
  {
   "cell_type": "code",
   "execution_count": null,
   "metadata": {},
   "outputs": [],
   "source": [
    "answer=' '\n",
    "while True:\n",
    "    answer=input('유나,현빈,종언,재성, 보현 중 학술부장이 누구인가요?')\n",
    "    if answer=='종언':\n",
    "        print('정답입니다')\n",
    "        break\n",
    "    elif answer=='유나'or'현빈'or'재성':\n",
    "        print('실망입니다')\n",
    "    else:\n",
    "        print('보기 중에서 고르세요')"
   ]
  },
  {
   "cell_type": "markdown",
   "metadata": {},
   "source": [
    "# 추가문제 모범답안"
   ]
  },
  {
   "cell_type": "markdown",
   "metadata": {},
   "source": [
    "#### `year = int(input())` 를 사용해 year에 연도를 할당한 후, 그 연도가 평년인지 윤년인지 구하는 알고리즘을 만들어보세요.\n",
    "\n",
    "\n",
    "* 조건 1 : 연도가 4의 배수이면 윤년이고 그 외에는 평년입니다.\n",
    "* 조건 2 : 조건 1 에서 100의 배수이면 평년이고, 400의 배수이면 윤년입니다.\n",
    "* 조건 3 : 만약 연도가 1년부터 2999년 사이에 존재하지 않으면 '오류'를 출력하세요.\n",
    "\n",
    "* 예시 1 : 2400은 4와 100의 배수이지만 400의 배수도 되기 때문에 윤년입니다.\n",
    "* 예시 2 : 2020은 4의 배수는 맞지만 100의 배수가 아니므로 윤년입니다."
   ]
  },
  {
   "cell_type": "code",
   "execution_count": 4,
   "metadata": {},
   "outputs": [
    {
     "name": "stdout",
     "output_type": "stream",
     "text": [
      "2020\n",
      "윤년\n"
     ]
    }
   ],
   "source": [
    "year = int(input())\n",
    "if year < 1 or year > 2999:\n",
    "    print('오류')\n",
    "elif year%4 != 0:\n",
    "    print('평년')\n",
    "elif year%100 == 0 and year%400 != 0:\n",
    "    print('평년')\n",
    "else:\n",
    "    print('윤년')"
   ]
  }
 ],
 "metadata": {
  "kernelspec": {
   "display_name": "Python 3",
   "language": "python",
   "name": "python3"
  },
  "language_info": {
   "codemirror_mode": {
    "name": "ipython",
    "version": 3
   },
   "file_extension": ".py",
   "mimetype": "text/x-python",
   "name": "python",
   "nbconvert_exporter": "python",
   "pygments_lexer": "ipython3",
   "version": "3.7.3"
  }
 },
 "nbformat": 4,
 "nbformat_minor": 2
}
