{
 "cells": [
  {
   "cell_type": "markdown",
   "metadata": {},
   "source": [
    "# DAON 여름방학 파이썬 스터디 4회차 과제"
   ]
  },
  {
   "cell_type": "markdown",
   "metadata": {},
   "source": [
    "#### 1. <파일 저장 형식> 'n회차_이름_과제'으로 저장하여 보내주세요!!(꼭 지켜주세요) \n",
    "#### 2. 못 풀고 끄적인 흔적이라도 남겨주셔도 괜찮아요! 나중에 꼭 다시 풀어주세요!!\n",
    "#### 3. 모든 결과를 출력해 주세요. "
   ]
  },
  {
   "cell_type": "code",
   "execution_count": 4,
   "metadata": {},
   "outputs": [],
   "source": [
    "import pandas as pd\n",
    "import numpy as np"
   ]
  },
  {
   "cell_type": "markdown",
   "metadata": {},
   "source": [
    "# <1번>"
   ]
  },
  {
   "cell_type": "markdown",
   "metadata": {},
   "source": [
    "`radius = np.array([1,3,5,6,7])`\n",
    "#### 위 radius 의 요소를 반지름으로 하는 원의 넓이를 구하여 area 라는 array 에 추가하는 코드를 작성해주세요.\n",
    "#### 파이 값은 3으로 합니다."
   ]
  },
  {
   "cell_type": "code",
   "execution_count": 108,
   "metadata": {},
   "outputs": [
    {
     "data": {
      "text/plain": [
       "array([[  3,  27,  75, 108, 147]])"
      ]
     },
     "execution_count": 108,
     "metadata": {},
     "output_type": "execute_result"
    }
   ],
   "source": [
    "radius = np.array([1,3,5,6,7])\n",
    "ar = []\n",
    "for r in radius:\n",
    "    ar.append(r*r*3)\n",
    "area = np.array([ar])\n",
    "area"
   ]
  },
  {
   "cell_type": "markdown",
   "metadata": {},
   "source": [
    "# <2번>"
   ]
  },
  {
   "cell_type": "markdown",
   "metadata": {},
   "source": [
    "#### (1) 2번째 행을 2차원 배열에서 추출하시오\n",
    "#### (2) '7'이라는 요소를 2차원 배열에서 추출하시오"
   ]
  },
  {
   "cell_type": "code",
   "execution_count": 109,
   "metadata": {},
   "outputs": [
    {
     "data": {
      "text/plain": [
       "array([[0, 1, 2],\n",
       "       [3, 4, 5],\n",
       "       [6, 7, 8]])"
      ]
     },
     "execution_count": 109,
     "metadata": {},
     "output_type": "execute_result"
    }
   ],
   "source": [
    "a = np.array([[0, 1, 2], [3, 4, 5], [6, 7, 8]])\n",
    "a"
   ]
  },
  {
   "cell_type": "code",
   "execution_count": 110,
   "metadata": {},
   "outputs": [
    {
     "data": {
      "text/plain": [
       "array([3, 4, 5])"
      ]
     },
     "execution_count": 110,
     "metadata": {},
     "output_type": "execute_result"
    }
   ],
   "source": [
    "a[1,]"
   ]
  },
  {
   "cell_type": "code",
   "execution_count": 111,
   "metadata": {},
   "outputs": [
    {
     "data": {
      "text/plain": [
       "7"
      ]
     },
     "execution_count": 111,
     "metadata": {},
     "output_type": "execute_result"
    }
   ],
   "source": [
    "a[2,1]"
   ]
  },
  {
   "cell_type": "markdown",
   "metadata": {},
   "source": [
    "# <3번>"
   ]
  },
  {
   "cell_type": "markdown",
   "metadata": {},
   "source": [
    "#### 아래와 과 같은 데이터프레임을 만들어보세요! (무심코 shift+enter 누르면 없어지니까 새 셀을 추가해서 그걸 보고 만들어주세요!)"
   ]
  },
  {
   "cell_type": "code",
   "execution_count": 44,
   "metadata": {},
   "outputs": [
    {
     "data": {
      "text/html": [
       "<div>\n",
       "<style scoped>\n",
       "    .dataframe tbody tr th:only-of-type {\n",
       "        vertical-align: middle;\n",
       "    }\n",
       "\n",
       "    .dataframe tbody tr th {\n",
       "        vertical-align: top;\n",
       "    }\n",
       "\n",
       "    .dataframe thead th {\n",
       "        text-align: right;\n",
       "    }\n",
       "</style>\n",
       "<table border=\"1\" class=\"dataframe\">\n",
       "  <thead>\n",
       "    <tr style=\"text-align: right;\">\n",
       "      <th></th>\n",
       "      <th>Name</th>\n",
       "      <th>Belong</th>\n",
       "      <th>Age</th>\n",
       "      <th>Gender</th>\n",
       "    </tr>\n",
       "  </thead>\n",
       "  <tbody>\n",
       "    <tr>\n",
       "      <th>0</th>\n",
       "      <td>임종언</td>\n",
       "      <td>다온</td>\n",
       "      <td>25</td>\n",
       "      <td>남</td>\n",
       "    </tr>\n",
       "    <tr>\n",
       "      <th>1</th>\n",
       "      <td>배유나</td>\n",
       "      <td>다온</td>\n",
       "      <td>23</td>\n",
       "      <td>여</td>\n",
       "    </tr>\n",
       "    <tr>\n",
       "      <th>2</th>\n",
       "      <td>이현빈</td>\n",
       "      <td>다온</td>\n",
       "      <td>22</td>\n",
       "      <td>여</td>\n",
       "    </tr>\n",
       "    <tr>\n",
       "      <th>3</th>\n",
       "      <td>김보현</td>\n",
       "      <td>경통</td>\n",
       "      <td>21</td>\n",
       "      <td>여</td>\n",
       "    </tr>\n",
       "    <tr>\n",
       "      <th>4</th>\n",
       "      <td>홍재성</td>\n",
       "      <td>한빛</td>\n",
       "      <td>21</td>\n",
       "      <td>남</td>\n",
       "    </tr>\n",
       "  </tbody>\n",
       "</table>\n",
       "</div>"
      ],
      "text/plain": [
       "  Name Belong  Age Gender\n",
       "0  임종언     다온   25      남\n",
       "1  배유나     다온   23      여\n",
       "2  이현빈     다온   22      여\n",
       "3  김보현     경통   21      여\n",
       "4  홍재성     한빛   21      남"
      ]
     },
     "execution_count": 44,
     "metadata": {},
     "output_type": "execute_result"
    }
   ],
   "source": [
    "# 여기 셀은 실행 시키지마세요 !"
   ]
  },
  {
   "cell_type": "code",
   "execution_count": 5,
   "metadata": {},
   "outputs": [
    {
     "data": {
      "text/html": [
       "<div>\n",
       "<style scoped>\n",
       "    .dataframe tbody tr th:only-of-type {\n",
       "        vertical-align: middle;\n",
       "    }\n",
       "\n",
       "    .dataframe tbody tr th {\n",
       "        vertical-align: top;\n",
       "    }\n",
       "\n",
       "    .dataframe thead th {\n",
       "        text-align: right;\n",
       "    }\n",
       "</style>\n",
       "<table border=\"1\" class=\"dataframe\">\n",
       "  <thead>\n",
       "    <tr style=\"text-align: right;\">\n",
       "      <th></th>\n",
       "      <th>Name</th>\n",
       "      <th>Bolong</th>\n",
       "      <th>Age</th>\n",
       "      <th>Gender</th>\n",
       "    </tr>\n",
       "  </thead>\n",
       "  <tbody>\n",
       "    <tr>\n",
       "      <th>0</th>\n",
       "      <td>임종언</td>\n",
       "      <td>다온</td>\n",
       "      <td>25</td>\n",
       "      <td>남</td>\n",
       "    </tr>\n",
       "    <tr>\n",
       "      <th>1</th>\n",
       "      <td>배유나</td>\n",
       "      <td>다온</td>\n",
       "      <td>23</td>\n",
       "      <td>여</td>\n",
       "    </tr>\n",
       "    <tr>\n",
       "      <th>2</th>\n",
       "      <td>이현빈</td>\n",
       "      <td>다온</td>\n",
       "      <td>22</td>\n",
       "      <td>여</td>\n",
       "    </tr>\n",
       "    <tr>\n",
       "      <th>3</th>\n",
       "      <td>김보현</td>\n",
       "      <td>경통</td>\n",
       "      <td>21</td>\n",
       "      <td>여</td>\n",
       "    </tr>\n",
       "    <tr>\n",
       "      <th>4</th>\n",
       "      <td>홍재성</td>\n",
       "      <td>한빛</td>\n",
       "      <td>21</td>\n",
       "      <td>남</td>\n",
       "    </tr>\n",
       "  </tbody>\n",
       "</table>\n",
       "</div>"
      ],
      "text/plain": [
       "  Name Bolong  Age Gender\n",
       "0  임종언     다온   25      남\n",
       "1  배유나     다온   23      여\n",
       "2  이현빈     다온   22      여\n",
       "3  김보현     경통   21      여\n",
       "4  홍재성     한빛   21      남"
      ]
     },
     "execution_count": 5,
     "metadata": {},
     "output_type": "execute_result"
    }
   ],
   "source": [
    "# 여기서 부터 답안코드 작성해주시면 됩니다\n",
    "\n",
    "study = pd.DataFrame({\n",
    "    'Name':['임종언','배유나','이현빈','김보현','홍재성'],\n",
    "    'Bolong':['다온','다온','다온','경통','한빛'],\n",
    "    'Age':[25,23,22,21,21],\n",
    "    'Gender':['남','여','여','여','남']\n",
    "})\n",
    "study"
   ]
  },
  {
   "cell_type": "markdown",
   "metadata": {},
   "source": [
    "# <4번>"
   ]
  },
  {
   "cell_type": "markdown",
   "metadata": {},
   "source": [
    "#### 위의 데이터 프레임에서 Gender 열을 삭제하고 자신의 정보를 데이터프레임에 추가하세요"
   ]
  },
  {
   "cell_type": "code",
   "execution_count": 6,
   "metadata": {},
   "outputs": [
    {
     "data": {
      "text/html": [
       "<div>\n",
       "<style scoped>\n",
       "    .dataframe tbody tr th:only-of-type {\n",
       "        vertical-align: middle;\n",
       "    }\n",
       "\n",
       "    .dataframe tbody tr th {\n",
       "        vertical-align: top;\n",
       "    }\n",
       "\n",
       "    .dataframe thead th {\n",
       "        text-align: right;\n",
       "    }\n",
       "</style>\n",
       "<table border=\"1\" class=\"dataframe\">\n",
       "  <thead>\n",
       "    <tr style=\"text-align: right;\">\n",
       "      <th></th>\n",
       "      <th>Name</th>\n",
       "      <th>Bolong</th>\n",
       "      <th>Age</th>\n",
       "    </tr>\n",
       "  </thead>\n",
       "  <tbody>\n",
       "    <tr>\n",
       "      <th>0</th>\n",
       "      <td>임종언</td>\n",
       "      <td>다온</td>\n",
       "      <td>25</td>\n",
       "    </tr>\n",
       "    <tr>\n",
       "      <th>1</th>\n",
       "      <td>배유나</td>\n",
       "      <td>다온</td>\n",
       "      <td>23</td>\n",
       "    </tr>\n",
       "    <tr>\n",
       "      <th>2</th>\n",
       "      <td>이현빈</td>\n",
       "      <td>다온</td>\n",
       "      <td>22</td>\n",
       "    </tr>\n",
       "    <tr>\n",
       "      <th>3</th>\n",
       "      <td>김보현</td>\n",
       "      <td>경통</td>\n",
       "      <td>21</td>\n",
       "    </tr>\n",
       "    <tr>\n",
       "      <th>4</th>\n",
       "      <td>홍재성</td>\n",
       "      <td>한빛</td>\n",
       "      <td>21</td>\n",
       "    </tr>\n",
       "  </tbody>\n",
       "</table>\n",
       "</div>"
      ],
      "text/plain": [
       "  Name Bolong  Age\n",
       "0  임종언     다온   25\n",
       "1  배유나     다온   23\n",
       "2  이현빈     다온   22\n",
       "3  김보현     경통   21\n",
       "4  홍재성     한빛   21"
      ]
     },
     "execution_count": 6,
     "metadata": {},
     "output_type": "execute_result"
    }
   ],
   "source": [
    "study.drop('Gender',axis=1,inplace=True)\n",
    "study"
   ]
  },
  {
   "cell_type": "code",
   "execution_count": 7,
   "metadata": {},
   "outputs": [
    {
     "data": {
      "text/html": [
       "<div>\n",
       "<style scoped>\n",
       "    .dataframe tbody tr th:only-of-type {\n",
       "        vertical-align: middle;\n",
       "    }\n",
       "\n",
       "    .dataframe tbody tr th {\n",
       "        vertical-align: top;\n",
       "    }\n",
       "\n",
       "    .dataframe thead th {\n",
       "        text-align: right;\n",
       "    }\n",
       "</style>\n",
       "<table border=\"1\" class=\"dataframe\">\n",
       "  <thead>\n",
       "    <tr style=\"text-align: right;\">\n",
       "      <th></th>\n",
       "      <th>Name</th>\n",
       "      <th>Bolong</th>\n",
       "      <th>Age</th>\n",
       "    </tr>\n",
       "  </thead>\n",
       "  <tbody>\n",
       "    <tr>\n",
       "      <th>0</th>\n",
       "      <td>유광열</td>\n",
       "      <td>경통</td>\n",
       "      <td>20</td>\n",
       "    </tr>\n",
       "  </tbody>\n",
       "</table>\n",
       "</div>"
      ],
      "text/plain": [
       "  Name Bolong Age\n",
       "0  유광열     경통  20"
      ]
     },
     "execution_count": 7,
     "metadata": {},
     "output_type": "execute_result"
    }
   ],
   "source": [
    "a_study = pd.DataFrame({\n",
    "    'Name':['유광열'],\n",
    "    'Bolong':['경통'],\n",
    "    'Age':['20']\n",
    "})\n",
    "a_study"
   ]
  },
  {
   "cell_type": "code",
   "execution_count": 8,
   "metadata": {},
   "outputs": [
    {
     "data": {
      "text/html": [
       "<div>\n",
       "<style scoped>\n",
       "    .dataframe tbody tr th:only-of-type {\n",
       "        vertical-align: middle;\n",
       "    }\n",
       "\n",
       "    .dataframe tbody tr th {\n",
       "        vertical-align: top;\n",
       "    }\n",
       "\n",
       "    .dataframe thead th {\n",
       "        text-align: right;\n",
       "    }\n",
       "</style>\n",
       "<table border=\"1\" class=\"dataframe\">\n",
       "  <thead>\n",
       "    <tr style=\"text-align: right;\">\n",
       "      <th></th>\n",
       "      <th>index</th>\n",
       "      <th>Name</th>\n",
       "      <th>Bolong</th>\n",
       "      <th>Age</th>\n",
       "    </tr>\n",
       "  </thead>\n",
       "  <tbody>\n",
       "    <tr>\n",
       "      <th>0</th>\n",
       "      <td>0</td>\n",
       "      <td>임종언</td>\n",
       "      <td>다온</td>\n",
       "      <td>25</td>\n",
       "    </tr>\n",
       "    <tr>\n",
       "      <th>1</th>\n",
       "      <td>1</td>\n",
       "      <td>배유나</td>\n",
       "      <td>다온</td>\n",
       "      <td>23</td>\n",
       "    </tr>\n",
       "    <tr>\n",
       "      <th>2</th>\n",
       "      <td>2</td>\n",
       "      <td>이현빈</td>\n",
       "      <td>다온</td>\n",
       "      <td>22</td>\n",
       "    </tr>\n",
       "    <tr>\n",
       "      <th>3</th>\n",
       "      <td>3</td>\n",
       "      <td>김보현</td>\n",
       "      <td>경통</td>\n",
       "      <td>21</td>\n",
       "    </tr>\n",
       "    <tr>\n",
       "      <th>4</th>\n",
       "      <td>4</td>\n",
       "      <td>홍재성</td>\n",
       "      <td>한빛</td>\n",
       "      <td>21</td>\n",
       "    </tr>\n",
       "    <tr>\n",
       "      <th>5</th>\n",
       "      <td>0</td>\n",
       "      <td>유광열</td>\n",
       "      <td>경통</td>\n",
       "      <td>20</td>\n",
       "    </tr>\n",
       "  </tbody>\n",
       "</table>\n",
       "</div>"
      ],
      "text/plain": [
       "   index Name Bolong Age\n",
       "0      0  임종언     다온  25\n",
       "1      1  배유나     다온  23\n",
       "2      2  이현빈     다온  22\n",
       "3      3  김보현     경통  21\n",
       "4      4  홍재성     한빛  21\n",
       "5      0  유광열     경통  20"
      ]
     },
     "execution_count": 8,
     "metadata": {},
     "output_type": "execute_result"
    }
   ],
   "source": [
    "study = study.append(a_study).reset_index()\n",
    "study"
   ]
  },
  {
   "cell_type": "markdown",
   "metadata": {},
   "source": [
    "# <5번>"
   ]
  },
  {
   "cell_type": "markdown",
   "metadata": {},
   "source": [
    "#### 위의 데이터 프레임에 HomeTown 열을 추가하고 고향을 추가하세요 [멘토들의 고향은 경기, 광주, 충북, 울산, 서울입니다^^]"
   ]
  },
  {
   "cell_type": "code",
   "execution_count": 9,
   "metadata": {},
   "outputs": [
    {
     "data": {
      "text/html": [
       "<div>\n",
       "<style scoped>\n",
       "    .dataframe tbody tr th:only-of-type {\n",
       "        vertical-align: middle;\n",
       "    }\n",
       "\n",
       "    .dataframe tbody tr th {\n",
       "        vertical-align: top;\n",
       "    }\n",
       "\n",
       "    .dataframe thead th {\n",
       "        text-align: right;\n",
       "    }\n",
       "</style>\n",
       "<table border=\"1\" class=\"dataframe\">\n",
       "  <thead>\n",
       "    <tr style=\"text-align: right;\">\n",
       "      <th></th>\n",
       "      <th>index</th>\n",
       "      <th>Name</th>\n",
       "      <th>Bolong</th>\n",
       "      <th>Age</th>\n",
       "      <th>HomeTown</th>\n",
       "    </tr>\n",
       "  </thead>\n",
       "  <tbody>\n",
       "    <tr>\n",
       "      <th>0</th>\n",
       "      <td>0</td>\n",
       "      <td>임종언</td>\n",
       "      <td>다온</td>\n",
       "      <td>25</td>\n",
       "      <td>경기</td>\n",
       "    </tr>\n",
       "    <tr>\n",
       "      <th>1</th>\n",
       "      <td>1</td>\n",
       "      <td>배유나</td>\n",
       "      <td>다온</td>\n",
       "      <td>23</td>\n",
       "      <td>광주</td>\n",
       "    </tr>\n",
       "    <tr>\n",
       "      <th>2</th>\n",
       "      <td>2</td>\n",
       "      <td>이현빈</td>\n",
       "      <td>다온</td>\n",
       "      <td>22</td>\n",
       "      <td>충북</td>\n",
       "    </tr>\n",
       "    <tr>\n",
       "      <th>3</th>\n",
       "      <td>3</td>\n",
       "      <td>김보현</td>\n",
       "      <td>경통</td>\n",
       "      <td>21</td>\n",
       "      <td>울산</td>\n",
       "    </tr>\n",
       "    <tr>\n",
       "      <th>4</th>\n",
       "      <td>4</td>\n",
       "      <td>홍재성</td>\n",
       "      <td>한빛</td>\n",
       "      <td>21</td>\n",
       "      <td>서울</td>\n",
       "    </tr>\n",
       "    <tr>\n",
       "      <th>5</th>\n",
       "      <td>0</td>\n",
       "      <td>유광열</td>\n",
       "      <td>경통</td>\n",
       "      <td>20</td>\n",
       "      <td>서울</td>\n",
       "    </tr>\n",
       "  </tbody>\n",
       "</table>\n",
       "</div>"
      ],
      "text/plain": [
       "   index Name Bolong Age HomeTown\n",
       "0      0  임종언     다온  25       경기\n",
       "1      1  배유나     다온  23       광주\n",
       "2      2  이현빈     다온  22       충북\n",
       "3      3  김보현     경통  21       울산\n",
       "4      4  홍재성     한빛  21       서울\n",
       "5      0  유광열     경통  20       서울"
      ]
     },
     "execution_count": 9,
     "metadata": {},
     "output_type": "execute_result"
    }
   ],
   "source": [
    "study['HomeTown'] = ['경기','광주','충북','울산','서울','서울']\n",
    "study"
   ]
  },
  {
   "cell_type": "markdown",
   "metadata": {},
   "source": [
    "# <6번>"
   ]
  },
  {
   "cell_type": "markdown",
   "metadata": {},
   "source": [
    "#### 위의 김보현의 'Belong' 을 '없음'로 바꿔주세요"
   ]
  },
  {
   "cell_type": "code",
   "execution_count": 10,
   "metadata": {},
   "outputs": [
    {
     "name": "stderr",
     "output_type": "stream",
     "text": [
      "C:\\Users\\user\\Anaconda3\\lib\\site-packages\\ipykernel_launcher.py:1: SettingWithCopyWarning: \n",
      "A value is trying to be set on a copy of a slice from a DataFrame\n",
      "\n",
      "See the caveats in the documentation: http://pandas.pydata.org/pandas-docs/stable/indexing.html#indexing-view-versus-copy\n",
      "  \"\"\"Entry point for launching an IPython kernel.\n"
     ]
    },
    {
     "data": {
      "text/html": [
       "<div>\n",
       "<style scoped>\n",
       "    .dataframe tbody tr th:only-of-type {\n",
       "        vertical-align: middle;\n",
       "    }\n",
       "\n",
       "    .dataframe tbody tr th {\n",
       "        vertical-align: top;\n",
       "    }\n",
       "\n",
       "    .dataframe thead th {\n",
       "        text-align: right;\n",
       "    }\n",
       "</style>\n",
       "<table border=\"1\" class=\"dataframe\">\n",
       "  <thead>\n",
       "    <tr style=\"text-align: right;\">\n",
       "      <th></th>\n",
       "      <th>index</th>\n",
       "      <th>Name</th>\n",
       "      <th>Bolong</th>\n",
       "      <th>Age</th>\n",
       "      <th>HomeTown</th>\n",
       "    </tr>\n",
       "  </thead>\n",
       "  <tbody>\n",
       "    <tr>\n",
       "      <th>0</th>\n",
       "      <td>0</td>\n",
       "      <td>임종언</td>\n",
       "      <td>다온</td>\n",
       "      <td>25</td>\n",
       "      <td>경기</td>\n",
       "    </tr>\n",
       "    <tr>\n",
       "      <th>1</th>\n",
       "      <td>1</td>\n",
       "      <td>배유나</td>\n",
       "      <td>다온</td>\n",
       "      <td>23</td>\n",
       "      <td>광주</td>\n",
       "    </tr>\n",
       "    <tr>\n",
       "      <th>2</th>\n",
       "      <td>2</td>\n",
       "      <td>이현빈</td>\n",
       "      <td>다온</td>\n",
       "      <td>22</td>\n",
       "      <td>충북</td>\n",
       "    </tr>\n",
       "    <tr>\n",
       "      <th>3</th>\n",
       "      <td>3</td>\n",
       "      <td>김보현</td>\n",
       "      <td>없음</td>\n",
       "      <td>21</td>\n",
       "      <td>울산</td>\n",
       "    </tr>\n",
       "    <tr>\n",
       "      <th>4</th>\n",
       "      <td>4</td>\n",
       "      <td>홍재성</td>\n",
       "      <td>한빛</td>\n",
       "      <td>21</td>\n",
       "      <td>서울</td>\n",
       "    </tr>\n",
       "    <tr>\n",
       "      <th>5</th>\n",
       "      <td>0</td>\n",
       "      <td>유광열</td>\n",
       "      <td>경통</td>\n",
       "      <td>20</td>\n",
       "      <td>서울</td>\n",
       "    </tr>\n",
       "  </tbody>\n",
       "</table>\n",
       "</div>"
      ],
      "text/plain": [
       "   index Name Bolong Age HomeTown\n",
       "0      0  임종언     다온  25       경기\n",
       "1      1  배유나     다온  23       광주\n",
       "2      2  이현빈     다온  22       충북\n",
       "3      3  김보현     없음  21       울산\n",
       "4      4  홍재성     한빛  21       서울\n",
       "5      0  유광열     경통  20       서울"
      ]
     },
     "execution_count": 10,
     "metadata": {},
     "output_type": "execute_result"
    }
   ],
   "source": [
    "study['Bolong'][3]='없음'\n",
    "study"
   ]
  },
  {
   "cell_type": "markdown",
   "metadata": {},
   "source": [
    "# <7번>"
   ]
  },
  {
   "cell_type": "markdown",
   "metadata": {},
   "source": [
    "#### gapminder.tsv 데이터는 tab으로 구분되어 있는 데이터 입니다. 구글링을 통해 `sep='??'` 에 들어갈 알맞은 코드를 넣어 gapminder를 출력해보세요"
   ]
  },
  {
   "cell_type": "code",
   "execution_count": 42,
   "metadata": {
    "scrolled": true
   },
   "outputs": [
    {
     "name": "stderr",
     "output_type": "stream",
     "text": [
      "C:\\Users\\user\\Anaconda3\\lib\\site-packages\\ipykernel_launcher.py:1: ParserWarning: Falling back to the 'python' engine because the 'c' engine does not support regex separators (separators > 1 char and different from '\\s+' are interpreted as regex); you can avoid this warning by specifying engine='python'.\n",
      "  \"\"\"Entry point for launching an IPython kernel.\n"
     ]
    },
    {
     "data": {
      "text/html": [
       "<div>\n",
       "<style scoped>\n",
       "    .dataframe tbody tr th:only-of-type {\n",
       "        vertical-align: middle;\n",
       "    }\n",
       "\n",
       "    .dataframe tbody tr th {\n",
       "        vertical-align: top;\n",
       "    }\n",
       "\n",
       "    .dataframe thead th {\n",
       "        text-align: right;\n",
       "    }\n",
       "</style>\n",
       "<table border=\"1\" class=\"dataframe\">\n",
       "  <thead>\n",
       "    <tr style=\"text-align: right;\">\n",
       "      <th></th>\n",
       "      <th>country\tcontinent\tyear\tlifeExp\tpop\tgdpPercap</th>\n",
       "    </tr>\n",
       "  </thead>\n",
       "  <tbody>\n",
       "    <tr>\n",
       "      <th>0</th>\n",
       "      <td>Afghanistan\\tAsia\\t1952\\t28.801\\t8425333\\t779....</td>\n",
       "    </tr>\n",
       "    <tr>\n",
       "      <th>1</th>\n",
       "      <td>Afghanistan\\tAsia\\t1957\\t30.332\\t9240934\\t820....</td>\n",
       "    </tr>\n",
       "    <tr>\n",
       "      <th>2</th>\n",
       "      <td>Afghanistan\\tAsia\\t1962\\t31.997\\t10267083\\t853...</td>\n",
       "    </tr>\n",
       "    <tr>\n",
       "      <th>3</th>\n",
       "      <td>Afghanistan\\tAsia\\t1967\\t34.02\\t11537966\\t836....</td>\n",
       "    </tr>\n",
       "    <tr>\n",
       "      <th>4</th>\n",
       "      <td>Afghanistan\\tAsia\\t1972\\t36.088\\t13079460\\t739...</td>\n",
       "    </tr>\n",
       "    <tr>\n",
       "      <th>5</th>\n",
       "      <td>Afghanistan\\tAsia\\t1977\\t38.438\\t14880372\\t786...</td>\n",
       "    </tr>\n",
       "    <tr>\n",
       "      <th>6</th>\n",
       "      <td>Afghanistan\\tAsia\\t1982\\t39.854\\t12881816\\t978...</td>\n",
       "    </tr>\n",
       "    <tr>\n",
       "      <th>7</th>\n",
       "      <td>Afghanistan\\tAsia\\t1987\\t40.822\\t13867957\\t852...</td>\n",
       "    </tr>\n",
       "    <tr>\n",
       "      <th>8</th>\n",
       "      <td>Afghanistan\\tAsia\\t1992\\t41.674\\t16317921\\t649...</td>\n",
       "    </tr>\n",
       "    <tr>\n",
       "      <th>9</th>\n",
       "      <td>Afghanistan\\tAsia\\t1997\\t41.763\\t22227415\\t635...</td>\n",
       "    </tr>\n",
       "    <tr>\n",
       "      <th>10</th>\n",
       "      <td>Afghanistan\\tAsia\\t2002\\t42.129\\t25268405\\t726...</td>\n",
       "    </tr>\n",
       "    <tr>\n",
       "      <th>11</th>\n",
       "      <td>Afghanistan\\tAsia\\t2007\\t43.828\\t31889923\\t974...</td>\n",
       "    </tr>\n",
       "    <tr>\n",
       "      <th>12</th>\n",
       "      <td>Albania\\tEurope\\t1952\\t55.23\\t1282697\\t1601.05...</td>\n",
       "    </tr>\n",
       "    <tr>\n",
       "      <th>13</th>\n",
       "      <td>Albania\\tEurope\\t1957\\t59.28\\t1476505\\t1942.28...</td>\n",
       "    </tr>\n",
       "    <tr>\n",
       "      <th>14</th>\n",
       "      <td>Albania\\tEurope\\t1962\\t64.82\\t1728137\\t2312.88...</td>\n",
       "    </tr>\n",
       "    <tr>\n",
       "      <th>15</th>\n",
       "      <td>Albania\\tEurope\\t1967\\t66.22\\t1984060\\t2760.19...</td>\n",
       "    </tr>\n",
       "    <tr>\n",
       "      <th>16</th>\n",
       "      <td>Albania\\tEurope\\t1972\\t67.69\\t2263554\\t3313.42...</td>\n",
       "    </tr>\n",
       "    <tr>\n",
       "      <th>17</th>\n",
       "      <td>Albania\\tEurope\\t1977\\t68.93\\t2509048\\t3533.00391</td>\n",
       "    </tr>\n",
       "    <tr>\n",
       "      <th>18</th>\n",
       "      <td>Albania\\tEurope\\t1982\\t70.42\\t2780097\\t3630.88...</td>\n",
       "    </tr>\n",
       "    <tr>\n",
       "      <th>19</th>\n",
       "      <td>Albania\\tEurope\\t1987\\t72\\t3075321\\t3738.932735</td>\n",
       "    </tr>\n",
       "    <tr>\n",
       "      <th>20</th>\n",
       "      <td>Albania\\tEurope\\t1992\\t71.581\\t3326498\\t2497.4...</td>\n",
       "    </tr>\n",
       "    <tr>\n",
       "      <th>21</th>\n",
       "      <td>Albania\\tEurope\\t1997\\t72.95\\t3428038\\t3193.05...</td>\n",
       "    </tr>\n",
       "    <tr>\n",
       "      <th>22</th>\n",
       "      <td>Albania\\tEurope\\t2002\\t75.651\\t3508512\\t4604.2...</td>\n",
       "    </tr>\n",
       "    <tr>\n",
       "      <th>23</th>\n",
       "      <td>Albania\\tEurope\\t2007\\t76.423\\t3600523\\t5937.0...</td>\n",
       "    </tr>\n",
       "    <tr>\n",
       "      <th>24</th>\n",
       "      <td>Algeria\\tAfrica\\t1952\\t43.077\\t9279525\\t2449.0...</td>\n",
       "    </tr>\n",
       "    <tr>\n",
       "      <th>25</th>\n",
       "      <td>Algeria\\tAfrica\\t1957\\t45.685\\t10270856\\t3013....</td>\n",
       "    </tr>\n",
       "    <tr>\n",
       "      <th>26</th>\n",
       "      <td>Algeria\\tAfrica\\t1962\\t48.303\\t11000948\\t2550....</td>\n",
       "    </tr>\n",
       "    <tr>\n",
       "      <th>27</th>\n",
       "      <td>Algeria\\tAfrica\\t1967\\t51.407\\t12760499\\t3246....</td>\n",
       "    </tr>\n",
       "    <tr>\n",
       "      <th>28</th>\n",
       "      <td>Algeria\\tAfrica\\t1972\\t54.518\\t14760787\\t4182....</td>\n",
       "    </tr>\n",
       "    <tr>\n",
       "      <th>29</th>\n",
       "      <td>Algeria\\tAfrica\\t1977\\t58.014\\t17152804\\t4910....</td>\n",
       "    </tr>\n",
       "    <tr>\n",
       "      <th>...</th>\n",
       "      <td>...</td>\n",
       "    </tr>\n",
       "    <tr>\n",
       "      <th>1674</th>\n",
       "      <td>Yemen, Rep.\\tAsia\\t1982\\t49.113\\t9657618\\t1977...</td>\n",
       "    </tr>\n",
       "    <tr>\n",
       "      <th>1675</th>\n",
       "      <td>Yemen, Rep.\\tAsia\\t1987\\t52.922\\t11219340\\t197...</td>\n",
       "    </tr>\n",
       "    <tr>\n",
       "      <th>1676</th>\n",
       "      <td>Yemen, Rep.\\tAsia\\t1992\\t55.599\\t13367997\\t187...</td>\n",
       "    </tr>\n",
       "    <tr>\n",
       "      <th>1677</th>\n",
       "      <td>Yemen, Rep.\\tAsia\\t1997\\t58.02\\t15826497\\t2117...</td>\n",
       "    </tr>\n",
       "    <tr>\n",
       "      <th>1678</th>\n",
       "      <td>Yemen, Rep.\\tAsia\\t2002\\t60.308\\t18701257\\t223...</td>\n",
       "    </tr>\n",
       "    <tr>\n",
       "      <th>1679</th>\n",
       "      <td>Yemen, Rep.\\tAsia\\t2007\\t62.698\\t22211743\\t228...</td>\n",
       "    </tr>\n",
       "    <tr>\n",
       "      <th>1680</th>\n",
       "      <td>Zambia\\tAfrica\\t1952\\t42.038\\t2672000\\t1147.38...</td>\n",
       "    </tr>\n",
       "    <tr>\n",
       "      <th>1681</th>\n",
       "      <td>Zambia\\tAfrica\\t1957\\t44.077\\t3016000\\t1311.95...</td>\n",
       "    </tr>\n",
       "    <tr>\n",
       "      <th>1682</th>\n",
       "      <td>Zambia\\tAfrica\\t1962\\t46.023\\t3421000\\t1452.72...</td>\n",
       "    </tr>\n",
       "    <tr>\n",
       "      <th>1683</th>\n",
       "      <td>Zambia\\tAfrica\\t1967\\t47.768\\t3900000\\t1777.07...</td>\n",
       "    </tr>\n",
       "    <tr>\n",
       "      <th>1684</th>\n",
       "      <td>Zambia\\tAfrica\\t1972\\t50.107\\t4506497\\t1773.49...</td>\n",
       "    </tr>\n",
       "    <tr>\n",
       "      <th>1685</th>\n",
       "      <td>Zambia\\tAfrica\\t1977\\t51.386\\t5216550\\t1588.68...</td>\n",
       "    </tr>\n",
       "    <tr>\n",
       "      <th>1686</th>\n",
       "      <td>Zambia\\tAfrica\\t1982\\t51.821\\t6100407\\t1408.67...</td>\n",
       "    </tr>\n",
       "    <tr>\n",
       "      <th>1687</th>\n",
       "      <td>Zambia\\tAfrica\\t1987\\t50.821\\t7272406\\t1213.31...</td>\n",
       "    </tr>\n",
       "    <tr>\n",
       "      <th>1688</th>\n",
       "      <td>Zambia\\tAfrica\\t1992\\t46.1\\t8381163\\t1210.884633</td>\n",
       "    </tr>\n",
       "    <tr>\n",
       "      <th>1689</th>\n",
       "      <td>Zambia\\tAfrica\\t1997\\t40.238\\t9417789\\t1071.35...</td>\n",
       "    </tr>\n",
       "    <tr>\n",
       "      <th>1690</th>\n",
       "      <td>Zambia\\tAfrica\\t2002\\t39.193\\t10595811\\t1071.6...</td>\n",
       "    </tr>\n",
       "    <tr>\n",
       "      <th>1691</th>\n",
       "      <td>Zambia\\tAfrica\\t2007\\t42.384\\t11746035\\t1271.2...</td>\n",
       "    </tr>\n",
       "    <tr>\n",
       "      <th>1692</th>\n",
       "      <td>Zimbabwe\\tAfrica\\t1952\\t48.451\\t3080907\\t406.8...</td>\n",
       "    </tr>\n",
       "    <tr>\n",
       "      <th>1693</th>\n",
       "      <td>Zimbabwe\\tAfrica\\t1957\\t50.469\\t3646340\\t518.7...</td>\n",
       "    </tr>\n",
       "    <tr>\n",
       "      <th>1694</th>\n",
       "      <td>Zimbabwe\\tAfrica\\t1962\\t52.358\\t4277736\\t527.2...</td>\n",
       "    </tr>\n",
       "    <tr>\n",
       "      <th>1695</th>\n",
       "      <td>Zimbabwe\\tAfrica\\t1967\\t53.995\\t4995432\\t569.7...</td>\n",
       "    </tr>\n",
       "    <tr>\n",
       "      <th>1696</th>\n",
       "      <td>Zimbabwe\\tAfrica\\t1972\\t55.635\\t5861135\\t799.3...</td>\n",
       "    </tr>\n",
       "    <tr>\n",
       "      <th>1697</th>\n",
       "      <td>Zimbabwe\\tAfrica\\t1977\\t57.674\\t6642107\\t685.5...</td>\n",
       "    </tr>\n",
       "    <tr>\n",
       "      <th>1698</th>\n",
       "      <td>Zimbabwe\\tAfrica\\t1982\\t60.363\\t7636524\\t788.8...</td>\n",
       "    </tr>\n",
       "    <tr>\n",
       "      <th>1699</th>\n",
       "      <td>Zimbabwe\\tAfrica\\t1987\\t62.351\\t9216418\\t706.1...</td>\n",
       "    </tr>\n",
       "    <tr>\n",
       "      <th>1700</th>\n",
       "      <td>Zimbabwe\\tAfrica\\t1992\\t60.377\\t10704340\\t693....</td>\n",
       "    </tr>\n",
       "    <tr>\n",
       "      <th>1701</th>\n",
       "      <td>Zimbabwe\\tAfrica\\t1997\\t46.809\\t11404948\\t792....</td>\n",
       "    </tr>\n",
       "    <tr>\n",
       "      <th>1702</th>\n",
       "      <td>Zimbabwe\\tAfrica\\t2002\\t39.989\\t11926563\\t672....</td>\n",
       "    </tr>\n",
       "    <tr>\n",
       "      <th>1703</th>\n",
       "      <td>Zimbabwe\\tAfrica\\t2007\\t43.487\\t12311143\\t469....</td>\n",
       "    </tr>\n",
       "  </tbody>\n",
       "</table>\n",
       "<p>1704 rows × 1 columns</p>\n",
       "</div>"
      ],
      "text/plain": [
       "      country\\tcontinent\\tyear\\tlifeExp\\tpop\\tgdpPercap\n",
       "0     Afghanistan\\tAsia\\t1952\\t28.801\\t8425333\\t779....\n",
       "1     Afghanistan\\tAsia\\t1957\\t30.332\\t9240934\\t820....\n",
       "2     Afghanistan\\tAsia\\t1962\\t31.997\\t10267083\\t853...\n",
       "3     Afghanistan\\tAsia\\t1967\\t34.02\\t11537966\\t836....\n",
       "4     Afghanistan\\tAsia\\t1972\\t36.088\\t13079460\\t739...\n",
       "5     Afghanistan\\tAsia\\t1977\\t38.438\\t14880372\\t786...\n",
       "6     Afghanistan\\tAsia\\t1982\\t39.854\\t12881816\\t978...\n",
       "7     Afghanistan\\tAsia\\t1987\\t40.822\\t13867957\\t852...\n",
       "8     Afghanistan\\tAsia\\t1992\\t41.674\\t16317921\\t649...\n",
       "9     Afghanistan\\tAsia\\t1997\\t41.763\\t22227415\\t635...\n",
       "10    Afghanistan\\tAsia\\t2002\\t42.129\\t25268405\\t726...\n",
       "11    Afghanistan\\tAsia\\t2007\\t43.828\\t31889923\\t974...\n",
       "12    Albania\\tEurope\\t1952\\t55.23\\t1282697\\t1601.05...\n",
       "13    Albania\\tEurope\\t1957\\t59.28\\t1476505\\t1942.28...\n",
       "14    Albania\\tEurope\\t1962\\t64.82\\t1728137\\t2312.88...\n",
       "15    Albania\\tEurope\\t1967\\t66.22\\t1984060\\t2760.19...\n",
       "16    Albania\\tEurope\\t1972\\t67.69\\t2263554\\t3313.42...\n",
       "17    Albania\\tEurope\\t1977\\t68.93\\t2509048\\t3533.00391\n",
       "18    Albania\\tEurope\\t1982\\t70.42\\t2780097\\t3630.88...\n",
       "19      Albania\\tEurope\\t1987\\t72\\t3075321\\t3738.932735\n",
       "20    Albania\\tEurope\\t1992\\t71.581\\t3326498\\t2497.4...\n",
       "21    Albania\\tEurope\\t1997\\t72.95\\t3428038\\t3193.05...\n",
       "22    Albania\\tEurope\\t2002\\t75.651\\t3508512\\t4604.2...\n",
       "23    Albania\\tEurope\\t2007\\t76.423\\t3600523\\t5937.0...\n",
       "24    Algeria\\tAfrica\\t1952\\t43.077\\t9279525\\t2449.0...\n",
       "25    Algeria\\tAfrica\\t1957\\t45.685\\t10270856\\t3013....\n",
       "26    Algeria\\tAfrica\\t1962\\t48.303\\t11000948\\t2550....\n",
       "27    Algeria\\tAfrica\\t1967\\t51.407\\t12760499\\t3246....\n",
       "28    Algeria\\tAfrica\\t1972\\t54.518\\t14760787\\t4182....\n",
       "29    Algeria\\tAfrica\\t1977\\t58.014\\t17152804\\t4910....\n",
       "...                                                 ...\n",
       "1674  Yemen, Rep.\\tAsia\\t1982\\t49.113\\t9657618\\t1977...\n",
       "1675  Yemen, Rep.\\tAsia\\t1987\\t52.922\\t11219340\\t197...\n",
       "1676  Yemen, Rep.\\tAsia\\t1992\\t55.599\\t13367997\\t187...\n",
       "1677  Yemen, Rep.\\tAsia\\t1997\\t58.02\\t15826497\\t2117...\n",
       "1678  Yemen, Rep.\\tAsia\\t2002\\t60.308\\t18701257\\t223...\n",
       "1679  Yemen, Rep.\\tAsia\\t2007\\t62.698\\t22211743\\t228...\n",
       "1680  Zambia\\tAfrica\\t1952\\t42.038\\t2672000\\t1147.38...\n",
       "1681  Zambia\\tAfrica\\t1957\\t44.077\\t3016000\\t1311.95...\n",
       "1682  Zambia\\tAfrica\\t1962\\t46.023\\t3421000\\t1452.72...\n",
       "1683  Zambia\\tAfrica\\t1967\\t47.768\\t3900000\\t1777.07...\n",
       "1684  Zambia\\tAfrica\\t1972\\t50.107\\t4506497\\t1773.49...\n",
       "1685  Zambia\\tAfrica\\t1977\\t51.386\\t5216550\\t1588.68...\n",
       "1686  Zambia\\tAfrica\\t1982\\t51.821\\t6100407\\t1408.67...\n",
       "1687  Zambia\\tAfrica\\t1987\\t50.821\\t7272406\\t1213.31...\n",
       "1688   Zambia\\tAfrica\\t1992\\t46.1\\t8381163\\t1210.884633\n",
       "1689  Zambia\\tAfrica\\t1997\\t40.238\\t9417789\\t1071.35...\n",
       "1690  Zambia\\tAfrica\\t2002\\t39.193\\t10595811\\t1071.6...\n",
       "1691  Zambia\\tAfrica\\t2007\\t42.384\\t11746035\\t1271.2...\n",
       "1692  Zimbabwe\\tAfrica\\t1952\\t48.451\\t3080907\\t406.8...\n",
       "1693  Zimbabwe\\tAfrica\\t1957\\t50.469\\t3646340\\t518.7...\n",
       "1694  Zimbabwe\\tAfrica\\t1962\\t52.358\\t4277736\\t527.2...\n",
       "1695  Zimbabwe\\tAfrica\\t1967\\t53.995\\t4995432\\t569.7...\n",
       "1696  Zimbabwe\\tAfrica\\t1972\\t55.635\\t5861135\\t799.3...\n",
       "1697  Zimbabwe\\tAfrica\\t1977\\t57.674\\t6642107\\t685.5...\n",
       "1698  Zimbabwe\\tAfrica\\t1982\\t60.363\\t7636524\\t788.8...\n",
       "1699  Zimbabwe\\tAfrica\\t1987\\t62.351\\t9216418\\t706.1...\n",
       "1700  Zimbabwe\\tAfrica\\t1992\\t60.377\\t10704340\\t693....\n",
       "1701  Zimbabwe\\tAfrica\\t1997\\t46.809\\t11404948\\t792....\n",
       "1702  Zimbabwe\\tAfrica\\t2002\\t39.989\\t11926563\\t672....\n",
       "1703  Zimbabwe\\tAfrica\\t2007\\t43.487\\t12311143\\t469....\n",
       "\n",
       "[1704 rows x 1 columns]"
      ]
     },
     "execution_count": 42,
     "metadata": {},
     "output_type": "execute_result"
    }
   ],
   "source": [
    "gapminder=pd.read_csv('gapminder.tsv',sep='/t')\n",
    "gapminder"
   ]
  },
  {
   "cell_type": "markdown",
   "metadata": {},
   "source": [
    "# <추가문제> #"
   ]
  },
  {
   "cell_type": "markdown",
   "metadata": {},
   "source": [
    "#### `year = int(input())` 를 사용해 year에 연도를 할당한 후, 그 연도가 평년인지 윤년인지 구하는 알고리즘을 만들어보세요.\n",
    "\n",
    "\n",
    "* 조건 1 : 연도가 4의 배수이면 윤년이고 그 외에는 평년입니다.\n",
    "* 조건 2 : 조건 1 에서 100의 배수이면 평년이고, 400의 배수이면 윤년입니다.\n",
    "* 조건 3 : 만약 연도가 1년부터 2999년 사이에 존재하지 않으면 '오류'를 출력하세요.\n",
    "\n",
    "* 예시 1 : 2400은 4와 100의 배수이지만 400의 배수도 되기 때문에 윤년입니다.\n",
    "* 예시 2 : 2020은 4의 배수는 맞지만 100의 배수가 아니므로 윤년입니다."
   ]
  },
  {
   "cell_type": "code",
   "execution_count": 38,
   "metadata": {},
   "outputs": [
    {
     "name": "stdout",
     "output_type": "stream",
     "text": [
      "2400\n",
      "2400은 4와 100의 배수는 맞지만 400의 배수도 되기 때문에 윤년입니다.\n"
     ]
    }
   ],
   "source": [
    "year = int(input())\n",
    "if year%4 == 0 and year%100 != 0:\n",
    "    print(str(year) + '은 4의 배수는 맞지만 100의 배수가 아니므로 윤년입니다.')\n",
    "elif year%4 ==0 and year%400==0:\n",
    "    print(str(year) + '은 4와 100의 배수는 맞지만 400의 배수도 되기 때문에 윤년입니다.')\n",
    "elif 1>year or year>2999:\n",
    "    print('오류입니다.')\n",
    "else:\n",
    "    print('평년입니다.')"
   ]
  }
 ],
 "metadata": {
  "kernelspec": {
   "display_name": "Python 3",
   "language": "python",
   "name": "python3"
  },
  "language_info": {
   "codemirror_mode": {
    "name": "ipython",
    "version": 3
   },
   "file_extension": ".py",
   "mimetype": "text/x-python",
   "name": "python",
   "nbconvert_exporter": "python",
   "pygments_lexer": "ipython3",
   "version": "3.7.7"
  }
 },
 "nbformat": 4,
 "nbformat_minor": 2
}
