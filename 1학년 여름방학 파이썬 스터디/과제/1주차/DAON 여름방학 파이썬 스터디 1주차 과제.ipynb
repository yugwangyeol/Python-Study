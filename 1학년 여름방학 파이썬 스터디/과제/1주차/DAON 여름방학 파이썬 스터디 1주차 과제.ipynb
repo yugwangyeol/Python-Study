{
 "cells": [
  {
   "cell_type": "markdown",
   "metadata": {},
   "source": [
    "# 필독 !"
   ]
  },
  {
   "cell_type": "markdown",
   "metadata": {},
   "source": [
    "<br><font color = \"#CC3D3D\">\n",
    "    문제 풀기 전 제출 방식을 꼭 확인해주세요 !!\n",
    "    \n",
    "    - 1) 파일 형식을 html로 해주세요 ! ( 방법은 좌측 상단의 File >  Download as > html  )\n",
    "    - 2) 파일명은 'DAON 여름방학 파이썬 스터디 1주차 과제_본인이름'을 지켜주세요\n",
    "    - 3) 제출은 각 해당된 멘토에게 해주시면 됩니다."
   ]
  },
  {
   "cell_type": "markdown",
   "metadata": {},
   "source": [
    "------------------------------------------------------------------------------------------------------------------------------------------------------------------------------------"
   ]
  },
  {
   "cell_type": "markdown",
   "metadata": {},
   "source": [
    "## <1번 문제>\n",
    "### 아래 sen_1 ... sen_4 라는 변수에는 여러 문자열이 담겨있습니다.(2번째 코드 참고 )\n",
    "### 4개의 변수 중 '손흥민'이라는 문자열이 있는 변수를 찾아 '손흥민' 대신 '이승우'로 변경하고 결과값을 출력해주세요 !\n",
    "\n",
    "#### * 손으로 직접 세는 방식은 x\n"
   ]
  },
  {
   "cell_type": "code",
   "execution_count": 1,
   "metadata": {},
   "outputs": [],
   "source": [
    "sen_1 = \"리버풀도 공격 트리오인 일명 ‘마누라(마네·피르미누·살라)’가 선봉에 섰다. 호베르투 피르미누와 모하메드 살라, 사디오 마네가 스리톱으로 나섰다.양 팀 모두 기적 같은 승부를 펼치며 올라온 만큼 시작 전부터 관심이 뜨거웠다. 리버풀은 준결승 1차전에서 바르셀로나에 0대3으로 패한 뒤 2차전에서 4대0의 대역전극을 연출하며 결승에 올랐다. 토트넘은 4강 2차전에서 후반 추가 시간 터진 모라의 골로 극적으로 결승 진출에 성공했다.양 팀 팬들의 뜨거운 응원가와 함께 시작한 승부는 뜻밖의 상황이 발생하며 리버풀 쪽으로 기울었다. 전반 시작 28초 만에 마네가 측면에서 올린 공이 토트넘 미드필더 무사 시소코의 손에 맞아 페널티킥이 선언된 것. 살라가 페널티킥 키커로 나서 강력한 왼발 슛으로 골망을 갈랐다.\"\n",
    "sen_2 = \"전반 38분 리버풀 로버트슨의 중거리 슈팅이 골키퍼 요리스의 선방에 걸렸다. 리버풀이 자랑하는 양쪽 풀백 로버트슨과 아널드는 이날도 활발한 공격 가담으로 토트넘을 위협했다. 경기 시작부터 왼쪽 측면에 섰던 손흥민 알리와 자리를 바꾸며 오른쪽으로 갔다. 토트넘은 전반 45분 에릭센의 중거리 슛이 어이 없이 빗나가며 소득 없이 전반을 마쳤다. 포체티노 감독이 믿고 기용한 케인의 부진이 뼈아팠다.\"\n",
    "sen_3 = \"후반 들어 토트넘은 더욱 공격적으로 나왔다. 후반 5분 손흥민 프리킥 기회에서 쇄도했지만 오프사이드가 선언됐다. 리버풀은 후반 13분 피르미누를 빼고 오리기를 투입했다. 4분 뒤엔 바이날둠 대신 밀너를 넣었다.포체티노 감독도 후반 20분 중앙 미드필더 윙크스를 빼고 4강 2차전 해트트릭의 사나이 모라를 투입하며 승부수를 던졌다. 후반 24분 리버풀 밀너의 슈팅이 살짝 빗나가며 토트넘 팬들은 가슴을 쓸어내렸다. 양 팀의 뜨거운 공방이 후반 중반부터 그라운드를 달궜다.\"\n",
    "sen_4 = \"탕귀 은돔벨레(23·토트넘)는 이번 여름 프랑스 리그1 올림피크 리옹에서 프리미어리그(EPL) 토트넘 홋스퍼로 이적했다. 그러나 잉글랜드 무대 선배들과의 비교는 달가워하지 않는 눈치다. 은돔벨레는 9일 프랑스 ‘레퀴프’가 보도한 인터뷰에서 영국에서 성공한 폴 포그바(26·맨체스터 유나이티드)처럼 “자신만의 길을 만들고 싶다”라면서 “난 제2의 마이클 에시엔(37·사바일)이나 포그바가 아닌 제1의 은돔벨레”라고 강조했다. \"\n",
    "\n",
    "sen_1 = sen_1.split(' ')\n",
    "sen_2 = sen_2.split(' ')\n",
    "sen_3 = sen_3.split(' ')\n",
    "sen_4 = sen_4.split(' ')"
   ]
  },
  {
   "cell_type": "code",
   "execution_count": 2,
   "metadata": {},
   "outputs": [
    {
     "name": "stdout",
     "output_type": "stream",
     "text": [
      "['후반', '들어', '토트넘은', '더욱', '공격적으로', '나왔다.', '후반', '5분', '손흥민', '프리킥', '기회에서', '쇄도했지만', '오프사이드가', '선언됐다.', '리버풀은', '후반', '13분', '피르미누를', '빼고', '오리기를', '투입했다.', '4분', '뒤엔', '바이날둠', '대신', '밀너를', '넣었다.포체티노', '감독도', '후반', '20분', '중앙', '미드필더', '윙크스를', '빼고', '4강', '2차전', '해트트릭의', '사나이', '모라를', '투입하며', '승부수를', '던졌다.', '후반', '24분', '리버풀', '밀너의', '슈팅이', '살짝', '빗나가며', '토트넘', '팬들은', '가슴을', '쓸어내렸다.', '양', '팀의', '뜨거운', '공방이', '후반', '중반부터', '그라운드를', '달궜다.']\n"
     ]
    }
   ],
   "source": [
    "print(sen_3)"
   ]
  },
  {
   "cell_type": "code",
   "execution_count": 3,
   "metadata": {},
   "outputs": [
    {
     "name": "stdout",
     "output_type": "stream",
     "text": [
      "['전반', '38분', '리버풀', '로버트슨의', '중거리', '슈팅이', '골키퍼', '요리스의', '선방에', '걸렸다.', '리버풀이', '자랑하는', '양쪽', '풀백', '로버트슨과', '아널드는', '이날도', '활발한', '공격', '가담으로', '토트넘을', '위협했다.', '경기', '시작부터', '왼쪽', '측면에', '섰던', '이승우', '알리와', '자리를', '바꾸며', '오른쪽으로', '갔다.', '토트넘은', '전반', '45분', '에릭센의', '중거리', '슛이', '어이', '없이', '빗나가며', '소득', '없이', '전반을', '마쳤다.', '포체티노', '감독이', '믿고', '기용한', '케인의', '부진이', '뼈아팠다.']\n",
      "['후반', '들어', '토트넘은', '더욱', '공격적으로', '나왔다.', '후반', '5분', '이승우', '프리킥', '기회에서', '쇄도했지만', '오프사이드가', '선언됐다.', '리버풀은', '후반', '13분', '피르미누를', '빼고', '오리기를', '투입했다.', '4분', '뒤엔', '바이날둠', '대신', '밀너를', '넣었다.포체티노', '감독도', '후반', '20분', '중앙', '미드필더', '윙크스를', '빼고', '4강', '2차전', '해트트릭의', '사나이', '모라를', '투입하며', '승부수를', '던졌다.', '후반', '24분', '리버풀', '밀너의', '슈팅이', '살짝', '빗나가며', '토트넘', '팬들은', '가슴을', '쓸어내렸다.', '양', '팀의', '뜨거운', '공방이', '후반', '중반부터', '그라운드를', '달궜다.']\n"
     ]
    }
   ],
   "source": [
    "# 답안\n",
    "sen_2[sen_2.index('손흥민')]='이승우'\n",
    "print(sen_2)\n",
    "\n",
    "sen_3[sen_3.index('손흥민')]='이승우'\n",
    "print(sen_3)"
   ]
  },
  {
   "cell_type": "code",
   "execution_count": 6,
   "metadata": {},
   "outputs": [
    {
     "ename": "ValueError",
     "evalue": "'손흥민' is not in list",
     "output_type": "error",
     "traceback": [
      "\u001b[1;31m---------------------------------------------------------------------------\u001b[0m",
      "\u001b[1;31mValueError\u001b[0m                                Traceback (most recent call last)",
      "\u001b[1;32m<ipython-input-6-851aa7107e72>\u001b[0m in \u001b[0;36m<module>\u001b[1;34m\u001b[0m\n\u001b[1;32m----> 1\u001b[1;33m \u001b[0msen_1\u001b[0m\u001b[1;33m.\u001b[0m\u001b[0mindex\u001b[0m\u001b[1;33m(\u001b[0m\u001b[1;34m'손흥민'\u001b[0m\u001b[1;33m)\u001b[0m \u001b[1;31m#오류 리스트에 손흥민이 포함되어 있지 않다.\u001b[0m\u001b[1;33m\u001b[0m\u001b[1;33m\u001b[0m\u001b[0m\n\u001b[0m",
      "\u001b[1;31mValueError\u001b[0m: '손흥민' is not in list"
     ]
    }
   ],
   "source": [
    "sen_1.index('손흥민') #오류 리스트에 손흥민이 포함되어 있지 않다."
   ]
  },
  {
   "cell_type": "code",
   "execution_count": 8,
   "metadata": {},
   "outputs": [
    {
     "ename": "ValueError",
     "evalue": "'손흥민' is not in list",
     "output_type": "error",
     "traceback": [
      "\u001b[1;31m---------------------------------------------------------------------------\u001b[0m",
      "\u001b[1;31mValueError\u001b[0m                                Traceback (most recent call last)",
      "\u001b[1;32m<ipython-input-8-588f11332686>\u001b[0m in \u001b[0;36m<module>\u001b[1;34m\u001b[0m\n\u001b[1;32m----> 1\u001b[1;33m \u001b[0msen_4\u001b[0m\u001b[1;33m.\u001b[0m\u001b[0mindex\u001b[0m\u001b[1;33m(\u001b[0m\u001b[1;34m'손흥민'\u001b[0m\u001b[1;33m)\u001b[0m\u001b[1;31m#오류 리스트에 손흥민이 포함되어 있지 않다.\u001b[0m\u001b[1;33m\u001b[0m\u001b[1;33m\u001b[0m\u001b[0m\n\u001b[0m",
      "\u001b[1;31mValueError\u001b[0m: '손흥민' is not in list"
     ]
    }
   ],
   "source": [
    "sen_4.index('손흥민')#오류 리스트에 손흥민이 포함되어 있지 않다."
   ]
  },
  {
   "cell_type": "code",
   "execution_count": null,
   "metadata": {},
   "outputs": [],
   "source": []
  },
  {
   "cell_type": "markdown",
   "metadata": {},
   "source": [
    "## <2번 문제>\n",
    "### 아래 코드를 실행하면 RandomNumber라는 변수에 1부터 100까지 임의의 정수가 100개가 리스트(List)에 담기게 됩니다.\n",
    "### RandomNumber안에 담긴 100개의 숫자를 '내림차순'으로 정렬하고 결과값을 출력해주세요 !"
   ]
  },
  {
   "cell_type": "code",
   "execution_count": 10,
   "metadata": {},
   "outputs": [],
   "source": [
    "import random\n",
    "\n",
    "RandomNumber = []\n",
    "for i in range(1, 100) :\n",
    "    RandomNumber.append(random.randint(1, 100))"
   ]
  },
  {
   "cell_type": "code",
   "execution_count": 11,
   "metadata": {},
   "outputs": [
    {
     "name": "stdout",
     "output_type": "stream",
     "text": [
      "[100, 97, 97, 94, 94, 93, 93, 92, 90, 89, 88, 88, 87, 87, 85, 84, 83, 82, 82, 82, 82, 81, 81, 80, 80, 79, 79, 77, 77, 77, 76, 76, 76, 75, 75, 73, 73, 71, 71, 70, 69, 69, 68, 67, 67, 66, 66, 64, 64, 64, 56, 55, 53, 53, 52, 50, 49, 47, 47, 46, 45, 45, 45, 44, 43, 42, 42, 40, 40, 39, 39, 35, 33, 29, 28, 26, 26, 25, 25, 25, 24, 17, 15, 13, 12, 12, 12, 10, 10, 8, 6, 6, 5, 4, 2, 2, 2, 1, 1]\n"
     ]
    }
   ],
   "source": [
    "# 답안\n",
    "RandomNumber.sort(reverse=True)\n",
    "print(RandomNumber)"
   ]
  },
  {
   "cell_type": "code",
   "execution_count": null,
   "metadata": {},
   "outputs": [],
   "source": []
  },
  {
   "cell_type": "code",
   "execution_count": null,
   "metadata": {},
   "outputs": [],
   "source": []
  },
  {
   "cell_type": "markdown",
   "metadata": {},
   "source": [
    "## <3번 문제>\n",
    "### 위 RandomNumber의 변수에 담긴 100개의 임의의 정수 중 최대값과 최소값의 차이의 평균을 구하고 출력해주세요 !"
   ]
  },
  {
   "cell_type": "code",
   "execution_count": 12,
   "metadata": {},
   "outputs": [
    {
     "data": {
      "text/plain": [
       "49.5"
      ]
     },
     "execution_count": 12,
     "metadata": {},
     "output_type": "execute_result"
    }
   ],
   "source": [
    "# 답안\n",
    "\n",
    "(max(RandomNumber)-min(RandomNumber))/2"
   ]
  },
  {
   "cell_type": "markdown",
   "metadata": {},
   "source": [
    "## <4번 문제>\n",
    "### 아래 Titanic 변수에 담긴 고객 정보 중 티켓번호를 'ABC111' 로 변경한 뒤 바뀐 결과값을 출력해주세요 ! "
   ]
  },
  {
   "cell_type": "code",
   "execution_count": 26,
   "metadata": {},
   "outputs": [],
   "source": [
    "Titanic = { 'PassengerId':1 , 'Survived':0 , \n",
    "                'Pclass':3, 'Name':'Braund, Mr. Owen Harris',\n",
    "                'Sex':'male', 'Age':22, \n",
    "                'Parch':0, 'Ticket':'A/5 21171',\n",
    "                'Fare':7.25 ,'Embarked':'S'}"
   ]
  },
  {
   "cell_type": "code",
   "execution_count": 28,
   "metadata": {},
   "outputs": [
    {
     "name": "stdout",
     "output_type": "stream",
     "text": [
      "{'PassengerId': 1, 'Survived': 0, 'Pclass': 3, 'Name': 'Braund, Mr. Owen Harris', 'Sex': 'male', 'Age': 22, 'Parch': 0, 'Ticket': 'ABC111', 'Fare': 7.25, 'Embarked': 'S'}\n"
     ]
    }
   ],
   "source": [
    "# 답안\n",
    "Titanic['Ticket']='ABC111'\n",
    "print(Titanic)\n"
   ]
  },
  {
   "cell_type": "code",
   "execution_count": null,
   "metadata": {},
   "outputs": [],
   "source": []
  },
  {
   "cell_type": "code",
   "execution_count": null,
   "metadata": {},
   "outputs": [],
   "source": []
  }
 ],
 "metadata": {
  "kernelspec": {
   "display_name": "Python 3",
   "language": "python",
   "name": "python3"
  },
  "language_info": {
   "codemirror_mode": {
    "name": "ipython",
    "version": 3
   },
   "file_extension": ".py",
   "mimetype": "text/x-python",
   "name": "python",
   "nbconvert_exporter": "python",
   "pygments_lexer": "ipython3",
   "version": "3.7.7"
  }
 },
 "nbformat": 4,
 "nbformat_minor": 2
}
