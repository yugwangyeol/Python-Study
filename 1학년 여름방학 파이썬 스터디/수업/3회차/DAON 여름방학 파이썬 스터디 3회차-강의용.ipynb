{
 "cells": [
  {
   "cell_type": "code",
   "execution_count": null,
   "metadata": {},
   "outputs": [],
   "source": []
  },
  {
   "cell_type": "markdown",
   "metadata": {},
   "source": [
    "# 딕셔너리 (Dictionary) 추가\n",
    "\n",
    "- 가장 큰 특징은 Key 값과 Value 값으로 구분 된다는 것이다\n",
    "- ex. 학번 : 18 , 이름 : 김보현 ...\n",
    "- 문법은 key와 value를 :(콜론)으로 대응시키고 중괄호로 묶는다\n",
    "\n",
    "#### del 딕셔너리[제거할 키]"
   ]
  },
  {
   "cell_type": "code",
   "execution_count": 2,
   "metadata": {},
   "outputs": [],
   "source": [
    "# 딕셔너리에서 키-값을 제거하는 코드\n",
    "clover = {'나이':23, '직업':'학생', '이름': '배유나'}"
   ]
  },
  {
   "cell_type": "code",
   "execution_count": 2,
   "metadata": {},
   "outputs": [
    {
     "name": "stdout",
     "output_type": "stream",
     "text": [
      "{'나이': 23, '직업': '학생', '이름': '배유나'}\n"
     ]
    }
   ],
   "source": [
    "print(clover)"
   ]
  },
  {
   "cell_type": "code",
   "execution_count": 3,
   "metadata": {},
   "outputs": [
    {
     "name": "stdout",
     "output_type": "stream",
     "text": [
      "{'직업': '학생', '이름': '배유나'}\n"
     ]
    }
   ],
   "source": [
    "# 나이를 삭제하세요.\n",
    "del clover['나이']\n",
    "print(clover)"
   ]
  },
  {
   "cell_type": "code",
   "execution_count": 3,
   "metadata": {},
   "outputs": [
    {
     "name": "stdout",
     "output_type": "stream",
     "text": [
      "{'나이': 23, '직업': '학생', '이름': '광열'}\n"
     ]
    }
   ],
   "source": [
    "# 이름을 자신의 이름으로 변경해 주세요.\n",
    "clover['이름']='광열'\n",
    "print(clover)"
   ]
  },
  {
   "cell_type": "markdown",
   "metadata": {},
   "source": [
    "```\n",
    "주문1: '유나'는 '비빔국수'를, '종언'은 '꽈뜨로떡볶이'를 주문했어요.\n",
    "주문2: '재성'이는 '김치밥이피오씁니다'를 주문했어요.\n",
    "주문3: '종언'이가 '꽈뜨로떡볶이'를 '짜장떡볶이'로 변경했어요.\n",
    "주문4:  다이어트 중인 '재성'이는 주문을 취소했어요.\n",
    "주문5: '현빈'이와 '보현'이는 '용볼파르페'를 각자 1개씩 주문했어요,\n",
    "```"
   ]
  },
  {
   "cell_type": "code",
   "execution_count": 16,
   "metadata": {},
   "outputs": [
    {
     "name": "stdout",
     "output_type": "stream",
     "text": [
      "{'유나': '비빔국수', '종언': '꽈트로떡볶이'}\n",
      "{'유나': '비빔국수', '종언': '꽈트로떡볶이', '재성': '김치밥이피오씁니다'}\n",
      "{'유나': '비빔국수', '종언': '짜장떡볶이', '재성': '김치밥이피오씁니다'}\n",
      "{'유나': '비빔국수', '종언': '짜장떡볶이'}\n",
      "{'유나': '비빔국수', '종언': '짜장떡볶이', '현빈': '용볼파르페'}\n",
      "{'유나': '비빔국수', '종언': '짜장떡볶이', '현빈': '용볼파르페', '보현': '용볼파르페'}\n"
     ]
    }
   ],
   "source": [
    "order={'유나':'비빔국수','종언':'꽈트로떡볶이'}\n",
    "print(order)\n",
    "order['재성']='김치밥이피오씁니다'\n",
    "print(order)\n",
    "order['종언']='짜장떡볶이'\n",
    "print(order)\n",
    "del order['재성']\n",
    "print(order)\n",
    "order['현빈']='용볼파르페'\n",
    "print(order)\n",
    "order['보현']='용볼파르페'\n",
    "print(order)"
   ]
  },
  {
   "cell_type": "markdown",
   "metadata": {},
   "source": [
    "# 반복문"
   ]
  },
  {
   "cell_type": "markdown",
   "metadata": {},
   "source": [
    "## (1) for 기본구조\n",
    "- for 변수 in 리스트:  \n",
    "  (들여쓰기)실행할 명령 "
   ]
  },
  {
   "cell_type": "code",
   "execution_count": 6,
   "metadata": {},
   "outputs": [
    {
     "name": "stdout",
     "output_type": "stream",
     "text": [
      "0\n",
      "1\n",
      "2\n"
     ]
    }
   ],
   "source": [
    "for num in [0,1,2]:\n",
    "    print(num)"
   ]
  },
  {
   "cell_type": "markdown",
   "metadata": {},
   "source": [
    "#### 리스트의 문자열을 차례대로 출력하는 코드"
   ]
  },
  {
   "cell_type": "code",
   "execution_count": 8,
   "metadata": {},
   "outputs": [
    {
     "name": "stdout",
     "output_type": "stream",
     "text": [
      "앨리스\n",
      "도도새\n",
      "3월토끼\n"
     ]
    }
   ],
   "source": [
    "characters = ['앨리스','도도새','3월토끼']\n",
    "for character in characters:\n",
    "    print(character)"
   ]
  },
  {
   "cell_type": "code",
   "execution_count": 18,
   "metadata": {},
   "outputs": [
    {
     "name": "stdout",
     "output_type": "stream",
     "text": [
      "앨리스 안녕\n",
      "도도새 안녕\n",
      "3월토끼 안녕\n"
     ]
    }
   ],
   "source": [
    "characters = ['앨리스','도도새','3월토끼']\n",
    "for character in characters:\n",
    "    print(character+' 안녕')"
   ]
  },
  {
   "cell_type": "code",
   "execution_count": 22,
   "metadata": {},
   "outputs": [
    {
     "name": "stdout",
     "output_type": "stream",
     "text": [
      "공작부인 퇴장\n",
      "흰 토끼 퇴장\n",
      "하트잭 퇴장\n",
      "모자장수 퇴장\n"
     ]
    }
   ],
   "source": [
    "# for와 print()를 사용해 players 모두에게 퇴장명령을 내려보세요.(**퇴장!)\n",
    "players=['공작부인','흰 토끼','하트잭','모자장수']\n",
    "for player in players:\n",
    "    print(player+' 퇴장')"
   ]
  },
  {
   "cell_type": "markdown",
   "metadata": {},
   "source": [
    "## (2) 문자열 반복하기\n",
    "- for 변수 in 문자열:  \n",
    "  (들여쓰기)실행할 명령 "
   ]
  },
  {
   "cell_type": "code",
   "execution_count": 12,
   "metadata": {},
   "outputs": [
    {
     "name": "stdout",
     "output_type": "stream",
     "text": [
      "채\n",
      "셔\n",
      "고\n",
      "양\n",
      "이\n"
     ]
    }
   ],
   "source": [
    "for letter in '채셔고양이':\n",
    "    print(letter)"
   ]
  },
  {
   "cell_type": "code",
   "execution_count": 14,
   "metadata": {},
   "outputs": [
    {
     "name": "stdout",
     "output_type": "stream",
     "text": [
      "0\n",
      "1\n",
      "2\n",
      "[0, 1, 2]\n"
     ]
    }
   ],
   "source": [
    "# 리스트의 숫자를 차례대로 출력하는 코드\n",
    "nums = [0,1,2]\n",
    "for num in nums:\n",
    "    print(num)\n",
    "print(nums)"
   ]
  },
  {
   "cell_type": "code",
   "execution_count": 15,
   "metadata": {},
   "outputs": [
    {
     "name": "stdout",
     "output_type": "stream",
     "text": [
      "0\n",
      "[0, 1, 2]\n",
      "1\n",
      "[0, 1, 2]\n",
      "2\n",
      "[0, 1, 2]\n"
     ]
    }
   ],
   "source": [
    "# 리스트의 숫자를 차례대로 출력하는 코드\n",
    "nums = [0,1,2]\n",
    "for num in nums:\n",
    "    print(num)\n",
    "    print(nums)"
   ]
  },
  {
   "cell_type": "markdown",
   "metadata": {},
   "source": [
    "### 위의 두 코드는 왜 다른 결과값을 출력하는가 ?"
   ]
  },
  {
   "cell_type": "markdown",
   "metadata": {},
   "source": [
    "## (2) 순서열\n",
    "\n",
    "- range(끝값+1)  \n",
    "- range(시작값, 끝값+1)\n"
   ]
  },
  {
   "cell_type": "code",
   "execution_count": 16,
   "metadata": {},
   "outputs": [
    {
     "name": "stdout",
     "output_type": "stream",
     "text": [
      "0\n",
      "1\n",
      "2\n"
     ]
    }
   ],
   "source": [
    "# 0부터 2까지 차례대로 출력하는 코드\n",
    "for num in range(3):\n",
    "    print(num)"
   ]
  },
  {
   "cell_type": "code",
   "execution_count": 17,
   "metadata": {},
   "outputs": [
    {
     "name": "stdout",
     "output_type": "stream",
     "text": [
      "2 x 1 = 2\n",
      "2 x 2 = 4\n",
      "2 x 3 = 6\n",
      "2 x 4 = 8\n",
      "2 x 5 = 10\n",
      "2 x 6 = 12\n",
      "2 x 7 = 14\n",
      "2 x 8 = 16\n",
      "2 x 9 = 18\n"
     ]
    }
   ],
   "source": [
    "# 구구단 2단을 출력하는 코드\n",
    "for y in range(1,10):\n",
    "    print(2,'x',y,'=',2*y)"
   ]
  },
  {
   "cell_type": "code",
   "execution_count": 25,
   "metadata": {},
   "outputs": [
    {
     "name": "stdout",
     "output_type": "stream",
     "text": [
      "['빨간장미', '빨간장미', '빨간장미']\n"
     ]
    }
   ],
   "source": [
    "# for와 리스트의 인덱스를 사용해 roses의 '하얀장미'를 모두 '빨간장미'로 바꿔주세요\n",
    "roses=['하얀장미','하얀장미','하얀장미']\n",
    "for i in range(3):\n",
    "    roses[i]='빨간장미'\n",
    "print(roses)"
   ]
  },
  {
   "cell_type": "markdown",
   "metadata": {},
   "source": [
    "# 조건문\n",
    "\n",
    "- 조건의 결과는 항상 참, 거짓으로 표현 >> 논리형!"
   ]
  },
  {
   "cell_type": "markdown",
   "metadata": {},
   "source": [
    "## (1) 비교 연산자\n",
    "\n",
    "- == : 같은가?\n",
    "- != : 다른가?\n",
    "- \\>,< : 크기비교\n",
    "- \\>= , <=\n",
    "\n",
    "#### >> 논리형(bool) 결과값 반환 ! \n",
    "\n",
    "## (2) 논리 연산자\n",
    "\n",
    "- and\n",
    "- or\n",
    "- not\n",
    "\n",
    "--  with 조건문"
   ]
  },
  {
   "cell_type": "code",
   "execution_count": 26,
   "metadata": {},
   "outputs": [
    {
     "name": "stdout",
     "output_type": "stream",
     "text": [
      "True\n",
      "False\n"
     ]
    }
   ],
   "source": [
    "print( 1 < 2)\n",
    "print( 1 > 2)"
   ]
  },
  {
   "cell_type": "code",
   "execution_count": 27,
   "metadata": {},
   "outputs": [
    {
     "name": "stdout",
     "output_type": "stream",
     "text": [
      "False\n",
      "True\n"
     ]
    }
   ],
   "source": [
    "print( 1 == 2)\n",
    "print( 1 != 2)"
   ]
  },
  {
   "cell_type": "markdown",
   "metadata": {},
   "source": [
    "## (3) if 기본구조\n",
    "\n",
    "- if 조건:  \n",
    "  (들여쓰기)실행할 명령"
   ]
  },
  {
   "cell_type": "code",
   "execution_count": 23,
   "metadata": {},
   "outputs": [
    {
     "name": "stdout",
     "output_type": "stream",
     "text": [
      "참입니다.\n"
     ]
    }
   ],
   "source": [
    "if True:\n",
    "    print('참입니다.')"
   ]
  },
  {
   "cell_type": "code",
   "execution_count": 24,
   "metadata": {},
   "outputs": [],
   "source": [
    "if False:\n",
    "    print('참입니다.')"
   ]
  },
  {
   "cell_type": "code",
   "execution_count": 25,
   "metadata": {},
   "outputs": [
    {
     "name": "stdout",
     "output_type": "stream",
     "text": [
      "합격입니다.\n"
     ]
    }
   ],
   "source": [
    "# 점수에 따라 합격여부를 출력하는 코드\n",
    "score = 90\n",
    "if score > 80 :\n",
    "    print('합격입니다.')"
   ]
  },
  {
   "cell_type": "code",
   "execution_count": 29,
   "metadata": {},
   "outputs": [
    {
     "name": "stdout",
     "output_type": "stream",
     "text": [
      "합격입니다.\n"
     ]
    }
   ],
   "source": [
    "#점수가 70점 이상이면'합격입니다\" 출력\n",
    "score=90\n",
    "if score>70:\n",
    "    print('합격입니다.')"
   ]
  },
  {
   "cell_type": "markdown",
   "metadata": {},
   "source": [
    "## (4) else와 elif\n",
    "\n",
    "- if 조건 :  \n",
    "  (들여쓰기)실행할 명령1  \n",
    "  else :  \n",
    "  (들여쓰기)실행할 명령2"
   ]
  },
  {
   "cell_type": "code",
   "execution_count": 26,
   "metadata": {},
   "outputs": [
    {
     "name": "stdout",
     "output_type": "stream",
     "text": [
      "불합격입니다.\n"
     ]
    }
   ],
   "source": [
    "# 점수에 따라 합격여부를 출력하는 코드\n",
    "score = 60\n",
    "if score > 80 :\n",
    "    print('합격입니다.')\n",
    "else:\n",
    "    print('불합격입니다.')"
   ]
  },
  {
   "cell_type": "markdown",
   "metadata": {},
   "source": [
    "- if 조건 :  \n",
    "  (들여쓰기)실행할 명령1  \n",
    "  elif :  \n",
    "  (들여쓰기)실행할 명령2  \n",
    "  else :  \n",
    "  (들여쓰기)실행할 명령3"
   ]
  },
  {
   "cell_type": "code",
   "execution_count": 28,
   "metadata": {},
   "outputs": [
    {
     "name": "stdout",
     "output_type": "stream",
     "text": [
      "학점은 B입니다.\n"
     ]
    }
   ],
   "source": [
    "# 점수에 따라 합격여부를 출력하는 코드\n",
    "score = 75\n",
    "if 80 < score <= 100 :\n",
    "    print('학점은 A입니다.')\n",
    "elif 60 < score <= 80 :\n",
    "    print('학점은 B입니다.')\n",
    "elif 40 < score <= 60 :\n",
    "    print('학점은 C입니다.')\n",
    "else:\n",
    "    print('학점은 F입니다')"
   ]
  },
  {
   "cell_type": "markdown",
   "metadata": {},
   "source": [
    "```\n",
    "입장료는 나이에 따라 다릅니다.     \n",
    "- 20세 이상 : 8000원\n",
    "- 10~19세 : 5000원\n",
    "- 10세 미만 : 2500원\n",
    "\n",
    "for를 사용해 ages에 저장되어 있는 나이를 검사하고 나이에 따라 total_price에 입장료를 더하세요.\n",
    "```"
   ]
  },
  {
   "cell_type": "code",
   "execution_count": 37,
   "metadata": {},
   "outputs": [],
   "source": [
    "total_price = 0\n",
    "ages = [22,21,17,32,4,28,19,8]\n"
   ]
  },
  {
   "cell_type": "code",
   "execution_count": 39,
   "metadata": {},
   "outputs": [
    {
     "name": "stdout",
     "output_type": "stream",
     "text": [
      "총입장료는  47000 원입니다\n"
     ]
    }
   ],
   "source": [
    "for age in ages:\n",
    "    if age>=20:\n",
    "        total_price=total_price+8000\n",
    "    elif 10<=age<=19:\n",
    "        total_price=total_price+5000\n",
    "    else:\n",
    "        total_price=total_price+2500\n",
    "print('총입장료는 ',total_price,'원입니다')"
   ]
  },
  {
   "cell_type": "markdown",
   "metadata": {},
   "source": [
    "\n",
    "## (5) 여러 조건 판단하기\n",
    "\n",
    "- 조건1 and 조건2 : 조건1,2를 모두 만족\n",
    "- 조건1 or 조건2 : 조건1,2 중 하나를 만족"
   ]
  },
  {
   "cell_type": "code",
   "execution_count": 40,
   "metadata": {},
   "outputs": [
    {
     "name": "stdout",
     "output_type": "stream",
     "text": [
      "True\n",
      "True\n",
      "True\n",
      "False\n"
     ]
    }
   ],
   "source": [
    "# or의 결과를 확인하는 코드\n",
    "print(True or True)\n",
    "print(True or False)\n",
    "print(False or True)\n",
    "print(False or False)"
   ]
  },
  {
   "cell_type": "code",
   "execution_count": 29,
   "metadata": {},
   "outputs": [
    {
     "name": "stdout",
     "output_type": "stream",
     "text": [
      "MVP로 선정되었습니다.\n"
     ]
    }
   ],
   "source": [
    "games = 12\n",
    "points = 25\n",
    "if games >= 10 and points >= 20:\n",
    "    print('MVP로 선정되었습니다.')"
   ]
  },
  {
   "cell_type": "code",
   "execution_count": 43,
   "metadata": {},
   "outputs": [
    {
     "name": "stdout",
     "output_type": "stream",
     "text": [
      "vip로 선정되었습니다.\n"
     ]
    }
   ],
   "source": [
    "# game 횟수가 8 이상, points가 15 이상일 경우 VIP로 선저하는 코드를 작성하세요.\n",
    "games = 12\n",
    "points = 25\n",
    "if games>=8 and points>=15:\n",
    "    print('vip로 선정되었습니다.')"
   ]
  },
  {
   "cell_type": "markdown",
   "metadata": {},
   "source": [
    "### 연습문제\n",
    "```\n",
    "for를 사용해 suspects를 검사하세요.\n",
    "and로 인상착의가 동시에 일치하는 범인을 찾으세요.\n",
    "인상착의 : 검정모자를 썼으며, 마스크를 착용하였다.\n",
    "```"
   ]
  },
  {
   "cell_type": "code",
   "execution_count": 46,
   "metadata": {},
   "outputs": [],
   "source": [
    "suspects = [['마동석','비니','샌들'],['유재석','정장','서류가방'],['차은우','검정모자','마스크']]\n"
   ]
  },
  {
   "cell_type": "code",
   "execution_count": 48,
   "metadata": {},
   "outputs": [
    {
     "name": "stdout",
     "output_type": "stream",
     "text": [
      "범인은 차은우 입니다.\n"
     ]
    }
   ],
   "source": [
    "for i in suspects:\n",
    "    if i[1]=='검정모자' and i[2]=='마스크':\n",
    "        print('범인은',i[0],'입니다.')"
   ]
  },
  {
   "cell_type": "code",
   "execution_count": 49,
   "metadata": {},
   "outputs": [
    {
     "name": "stdout",
     "output_type": "stream",
     "text": [
      "범인은 차은우 입니다.\n"
     ]
    }
   ],
   "source": [
    "for i in suspects:\n",
    "    if '검정모자' in i and '마스크' in i:\n",
    "        print('범인은',i[0],'입니다.')"
   ]
  },
  {
   "cell_type": "markdown",
   "metadata": {},
   "source": [
    "# 반복문"
   ]
  },
  {
   "cell_type": "markdown",
   "metadata": {},
   "source": [
    "## (1) 조건으로 반복하기 (while문)\n",
    "\n",
    "- while 조건:  \n",
    "  (들여쓰기)실행할 명령"
   ]
  },
  {
   "cell_type": "code",
   "execution_count": 33,
   "metadata": {},
   "outputs": [
    {
     "name": "stdout",
     "output_type": "stream",
     "text": [
      "안녕 거북이 0\n",
      "안녕 거북이 1\n",
      "안녕 거북이 2\n"
     ]
    }
   ],
   "source": [
    "# for를 사용해 거북이에게 인사하는 코드\n",
    "for num in range(3):\n",
    "    print('안녕 거북이',num)"
   ]
  },
  {
   "cell_type": "code",
   "execution_count": 34,
   "metadata": {},
   "outputs": [
    {
     "name": "stdout",
     "output_type": "stream",
     "text": [
      "안녕 거북이 0\n",
      "안녕 거북이 1\n",
      "안녕 거북이 2\n"
     ]
    }
   ],
   "source": [
    "# while를 사용해 거북이에게 인사하는 코드\n",
    "num = 0\n",
    "while num < 3:\n",
    "    print('안녕 거북이', num)\n",
    "    num = num + 1"
   ]
  },
  {
   "cell_type": "markdown",
   "metadata": {},
   "source": [
    "### 연습문제\n",
    "```\n",
    "while 코드블록을 다섯번만 반복하게 하세요.\n",
    "반복할 때마다 몇 번째 바퀴인지 출력하세요.\n",
    "전부 다 돌면 ' 경주 끝!'을 외치세요.\n",
    "```"
   ]
  },
  {
   "cell_type": "code",
   "execution_count": 57,
   "metadata": {},
   "outputs": [
    {
     "name": "stdout",
     "output_type": "stream",
     "text": [
      "1  번째 바퀴입니다.\n",
      "2  번째 바퀴입니다.\n",
      "3  번째 바퀴입니다.\n",
      "4  번째 바퀴입니다.\n",
      "5  번째 바퀴입니다.\n",
      "경주 끝!\n"
     ]
    }
   ],
   "source": [
    "n=0\n",
    "while n<5:\n",
    "    n=n+1\n",
    "    print(n,' 번째 바퀴입니다.')\n",
    "print('경주 끝!')"
   ]
  },
  {
   "cell_type": "markdown",
   "metadata": {},
   "source": [
    "## (2) 입력받기 (input)"
   ]
  },
  {
   "cell_type": "code",
   "execution_count": 58,
   "metadata": {},
   "outputs": [
    {
     "name": "stdout",
     "output_type": "stream",
     "text": [
      "이름이 뭐에요? 유광열\n",
      "유광열 안녕!\n"
     ]
    }
   ],
   "source": [
    "# 이름을 입력받는 코드\n",
    "name = input('이름이 뭐에요? ')\n",
    "print(name, '안녕!')"
   ]
  },
  {
   "cell_type": "markdown",
   "metadata": {},
   "source": [
    "```\n",
    "영국의 수도를 묻고 입력을 받아 answer에 저장하세요.\n",
    "정답인 '런던'을 맞힐 때까지 반복해서 질문하세요\n",
    "정답을 맞히면 반복을 멈추세요\n",
    "```"
   ]
  },
  {
   "cell_type": "code",
   "execution_count": 59,
   "metadata": {},
   "outputs": [
    {
     "name": "stdout",
     "output_type": "stream",
     "text": [
      "영국의 수도는 어디일까요?서울\n",
      "영국의 수도는 어디일까요?파리\n",
      "영국의 수도는 어디일까요?런던\n",
      "정답입니다.\n"
     ]
    }
   ],
   "source": [
    "answer = ' '\n",
    "while answer != '런던':\n",
    "    answer = input('영국의 수도는 어디일까요?')\n",
    "print('정답입니다.')"
   ]
  },
  {
   "cell_type": "markdown",
   "metadata": {},
   "source": [
    "## (3) 넘어가기(continue)와 멈추기(break)"
   ]
  },
  {
   "cell_type": "code",
   "execution_count": 38,
   "metadata": {},
   "outputs": [
    {
     "name": "stdout",
     "output_type": "stream",
     "text": [
      "1\n",
      "3\n"
     ]
    }
   ],
   "source": [
    "count = 0 \n",
    "while count < 3:\n",
    "    count = count + 1\n",
    "    if count == 2 :\n",
    "        continue\n",
    "    print(count)"
   ]
  },
  {
   "cell_type": "code",
   "execution_count": 60,
   "metadata": {},
   "outputs": [
    {
     "name": "stdout",
     "output_type": "stream",
     "text": [
      "1\n"
     ]
    }
   ],
   "source": [
    "count = 0 \n",
    "while count < 3:\n",
    "    count = count + 1\n",
    "    if count == 2 :\n",
    "        break\n",
    "    print(count)"
   ]
  },
  {
   "cell_type": "markdown",
   "metadata": {},
   "source": [
    "## (4) 무한 반복하기  \n",
    "- while True :  \n",
    "  (들여쓰기) 실행할 명령"
   ]
  },
  {
   "cell_type": "code",
   "execution_count": 42,
   "metadata": {},
   "outputs": [
    {
     "name": "stderr",
     "output_type": "stream",
     "text": [
      "ERROR:root:Internal Python error in the inspect module.\n",
      "Below is the traceback from this internal error.\n",
      "\n"
     ]
    },
    {
     "name": "stdout",
     "output_type": "stream",
     "text": [
      "다온 여름방학 스터디 사랑해요~!.\n",
      "다온 여름방학 스터디 사랑해요~!.\n",
      "다온 여름방학 스터디 사랑해요~!.\n",
      "다온 여름방학 스터디 사랑해요~!.\n",
      "다온 여름방학 스터디 사랑해요~!.\n",
      "다온 여름방학 스터디 사랑해요~!.\n",
      "다온 여름방학 스터디 사랑해요~!.\n",
      "다온 여름방학 스터디 사랑해요~!.\n",
      "다온 여름방학 스터디 사랑해요~!.\n",
      "다온 여름방학 스터디 사랑해요~!.\n",
      "다온 여름방학 스터디 사랑해요~!.\n",
      "다온 여름방학 스터디 사랑해요~!.\n",
      "다온 여름방학 스터디 사랑해요~!.\n",
      "다온 여름방학 스터디 사랑해요~!.\n",
      "다온 여름방학 스터디 사랑해요~!.\n",
      "다온 여름방학 스터디 사랑해요~!.\n",
      "다온 여름방학 스터디 사랑해요~!.\n",
      "다온 여름방학 스터디 사랑해요~!.\n",
      "다온 여름방학 스터디 사랑해요~!.\n",
      "다온 여름방학 스터디 사랑해요~!.\n",
      "다온 여름방학 스터디 사랑해요~!.\n",
      "다온 여름방학 스터디 사랑해요~!.\n",
      "다온 여름방학 스터디 사랑해요~!.\n",
      "다온 여름방학 스터디 사랑해요~!.\n",
      "다온 여름방학 스터디 사랑해요~!.\n",
      "다온 여름방학 스터디 사랑해요~!.\n",
      "다온 여름방학 스터디 사랑해요~!.\n",
      "다온 여름방학 스터디 사랑해요~!.\n",
      "다온 여름방학 스터디 사랑해요~!.\n",
      "다온 여름방학 스터디 사랑해요~!.\n",
      "다온 여름방학 스터디 사랑해요~!.\n",
      "다온 여름방학 스터디 사랑해요~!.\n",
      "다온 여름방학 스터디 사랑해요~!.\n",
      "다온 여름방학 스터디 사랑해요~!.\n",
      "다온 여름방학 스터디 사랑해요~!.\n",
      "다온 여름방학 스터디 사랑해요~!.\n",
      "다온 여름방학 스터디 사랑해요~!.\n",
      "다온 여름방학 스터디 사랑해요~!.\n",
      "다온 여름방학 스터디 사랑해요~!.\n",
      "다온 여름방학 스터디 사랑해요~!.\n",
      "다온 여름방학 스터디 사랑해요~!.\n",
      "다온 여름방학 스터디 사랑해요~!.\n",
      "다온 여름방학 스터디 사랑해요~!.\n",
      "다온 여름방학 스터디 사랑해요~!.\n",
      "다온 여름방학 스터디 사랑해요~!.\n",
      "다온 여름방학 스터디 사랑해요~!.\n",
      "다온 여름방학 스터디 사랑해요~!.\n",
      "다온 여름방학 스터디 사랑해요~!.\n",
      "다온 여름방학 스터디 사랑해요~!.\n",
      "다온 여름방학 스터디 사랑해요~!.\n",
      "다온 여름방학 스터디 사랑해요~!.\n",
      "다온 여름방학 스터디 사랑해요~!.\n",
      "다온 여름방학 스터디 사랑해요~!.\n",
      "다온 여름방학 스터디 사랑해요~!.\n",
      "다온 여름방학 스터디 사랑해요~!.\n",
      "다온 여름방학 스터디 사랑해요~!.\n",
      "다온 여름방학 스터디 사랑해요~!.\n",
      "다온 여름방학 스터디 사랑해요~!.\n",
      "다온 여름방학 스터디 사랑해요~!.\n",
      "다온 여름방학 스터디 사랑해요~!.\n",
      "다온 여름방학 스터디 사랑해요~!.\n",
      "다온 여름방학 스터디 사랑해요~!.\n",
      "다온 여름방학 스터디 사랑해요~!.\n",
      "다온 여름방학 스터디 사랑해요~!.\n",
      "다온 여름방학 스터디 사랑해요~!.\n",
      "다온 여름방학 스터디 사랑해요~!.\n",
      "다온 여름방학 스터디 사랑해요~!.\n",
      "다온 여름방학 스터디 사랑해요~!.\n",
      "다온 여름방학 스터디 사랑해요~!.\n",
      "다온 여름방학 스터디 사랑해요~!.\n",
      "다온 여름방학 스터디 사랑해요~!.\n",
      "다온 여름방학 스터디 사랑해요~!.\n",
      "다온 여름방학 스터디 사랑해요~!.\n",
      "다온 여름방학 스터디 사랑해요~!.\n",
      "다온 여름방학 스터디 사랑해요~!.\n",
      "다온 여름방학 스터디 사랑해요~!.\n",
      "다온 여름방학 스터디 사랑해요~!.\n",
      "다온 여름방학 스터디 사랑해요~!.\n",
      "다온 여름방학 스터디 사랑해요~!.\n",
      "다온 여름방학 스터디 사랑해요~!.\n",
      "다온 여름방학 스터디 사랑해요~!.\n",
      "다온 여름방학 스터디 사랑해요~!.\n",
      "다온 여름방학 스터디 사랑해요~!.\n",
      "다온 여름방학 스터디 사랑해요~!.\n",
      "다온 여름방학 스터디 사랑해요~!.\n",
      "다온 여름방학 스터디 사랑해요~!.\n",
      "다온 여름방학 스터디 사랑해요~!.\n",
      "다온 여름방학 스터디 사랑해요~!.\n",
      "다온 여름방학 스터디 사랑해요~!.\n",
      "다온 여름방학 스터디 사랑해요~!.\n",
      "다온 여름방학 스터디 사랑해요~!.\n",
      "다온 여름방학 스터디 사랑해요~!.\n",
      "다온 여름방학 스터디 사랑해요~!.\n",
      "다온 여름방학 스터디 사랑해요~!.\n",
      "다온 여름방학 스터디 사랑해요~!.\n",
      "다온 여름방학 스터디 사랑해요~!.\n",
      "다온 여름방학 스터디 사랑해요~!.\n",
      "다온 여름방학 스터디 사랑해요~!.\n",
      "다온 여름방학 스터디 사랑해요~!.\n",
      "다온 여름방학 스터디 사랑해요~!.\n",
      "다온 여름방학 스터디 사랑해요~!.\n",
      "다온 여름방학 스터디 사랑해요~!.\n",
      "다온 여름방학 스터디 사랑해요~!.\n",
      "다온 여름방학 스터디 사랑해요~!.\n",
      "다온 여름방학 스터디 사랑해요~!.\n",
      "다온 여름방학 스터디 사랑해요~!.\n",
      "다온 여름방학 스터디 사랑해요~!.\n",
      "다온 여름방학 스터디 사랑해요~!.\n",
      "다온 여름방학 스터디 사랑해요~!.\n",
      "다온 여름방학 스터디 사랑해요~!.\n",
      "다온 여름방학 스터디 사랑해요~!.\n",
      "다온 여름방학 스터디 사랑해요~!.\n",
      "다온 여름방학 스터디 사랑해요~!.\n",
      "다온 여름방학 스터디 사랑해요~!.\n",
      "다온 여름방학 스터디 사랑해요~!.\n",
      "다온 여름방학 스터디 사랑해요~!.\n",
      "다온 여름방학 스터디 사랑해요~!.\n",
      "다온 여름방학 스터디 사랑해요~!.\n",
      "다온 여름방학 스터디 사랑해요~!.\n",
      "다온 여름방학 스터디 사랑해요~!.\n",
      "다온 여름방학 스터디 사랑해요~!.\n",
      "다온 여름방학 스터디 사랑해요~!.\n",
      "다온 여름방학 스터디 사랑해요~!.\n",
      "다온 여름방학 스터디 사랑해요~!.\n",
      "다온 여름방학 스터디 사랑해요~!.\n",
      "다온 여름방학 스터디 사랑해요~!.\n",
      "다온 여름방학 스터디 사랑해요~!.\n",
      "다온 여름방학 스터디 사랑해요~!.Traceback (most recent call last):\n",
      "  File \"C:\\Users\\Bae yuna\\Anaconda3\\lib\\site-packages\\IPython\\core\\interactiveshell.py\", line 3267, in run_code\n",
      "    exec(code_obj, self.user_global_ns, self.user_ns)\n",
      "  File \"<ipython-input-42-1d91498c8a8e>\", line 3, in <module>\n",
      "    print('다온 여름방학 스터디 사랑해요~!.')\n",
      "  File \"C:\\Users\\Bae yuna\\Anaconda3\\lib\\site-packages\\ipykernel\\iostream.py\", line 400, in write\n",
      "    self.pub_thread.schedule(lambda : self._buffer.write(string))\n",
      "  File \"C:\\Users\\Bae yuna\\Anaconda3\\lib\\site-packages\\ipykernel\\iostream.py\", line 203, in schedule\n",
      "    self._event_pipe.send(b'')\n",
      "  File \"C:\\Users\\Bae yuna\\Anaconda3\\lib\\site-packages\\zmq\\sugar\\socket.py\", line 392, in send\n",
      "    return super(Socket, self).send(data, flags=flags, copy=copy, track=track)\n",
      "  File \"zmq/backend/cython/socket.pyx\", line 725, in zmq.backend.cython.socket.Socket.send\n",
      "  File \"zmq/backend/cython/socket.pyx\", line 772, in zmq.backend.cython.socket.Socket.send\n",
      "  File \"zmq/backend/cython/socket.pyx\", line 242, in zmq.backend.cython.socket._send_copy\n",
      "  File \"zmq/backend/cython/checkrc.pxd\", line 12, in zmq.backend.cython.checkrc._check_rc\n",
      "KeyboardInterrupt\n",
      "\n",
      "During handling of the above exception, another exception occurred:\n",
      "\n",
      "Traceback (most recent call last):\n",
      "  File \"C:\\Users\\Bae yuna\\Anaconda3\\lib\\site-packages\\IPython\\core\\interactiveshell.py\", line 2018, in showtraceback\n",
      "    stb = value._render_traceback_()\n",
      "AttributeError: 'KeyboardInterrupt' object has no attribute '_render_traceback_'\n",
      "\n",
      "During handling of the above exception, another exception occurred:\n",
      "\n",
      "Traceback (most recent call last):\n",
      "  File \"C:\\Users\\Bae yuna\\Anaconda3\\lib\\site-packages\\IPython\\core\\ultratb.py\", line 1095, in get_records\n",
      "    return _fixed_getinnerframes(etb, number_of_lines_of_context, tb_offset)\n",
      "  File \"C:\\Users\\Bae yuna\\Anaconda3\\lib\\site-packages\\IPython\\core\\ultratb.py\", line 313, in wrapped\n",
      "    return f(*args, **kwargs)\n",
      "  File \"C:\\Users\\Bae yuna\\Anaconda3\\lib\\site-packages\\IPython\\core\\ultratb.py\", line 347, in _fixed_getinnerframes\n",
      "    records = fix_frame_records_filenames(inspect.getinnerframes(etb, context))\n",
      "  File \"C:\\Users\\Bae yuna\\Anaconda3\\lib\\inspect.py\", line 1490, in getinnerframes\n",
      "    frameinfo = (tb.tb_frame,) + getframeinfo(tb, context)\n",
      "  File \"C:\\Users\\Bae yuna\\Anaconda3\\lib\\inspect.py\", line 1448, in getframeinfo\n",
      "    filename = getsourcefile(frame) or getfile(frame)\n",
      "  File \"C:\\Users\\Bae yuna\\Anaconda3\\lib\\inspect.py\", line 693, in getsourcefile\n",
      "    if os.path.exists(filename):\n",
      "  File \"C:\\Users\\Bae yuna\\Anaconda3\\lib\\genericpath.py\", line 19, in exists\n",
      "    os.stat(path)\n",
      "KeyboardInterrupt\n"
     ]
    },
    {
     "ename": "KeyboardInterrupt",
     "evalue": "",
     "output_type": "error",
     "traceback": [
      "\u001b[1;31m---------------------------------------------------------------------------\u001b[0m"
     ]
    }
   ],
   "source": [
    "# 끝없이 반복해서 출력하는 코드\n",
    "while True: \n",
    "    print('다온 여름방학 스터디 사랑해요~!.')"
   ]
  },
  {
   "cell_type": "markdown",
   "metadata": {},
   "source": [
    "### 연습문제\n",
    "```\n",
    "보기와 함께 영국의 수도를 묻고 answer에 저장하세요.\n",
    ">>> ('런던, 파리, 서울 중 영국의 수도는 어디일까요? ')\n",
    "틀린 답을 말하면 어느나라의 수도인지 말해주세요.\n",
    "보기에 없는 답을 말하면 보기에서 고르도록 안내하세요.\n",
    "정답인 '런던'을 맞힐 때까지 반복해서 질문하세요.\n",
    "정답을 맞히면 break를 사용해 반복을 멈추세요.\n",
    "```"
   ]
  },
  {
   "cell_type": "code",
   "execution_count": 79,
   "metadata": {},
   "outputs": [
    {
     "name": "stdout",
     "output_type": "stream",
     "text": [
      "런던, 파리, 서울 중 영국의 수도는 어디일까요? 런던\n",
      "정답입니다! 런던은 영국의 수도입니다.\n"
     ]
    }
   ],
   "source": [
    "answer = ' '\n",
    "while answer != '런던':\n",
    "    answer = input('런던, 파리, 서울 중 영국의 수도는 어디일까요? ')\n",
    "    if answer=='파리':\n",
    "        print('파리는 프랑스의 수도입니다.')\n",
    "    elif answer=='서울':\n",
    "        print('서울은 대한민국의 수도입니다.')\n",
    "    elif answer=='런던':\n",
    "        print('정답입니다! 런던은 영국의 수도입니다.')\n",
    "    else:\n",
    "        print('보기에서 정답을 고르시오.')"
   ]
  },
  {
   "cell_type": "code",
   "execution_count": null,
   "metadata": {},
   "outputs": [],
   "source": [
    "while True:\n",
    "    answer = input('런던, 파리, 서울 중 영국의 수도는 어디일까요? ')\n",
    "    if answer == '런던':\n",
    "        print('정답입니다. 런던은 영국의 수도입니다.')\n",
    "        break\n",
    "    elif answer=='파리':\n",
    "        print('파리는 프랑스의 수도입니다.')\n",
    "    elif answer=='서울':\n",
    "        print('서울은 대한민국의 수도입니다.')\n",
    "    else:\n",
    "        print('보기에서 골라주세요.')"
   ]
  },
  {
   "cell_type": "markdown",
   "metadata": {},
   "source": [
    "# 함수\n",
    "- 내장 함수\n",
    "- 모듈의 함수\n",
    "- 사용자 정의 함수    \n",
    "  \n",
    "  \n",
    "  \n",
    "- def 함수 이름(인수):  \n",
    "  (들여쓰기)실행할 명령  \n",
    "  (들여쓰기)return 반환값"
   ]
  },
  {
   "cell_type": "code",
   "execution_count": 61,
   "metadata": {},
   "outputs": [
    {
     "name": "stdout",
     "output_type": "stream",
     "text": [
      "5\n"
     ]
    }
   ],
   "source": [
    "# 함수를 사용해 두 개의 숫자를 더하는 코드\n",
    "def add(num1, num2):\n",
    "    return num1 + num2\n",
    "\n",
    "print(add(2,3))"
   ]
  },
  {
   "cell_type": "code",
   "execution_count": 63,
   "metadata": {},
   "outputs": [
    {
     "name": "stdout",
     "output_type": "stream",
     "text": [
      "(5, 6)\n"
     ]
    }
   ],
   "source": [
    "# 함수를 사용해 두 개의 숫자를 더하고 곱하는 코드 (더한값, 곱한값 두개 출력)\n",
    "def add_mul(num1, num2):\n",
    "    return num1 + num2,num1 * num2\n",
    "\n",
    "\n",
    "print(add_mul(2,3))"
   ]
  },
  {
   "cell_type": "markdown",
   "metadata": {},
   "source": [
    "``` \n",
    "모든 카드 병상에게 유죄판결을 내리는 코드\n",
    "(카드병사 : 하트1,2,3, 클로버1,2,3, 스페이드1,2,3)\n",
    "```"
   ]
  },
  {
   "cell_type": "code",
   "execution_count": 49,
   "metadata": {},
   "outputs": [
    {
     "name": "stdout",
     "output_type": "stream",
     "text": [
      "하트 1 유죄!\n",
      "하트 2 유죄!\n",
      "하트 3 유죄!\n",
      "클로버 1 유죄!\n",
      "클로버 2 유죄!\n",
      "클로버 3 유죄!\n",
      "스페이드 1 유죄!\n",
      "스페이드 2 유죄!\n",
      "스페이드 3 유죄!\n"
     ]
    }
   ],
   "source": [
    "print('하트 1 유죄!')\n",
    "print('하트 2 유죄!')\n",
    "print('하트 3 유죄!')\n",
    "print('클로버 1 유죄!')\n",
    "print('클로버 2 유죄!')\n",
    "print('클로버 3 유죄!')\n",
    "print('스페이드 1 유죄!')\n",
    "print('스페이드 2 유죄!')\n",
    "print('스페이드 3 유죄!')"
   ]
  },
  {
   "cell_type": "code",
   "execution_count": 67,
   "metadata": {},
   "outputs": [
    {
     "name": "stdout",
     "output_type": "stream",
     "text": [
      "하트 1 유죄!\n",
      "하트 2 유죄!\n",
      "하트 3 유죄!\n",
      "클로버 1 유죄!\n",
      "클로버 2 유죄!\n",
      "클로버 3 유죄!\n",
      "스페이드 1 유죄!\n",
      "스페이드 2 유죄!\n",
      "스페이드 3 유죄!\n"
     ]
    }
   ],
   "source": [
    "# 입력받은 카드 병사에게 유죄 판결을 배니를 judge_cards 함수를 만드세요.\n",
    "def judge_cards(name):\n",
    "    print(name, '1 유죄!')\n",
    "    print(name, '2 유죄!')    \n",
    "    print(name, '3 유죄!')\n",
    "    \n",
    "judge_cards('하트')\n",
    "judge_cards('클로버')\n",
    "judge_cards('스페이드')"
   ]
  },
  {
   "cell_type": "code",
   "execution_count": 77,
   "metadata": {},
   "outputs": [
    {
     "name": "stdout",
     "output_type": "stream",
     "text": [
      "하트 1 유죄!\n",
      "하트 2 유죄!\n",
      "하트 3 유죄!\n",
      "클로버 1 유죄!\n",
      "클로버 2 유죄!\n",
      "클로버 3 유죄!\n",
      "스페이드 1 유죄!\n",
      "스페이드 2 유죄!\n",
      "스페이드 3 유죄!\n"
     ]
    }
   ],
   "source": [
    "# 입력받은 카드 병사에게 유죄 판결을 배니를 judge_cards 함수를 만드세요.\n",
    "def judge_cards(i):\n",
    "    for a in range(1,4):\n",
    "        print(i,a,'유죄!')\n",
    "\n",
    "judge_cards('하트')\n",
    "judge_cards('클로버')\n",
    "judge_cards('스페이드')"
   ]
  },
  {
   "cell_type": "markdown",
   "metadata": {},
   "source": [
    "# 수고하셨어요~~ 다음 수업시간에 봐요~~ "
   ]
  }
 ],
 "metadata": {
  "kernelspec": {
   "display_name": "Python 3",
   "language": "python",
   "name": "python3"
  },
  "language_info": {
   "codemirror_mode": {
    "name": "ipython",
    "version": 3
   },
   "file_extension": ".py",
   "mimetype": "text/x-python",
   "name": "python",
   "nbconvert_exporter": "python",
   "pygments_lexer": "ipython3",
   "version": "3.7.7"
  }
 },
 "nbformat": 4,
 "nbformat_minor": 2
}
