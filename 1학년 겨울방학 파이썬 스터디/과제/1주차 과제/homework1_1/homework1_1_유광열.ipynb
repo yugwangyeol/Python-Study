{
 "cells": [
  {
   "cell_type": "markdown",
   "metadata": {},
   "source": [
    "# 기초"
   ]
  },
  {
   "cell_type": "markdown",
   "metadata": {},
   "source": [
    "Q1. 자신의 이름을 name이라는 변수에, 성별을 gender라는 변수에, 나이를 age라는 변수에 넣으시오."
   ]
  },
  {
   "cell_type": "code",
   "execution_count": 1,
   "metadata": {},
   "outputs": [],
   "source": [
    "# code here\n",
    "\n",
    "name='유광열'\n",
    "gender='남'\n",
    "age='21'"
   ]
  },
  {
   "cell_type": "markdown",
   "metadata": {},
   "source": [
    "Q2. 다음 수식을 파이썬 코드로 작성하시오.\n",
    "$$y = \\sqrt[2]{1+2x-3x^2+4x^3-5x^4}$$"
   ]
  },
  {
   "cell_type": "code",
   "execution_count": 6,
   "metadata": {},
   "outputs": [],
   "source": [
    "# code here\n",
    "\n",
    "x=3\n",
    "y=(1+2*x-3*x**2+4*x**3-5*x**4)**0.5"
   ]
  },
  {
   "cell_type": "markdown",
   "metadata": {},
   "source": [
    "Q3. 다음의 내용을 저장하는 변수 word를 만드시오.\n",
    "\n",
    "`Jobs said, 'Stay hungry, stay foolish'`"
   ]
  },
  {
   "cell_type": "code",
   "execution_count": 3,
   "metadata": {},
   "outputs": [],
   "source": [
    "# code here\n",
    "\n",
    "word = \"jobs said, 'stay hungry, stay foolish'\""
   ]
  },
  {
   "cell_type": "markdown",
   "metadata": {},
   "source": [
    "Q4. 다음과 같이 조건이 주어질 때, 조건문을 활용해 프로그램을 완성하시오.\n",
    "```python\n",
    "age = 나이\n",
    "gender = 성별\n",
    "\n",
    "만약 80세 이상이라면:\n",
    "    만약 남성이라면:\n",
    "        할아버지이다.\n",
    "    만약 여성이라면:\n",
    "        할머니이다.\n",
    "```"
   ]
  },
  {
   "cell_type": "code",
   "execution_count": null,
   "metadata": {},
   "outputs": [],
   "source": [
    "# code here\n",
    "\n",
    "if age>80:\n",
    "    if gender = m:\n",
    "        print('할아버지')\n",
    "    else:\n",
    "        print('할머니')\n",
    "    else:\n",
    "        pass"
   ]
  },
  {
   "cell_type": "markdown",
   "metadata": {},
   "source": [
    "Q5. 반복문을 활용해 아래 그림과 같은 모양이 나오는 프로그램을 작성하시오."
   ]
  },
  {
   "cell_type": "code",
   "execution_count": 3,
   "metadata": {},
   "outputs": [
    {
     "name": "stdout",
     "output_type": "stream",
     "text": [
      "\n",
      "*\n",
      "**\n",
      "***\n",
      "****\n",
      "*****\n"
     ]
    }
   ],
   "source": []
  },
  {
   "cell_type": "code",
   "execution_count": 9,
   "metadata": {},
   "outputs": [
    {
     "name": "stdout",
     "output_type": "stream",
     "text": [
      "\n",
      "*\n",
      "**\n",
      "***\n",
      "****\n",
      "*****\n"
     ]
    }
   ],
   "source": [
    "# code here\n",
    "\n",
    "for i in range(6):\n",
    "    print('*'*i)"
   ]
  },
  {
   "cell_type": "markdown",
   "metadata": {},
   "source": [
    "Q6. 아래와 같이 데이터가 저장되는 2차원 리스트를 만드시오.<p>\n",
    "<img align=\"left\" src=\"http://www.cs.ubc.ca/~pcarter/cs189/image/2darrayrc.png\" alt=\"2D List in Python\">"
   ]
  },
  {
   "cell_type": "code",
   "execution_count": 12,
   "metadata": {},
   "outputs": [
    {
     "data": {
      "text/plain": [
       "[[4, 5, 6], [1, 2, 3]]"
      ]
     },
     "execution_count": 12,
     "metadata": {},
     "output_type": "execute_result"
    }
   ],
   "source": [
    "# code here\n",
    "\n",
    "m=[[4,5,6],\n",
    "   [1,2,3]]\n",
    "m"
   ]
  },
  {
   "cell_type": "markdown",
   "metadata": {},
   "source": [
    "Q9. 2차원 리스트가 다음과 같이 주어져 있다.\n",
    "```python\n",
    "matrix = [[1,2,3],\n",
    "          [4,5,6],\n",
    "          [7,8,9]]\n",
    "```\n",
    "이 중, 값 5만 뽑아내려면 어떻게 해야 하는가?"
   ]
  },
  {
   "cell_type": "code",
   "execution_count": 13,
   "metadata": {},
   "outputs": [
    {
     "data": {
      "text/plain": [
       "5"
      ]
     },
     "execution_count": 13,
     "metadata": {},
     "output_type": "execute_result"
    }
   ],
   "source": [
    "# code here\n",
    "matrix = [[1,2,3],\n",
    "          [4,5,6],\n",
    "          [7,8,9]]\n",
    "\n",
    "matrix[1][1]"
   ]
  },
  {
   "cell_type": "markdown",
   "metadata": {},
   "source": [
    "Q13. 정규분포식은 다음과 같다.<p>\n",
    "<img align=\"left\" src=\"https://mblogthumb-phinf.pstatic.net/MjAxOTA3MDNfMTY2/MDAxNTYyMTQ3OTMzNjU0.iDAXywStaHY6SOTFaLvBPjYB7GzeMdxDGPZUGLH97d4g.NfmCvpsH86vuFvwcq1omk8HMEiK_toITIVrNNWBmpu8g.PNG.parksehoon1971/image.png?type=w800\">"
   ]
  },
  {
   "cell_type": "markdown",
   "metadata": {},
   "source": [
    "- 여기서 `π`는 원주율이고, `e`는 자연상수이다.\n",
    "- 위에서 구한 평균과 분산 함수를 이용해, 정규분포식을 완성하시오."
   ]
  },
  {
   "cell_type": "code",
   "execution_count": 16,
   "metadata": {},
   "outputs": [],
   "source": [
    "# code here\n",
    "import numpy as np\n",
    "\n",
    "# 원주율\n",
    "PIE = np.pi\n",
    "\n",
    "# X값 설정\n",
    "x = np.linspace(-5, 5, 101) # 설령 모르는 함수가 나와도, 당황하지 않는게 중요합니다.\n",
    "\n",
    "# 평균, 표준편차\n",
    "# 평균\n",
    "mean = np.mean(x)\n",
    "# 표준편차\n",
    "std =  np.std(x)\n",
    "\n",
    "# np.exp() : 자연상수의 지수함수\n",
    "def norm_dist(x):\n",
    "    y = (1 / ( ((2*PIE)**1/2)*std )) * np.exp (-(x-mean)**2 / (2*std**2)) # 정규분포식을 직접 작성해보세요.\n",
    "    return y\n",
    "\n",
    "y = norm_dist(x)"
   ]
  },
  {
   "cell_type": "code",
   "execution_count": 17,
   "metadata": {},
   "outputs": [
    {
     "data": {
      "image/png": "[encoded data removed]",
      "text/plain": [
       "<Figure size 720x432 with 1 Axes>"
      ]
     },
     "metadata": {
      "needs_background": "light"
     },
     "output_type": "display_data"
    }
   ],
   "source": [
    "# 위 문제를 풀었다면, 아래 코드를 실행해 정규분포의 모습이 나오는지 확인하시오.\n",
    "\n",
    "# 시각화 모듈\n",
    "import matplotlib.pyplot as plt\n",
    "%matplotlib inline\n",
    "\n",
    "plt.figure(figsize=(10, 6))          # 차트 사이즈 지정\n",
    "plt.plot(x, y)                       # 데이터 입력\n",
    "plt.xlabel(\"x\")                      # x축 이름 지정\n",
    "plt.ylabel(\"y\")                      # y축 이름 지정\n",
    "plt.grid()                           # 플롯에 격자 보이기\n",
    "plt.title(\"Normal Distribution\")     # 타이틀 표시\n",
    "plt.show()       "
   ]
  },
  {
   "cell_type": "markdown",
   "metadata": {},
   "source": [
    "# 수고하셨습니다..."
   ]
  },
  {
   "cell_type": "markdown",
   "metadata": {},
   "source": [
    "# 심화"
   ]
  },
  {
   "cell_type": "markdown",
   "metadata": {},
   "source": [
    "Q1. 주민등록번호는 '123456-ABCDEFG' 인 문자열이다. 이 때 A는 성별을 알려준다. \n",
    "\n",
    "주민등록번호를 입력받고, 성별을 알려주는 프로그램을 작성하시오."
   ]
  },
  {
   "cell_type": "code",
   "execution_count": 33,
   "metadata": {},
   "outputs": [
    {
     "name": "stdout",
     "output_type": "stream",
     "text": [
      "주민등록번호를 입력하세요.0006273111111\n",
      "남자입니다\n"
     ]
    }
   ],
   "source": [
    "# code here\n",
    "\n",
    "iid = list(input('주민등록번호를 입력하세요.'))\n",
    "if int(iid[6])//2==0:\n",
    "    print('여자입니다.')\n",
    "else:\n",
    "    print('남자입니다')"
   ]
  },
  {
   "cell_type": "markdown",
   "metadata": {},
   "source": [
    "Q2. 임의의 네 자리 정수를 입력받아 각 자리수값의 총합을 계산하는 코드를 작성하시오. (예: 6753 -> 21 출력)"
   ]
  },
  {
   "cell_type": "code",
   "execution_count": 36,
   "metadata": {},
   "outputs": [
    {
     "name": "stdout",
     "output_type": "stream",
     "text": [
      "네 자리 정수를 입력하세요:6753\n"
     ]
    },
    {
     "data": {
      "text/plain": [
       "21"
      ]
     },
     "execution_count": 36,
     "metadata": {},
     "output_type": "execute_result"
    }
   ],
   "source": [
    "# code here\n",
    "\n",
    "f=input('네 자리 정수를 입력하세요:')\n",
    "result=0\n",
    "for i in str(f):\n",
    "    result=result+int(i)\n",
    "result"
   ]
  },
  {
   "cell_type": "markdown",
   "metadata": {},
   "source": [
    "Q3. 1~9까지의 하나의 숫자를 입력받고, 해당 숫자에 맞는 구구단을 출력하는 프로그램을 작성하시오.\n"
   ]
  },
  {
   "cell_type": "code",
   "execution_count": 39,
   "metadata": {},
   "outputs": [
    {
     "name": "stdout",
     "output_type": "stream",
     "text": [
      "숫자를 입력하세요.9\n",
      "9  x  1 = 9\n",
      "9  x  2 = 18\n",
      "9  x  3 = 27\n",
      "9  x  4 = 36\n",
      "9  x  5 = 45\n",
      "9  x  6 = 54\n",
      "9  x  7 = 63\n",
      "9  x  8 = 72\n",
      "9  x  9 = 81\n"
     ]
    }
   ],
   "source": [
    "# code here\n",
    "\n",
    "num = int(input('숫자를 입력하세요.'))\n",
    "for i in range(1,10):\n",
    "    print(num,' x ',i,'=',num*i)"
   ]
  },
  {
   "cell_type": "markdown",
   "metadata": {},
   "source": [
    "Q4_1. 윤년은 4년마다 돌아온다. 즉, 해당 년이 4로 나누어 떨어지면 그 해는 윤년이다.\n",
    "\n",
    "연도를 입력받고, 해당 년이 윤년인지 아닌지 판단하는 프로그램을 작성하시오."
   ]
  },
  {
   "cell_type": "code",
   "execution_count": 41,
   "metadata": {},
   "outputs": [
    {
     "name": "stdout",
     "output_type": "stream",
     "text": [
      "년도를 입력하세요.2020\n",
      "True\n"
     ]
    }
   ],
   "source": [
    "# code here\n",
    "\n",
    "year = int(input('년도를 입력하세요.'))\n",
    "if year % 4 == 0:\n",
    "    print(\"True\")\n",
    "else:\n",
    "    print(\"False\")"
   ]
  },
  {
   "cell_type": "markdown",
   "metadata": {},
   "source": [
    "Q4_2. 윤년에 대한 자세한 정보는 다음과 같다.\n",
    "```python\n",
    "만약 해당 년이 4로 나누어 떨어지면, 그 해는 윤년이다.\n",
    "하지만 만약 해당 년이 100으로 나누어 떨어지면, 그 해는 평년이다.\n",
    "하지만 만약 해당 년이 400으로 나누어 떨어지면, 그 해는 윤년이다.\n",
    "```\n",
    "연도를 입력받고, 해당 년이 윤년인지 아닌지 판단하는 프로그램을 작성하시오."
   ]
  },
  {
   "cell_type": "code",
   "execution_count": 42,
   "metadata": {},
   "outputs": [
    {
     "name": "stdout",
     "output_type": "stream",
     "text": [
      "년도를 입력하세요.2021\n",
      "평년\n"
     ]
    }
   ],
   "source": [
    "# code here\n",
    "\n",
    "year = int(input('년도를 입력하세요.'))\n",
    "if year % 4 == 0 and (year % 100 != 0 or year % 400 == 0):\n",
    "    print(\"윤년\")\n",
    "else:\n",
    "    print(\"평년\")"
   ]
  },
  {
   "cell_type": "markdown",
   "metadata": {},
   "source": [
    "다음은 간단한 챗봇을 구현하는 코드이다. 조건문을 활용해 자신이 원하는 코드를 입력하시오."
   ]
  },
  {
   "cell_type": "code",
   "execution_count": null,
   "metadata": {},
   "outputs": [],
   "source": [
    "import re # 정규표현식 모듈\n",
    "\n",
    "# COUNT : 챗봇 입력 반복 횟수\n",
    "\n",
    "def chatbot( COUNT = 5 ):\n",
    "    print('안녕? 난 심심이야! 잘 부탁해!!')\n",
    "    for i in range(COUNT):\n",
    "        answer = input()   # 사용자가 입력하는 문자열\n",
    "        if len(answer) > 20:\n",
    "            response = '뭔 소리여?'\n",
    "        elif re.search('[a-zA-Z]', answer): # 만약 answer에 영어가 들어가 있을 경우,\n",
    "            response = '한글로 말해줄래?'\n",
    "        elif answer.endswith('?'): # 만약 물음표로 끝난다면\n",
    "            response = '네?'\n",
    "        elif '화이트데이' in answer:\n",
    "            response = '3월14일이지'\n",
    "        elif answer == '잘가': # 잘가라고 말했을 시\n",
    "            break # 반복문 중지\n",
    "        else:\n",
    "            response = '아 그러시구나~'\n",
    "        print(response)\n",
    "chatbot()"
   ]
  }
 ],
 "metadata": {
  "kernelspec": {
   "display_name": "Python 3",
   "language": "python",
   "name": "python3"
  },
  "language_info": {
   "codemirror_mode": {
    "name": "ipython",
    "version": 3
   },
   "file_extension": ".py",
   "mimetype": "text/x-python",
   "name": "python",
   "nbconvert_exporter": "python",
   "pygments_lexer": "ipython3",
   "version": "3.7.7"
  }
 },
 "nbformat": 4,
 "nbformat_minor": 2
}
