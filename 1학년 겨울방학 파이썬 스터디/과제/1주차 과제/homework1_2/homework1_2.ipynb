{
 "cells": [
  {
   "cell_type": "markdown",
   "metadata": {},
   "source": [
    "# 기초"
   ]
  },
  {
   "cell_type": "markdown",
   "metadata": {},
   "source": [
    "Q7. 문자열이 다음과 같이 주어져있다. 이 문자열을 t를 구분점으로 나눈 리스트로 바꾸시오.\n",
    "```python\n",
    "string = 't123t234tABCt45'\n",
    "```"
   ]
  },
  {
   "cell_type": "code",
   "execution_count": 2,
   "metadata": {},
   "outputs": [
    {
     "data": {
      "text/plain": [
       "['', '123', '234', 'ABC', '45']"
      ]
     },
     "execution_count": 2,
     "metadata": {},
     "output_type": "execute_result"
    }
   ],
   "source": [
    "# code here\n",
    "string = 't123t234tABCt45'\n",
    "\n",
    "string.split('t')\n"
   ]
  },
  {
   "cell_type": "markdown",
   "metadata": {},
   "source": [
    "Q8. 다음과 같은 리스트를 하나의 문자열로 바꾸시오. 단, 각 단어 사이에 '뚠뚠'을 넣으시오.\n",
    "```python\n",
    "mylist = ['개미는','오늘도','열심히','일을','하네']\n",
    "```"
   ]
  },
  {
   "cell_type": "code",
   "execution_count": 3,
   "metadata": {},
   "outputs": [
    {
     "data": {
      "text/plain": [
       "'개미는뚠뚠오늘도뚠뚠열심히뚠뚠일을뚠뚠하네'"
      ]
     },
     "execution_count": 3,
     "metadata": {},
     "output_type": "execute_result"
    }
   ],
   "source": [
    "# code here\n",
    "mylist = ['개미는','오늘도','열심히','일을','하네']\n",
    "\n",
    "'뚠뚠'.join(mylist)"
   ]
  },
  {
   "cell_type": "markdown",
   "metadata": {},
   "source": [
    "Q9. 2차원 리스트가 다음과 같이 주어져 있다.\n",
    "```python\n",
    "matrix = [[1,2,3],\n",
    "          [4,5,6],\n",
    "          [7,8,9]]\n",
    "```\n",
    "이 중, 값 5만 뽑아내려면 어떻게 해야 하는가?"
   ]
  },
  {
   "cell_type": "code",
   "execution_count": 4,
   "metadata": {},
   "outputs": [
    {
     "data": {
      "text/plain": [
       "5"
      ]
     },
     "execution_count": 4,
     "metadata": {},
     "output_type": "execute_result"
    }
   ],
   "source": [
    "# code here\n",
    "matrix = [[1,2,3],\n",
    "          [4,5,6],\n",
    "          [7,8,9]]\n",
    "\n",
    "matrix[1][1]\n"
   ]
  },
  {
   "cell_type": "markdown",
   "metadata": {},
   "source": [
    "Q10. 리스트의 평균값을 반환하는 함수 avg를 작성하시오.\n",
    "```python\n",
    "def avg(x):\n",
    "    \n",
    "    return \n",
    "```"
   ]
  },
  {
   "cell_type": "code",
   "execution_count": 41,
   "metadata": {},
   "outputs": [
    {
     "data": {
      "text/plain": [
       "2.5"
      ]
     },
     "execution_count": 41,
     "metadata": {},
     "output_type": "execute_result"
    }
   ],
   "source": [
    "# code here\n",
    "\n",
    "def avg(x):\n",
    "    y=sum(x)/len(x)\n",
    "    return y\n",
    "\n",
    "x=[1,2,3,4]\n",
    "avg(x)"
   ]
  },
  {
   "cell_type": "markdown",
   "metadata": {},
   "source": [
    "Q11. 숫자를 입력받고, 1부터 입력한 숫자까지 더한 값을 반환하는 함수 sum_start_1()을 작성하시오.\n",
    "```python\n",
    "def sum_start_1(x):\n",
    "    \n",
    "    return\n",
    "```"
   ]
  },
  {
   "cell_type": "code",
   "execution_count": 3,
   "metadata": {},
   "outputs": [
    {
     "name": "stdout",
     "output_type": "stream",
     "text": [
      "55\n"
     ]
    }
   ],
   "source": [
    "# code here\n",
    "\n",
    "def sum_start_1(x):\n",
    "    sum_st=0\n",
    "    for i in range(1,x+1):\n",
    "        sum_st=sum_st+i\n",
    "    return sum_st\n",
    "\n",
    "print(sum_start_1(10))"
   ]
  },
  {
   "cell_type": "markdown",
   "metadata": {},
   "source": [
    "Q12. 리스트의 분산을 반환하는 함수 var()를 작성하시오.\n",
    "```python\n",
    "def var():\n",
    "    \n",
    "    return\n",
    "```"
   ]
  },
  {
   "cell_type": "code",
   "execution_count": 40,
   "metadata": {},
   "outputs": [
    {
     "data": {
      "text/plain": [
       "2.0"
      ]
     },
     "execution_count": 40,
     "metadata": {},
     "output_type": "execute_result"
    }
   ],
   "source": [
    "# code here\n",
    "\n",
    "def var(x):\n",
    "    var_1=0\n",
    "    for i in x:\n",
    "        var_1=var_1+(i-(sum(x)/len(x)))**2\n",
    "        var=var_1/len(x)\n",
    "    return var\n",
    "    \n",
    "x=[1,2,3,4,5]\n",
    "var(x)\n"
   ]
  },
  {
   "cell_type": "markdown",
   "metadata": {},
   "source": [
    "Q13. 정규분포식은 다음과 같다.<p>\n",
    "<img align=\"left\" src=\"https://mblogthumb-phinf.pstatic.net/MjAxOTA3MDNfMTY2/MDAxNTYyMTQ3OTMzNjU0.iDAXywStaHY6SOTFaLvBPjYB7GzeMdxDGPZUGLH97d4g.NfmCvpsH86vuFvwcq1omk8HMEiK_toITIVrNNWBmpu8g.PNG.parksehoon1971/image.png?type=w800\">"
   ]
  },
  {
   "cell_type": "markdown",
   "metadata": {},
   "source": [
    "- 여기서 `π`는 원주율이고, `e`는 자연상수이다.\n",
    "- 위에서 구한 평균과 분산 함수를 이용해, 정규분포식을 완성하시오."
   ]
  },
  {
   "cell_type": "code",
   "execution_count": 146,
   "metadata": {},
   "outputs": [],
   "source": [
    "# code here\n",
    "import numpy as np\n",
    "\n",
    "PIE = np.pi\n",
    "\n",
    "# X값 설정\n",
    "x = np.linspace(-5, 5, 101) # 설령 모르는 함수가 나와도, 당황하지 않는게 중요합니다.\n",
    "\n",
    "# 평균, 표준편차 구하기. 위에서 만든 함수를 사용해보세요.\n",
    "mean = np.mean(x)\n",
    "var = np.var(x)\n",
    "\n",
    "# 표준편차를 분산을 이용해 구하세요.\n",
    "std = np.sqrt(var)\n",
    "\n",
    "# np.exp() : 자연상수의 지수함수\n",
    "def norm_dist(x):\n",
    "    y = (1 / np.sqrt(2*PIE)*std) * np.exp (-x**2/ 2) # 정규분포식을 직접 작성해보세요.\n",
    "    return y\n",
    "\n",
    "y = norm_dist(x)"
   ]
  },
  {
   "cell_type": "code",
   "execution_count": 147,
   "metadata": {},
   "outputs": [
    {
     "data": {
      "image/png": "[encoded data removed]",
      "text/plain": [
       "<Figure size 720x432 with 1 Axes>"
      ]
     },
     "metadata": {
      "needs_background": "light"
     },
     "output_type": "display_data"
    }
   ],
   "source": [
    "# 위 문제를 풀었다면, 아래 코드를 실행해 정규분포의 모습이 나오는지 확인하시오.\n",
    "\n",
    "# 시각화 모듈\n",
    "import matplotlib.pyplot as plt\n",
    "%matplotlib inline\n",
    "\n",
    "plt.figure(figsize=(10, 6))          # 차트 사이즈 지정\n",
    "plt.plot(x, y)                       # 데이터 입력\n",
    "plt.xlabel(\"x\")                      # x축 이름 지정\n",
    "plt.ylabel(\"y\")                      # y축 이름 지정\n",
    "plt.grid()                           # 플롯에 격자 보이기\n",
    "plt.title(\"Normal Distribution\")     # 타이틀 표시\n",
    "plt.show()       "
   ]
  },
  {
   "cell_type": "markdown",
   "metadata": {},
   "source": [
    "# 수고하셨습니다..."
   ]
  },
  {
   "cell_type": "markdown",
   "metadata": {},
   "source": [
    "# 심화"
   ]
  },
  {
   "cell_type": "markdown",
   "metadata": {},
   "source": [
    "Q5. 회문(palindrome)이란 거꾸로 써도 똑같은 말이 되는 단어를 의미한다.\n",
    "```python\n",
    "'다시합창합시다', '수박이박수', '소주만병만주소', 'racecar'\n",
    "```\n",
    "입력받은 문자열이 회문인지 아닌지 판단하는 함수 palin()을 작성하시오. 단, 띄어쓰기는 무시한다."
   ]
  },
  {
   "cell_type": "code",
   "execution_count": 29,
   "metadata": {},
   "outputs": [
    {
     "name": "stdout",
     "output_type": "stream",
     "text": [
      "True\n"
     ]
    }
   ],
   "source": [
    "# code here\n",
    "\n",
    "def palin(string):\n",
    "    return string==string[::-1]\n",
    "    \n",
    "print(palin('토마토'))\n",
    "    "
   ]
  },
  {
   "cell_type": "markdown",
   "metadata": {},
   "source": [
    "Q6. max() 함수를 사용하지 않고, 리스트의 최댓값을 출력하는 함수 my_max()를 작성하시오."
   ]
  },
  {
   "cell_type": "code",
   "execution_count": 39,
   "metadata": {},
   "outputs": [
    {
     "data": {
      "text/plain": [
       "9"
      ]
     },
     "execution_count": 39,
     "metadata": {},
     "output_type": "execute_result"
    }
   ],
   "source": [
    "# code here\n",
    "\n",
    "x=[1,5,7,3,6,9]\n",
    "\n",
    "x.sort(reverse=True)\n",
    "x[0]"
   ]
  },
  {
   "cell_type": "markdown",
   "metadata": {},
   "source": [
    "Q7. 리스트에 중복된 값이 있을 경우, 중복된 값을 제거하고 고유한 값만 반환하는 함수 unique()를 작성하시오."
   ]
  },
  {
   "cell_type": "code",
   "execution_count": 44,
   "metadata": {},
   "outputs": [
    {
     "data": {
      "text/plain": [
       "['g', 'd', 'a']"
      ]
     },
     "execution_count": 44,
     "metadata": {},
     "output_type": "execute_result"
    }
   ],
   "source": [
    "# code here\n",
    "\n",
    "x=['a','a','a','a','a','d','d','d','d','g','g','g']\n",
    "\n",
    "def unique(x):\n",
    "    x=list(set(x))\n",
    "    return x\n",
    "\n",
    "unique(x)"
   ]
  },
  {
   "cell_type": "markdown",
   "metadata": {},
   "source": [
    "Q8. 삼각형 변의 길이 3개를 입력받고, 해당 삼각형이 둔각삼각형인지, 예각삼각형인지, 직각삼각형인지 판별하는 함수 triangle()을 만드시오. 단, 삼각형이 되지 않을 경우 '삼각형을 만들 수 없습니다'를 출력하시오."
   ]
  },
  {
   "cell_type": "code",
   "execution_count": 62,
   "metadata": {},
   "outputs": [
    {
     "name": "stdout",
     "output_type": "stream",
     "text": [
      "길이를 입력하세요3\n",
      "길이를 입력하세요4\n",
      "길이를 입력하세요5\n",
      "직각삼각형\n"
     ]
    }
   ],
   "source": [
    "# code here\n",
    "\n",
    "\n",
    "a=int(input('길이를 입력하세요'))\n",
    "b=int(input('길이를 입력하세요'))\n",
    "c=int(input('길이를 입력하세요'))\n",
    "\n",
    "def triangle(a,b,c):\n",
    "    x=[a,b,c]\n",
    "    x.sort\n",
    "    d=x[0]*x[0]+x[1]*x[1]\n",
    "    if x[0]+x[1]<=x[2]:\n",
    "        print('삼각형을 만들 수 없다')\n",
    "    elif d<x[2]*x[2]:\n",
    "        print('둔각삼각형')\n",
    "    elif d==x[2]*x[2]:\n",
    "        print('직각삼각형')\n",
    "    elif d>x[2]*x[2]:\n",
    "        print('예각삼각형')\n",
    "    else:\n",
    "        print()\n",
    "\n",
    "triangle(a,b,c)"
   ]
  },
  {
   "cell_type": "markdown",
   "metadata": {},
   "source": [
    "Q9\n",
    "- 두 점 사이의 거리를 구하는 공식은 다음과 같다.<p>\n",
    "<img align = 'left' src = \"http://mblogthumb1.phinf.naver.net/MjAxODAzMjdfMTg2/MDAxNTIyMTE0NDE3Mzkx.FGE2-XvEZMJ4gRvYEoikCTVUYIiFrs58nPKoI8n41U8g.gC8WPbkNO9zoWFkCigXKJ6gIQGNsdetzU7SXwzOUNGAg.PNG.tipsware/20180327_103323_023.png?type=w800\">"
   ]
  },
  {
   "cell_type": "markdown",
   "metadata": {},
   "source": [
    "Q9-1 위의 그림을 보고, 좌표평면(2차원)의 두 점 a,b의 거리를 구하는 함수 dist_2d()를 만드시오."
   ]
  },
  {
   "cell_type": "code",
   "execution_count": 65,
   "metadata": {},
   "outputs": [
    {
     "data": {
      "text/plain": [
       "1.4142135623730951"
      ]
     },
     "execution_count": 65,
     "metadata": {},
     "output_type": "execute_result"
    }
   ],
   "source": [
    "# code here\n",
    "a = [3,4]\n",
    "b = [5,6]\n",
    "\n",
    "def dist_2d(a,b):\n",
    "    y=np.sqrt(((b[1]-a[1])**2)+((b[0]-a[0])**2))\n",
    "    return y\n",
    "\n",
    "dist_2d(a,b)"
   ]
  },
  {
   "cell_type": "markdown",
   "metadata": {},
   "source": [
    "Q9-2 위 코드를 응용해서, n차원 공간에 있는 두 점 a,b의 거리를 구하는 함수 dist()를 만드시오."
   ]
  },
  {
   "cell_type": "code",
   "execution_count": 7,
   "metadata": {},
   "outputs": [
    {
     "data": {
      "text/plain": [
       "9.433981132056603"
      ]
     },
     "execution_count": 7,
     "metadata": {},
     "output_type": "execute_result"
    }
   ],
   "source": [
    "# code here\n",
    "import numpy as np\n",
    "a = [1,8,-2,4,5]\n",
    "b = [2,4,-10,7,-5]\n",
    "## list의 크기가 커도 오류 없이 작동해야 합니다.\n",
    "\n",
    "def dist(a,b):\n",
    "    dist_1=0\n",
    "    for i in range(1,len(a)-1):\n",
    "        dist_1=dist_1+(b[i]-a[i])**2\n",
    "    return np.sqrt(dist_1)\n",
    "\n",
    "dist(a,b)\n"
   ]
  },
  {
   "cell_type": "markdown",
   "metadata": {},
   "source": [
    "Q10. 다음과 같은 조건으로 unclean_list를 나누시오.\n",
    "```python\n",
    "원소가 숫자일 때 :\n",
    "    num_list에 추가\n",
    "원소가 문자열일 때 :\n",
    "    str_list에 추가\n",
    "```"
   ]
  },
  {
   "cell_type": "code",
   "execution_count": 10,
   "metadata": {},
   "outputs": [
    {
     "data": {
      "text/plain": [
       "[4, -7, 9500]"
      ]
     },
     "execution_count": 10,
     "metadata": {},
     "output_type": "execute_result"
    }
   ],
   "source": [
    "# code here\n",
    "unclean_list = [1.0, 4, -7, '아까', '찜닭', '먹었지롱','가격은',9500]\n",
    "num_list = []\n",
    "str_list = []\n",
    "\n",
    "for i in range(len(unclean_list)):\n",
    "    if type(unclean_list[i])==int and float :\n",
    "        num_list.append(unclean_list[i])\n",
    "    else:\n",
    "        str_list.append(unclean_list[i])\n",
    "        \n",
    "num_list"
   ]
  },
  {
   "cell_type": "markdown",
   "metadata": {},
   "source": [
    "다음과 같은 은행 예치금 데이터가 있습니다.\n",
    "```python\n",
    "my_dict = {'신지섭' : ['M', 10000],\n",
    "           '이소연' : ['F', 20000],\n",
    "           '김보현' : ['F', 15000],\n",
    "           '곽홍재' : ['M', 5000],\n",
    "           '이한석' : ['M', 17242],\n",
    "           '김도연' : ['F', 9000]}\n",
    "```\n",
    "남자, 여자 각각의 평균 은행 예치금을 구하시오."
   ]
  },
  {
   "cell_type": "code",
   "execution_count": 126,
   "metadata": {},
   "outputs": [
    {
     "name": "stdout",
     "output_type": "stream",
     "text": [
      "남자평균:  nan\n",
      "여자평균:  9000.0\n"
     ]
    }
   ],
   "source": [
    "# code here\n",
    "account = {'신지섭' : ['M', 10000],\n",
    "           '이소연' : ['F', 20000],\n",
    "           '김보현' : ['F', 15000],\n",
    "           '곽홍재' : ['M', 5000],\n",
    "           '이한석' : ['M', 17242],\n",
    "           '김도연' : ['F', 9000]}\n",
    "\n",
    "\n",
    "a=list(account.keys())\n",
    "\n",
    "for i in range(len(a)):\n",
    "    sum_0=[]\n",
    "    sum_1=[]\n",
    "    if account[a[i]][0]=='M':\n",
    "        sum_0.append(account[a[i]][1])\n",
    "    else:\n",
    "        sum_1.append(account[a[i]][1])\n",
    "\n",
    "print('남자평균: ',np.mean(sum_0))\n",
    "print('여자평균: ',np.mean(sum_1))\n",
    "\n",
    "#남자값이 왜 nan일까요??"
   ]
  },
  {
   "cell_type": "markdown",
   "metadata": {},
   "source": [
    "다음은 names라는 리스트에 들어있는 단어와 그것의 횟수를 출력하는 코드이다.\n",
    "```python\n",
    "counts = dict()\n",
    "names = ['빅데이터', '경영', '통계', '경영', '경영', '정보']\n",
    "for name in names :\n",
    "    counts[name] = counts.get(name, 0) + 1\n",
    "print(counts)\n",
    "```\n",
    "위의 코드를 응용하여, 오바마 연설문에서 가장 많이 나타나는 단어와 그것의 횟수를 출력하는 프로그램을 작성하시오."
   ]
  },
  {
   "cell_type": "code",
   "execution_count": 1,
   "metadata": {},
   "outputs": [
    {
     "name": "stdout",
     "output_type": "stream",
     "text": [
      "['Hello,', 'Chicago.', 'If', 'there', 'is', 'anyone', 'out', 'there', 'who', 'still', 'doubts', 'that', 'America', 'is', 'a', 'place', 'where', 'all', 'things', 'are', 'possible,', 'who', 'still', 'wonders', 'if', 'the', 'dream', 'of', 'our', 'founders', 'is', 'alive', 'in', 'our', 'time,', 'who', 'still', 'questions', 'the', 'power', 'of', 'our', 'democracy,', 'tonight', 'is', 'your', 'answer.', \"It's\", 'the', 'answer', 'told', 'by', 'lines', 'that', 'stretched', 'around', 'schools', 'and', 'churches', 'in', 'numbers', 'this', 'nation', 'has', 'never', 'seen,', 'by', 'people', 'who', 'waited', 'three', 'hours', 'and', 'four', 'hours,', 'many', 'for', 'the', 'first', 'time', 'in', 'their', 'lives,', 'because', 'they', 'believed', 'that', 'this', 'time', 'must', 'be', 'different,', 'that', 'their', 'voices', 'could', 'be', 'that', 'difference.', \"It's\", 'the', 'answer', 'spoken', 'by', 'young', 'and', 'old,', 'rich', 'and', 'poor,', 'Democrat', 'and', 'Republican,', 'black,', 'white,', 'Hispanic,', 'Asian,', 'Native', 'American,', 'gay,', 'straight,', 'disabled', 'and', 'not', 'disabled.', 'Americans', 'who', 'sent', 'a', 'message', 'to', 'the', 'world', 'that', 'we', 'have', 'never', 'been', 'just', 'a', 'collection', 'of', 'individuals', 'or', 'a', 'collection', 'of', 'red', 'states', 'and', 'blue', 'states.', 'We', 'are,', 'and', 'always', 'will', 'be,', 'the', 'United', 'States', 'of', 'America.', \"It's\", 'the', 'answer', 'that', 'led', 'those', \"who've\", 'been', 'told', 'for', 'so', 'long', 'by', 'so', 'many', 'to', 'be', 'cynical', 'and', 'fearful', 'and', 'doubtful', 'about', 'what', 'we', 'can', 'achieve', 'to', 'put', 'their', 'hands', 'on', 'the', 'arc', 'of', 'history', 'and', 'bend', 'it', 'on-ce', 'more', 'toward', 'the', 'hope', 'of', 'a', 'better', 'day.', \"It's\", 'been', 'a', 'long', 'time', 'coming,', 'but', 'tonight,', 'because', 'of', 'what', 'we', 'did', 'on', 'this', 'date', 'in', 'this', 'election', 'at', 'this', 'defining', 'moment', 'change', 'has', 'come', 'to', 'America.', 'A', 'little', 'bit', 'earlier', 'this', 'evening,', 'I', 'received', 'an', 'extraordinarily', 'gracious', 'call', 'from', 'Sen.', 'McCain.', \"Don't\", 'Miss', 'America', 'votes', 'for', 'change', 'Transcript', 'of', \"McCain's\", 'concession', 'speech', 'African-American', 'centenarian', 'votes', 'Obama', 'grandmother', 'dies', 'before', 'election', 'Presidential', 'election', 'results', 'Sen.', 'McCain', 'fought', 'long', 'and', 'hard', 'in', 'this', 'campaign.', 'And', \"he's\", 'fought', 'even', 'longer', 'and', 'harder', 'for', 'the', 'country', 'that', 'he', 'loves.', 'He', 'has', 'endured', 'sacrifices', 'for', 'America', 'that', 'most', 'of', 'us', 'cannot', 'begin', 'to', 'imagine.', 'We', 'are', 'better', 'off', 'for', 'the', 'service', 'rendered', 'by', 'this', 'brave', 'and', 'selfless', 'leader.', 'I', 'congratulate', 'him;', 'I', 'congratulate', 'Gov.', 'Palin', 'for', 'all', 'that', \"they've\", 'achieved.', 'And', 'I', 'look', 'forward', 'to', 'working', 'with', 'them', 'to', 'renew', 'this', \"nation's\", 'promise', 'in', 'the', 'months', 'ahead.', 'I', 'want', 'to', 'thank', 'my', 'partner', 'in', 'this', 'journey,', 'a', 'man', 'who', 'campaigned', 'from', 'his', 'heart,', 'and', 'spoke', 'for', 'the', 'men', 'and', 'women', 'he', 'grew', 'up', 'with', 'on', 'the', 'streets', 'of', 'Scranton', 'and', 'rode', 'with', 'on', 'the', 'train', 'home', 'to', 'Delaware,', 'the', 'vice', 'president-elect', 'of', 'the', 'United', 'States,', 'Joe', 'Biden.', 'And', 'I', 'would', 'not', 'be', 'standing', 'here', 'tonight', 'without', 'the', 'unyielding', 'support', 'of', 'my', 'best', 'friend', 'for', 'the', 'last', '16', 'years', 'the', 'rock', 'of', 'our', 'family,', 'the', 'love', 'of', 'my', 'life,', 'the', \"nation's\", 'next', 'first', 'lady', 'Michelle', 'Obama.', 'Sasha', 'and', 'Malia', 'I', 'love', 'you', 'both', 'more', 'than', 'you', 'can', 'imagine.', 'And', 'you', 'have', 'earned', 'the', 'new', 'puppy', \"that's\", 'coming', 'with', 'us', 'to', 'the', 'new', 'White', 'House.', 'And', 'while', \"she's\", 'no', 'longer', 'with', 'us,', 'I', 'know', 'my', \"grandmother's\", 'watching,', 'along', 'with', 'the', 'family', 'that', 'made', 'me', 'who', 'I', 'am.', 'I', 'miss', 'them', 'tonight.', 'I', 'know', 'that', 'my', 'debt', 'to', 'them', 'is', 'beyond', 'measure.', 'To', 'my', 'sister', 'Maya,', 'my', 'sister', 'Alma,', 'all', 'my', 'other', 'brothers', 'and', 'sisters,', 'thank', 'you', 'so', 'much', 'for', 'all', 'the', 'support', 'that', \"you've\", 'given', 'me.', 'I', 'am', 'grateful', 'to', 'them.', 'And', 'to', 'my', 'campaign', 'manager,', 'David', 'Plouffe,', 'the', 'unsung', 'hero', 'of', 'this', 'campaign,', 'who', 'built', 'the', 'best', '--', 'the', 'best', 'political', 'campaign,', 'I', 'think,', 'in', 'the', 'history', 'of', 'the', 'United', 'States', 'of', 'America.', 'To', 'my', 'chief', 'strategist', 'David', 'Axelrod', \"who's\", 'been', 'a', 'partner', 'with', 'me', 'every', 'step', 'of', 'the', 'way.', 'To', 'the', 'best', 'campaign', 'team', 'ever', 'assembled', 'in', 'the', 'history', 'of', 'politics', 'you', 'made', 'this', 'happen,', 'and', 'I', 'am', 'forever', 'grateful', 'for', 'what', \"you've\", 'sacrificed', 'to', 'get', 'it', 'done.', 'But', 'above', 'all,', 'I', 'will', 'never', 'forget', 'who', 'this', 'victory', 'truly', 'belongs', 'to.', 'It', 'belongs', 'to', 'you.', 'It', 'belongs', 'to', 'you.', 'I', 'was', 'never', 'the', 'likeliest', 'candidate', 'for', 'this', 'office.', 'We', \"didn't\", 'start', 'with', 'much', 'money', 'or', 'many', 'endorsements.', 'Our', 'campaign', 'was', 'not', 'hatched', 'in', 'the', 'halls', 'of', 'Washington.', 'It', 'began', 'in', 'the', 'backyards', 'of', 'Des', 'Moines', 'and', 'the', 'living', 'rooms', 'of', 'Concord', 'and', 'the', 'front', 'porches', 'of', 'Charleston.', 'It', 'was', 'built', 'by', 'working', 'men', 'and', 'women', 'who', 'dug', 'into', 'what', 'little', 'savings', 'they', 'had', 'to', 'give', '$5', 'and', '$10', 'and', '$20', 'to', 'the', 'cause.', 'It', 'grew', 'strength', 'from', 'the', 'young', 'people', 'who', 'rejected', 'the', 'myth', 'of', 'their', \"generation's\", 'apathy', 'who', 'left', 'their', 'homes', 'and', 'their', 'families', 'for', 'jobs', 'that', 'offered', 'little', 'pay', 'and', 'less', 'sleep.', 'It', 'drew', 'strength', 'from', 'the', 'not-so-young', 'people', 'who', 'braved', 'the', 'bitter', 'cold', 'and', 'scorching', 'heat', 'to', 'knock', 'on', 'doors', 'of', 'perfect', 'strangers,', 'and', 'from', 'the', 'millions', 'of', 'Americans', 'who', 'volunteered', 'and', 'organized', 'and', 'proved', 'that', 'more', 'than', 'two', 'centuries', 'later', 'a', 'government', 'of', 'the', 'people,', 'by', 'the', 'people,', 'and', 'for', 'the', 'people', 'has', 'not', 'perished', 'from', 'the', 'Earth.', 'This', 'is', 'your', 'victory.', 'And', 'I', 'know', 'you', \"didn't\", 'do', 'this', 'just', 'to', 'win', 'an', 'election.', 'And', 'I', 'know', 'you', \"didn't\", 'do', 'it', 'for', 'me.', 'You', 'did', 'it', 'because', 'you', 'understand', 'the', 'enormity', 'of', 'the', 'task', 'that', 'lies', 'ahead.', 'For', 'even', 'as', 'we', 'celebrate', 'tonight,', 'we', 'know', 'the', 'challenges', 'that', 'tomorrow', 'will', 'bring', 'are', 'the', 'greatest', 'of', 'our', 'lifetime', '--', 'two', 'wars,', 'a', 'planet', 'in', 'peril,', 'the', 'worst', 'financial', 'crisis', 'in', 'a', 'century.', 'Even', 'as', 'we', 'stand', 'here', 'tonight,', 'we', 'know', 'there', 'are', 'brave', 'Americans', 'waking', 'up', 'in', 'the', 'deserts', 'of', 'Iraq', 'and', 'the', 'mountains', 'of', 'Afghanistan', 'to', 'risk', 'their', 'lives', 'for', 'us.', 'There', 'are', 'mothers', 'and', 'fathers', 'who', 'will', 'lie', 'awake', 'after', 'the', 'children', 'fall', 'asleep', 'and', 'wonder', 'how', \"they'll\", 'make', 'the', 'mortgage', 'or', 'pay', 'their', \"doctors'\", 'bills', 'or', 'save', 'enough', 'for', 'their', \"child's\", 'college', 'education.', \"There's\", 'new', 'energy', 'to', 'harness,', 'new', 'jobs', 'to', 'be', 'created,', 'new', 'schools', 'to', 'build,', 'and', 'threats', 'to', 'meet,', 'alliances', 'to', 'repair.', 'The', 'road', 'ahead', 'will', 'be', 'long.', 'Our', 'climb', 'will', 'be', 'steep.', 'We', 'may', 'not', 'get', 'there', 'in', 'on-e', 'year', 'or', 'even', 'in', 'on-e', 'term.', 'But,', 'America,', 'I', 'have', 'never', 'been', 'more', 'hopeful', 'than', 'I', 'am', 'tonight', 'that', 'we', 'will', 'get', 'there.', 'I', 'promise', 'you,', 'we', 'as', 'a', 'people', 'will', 'get', 'there.', 'There', 'will', 'be', 'setbacks', 'and', 'false', 'starts.', 'There', 'are', 'many', 'who', \"won't\", 'agree', 'with', 'every', 'decision', 'or', 'policy', 'I', 'make', 'as', 'president.', 'And', 'we', 'know', 'the', 'government', \"can't\", 'solve', 'every', 'problem.', 'But', 'I', 'will', 'always', 'be', 'honest', 'with', 'you', 'about', 'the', 'challenges', 'we', 'face.', 'I', 'will', 'listen', 'to', 'you,', 'especially', 'when', 'we', 'disagree.', 'And,', 'above', 'all,', 'I', 'will', 'ask', 'you', 'to', 'join', 'in', 'the', 'work', 'of', 'remaking', 'this', 'nation,', 'the', 'on-ly', 'way', \"it's\", 'been', 'done', 'in', 'America', 'for', '221', 'years', '--', 'block', 'by', 'block,', 'brick', 'by', 'brick,', 'calloused', 'hand', 'by', 'calloused', 'hand.', 'What', 'began', '21', 'months', 'ago', 'in', 'the', 'depths', 'of', 'winter', 'cannot', 'end', 'on', 'this', 'autumn', 'night.', 'This', 'victory', 'alone', 'is', 'not', 'the', 'change', 'we', 'seek.', 'It', 'is', 'on-ly', 'the', 'chance', 'for', 'us', 'to', 'make', 'that', 'change.', 'And', 'that', 'cannot', 'happen', 'if', 'we', 'go', 'back', 'to', 'the', 'way', 'things', 'were.', 'It', \"can't\", 'happen', 'without', 'you,', 'without', 'a', 'new', 'spirit', 'of', 'service,', 'a', 'new', 'spirit', 'of', 'sacrifice.', 'So', 'let', 'us', 'summon', 'a', 'new', 'spirit', 'of', 'patriotism,', 'of', 'responsibility,', 'where', 'each', 'of', 'us', 'resolves', 'to', 'pitch', 'in', 'and', 'work', 'harder', 'and', 'look', 'after', 'not', 'on-ly', 'ourselves', 'but', 'each', 'other.', 'Let', 'us', 'remember', 'that,', 'if', 'this', 'financial', 'crisis', 'taught', 'us', 'anything,', \"it's\", 'that', 'we', 'cannot', 'have', 'a', 'thriving', 'Wall', 'Street', 'while', 'Main', 'Street', 'suffers.', 'In', 'this', 'country,', 'we', 'rise', 'or', 'fall', 'as', 'on-e', 'nation,', 'as', 'on-e', 'people.', \"Let's\", 'resist', 'the', 'temptation', 'to', 'fall', 'back', 'on', 'the', 'same', 'partisanship', 'and', 'pettiness', 'and', 'immaturity', 'that', 'has', 'poisoned', 'our', 'politics', 'for', 'so', 'long.', \"Let's\", 'remember', 'that', 'it', 'was', 'a', 'man', 'from', 'this', 'state', 'who', 'first', 'carried', 'the', 'banner', 'of', 'the', 'Republican', 'Party', 'to', 'the', 'White', 'House,', 'a', 'party', 'founded', 'on', 'the', 'values', 'of', 'self-reliance', 'and', 'individual', 'liberty', 'and', 'national', 'unity.', 'Those', 'are', 'values', 'that', 'we', 'all', 'share.', 'And', 'while', 'the', 'Democratic', 'Party', 'has', 'won', 'a', 'great', 'victory', 'tonight,', 'we', 'do', 'so', 'with', 'a', 'measure', 'of', 'humility', 'and', 'determination', 'to', 'heal', 'the', 'divides', 'that', 'have', 'held', 'back', 'our', 'progress.', 'As', 'Lincoln', 'said', 'to', 'a', 'nation', 'far', 'more', 'divided', 'than', 'ours,', 'we', 'are', 'not', 'enemies', 'but', 'friends.', 'Though', 'passion', 'may', 'have', 'strained,', 'it', 'must', 'not', 'break', 'our', 'bonds', 'of', 'affection.', 'And', 'to', 'those', 'Americans', 'whose', 'support', 'I', 'have', 'yet', 'to', 'earn,', 'I', 'may', 'not', 'have', 'won', 'your', 'vote', 'tonight,', 'but', 'I', 'hear', 'your', 'voices.', 'I', 'need', 'your', 'help.', 'And', 'I', 'will', 'be', 'your', 'president,', 'too.', 'And', 'to', 'all', 'those', 'watching', 'tonight', 'from', 'beyond', 'our', 'shores,', 'from', 'parliaments', 'and', 'palaces,', 'to', 'those', 'who', 'are', 'huddled', 'around', 'radios', 'in', 'the', 'forgotten', 'corners', 'of', 'the', 'world,', 'our', 'stories', 'are', 'singular,', 'but', 'our', 'destiny', 'is', 'shared,', 'and', 'a', 'new', 'dawn', 'of', 'American', 'leadership', 'is', 'at', 'hand.', 'To', 'those', '--', 'to', 'those', 'who', 'would', 'tear', 'the', 'world', 'down:', 'We', 'will', 'defeat', 'you.', 'To', 'those', 'who', 'seek', 'peace', 'and', 'security:', 'We', 'support', 'you.', 'And', 'to', 'all', 'those', 'who', 'have', 'wondered', 'if', \"America's\", 'beacon', 'still', 'burns', 'as', 'bright:', 'Tonight', 'we', 'proved', 'on-ce', 'more', 'that', 'the', 'true', 'strength', 'of', 'our', 'nation', 'comes', 'not', 'from', 'the', 'might', 'of', 'our', 'arms', 'or', 'the', 'scale', 'of', 'our', 'wealth,', 'but', 'from', 'the', 'enduring', 'power', 'of', 'our', 'ideals:', 'democracy,', 'liberty,', 'opportunity', 'and', 'unyielding', 'hope.', \"That's\", 'the', 'true', 'genius', 'of', 'America:', 'that', 'America', 'can', 'change.', 'Our', 'union', 'can', 'be', 'perfected.', 'What', \"we've\", 'already', 'achieved', 'gives', 'us', 'hope', 'for', 'what', 'we', 'can', 'and', 'must', 'achieve', 'tomorrow.', 'This', 'election', 'had', 'many', 'firsts', 'and', 'many', 'stories', 'that', 'will', 'be', 'told', 'for', 'generations.', 'But', 'on-e', \"that's\", 'on', 'my', 'mind', \"tonight's\", 'about', 'a', 'woman', 'who', 'cast', 'her', 'ballot', 'in', 'Atlanta.', \"She's\", 'a', 'lot', 'like', 'the', 'millions', 'of', 'others', 'who', 'stood', 'in', 'line', 'to', 'make', 'their', 'voice', 'heard', 'in', 'this', 'election', 'except', 'for', 'on-e', 'thing:', 'Ann', 'Nixon', 'Cooper', 'is', '106', 'years', 'old.', 'She', 'was', 'born', 'just', 'a', 'generation', 'past', 'slavery;', 'a', 'time', 'when', 'there', 'were', 'no', 'cars', 'on', 'the', 'road', 'or', 'planes', 'in', 'the', 'sky;', 'when', 'someone', 'like', 'her', \"couldn't\", 'vote', 'for', 'two', 'reasons', '--', 'because', 'she', 'was', 'a', 'woman', 'and', 'because', 'of', 'the', 'color', 'of', 'her', 'skin.', 'And', 'tonight,', 'I', 'think', 'about', 'all', 'that', \"she's\", 'seen', 'throughout', 'her', 'century', 'in', 'America', '--', 'the', 'heartache', 'and', 'the', 'hope;', 'the', 'struggle', 'and', 'the', 'progress;', 'the', 'times', 'we', 'were', 'told', 'that', 'we', \"can't,\", 'and', 'the', 'people', 'who', 'pressed', 'on', 'with', 'that', 'American', 'creed:', 'Yes', 'we', 'can.', 'At', 'a', 'time', 'when', \"women's\", 'voices', 'were', 'silenced', 'and', 'their', 'hopes', 'dismissed,', 'she', 'lived', 'to', 'see', 'them', 'stand', 'up', 'and', 'speak', 'out', 'and', 'reach', 'for', 'the', 'ballot.', 'Yes', 'we', 'can.', 'When', 'there', 'was', 'despair', 'in', 'the', 'dust', 'bowl', 'and', 'depression', 'across', 'the', 'land,', 'she', 'saw', 'a', 'nation', 'conquer', 'fear', 'itself', 'with', 'a', 'New', 'Deal,', 'new', 'jobs,', 'a', 'new', 'sense', 'of', 'common', 'purpose.', 'Yes', 'we', 'can.', 'When', 'the', 'bombs', 'fell', 'on', 'our', 'harbor', 'and', 'tyranny', 'threatened', 'the', 'world,', 'she', 'was', 'there', 'to', 'witness', 'a', 'generation', 'rise', 'to', 'greatness', 'and', 'a', 'democracy', 'was', 'saved.', 'Yes', 'we', 'can.', 'She', 'was', 'there', 'for', 'the', 'buses', 'in', 'Montgomery,', 'the', 'hoses', 'in', 'Birmingham,', 'a', 'bridge', 'in', 'Selma,', 'and', 'a', 'preacher', 'from', 'Atlanta', 'who', 'told', 'a', 'people', 'that', '\"We', 'Shall', 'Overcome.\"', 'Yes', 'we', 'can.', 'A', 'man', 'touched', 'down', 'on', 'the', 'moon,', 'a', 'wall', 'came', 'down', 'in', 'Berlin,', 'a', 'world', 'was', 'connected', 'by', 'our', 'own', 'science', 'and', 'imagination.', 'And', 'this', 'year,', 'in', 'this', 'election,', 'she', 'touched', 'her', 'finger', 'to', 'a', 'screen,', 'and', 'cast', 'her', 'vote,', 'because', 'after', '106', 'years', 'in', 'America,', 'through', 'the', 'best', 'of', 'times', 'and', 'the', 'darkest', 'of', 'hours,', 'she', 'knows', 'how', 'America', 'can', 'change.', 'Yes', 'we', 'can.', 'America,', 'we', 'have', 'come', 'so', 'far.', 'We', 'have', 'seen', 'so', 'much.', 'But', 'there', 'is', 'so', 'much', 'more', 'to', 'do.', 'So', 'tonight,', 'let', 'us', 'ask', 'ourselves', '--', 'if', 'our', 'children', 'should', 'live', 'to', 'see', 'the', 'next', 'century;', 'if', 'my', 'daughters', 'should', 'be', 'so', 'lucky', 'to', 'live', 'as', 'long', 'as', 'Ann', 'Nixon', 'Cooper,', 'what', 'change', 'will', 'they', 'see?', 'What', 'progress', 'will', 'we', 'have', 'made?', 'This', 'is', 'our', 'chance', 'to', 'answer', 'that', 'call.', 'This', 'is', 'our', 'moment.', 'This', 'is', 'our', 'time,', 'to', 'put', 'our', 'people', 'back', 'to', 'work', 'and', 'open', 'doors', 'of', 'opportunity', 'for', 'our', 'kids;', 'to', 'restore', 'prosperity', 'and', 'promote', 'the', 'cause', 'of', 'peace;', 'to', 'reclaim', 'the', 'American', 'dream', 'and', 'reaffirm', 'that', 'fundamental', 'truth,', 'that,', 'out', 'of', 'many,', 'we', 'are', 'on-e;', 'that', 'while', 'we', 'breathe,', 'we', 'hope.', 'And', 'where', 'we', 'are', 'met', 'with', 'cynicism', 'and', 'doubts', 'and', 'those', 'who', 'tell', 'us', 'that', 'we', \"can't,\", 'we', 'will', 'respond', 'with', 'that', 'timeless', 'creed', 'that', 'sums', 'up', 'the', 'spirit', 'of', 'a', 'people:', 'Yes,', 'we', 'can.', 'Thank', 'you.', 'God', 'bless', 'you.', 'And', 'may', 'God', 'bless', 'the', 'United', 'States', 'of', 'America.']\n"
     ]
    }
   ],
   "source": [
    "import requests\n",
    "\n",
    "url = 'http://cfile221.uf.daum.net/attach/1332E3064975C0E70F1AFF' #오바마 연설문 파일\n",
    "res = requests.get(url)\n",
    "text = res.text\n",
    "words = text.split() # 사용할 데이터\n",
    "# 데이터 확인\n",
    "print(words)"
   ]
  },
  {
   "cell_type": "code",
   "execution_count": 4,
   "metadata": {},
   "outputs": [
    {
     "data": {
      "text/plain": [
       "list"
      ]
     },
     "execution_count": 4,
     "metadata": {},
     "output_type": "execute_result"
    }
   ],
   "source": [
    "type(words)"
   ]
  },
  {
   "cell_type": "code",
   "execution_count": 155,
   "metadata": {},
   "outputs": [
    {
     "data": {
      "text/plain": [
       "[('the', 108)]"
      ]
     },
     "execution_count": 155,
     "metadata": {},
     "output_type": "execute_result"
    }
   ],
   "source": [
    "# code here\n",
    "\n",
    "from collections import Counter\n",
    "\n",
    "count = Counter(words)\n",
    "\n",
    "count.most_common(1)"
   ]
  }
 ],
 "metadata": {
  "kernelspec": {
   "display_name": "Python 3",
   "language": "python",
   "name": "python3"
  },
  "language_info": {
   "codemirror_mode": {
    "name": "ipython",
    "version": 3
   },
   "file_extension": ".py",
   "mimetype": "text/x-python",
   "name": "python",
   "nbconvert_exporter": "python",
   "pygments_lexer": "ipython3",
   "version": "3.7.7"
  }
 },
 "nbformat": 4,
 "nbformat_minor": 2
}
