{
 "cells": [
  {
   "cell_type": "markdown",
   "metadata": {},
   "source": [
    "# 문자열 기능 String method"
   ]
  },
  {
   "cell_type": "markdown",
   "metadata": {},
   "source": [
    "```python\n",
    "str.replace(old, new, *count) # old를 new로 count만큼 바꾼다.\n",
    "str.split(string) # string을 기준으로 str을 나눠서 list로 바꿔준다.\n",
    "str.join(list) # str을 구분점으로 list의 원소들을 string으로 바꿔준다.\n",
    "```"
   ]
  },
  {
   "cell_type": "code",
   "execution_count": 1,
   "metadata": {},
   "outputs": [
    {
     "data": {
      "text/plain": [
       "'bbbzccccczff'"
      ]
     },
     "execution_count": 1,
     "metadata": {},
     "output_type": "execute_result"
    }
   ],
   "source": [
    "sample_str = 'bbbacccccaff'\n",
    "sample_str.replace('a','z') # count값을 지정해주지 않으면 전부 바꾼다."
   ]
  },
  {
   "cell_type": "code",
   "execution_count": 2,
   "metadata": {},
   "outputs": [
    {
     "data": {
      "text/plain": [
       "['bbb', 'ccccc', 'ff']"
      ]
     },
     "execution_count": 2,
     "metadata": {},
     "output_type": "execute_result"
    }
   ],
   "source": [
    "sample_str = 'bbbacccccaff'\n",
    "sample_str.split('a') "
   ]
  },
  {
   "cell_type": "code",
   "execution_count": null,
   "metadata": {},
   "outputs": [],
   "source": [
    "sample_list = ['오늘의','날씨는','눈이','내립니다.']\n",
    "' '.join(sample_list) # list의 원소들을 띄어쓰기를 통해 합쳐준다."
   ]
  },
  {
   "cell_type": "code",
   "execution_count": null,
   "metadata": {},
   "outputs": [],
   "source": [
    "# 다음과 같은 신문 기사 문자열을 띄어쓰기를 기준으로 나눠보시오.\n",
    "news = '''\n",
    "1일 카카오톡에서 메시지 전송이 원활하게 되지 않는 등 일시적인 수·발신 장애로 사용자들이 불편을 겪었다.\n",
    "\n",
    "카카오는 공식 트위터를 통해 \"오늘 오전 0시부터 2시15분까지 카카오톡 메시지 수·발신이 일부 사용자에게 원활하지 않은 현상이 있었다\"면서 \"장애 감지 즉시 긴급 점검을 시작했고 현재는 모두 정상화된 상태\"라고 설명했다.\n",
    "'''"
   ]
  },
  {
   "cell_type": "markdown",
   "metadata": {},
   "source": [
    "# 문자열 indexing, slicing"
   ]
  },
  {
   "cell_type": "markdown",
   "metadata": {},
   "source": [
    "문자열을 indexing, slicing 할 때엔 다음과 같이 한다.\n",
    "```python\n",
    "str[0] # 첫번째 원소 indexing\n",
    "str[1:3] # 두번째 원소 이상, 네번째 원소 미만 slicing\n",
    "```"
   ]
  },
  {
   "cell_type": "code",
   "execution_count": null,
   "metadata": {},
   "outputs": [],
   "source": [
    "my_string = 'abcde'"
   ]
  },
  {
   "cell_type": "code",
   "execution_count": null,
   "metadata": {},
   "outputs": [],
   "source": [
    "my_string[0] # 문자열의 첫번째 값"
   ]
  },
  {
   "cell_type": "code",
   "execution_count": null,
   "metadata": {},
   "outputs": [],
   "source": [
    "my_string[1] # 문자열의 두번째 값"
   ]
  },
  {
   "cell_type": "code",
   "execution_count": null,
   "metadata": {},
   "outputs": [],
   "source": [
    "my_string[-1] # 문자열의 마지막 값"
   ]
  },
  {
   "cell_type": "code",
   "execution_count": null,
   "metadata": {},
   "outputs": [],
   "source": [
    "my_string[1:] # 두번째 값 이상부터 끝까지 선택"
   ]
  },
  {
   "cell_type": "code",
   "execution_count": null,
   "metadata": {},
   "outputs": [],
   "source": [
    "my_string[:2] # 세번쨰값 미만까지 선택"
   ]
  },
  {
   "cell_type": "code",
   "execution_count": null,
   "metadata": {},
   "outputs": [],
   "source": [
    "my_string[2:3] # 세번째값 이상부터 네번째값 미만까지"
   ]
  },
  {
   "cell_type": "markdown",
   "metadata": {},
   "source": [
    "**`시작 인덱스:끝 인덱스:간격`** 의 형식으로 간격을 표시할 수도 있다."
   ]
  },
  {
   "cell_type": "code",
   "execution_count": null,
   "metadata": {},
   "outputs": [],
   "source": [
    "my_string[::2] # 처음부터 끝까지 2간격으로"
   ]
  },
  {
   "cell_type": "code",
   "execution_count": null,
   "metadata": {},
   "outputs": [],
   "source": [
    "# 다음과 같은 문자열에서 짝수번째에 있는 원소들만 출력하시오.\n",
    "sample_str = '1234567890'"
   ]
  },
  {
   "cell_type": "markdown",
   "metadata": {},
   "source": [
    "# 문자열 formatting"
   ]
  },
  {
   "cell_type": "markdown",
   "metadata": {},
   "source": [
    "- 문자열 포멧팅이란, 문자열 안에 값을 자유롭게 넣는 것을 의미한다."
   ]
  },
  {
   "cell_type": "code",
   "execution_count": null,
   "metadata": {},
   "outputs": [],
   "source": [
    "myname = '신지섭'\n",
    "age = 25\n",
    "\n",
    "print('안녕? 내 이름은 {}이고, 나이는 {}이야.'.format(myname, age))"
   ]
  },
  {
   "cell_type": "markdown",
   "metadata": {},
   "source": [
    "- python 3.7부터는 다음과 같이 사용할 수도 있다."
   ]
  },
  {
   "cell_type": "code",
   "execution_count": null,
   "metadata": {},
   "outputs": [],
   "source": [
    "print(f'안녕? 내 이름은 {myname}이고, 나이는 {age}이야.')"
   ]
  },
  {
   "cell_type": "code",
   "execution_count": null,
   "metadata": {},
   "outputs": [],
   "source": [
    "# 간단한 사칙연산도 가능하다.\n",
    "print('나는 지금 {}살이고, 10년 뒤엔 {}살이 되겠지?'.format(age, age+10))\n",
    "print(f'나는 지금 {age}살이고, 10년 뒤엔 {age+10}살이 되겠지?')"
   ]
  },
  {
   "cell_type": "code",
   "execution_count": null,
   "metadata": {},
   "outputs": [],
   "source": [
    "# 자신의 이름과 성별을 string formatting을 통해 출력해보시오.\n"
   ]
  },
  {
   "cell_type": "markdown",
   "metadata": {},
   "source": [
    "# 리스트 기능 list method"
   ]
  },
  {
   "cell_type": "markdown",
   "metadata": {},
   "source": [
    "```python\n",
    "list.append(a) # a를 리스트의 가장 마지막에 추가\n",
    "list.reverse() # 리스트를 역순으로 만들어줌. 단, 리스트의 값을 바꾸지는 않는다.\n",
    "list.sort(reverse = False) # 리스트를 정렬해줌. reverse = True로 해주면 역순으로 정렬\n",
    "list.remove(a) # 리스트중 a라는 값 삭제\n",
    "```"
   ]
  },
  {
   "cell_type": "code",
   "execution_count": null,
   "metadata": {},
   "outputs": [],
   "source": [
    "my_list = ['a','b','c','d','e']\n",
    "my_list.append('f')"
   ]
  },
  {
   "cell_type": "code",
   "execution_count": null,
   "metadata": {},
   "outputs": [],
   "source": [
    "my_list.reverse() # 역순으로 표기. 단, my_list가 바뀌진 않는다. 새로운 리스트에 저장하던가 하자."
   ]
  },
  {
   "cell_type": "code",
   "execution_count": null,
   "metadata": {},
   "outputs": [],
   "source": [
    "my_list # 값이 바뀌지 않음을 알 수 있다."
   ]
  },
  {
   "cell_type": "code",
   "execution_count": null,
   "metadata": {},
   "outputs": [],
   "source": [
    "my_list.sort(reverse = True) # 역순으로 정렬"
   ]
  },
  {
   "cell_type": "code",
   "execution_count": null,
   "metadata": {},
   "outputs": [],
   "source": [
    "my_list.remove('a')"
   ]
  },
  {
   "cell_type": "code",
   "execution_count": null,
   "metadata": {},
   "outputs": [],
   "source": [
    "# 다음과 같은 리스트가 있을 때, 이를 역순으로 저장한 리스트 reverse_list를 만드시오.\n",
    "sample_list = [1,2,3,4,5,6,7,8,9]"
   ]
  },
  {
   "cell_type": "markdown",
   "metadata": {},
   "source": [
    "# 리스트 indexing, slicing"
   ]
  },
  {
   "cell_type": "markdown",
   "metadata": {},
   "source": [
    "리스트를 indexing, slicing 할 때엔 다음과 같이 한다.\n",
    "```python\n",
    "list[0] # 첫번째 원소 indexing\n",
    "list[1:3] # 두번째 원소 이상, 네번째 원소 미만 slicing\n",
    "```"
   ]
  },
  {
   "cell_type": "code",
   "execution_count": null,
   "metadata": {},
   "outputs": [],
   "source": [
    "my_list[1]"
   ]
  },
  {
   "cell_type": "code",
   "execution_count": null,
   "metadata": {},
   "outputs": [],
   "source": [
    "my_list[:3]"
   ]
  },
  {
   "cell_type": "code",
   "execution_count": null,
   "metadata": {},
   "outputs": [],
   "source": [
    "my_list[1:]"
   ]
  },
  {
   "cell_type": "code",
   "execution_count": null,
   "metadata": {},
   "outputs": [],
   "source": [
    "my_list[::2]"
   ]
  },
  {
   "cell_type": "code",
   "execution_count": null,
   "metadata": {},
   "outputs": [],
   "source": [
    "my_list[::-1] # 역순으로 뒤집기"
   ]
  },
  {
   "cell_type": "code",
   "execution_count": null,
   "metadata": {},
   "outputs": [],
   "source": [
    "# 리스트가 행렬꼴일 경우, 연속적인 indexing, slicing을 할 수 있다\n",
    "matrix = [[1,2,3],\n",
    "          [4,5,6],\n",
    "          [7,8,9]]"
   ]
  },
  {
   "cell_type": "code",
   "execution_count": null,
   "metadata": {},
   "outputs": [],
   "source": [
    "matrix[1][1]"
   ]
  },
  {
   "cell_type": "code",
   "execution_count": null,
   "metadata": {},
   "outputs": [],
   "source": [
    "# 다음과 같은 리스트가 있을 때, 짝수번째 요소만 출력하시오.\n",
    "my_list = [1,2,3,4,5,6,7,8,9,0]"
   ]
  },
  {
   "cell_type": "markdown",
   "metadata": {},
   "source": [
    "# 딕셔너리 more.."
   ]
  },
  {
   "cell_type": "markdown",
   "metadata": {},
   "source": [
    "- 사전은 다음과 같은 자료구조이다.\n",
    "```python\n",
    "dictionary = {key1 : value1,\n",
    "                key2 : value2,\n",
    "                key3 : value3}\n",
    "```"
   ]
  },
  {
   "cell_type": "markdown",
   "metadata": {},
   "source": [
    "- 특정 value값을 보고 싶을 땐, `dict_name[key]`를 사용한다.\n",
    "- 사전 전체의 key값을 보고 싶을 땐, `dict_name.keys()`를 사용한다.\n",
    "- 사전 전체의 value값을 보고 싶을 땐, `dict_name.values()`를 사용한다."
   ]
  },
  {
   "cell_type": "code",
   "execution_count": null,
   "metadata": {},
   "outputs": [],
   "source": [
    "# 전화번호부가 다음과 같이 주어져 있다.\n",
    "pnum_dict = {'신지섭' : '01012341234',\n",
    "             '이소연' : '01023452345',\n",
    "             '곽홍재' : '01034563456',\n",
    "             '김보현' : '01011212412'}\n",
    "# 신지섭의 전화번호는?\n",
    "\n",
    "# 전화번호부에 저장된 사용자들의 이름은?"
   ]
  },
  {
   "cell_type": "markdown",
   "metadata": {},
   "source": [
    "# 함수"
   ]
  },
  {
   "cell_type": "markdown",
   "metadata": {},
   "source": [
    "- 특정한 작업을 하는 코드의 모음\n",
    "- 함수를 부를 때에는 `함수명()` 로 불러준다.\n",
    "- 함수에 따라서는 입력해야 하는 값이 필요할 때가 있는데, 이를 인자(argument)라고 한다."
   ]
  },
  {
   "cell_type": "markdown",
   "metadata": {},
   "source": [
    "- 함수를 만들 때에는 `def`를 사용한다. 상세한 사용법은 아래와 같다.\n",
    "```python\n",
    "def function_name (argument1, argument2 ...):\n",
    "    과정 1\n",
    "    과정 2\n",
    "    return output\n",
    "```"
   ]
  },
  {
   "cell_type": "code",
   "execution_count": null,
   "metadata": {},
   "outputs": [],
   "source": [
    "# 아래 함수는 y = a*x + b와 같다.\n",
    "def f(x):\n",
    "    y = a * x + b\n",
    "    return y"
   ]
  },
  {
   "cell_type": "code",
   "execution_count": null,
   "metadata": {},
   "outputs": [],
   "source": [
    "# 인자를 필요로 하지 않는 함수는 다음과 같이 만들 수 있다.\n",
    "def hello():\n",
    "    return 'Hello World!'\n",
    "hello()"
   ]
  },
  {
   "cell_type": "code",
   "execution_count": null,
   "metadata": {},
   "outputs": [],
   "source": [
    "# 인자를 반드시 필요로 하는 함수에 대해, 인자를 입력하지 않으면 오류를 일으킨다.\n",
    "def hello_with_my_name(my_name):\n",
    "    return \"Hello World! I'm \" + my_name\n",
    "hello_with_my_name()"
   ]
  },
  {
   "cell_type": "code",
   "execution_count": null,
   "metadata": {},
   "outputs": [],
   "source": [
    "# 본인의 이름을 함수에 입력하고, 실행해보시오.\n",
    "def hello_with_my_name(my_name):\n",
    "    return \"Hello World! I'm \" + my_name\n",
    "hello_with_my_name('이름')"
   ]
  },
  {
   "cell_type": "code",
   "execution_count": null,
   "metadata": {},
   "outputs": [],
   "source": [
    "# 출력값, 입력값을 여러개로도 할 수 있다.\n",
    "def my_function(a, b, c, d):\n",
    "    a = a + 2\n",
    "    b = b + 3\n",
    "    c = c + 4\n",
    "    d = d * 2\n",
    "    return a,b,c,d\n",
    "my_function(1,2,3,4)"
   ]
  },
  {
   "cell_type": "code",
   "execution_count": null,
   "metadata": {},
   "outputs": [],
   "source": [
    "# 출력값을 저장하고 싶을 때엔 출력값의 개수만큼 변수를 지정해줘야 한다.\n",
    "x, y, z, w = my_function(1, 2, 3, 4)"
   ]
  },
  {
   "cell_type": "code",
   "execution_count": null,
   "metadata": {},
   "outputs": [],
   "source": [
    "# 리스트를 입력받고, 주어진 리스트를 순서대로 정렬하는 함수 sort를 만드시오.\n",
    "pratice_list = [9,2,4,1,6,3,7]\n",
    "\n",
    "def sort(x):"
   ]
  },
  {
   "cell_type": "markdown",
   "metadata": {},
   "source": [
    "# 내장함수"
   ]
  },
  {
   "cell_type": "markdown",
   "metadata": {},
   "source": [
    "- 파이썬에서 기본적으로 제공하는 함수 중 자주 사용하는 함수는 다음과 같다.\n",
    "```python\n",
    "len() # 길이, 특히 리스트의 원소의 개수를 구할 때 사용\n",
    "min(), max() # 최솟값, 최댓값을 뽑을 때 사용\n",
    "range(a,b,c) # 숫자의 범위를 구할 때 사용. a이상 b미만 간격은 c로\n",
    "sum() # 합을 구할 때 사용\n",
    "```"
   ]
  },
  {
   "cell_type": "code",
   "execution_count": null,
   "metadata": {},
   "outputs": [],
   "source": [
    "my_list = [1,2,3,4,5]"
   ]
  },
  {
   "cell_type": "code",
   "execution_count": null,
   "metadata": {},
   "outputs": [],
   "source": [
    "len(my_list)"
   ]
  },
  {
   "cell_type": "code",
   "execution_count": null,
   "metadata": {},
   "outputs": [],
   "source": [
    "min(my_list)"
   ]
  },
  {
   "cell_type": "code",
   "execution_count": null,
   "metadata": {},
   "outputs": [],
   "source": [
    "max(my_list)"
   ]
  },
  {
   "cell_type": "code",
   "execution_count": null,
   "metadata": {},
   "outputs": [],
   "source": [
    "sum(my_list)"
   ]
  },
  {
   "cell_type": "code",
   "execution_count": null,
   "metadata": {},
   "outputs": [],
   "source": [
    "# range() 함수는 주로 반복문과 함께 사용한다.\n",
    "for i in range(1,21,2): # 1부터 20까지 짝수만\n",
    "    print(i)"
   ]
  },
  {
   "cell_type": "markdown",
   "metadata": {},
   "source": [
    "# 모듈함수"
   ]
  },
  {
   "cell_type": "markdown",
   "metadata": {},
   "source": [
    "- 사용자가 불러온(import) 모듈에서 제공하는 함수.\n",
    "- 우리가 자주 사용할 것이므로, 익숙해지도록 한다.\n",
    "- 모듈명.함수명() 형식으로 사용한다."
   ]
  },
  {
   "cell_type": "code",
   "execution_count": null,
   "metadata": {},
   "outputs": [],
   "source": [
    "# 자주 사용하지는 않지만, 예시를 들기 위해 math라는 모듈을 불러와보겠다.\n",
    "import math\n",
    "\n",
    "# 원주율을 구하고 싶을 때\n",
    "math.pi"
   ]
  },
  {
   "cell_type": "code",
   "execution_count": null,
   "metadata": {},
   "outputs": [],
   "source": [
    "# 자연상수 e를 구하고 싶을 때\n",
    "math.e"
   ]
  },
  {
   "cell_type": "markdown",
   "metadata": {},
   "source": [
    "# 무명함수"
   ]
  },
  {
   "cell_type": "markdown",
   "metadata": {},
   "source": [
    "- 무명함수는 말 그대로 이름이 없는 함수이다.\n",
    "- 일반적인 함수는 여러 번 사용하지만, 무명함수는 한번 사용하고 버려지는 일회성 함수이다.\n",
    "- 다음과 같이 생성한다.\n",
    "```python\n",
    "함수이름 = lambda 인자 : 수식\n",
    "```"
   ]
  },
  {
   "cell_type": "code",
   "execution_count": null,
   "metadata": {},
   "outputs": [],
   "source": [
    "function = lambda x, y : x + y\n",
    "function(10, 20)"
   ]
  },
  {
   "cell_type": "code",
   "execution_count": null,
   "metadata": {},
   "outputs": [],
   "source": [
    "function = lambda x, y : x * y\n",
    "function(10, 20)"
   ]
  },
  {
   "cell_type": "code",
   "execution_count": null,
   "metadata": {},
   "outputs": [],
   "source": [
    "# 무명함수는 반드시 변수에 할당해서 사용하지 않아도 된다.\n",
    "# 함수가 들어갈 수 있는 자리에는 무명함수도 들어갈 수 있다."
   ]
  },
  {
   "cell_type": "markdown",
   "metadata": {},
   "source": [
    "- map() 함수는 함수, 리스트를 입력으로 받는 함수이다.\n",
    "- map() 함수를 사용하게 되면 해당 함수를 리스트의 모든 원소에 적용한 값을 return한다.\n",
    "```python\n",
    "map(function, list)\n",
    "```"
   ]
  },
  {
   "cell_type": "code",
   "execution_count": null,
   "metadata": {},
   "outputs": [],
   "source": [
    "# 리스트의 모든 원소들의 제곱근값으로 이루어진 리스트를 만들고 싶을 때"
   ]
  },
  {
   "cell_type": "code",
   "execution_count": 3,
   "metadata": {},
   "outputs": [],
   "source": [
    "# 리스트 만들기\n",
    "my_list = []\n",
    "for i in range(1,11):\n",
    "    my_list.append(i)\n",
    "    \n",
    "# my_list = [i for i in range(1,11)] 이렇게도 만들 수 있다."
   ]
  },
  {
   "cell_type": "code",
   "execution_count": 4,
   "metadata": {},
   "outputs": [],
   "source": [
    "## case1. def를 사용하는 경우\n",
    "def my_func(x):\n",
    "    return x ** (1/2)\n",
    "\n",
    "for i in range(len(my_list)):\n",
    "    my_list[i] = my_func(my_list[i])\n",
    "# 반복문을 한번 사용해야한다."
   ]
  },
  {
   "cell_type": "code",
   "execution_count": 5,
   "metadata": {},
   "outputs": [
    {
     "data": {
      "text/plain": [
       "[1.0,\n",
       " 1.4142135623730951,\n",
       " 1.7320508075688772,\n",
       " 2.0,\n",
       " 2.23606797749979,\n",
       " 2.449489742783178,\n",
       " 2.6457513110645907,\n",
       " 2.8284271247461903,\n",
       " 3.0,\n",
       " 3.1622776601683795]"
      ]
     },
     "execution_count": 5,
     "metadata": {},
     "output_type": "execute_result"
    }
   ],
   "source": [
    "my_list"
   ]
  },
  {
   "cell_type": "code",
   "execution_count": null,
   "metadata": {},
   "outputs": [],
   "source": [
    "## case2. lambda와 map을 사용하는 경우\n",
    "list( map( lambda x : x ** (1/2), my_list ) )"
   ]
  },
  {
   "cell_type": "code",
   "execution_count": null,
   "metadata": {},
   "outputs": [],
   "source": [
    "## case 3. def와 map을 사용하는 경우\n",
    "list(map(my_func, my_list))"
   ]
  },
  {
   "cell_type": "markdown",
   "metadata": {},
   "source": [
    "# 부록"
   ]
  },
  {
   "cell_type": "code",
   "execution_count": null,
   "metadata": {},
   "outputs": [],
   "source": [
    "# 이하 내용은 제가 알려드리지 않을 것입니다. 왜냐하면 여러분이 알고 있는 내용들이기 때문입니다.\n",
    "# 다만 아래와 같은 방법을 사용하면, 좀더 pythonic하게 코딩할 수 있습니다.\n",
    "# 또한, 몰라도 상관없습니다."
   ]
  },
  {
   "cell_type": "markdown",
   "metadata": {},
   "source": [
    "#### case 1. 반복문을 사용할 때에는 하나의 덩어리가 같이 사용되어야 한다."
   ]
  },
  {
   "cell_type": "code",
   "execution_count": null,
   "metadata": {},
   "outputs": [],
   "source": [
    "# 가령, list의 원소들을 반복문을 통해 하나하나 나열하고 싶다면 다음과 같이 쓸 수 있습니다.\n",
    "my_list = ['a','b','c','d','e']\n",
    "for i in my_list:\n",
    "    print(i)\n",
    "    \n",
    "# 혹은 indexing 기법을 활용해 아래와 같이 사용할 수 있겠네요.\n",
    "for i in len(my_list):\n",
    "    print(my_list[i])"
   ]
  },
  {
   "cell_type": "code",
   "execution_count": null,
   "metadata": {},
   "outputs": [],
   "source": [
    "# 그렇다면 사전의 경우 어떻게 반복문을 사용할 수 있을까요?\n",
    "# 사전의 경우, (key : value) 가 하나의 덩어리입니다. 따라서\n",
    "my_dict = {'a' : 111,\n",
    "           'b' : 222,\n",
    "           'c' : 333}\n",
    "\n",
    "# dict.items() : 사전의 원소를 key, value 형태로 반환.\n",
    "for j, k in my_dict.items():\n",
    "    print(j,k)"
   ]
  },
  {
   "cell_type": "code",
   "execution_count": 1,
   "metadata": {},
   "outputs": [
    {
     "data": {
      "text/plain": [
       "[(1, 5, 9), (2, 6, 10), (3, 7, 11), (4, 8, 12)]"
      ]
     },
     "execution_count": 1,
     "metadata": {},
     "output_type": "execute_result"
    }
   ],
   "source": [
    "# zip() 함수는 동일한 개수로 이루어진 자료구조를 순서대로 묶어주는 함수입니다.\n",
    "list1 = [1,2,3,4]\n",
    "list2 = [5,6,7,8]\n",
    "list3 = [9,10,11,12]\n",
    "my_list = list(zip(list1, list2, list3))\n",
    "my_list"
   ]
  },
  {
   "cell_type": "code",
   "execution_count": 2,
   "metadata": {},
   "outputs": [
    {
     "name": "stdout",
     "output_type": "stream",
     "text": [
      "1 5 9\n",
      "2 6 10\n",
      "3 7 11\n",
      "4 8 12\n"
     ]
    }
   ],
   "source": [
    "# zip() 함수와 반복문을 동시에 쓴다면 다음과 같이 사용할 수 있습니다.\n",
    "for i,j,k in zip(list1, list2, list3):\n",
    "    print(i, j, k)\n",
    "    \n",
    "# for문에 반복인자가 반드시 하나일 필요는 없다는 이야기를 하고 싶었습니다."
   ]
  },
  {
   "cell_type": "markdown",
   "metadata": {},
   "source": [
    "#### case2. lambda와 map이 짝꿍이듯이, list와 for 또한 짝꿍입니다."
   ]
  },
  {
   "cell_type": "code",
   "execution_count": null,
   "metadata": {},
   "outputs": [],
   "source": [
    "# lambda와 map은 보통 같이 씁니다.\n",
    "## lambda, map을 활용한 구구단\n",
    "list(map(lambda x:str(x//10) + ' x ' + str(x%10) + ' = ' + str((x//10)*(x%10)), range(10,100)))"
   ]
  },
  {
   "cell_type": "code",
   "execution_count": null,
   "metadata": {},
   "outputs": [],
   "source": [
    "# list 안에 for문을 활용할 수 있습니다. 이를 list comprehension이라고 합니다.\n",
    "# 1 ~ 10까지 담긴 list를 만들고 싶을 때,\n",
    "## case 1\n",
    "sample_list = []\n",
    "for i in range(1,11):\n",
    "    sample_list.append(i)\n",
    "print(sample_list)"
   ]
  },
  {
   "cell_type": "code",
   "execution_count": null,
   "metadata": {},
   "outputs": [],
   "source": [
    "## case 2\n",
    "sample_list = [i for i in range(1,11)]"
   ]
  },
  {
   "cell_type": "code",
   "execution_count": null,
   "metadata": {},
   "outputs": [],
   "source": [
    "# 이를 활용하면 다음과 같이 사용할 수도 있습니다.\n",
    "## 1부터 10까지 숫자를 두 배해서 출력\n",
    "[i*2 for i in range(1,11)]"
   ]
  },
  {
   "cell_type": "code",
   "execution_count": null,
   "metadata": {},
   "outputs": [],
   "source": [
    "# 조건문을 활용할 수도 있습니다.\n",
    "## 1부터 30까지 짝수만 출력\n",
    "[i for i in range(1,31) if i % 2 == 0]"
   ]
  },
  {
   "cell_type": "code",
   "execution_count": null,
   "metadata": {},
   "outputs": [],
   "source": [
    "# 이를 실전에서 응용한 예로는 다음과 같은 것들이 있습니다.\n",
    "## 두 리스트의 원소들의 모든 조합을 찾는 list comprehension\n",
    "epithets = ['sweet', 'annoying', 'cool', 'grey-eyed']\n",
    "names = ['john', 'alice', 'james']\n",
    "epithet_names = [(e, n) for e in epithets for n in names]"
   ]
  },
  {
   "cell_type": "code",
   "execution_count": null,
   "metadata": {},
   "outputs": [],
   "source": [
    "## 2차원 행렬을 1차원화 시키는 list comprehension\n",
    "matrix = [\n",
    "  [1, 2, 3, 4],\n",
    "  [5, 6, 7, 8],\n",
    "  [9, 10, 11, 12],\n",
    "]\n",
    "flatten = [e for r in matrix for e in r]"
   ]
  },
  {
   "cell_type": "code",
   "execution_count": null,
   "metadata": {},
   "outputs": [],
   "source": [
    "## 단어에서 모음을 제거하는 list comprehension\n",
    "word = 'mathematics'\n",
    "without_vowels = ''.join([c for c in word if c not in ['a', 'e', 'i', 'o', 'u']])"
   ]
  },
  {
   "cell_type": "code",
   "execution_count": null,
   "metadata": {},
   "outputs": [],
   "source": [
    "# list comprehension이 복잡해서 한눈에 들어오지 않는 경우에는, 반복문으로 바꿔 써 보는 연습을 하자."
   ]
  },
  {
   "cell_type": "markdown",
   "metadata": {},
   "source": [
    "#### case 3. lambda는 함수 자리에 다 들어갈 수 있다."
   ]
  },
  {
   "cell_type": "code",
   "execution_count": null,
   "metadata": {},
   "outputs": [],
   "source": [
    "# 아마 lambda가 어색할텐데, 이를 익숙하게 쓰는 연습을 해야 합니다.\n",
    "# 대표적으로 map()함수가 함수를 인자로 받는 함수입니다."
   ]
  },
  {
   "cell_type": "markdown",
   "metadata": {},
   "source": [
    "```python\n",
    "map(function, list)\n",
    "```"
   ]
  },
  {
   "cell_type": "code",
   "execution_count": null,
   "metadata": {},
   "outputs": [],
   "source": [
    "# 즉, 앞으로 공부하는 것들 중에서 함수가 들어가는 자리에는 전부 lambda가 들어갈 수 있습니다.\n",
    "## 두 list의 합을 구하는 lambda\n",
    "list1 = [1,2,3,4]\n",
    "list2 = [5,6,7,8]\n",
    "list(map(lambda x, y : x + y, list1, list2))"
   ]
  },
  {
   "cell_type": "markdown",
   "metadata": {},
   "source": [
    "- lambda 안에 조건문을 사용하고 싶을 땐 다음과 같이 사용합니다\n",
    "```python\n",
    "lambda 변수 : 조건문1 맞을때 실행문1 if 조건문1 else 조건문1 틀릴때 실행문\n",
    "```"
   ]
  },
  {
   "cell_type": "code",
   "execution_count": null,
   "metadata": {},
   "outputs": [],
   "source": [
    "# 주어진 list에서 짝수만 뽑아내는 lambda\n",
    "my_list = [i for i in range(11)]\n",
    "list(map(lambda x : x if x % 2 == 0, my_list))"
   ]
  },
  {
   "cell_type": "markdown",
   "metadata": {},
   "source": [
    "- lambda는 elif를 사용할 수 없고, 대신 if else문을 여러번 사용해야 합니다.\n",
    "```python\n",
    "lambda 변수 : 실행문1 if 조건문1 else 실행문2 if 조건문2 else 실행문3\n",
    "```"
   ]
  },
  {
   "cell_type": "code",
   "execution_count": null,
   "metadata": {},
   "outputs": [],
   "source": [
    "# 주어진 list에서 1이면 문자열로, 2면 float으로, 나머지는 +10을 해주는 lambda\n",
    "my_list = [i for i in range(11)]\n",
    "list(map(lambda x : str(x) if x == 1 else float(x) if x == 2 else x+10))"
   ]
  },
  {
   "cell_type": "code",
   "execution_count": null,
   "metadata": {},
   "outputs": [],
   "source": [
    "# lambda가 복잡해질수록 가독성도 떨어지고 코드를 고치기에도 많은 힘이 듭니다.\n",
    "# if-else문이 많아질수록 def를 사용하는 것을 권장합니다.\n",
    "def function1(x):\n",
    "    if x == 1:\n",
    "        return str(x)\n",
    "    elif x == 2:\n",
    "        return float(x)\n",
    "    else:\n",
    "        return x + 10\n",
    "    \n",
    "list(map(function1, my_list))"
   ]
  },
  {
   "cell_type": "code",
   "execution_count": null,
   "metadata": {},
   "outputs": [],
   "source": [
    "# lambda는 filter() 함수와도 짝꿍입니다.\n",
    "# filter()함수란, filter에 인자로 사용되는 함수는 처리되는 각각의 요소에 대해 논리값을 반환합니다. \n",
    "# True를 반환하면 그 요소는 남게 되고, False 를 반환하면 그 요소는 제거 됩니다.\n",
    "# 말 그대로 filter죠?\n",
    "num_list = [2, 18, 9, 22, 17, 24, 8, 12, 27]\n",
    "list( filter(lambda x: x % 3 == 0, num_list) )"
   ]
  }
 ],
 "metadata": {
  "kernelspec": {
   "display_name": "Python 3",
   "language": "python",
   "name": "python3"
  },
  "language_info": {
   "codemirror_mode": {
    "name": "ipython",
    "version": 3
   },
   "file_extension": ".py",
   "mimetype": "text/x-python",
   "name": "python",
   "nbconvert_exporter": "python",
   "pygments_lexer": "ipython3",
   "version": "3.7.7"
  }
 },
 "nbformat": 4,
 "nbformat_minor": 2
}
