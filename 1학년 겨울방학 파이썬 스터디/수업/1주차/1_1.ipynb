{
 "cells": [
  {
   "cell_type": "markdown",
   "metadata": {},
   "source": [
    "# 변수"
   ]
  },
  {
   "cell_type": "markdown",
   "metadata": {},
   "source": [
    "변수 선언은 = 을 이용한다."
   ]
  },
  {
   "cell_type": "code",
   "execution_count": 1,
   "metadata": {},
   "outputs": [],
   "source": [
    "# 변수 선언\n",
    "v = 50"
   ]
  },
  {
   "cell_type": "code",
   "execution_count": 4,
   "metadata": {},
   "outputs": [
    {
     "data": {
      "text/plain": [
       "float"
      ]
     },
     "execution_count": 4,
     "metadata": {},
     "output_type": "execute_result"
    }
   ],
   "source": [
    "type(v)"
   ]
  },
  {
   "cell_type": "code",
   "execution_count": 3,
   "metadata": {},
   "outputs": [],
   "source": [
    "v =1.5"
   ]
  },
  {
   "cell_type": "code",
   "execution_count": null,
   "metadata": {},
   "outputs": [],
   "source": [
    "# 변수 확인\n",
    "v"
   ]
  },
  {
   "cell_type": "code",
   "execution_count": null,
   "metadata": {},
   "outputs": [],
   "source": [
    "# 한꺼번에 여러 개의 변수를 지정할 수 있다\n",
    "a, b = 1, 2"
   ]
  },
  {
   "cell_type": "code",
   "execution_count": null,
   "metadata": {},
   "outputs": [],
   "source": [
    "# 변수명을 지을 때 -, 공백, 특수문자(%, $ 등등)을 사용하면 안된다. 또한, 첫글자에 숫자가 올 수 없다.\n",
    "3var = 1 # error"
   ]
  },
  {
   "cell_type": "code",
   "execution_count": null,
   "metadata": {},
   "outputs": [],
   "source": [
    "# 또한, 파이썬 키워드도 변수로 사용할 수 없다.\n",
    "for = 1"
   ]
  },
  {
   "cell_type": "markdown",
   "metadata": {},
   "source": [
    "변수를 삭제할 때엔 `del` 명령어를 사용한다."
   ]
  },
  {
   "cell_type": "code",
   "execution_count": null,
   "metadata": {},
   "outputs": [],
   "source": [
    "# 변수 삭제\n",
    "del v"
   ]
  },
  {
   "cell_type": "code",
   "execution_count": null,
   "metadata": {},
   "outputs": [],
   "source": [
    "v # 변수가 삭제된 것을 알 수 있다."
   ]
  },
  {
   "cell_type": "code",
   "execution_count": null,
   "metadata": {},
   "outputs": [],
   "source": [
    "# 자신의 이름, 나이를 각각 name, age라는 변수로 만들어 보시오.\n",
    "# code here"
   ]
  },
  {
   "cell_type": "markdown",
   "metadata": {},
   "source": [
    "# 논리 데이터"
   ]
  },
  {
   "cell_type": "markdown",
   "metadata": {},
   "source": [
    "논리데이터는 True, False 두 개만 있다."
   ]
  },
  {
   "cell_type": "code",
   "execution_count": null,
   "metadata": {},
   "outputs": [],
   "source": [
    "# 논리 데이터 확인\n",
    "type(True)"
   ]
  },
  {
   "cell_type": "markdown",
   "metadata": {},
   "source": [
    "논리 연산자로는 and, or, not이 있다."
   ]
  },
  {
   "cell_type": "code",
   "execution_count": null,
   "metadata": {},
   "outputs": [],
   "source": [
    "# 논리 연산자\n",
    "## and 연산자 : 두 값이 모두 True여야 True\n",
    "print('---and 연산자---')\n",
    "print('True and True :', True and True)\n",
    "print('True and False :', True and False)\n",
    "print('False and True :', False and True)\n",
    "print('False and False :', False and False)"
   ]
  },
  {
   "cell_type": "code",
   "execution_count": null,
   "metadata": {},
   "outputs": [],
   "source": [
    "## or 연산자 : 두 값중 하나라도 True면 True\n",
    "print('---or 연산자---')\n",
    "print('True or True :', True or True)\n",
    "print('True or False :', True or False)\n",
    "print('False or True :', False or True)\n",
    "print('False or False :', False or False)"
   ]
  },
  {
   "cell_type": "code",
   "execution_count": null,
   "metadata": {},
   "outputs": [],
   "source": [
    "## not 연산자 : 반대값을 출력\n",
    "print('---not 연산자---')\n",
    "print('not True : ', not True)\n",
    "print('not False : ', not False)"
   ]
  },
  {
   "cell_type": "code",
   "execution_count": null,
   "metadata": {},
   "outputs": [],
   "source": [
    "# (not True and True) or (False or False)의 값은 무엇인가? 한 번 생각해보시오.\n",
    "# code here"
   ]
  },
  {
   "cell_type": "markdown",
   "metadata": {},
   "source": [
    "# 숫자 데이터"
   ]
  },
  {
   "cell_type": "markdown",
   "metadata": {},
   "source": [
    "숫자데이터는 숫자로 이루어진 데이터이다. 실수형과 정수형으로 나뉜다."
   ]
  },
  {
   "cell_type": "code",
   "execution_count": null,
   "metadata": {},
   "outputs": [],
   "source": [
    "# 숫자 데이터 확인\n",
    "print(type(1)) \n",
    "print(type(1.5))\n",
    "print(type(2.0))"
   ]
  },
  {
   "cell_type": "markdown",
   "metadata": {},
   "source": [
    "숫자에 대한 기본적인 사칙연산을 지원한다."
   ]
  },
  {
   "cell_type": "code",
   "execution_count": null,
   "metadata": {},
   "outputs": [],
   "source": [
    "# 숫자 연산자\n",
    "print('2 + 3 = ', 2 + 3) # 덧셈\n",
    "print('3 * 2 = ', 3 * 2) # 곱셉\n",
    "print('4 / 2 = ', 4 / 2) # 나눗셈\n",
    "print('6 - 9 = ', 6 - 9) # 뺄셈\n",
    "print('5 // 2 = ', 5 // 2) # 몫\n",
    "print('5 % 2 = ', 5 % 2) # 나머지\n",
    "print('5 ** 2 = ', 5 ** 2) # 거듭제곱"
   ]
  },
  {
   "cell_type": "markdown",
   "metadata": {},
   "source": [
    "숫자의 대소를 비교하는 연산은 결과값이 True, False로 나타난다."
   ]
  },
  {
   "cell_type": "code",
   "execution_count": null,
   "metadata": {},
   "outputs": [],
   "source": [
    "# 숫자 비교 연산자\n",
    "print('1 > 3 :', 1 > 3)\n",
    "print('2 <= 4 :', 2 <= 4)\n",
    "print('1 == 1 :', 1 == 1)\n",
    "print('1 != 1 :', 1 != 1)"
   ]
  },
  {
   "cell_type": "markdown",
   "metadata": {},
   "source": [
    "보통 숫자의 연산과 논리의 연산을 동시에 하는 경우가 많다."
   ]
  },
  {
   "cell_type": "code",
   "execution_count": null,
   "metadata": {},
   "outputs": [],
   "source": [
    "3>0 and 1<0"
   ]
  },
  {
   "cell_type": "code",
   "execution_count": null,
   "metadata": {},
   "outputs": [],
   "source": [
    "# num1에는 10, num2에는 30이라는 값이 들어간 변수를 만들고, 두 변수의 곱셈을 출력하시오."
   ]
  },
  {
   "cell_type": "markdown",
   "metadata": {},
   "source": [
    "# 문자 데이터"
   ]
  },
  {
   "cell_type": "code",
   "execution_count": null,
   "metadata": {},
   "outputs": [],
   "source": [
    "# 문자 데이터 확인\n",
    "print(type('123'))\n",
    "print(type(123)) # 위 코드와 아래 코드의 차이는?"
   ]
  },
  {
   "cell_type": "code",
   "execution_count": null,
   "metadata": {},
   "outputs": [],
   "source": [
    "# 데이터 변환\n",
    "print(type(str(123))) # integer to string\n",
    "print(type(int('123'))) # string to integer"
   ]
  },
  {
   "cell_type": "code",
   "execution_count": null,
   "metadata": {},
   "outputs": [],
   "source": [
    "# 문자열에 따옴표가 들어갈 땐 주의해야한다.\n",
    "'신지섭이 말했다.'난 겨울이 너무 싫어!''"
   ]
  },
  {
   "cell_type": "code",
   "execution_count": null,
   "metadata": {},
   "outputs": [],
   "source": [
    "# 문자 데이터 연산\n",
    "'123' + '456' # 문자 데이터끼리는 더하기 가능"
   ]
  },
  {
   "cell_type": "code",
   "execution_count": null,
   "metadata": {},
   "outputs": [],
   "source": [
    "'123' * 2 # 곱셈은 숫자 * 문자열만 가능"
   ]
  },
  {
   "cell_type": "code",
   "execution_count": null,
   "metadata": {},
   "outputs": [],
   "source": [
    "# name이라는 변수에 자신의 이름을 넣고, 3번 곱해서 출력하시오.\n",
    "# code here"
   ]
  },
  {
   "cell_type": "markdown",
   "metadata": {},
   "source": [
    "# 조건문"
   ]
  },
  {
   "cell_type": "markdown",
   "metadata": {},
   "source": [
    "- 조건에 따라 다른 코드를 수행하고 싶을 때, 조건문을 사용한다.\n",
    "- 기본적으로 조건문과 실행문으로 구성되어 있다.\n",
    "- 조건이 참(True)일때만 실행문을 실행한다.\n",
    "- 들여쓰기를 반드시 지켜줘야 한다.\n",
    "```python\n",
    "if 조건:\n",
    "    실행문1\n",
    "    실행문2\n",
    "elif 조건2:\n",
    "    실행문3\n",
    "    실행문4\n",
    "else:\n",
    "    실행문5\n",
    "    실행문6\n",
    "```"
   ]
  },
  {
   "cell_type": "code",
   "execution_count": null,
   "metadata": {},
   "outputs": [],
   "source": [
    "if True:\n",
    "    print('조건이 True일때 실행되는 코드')\n",
    "else:\n",
    "    print('조건이 False일때 실행되는 코드')"
   ]
  },
  {
   "cell_type": "markdown",
   "metadata": {},
   "source": [
    "```python\n",
    "if 학점 >= 4.3:\n",
    "    장학금 받음\n",
    "else :\n",
    "    장학금 못받음\n",
    "```"
   ]
  },
  {
   "cell_type": "code",
   "execution_count": null,
   "metadata": {},
   "outputs": [],
   "source": [
    "# code here\n",
    "if\n",
    "else"
   ]
  },
  {
   "cell_type": "code",
   "execution_count": null,
   "metadata": {},
   "outputs": [],
   "source": [
    "# 학점 산출 프로그램\n",
    "score = int(input('성적을 입력하세요.')) \n",
    "# input함수는 입력함수이다. 기본적으로 string으로 반환하기 때문에, int()를 사용해 숫자로 바꿔준다.\n",
    "\n",
    "if score > 90:\n",
    "    print('A학점')\n",
    "elif score > 80 and score <= 90:\n",
    "    print('B학점')\n",
    "elif score > 70 and score <= 80:\n",
    "    print('C학점')\n",
    "else:\n",
    "    print('F학점')"
   ]
  },
  {
   "cell_type": "markdown",
   "metadata": {},
   "source": [
    "조건문은 중첩사용(nested)이 가능하다.\n",
    "```python\n",
    "if 조건문1:\n",
    "    실행문1\n",
    "    if 조건문2:\n",
    "        실행문2\n",
    "        \n",
    "elif 조건문3:\n",
    "    실행문3\n",
    "else:\n",
    "    실행문4\n",
    "```"
   ]
  },
  {
   "cell_type": "code",
   "execution_count": null,
   "metadata": {},
   "outputs": [],
   "source": [
    "# 20대 초반, 중반, 후반을 구분하는 프로그램을 작성하시오.\n",
    "# 단, 20살~22살은 초반, 23살~26살은 중반, 27살~29살은 후반이라고 한다.\n",
    "age = int(input('나이를 입력하세요 : '))\n",
    "# code here"
   ]
  },
  {
   "cell_type": "markdown",
   "metadata": {},
   "source": [
    "# 반복문"
   ]
  },
  {
   "cell_type": "markdown",
   "metadata": {},
   "source": [
    "반복문은 말 그대로 반복하는 문법이다. `for`문과 `while`문이 있다."
   ]
  },
  {
   "cell_type": "markdown",
   "metadata": {},
   "source": [
    "`for`문은 다음과 같이 사용한다.\n",
    "\n",
    "```python\n",
    "for 원소 in 집합(iterable):\n",
    "    실행문1\n",
    "    실행문2\n",
    "```\n",
    "순서가 있는 집합(iterable)에는 list, dictionary, range, tuple, string 등이 있다."
   ]
  },
  {
   "cell_type": "code",
   "execution_count": null,
   "metadata": {},
   "outputs": [],
   "source": [
    "# 1부터 10까지 출력\n",
    "for i in range(1,11):\n",
    "    print(i)"
   ]
  },
  {
   "cell_type": "code",
   "execution_count": null,
   "metadata": {},
   "outputs": [],
   "source": [
    "# range(a,b)는 a이상, b미만인 숫자의 범위이다. a의 기본값은 0으로 설정되어 있음.\n",
    "for i in range(10):\n",
    "    print(i)"
   ]
  },
  {
   "cell_type": "markdown",
   "metadata": {},
   "source": [
    "`while`문은 다음과 같이 사용한다.\n",
    "```python\n",
    "while 조건문:\n",
    "    실행문1\n",
    "    실행문2\n",
    "```\n",
    "- while문은 조건문이 False일때까지 반복한다. 즉 조건문이 True인 경우, 무한히 반복한다.\n",
    "- 따라서 while문을 사용할 때엔, 반드시 종료조건을 명시해줘야한다."
   ]
  },
  {
   "cell_type": "code",
   "execution_count": null,
   "metadata": {},
   "outputs": [],
   "source": [
    "# while문은 조건을 지정해주는 반복문이다\n",
    "i = 0\n",
    "while i <= 10: # i가 11이면 반복문 stop\n",
    "    print(i)\n",
    "    i = i + 1 # i값을 1씩 증가시킨다."
   ]
  },
  {
   "cell_type": "code",
   "execution_count": null,
   "metadata": {},
   "outputs": [],
   "source": [
    "# 임의로 종료조건을 명시해줘도 된다.\n",
    "i = 0\n",
    "while True:\n",
    "    print(i)\n",
    "    i = i + 1\n",
    "    if i == 10:\n",
    "        break # 반복을 중지"
   ]
  },
  {
   "cell_type": "markdown",
   "metadata": {},
   "source": [
    "반복문 또한 중첩사용(nested)이 가능하다.\n",
    "```python\n",
    "for 원소 in 집합:\n",
    "    for 원소 in 집합:\n",
    "        실행문1\n",
    "        실행문2\n",
    "```"
   ]
  },
  {
   "cell_type": "code",
   "execution_count": null,
   "metadata": {},
   "outputs": [],
   "source": [
    "# 반복문은 중첩이 가능하다.\n",
    "for i in range(10):\n",
    "    for k in range(1,11): # i와 k를 따로 씀에 유의\n",
    "        print(k)"
   ]
  },
  {
   "cell_type": "code",
   "execution_count": null,
   "metadata": {},
   "outputs": [],
   "source": [
    "# in 다음에는 반복 가능한 객체가 들어갈 수 있다\n",
    "for i in '빅데이터경영통계': # string, range(), list 등등...\n",
    "    print(i)"
   ]
  },
  {
   "cell_type": "code",
   "execution_count": null,
   "metadata": {},
   "outputs": [],
   "source": [
    "# 반복문을 특정 지점에서 중지하고 싶을 땐 break를 쓴다.\n",
    "for i in range(10):\n",
    "    if i == 5:\n",
    "        break\n",
    "    print(i)\n"
   ]
  },
  {
   "cell_type": "code",
   "execution_count": null,
   "metadata": {},
   "outputs": [],
   "source": [
    "# 특정 반복문을 넘기고 싶을 땐, continue를 사용한다.\n",
    "for i in range(10):\n",
    "    if i == 5:\n",
    "        continue\n",
    "    print(i)\n",
    "        "
   ]
  },
  {
   "cell_type": "code",
   "execution_count": null,
   "metadata": {},
   "outputs": [],
   "source": [
    "# for문을 활용해 1부터 100까지 숫자를 출력하시오. 단, 짝수는 출력하지 마시오.\n",
    "# code here"
   ]
  },
  {
   "cell_type": "markdown",
   "metadata": {},
   "source": [
    "# list"
   ]
  },
  {
   "cell_type": "markdown",
   "metadata": {},
   "source": [
    "- 리스트는 다양한 값을 순서대로 저장하는 자료구조이다.\n",
    "- 리스트를 활용해 벡터, 행렬을 표현할 수 있다."
   ]
  },
  {
   "cell_type": "code",
   "execution_count": null,
   "metadata": {},
   "outputs": [],
   "source": [
    "# 빈 리스트는 대괄호 기호를 사용하거나, 다음과 같이 만든다.\n",
    "empty_list = []\n",
    "empty_list = list() # 위랑 같다. 나는 보통 위 방법으로 리스트를 만든다."
   ]
  },
  {
   "cell_type": "code",
   "execution_count": null,
   "metadata": {},
   "outputs": [],
   "source": [
    "# 리스트 안에는 다양한 종류의 데이터가 들어갈 수 있다.\n",
    "mylist = [1, 2, 2, '신지섭', '새벽두시', '만든다.', ['할말이', '없다', 123]]"
   ]
  },
  {
   "cell_type": "code",
   "execution_count": null,
   "metadata": {},
   "outputs": [],
   "source": [
    "# 리스트의 길이를 알고 싶을 땐, len() 함수를 사용한다.\n",
    "len(my_list)"
   ]
  },
  {
   "cell_type": "code",
   "execution_count": null,
   "metadata": {},
   "outputs": [],
   "source": [
    "# 리스트의 원소들은 순서가 정해져 있다\n",
    "mylist[0] # 나중에 배울 것. indexing. list의 첫번째 원소를 뽑아낸다."
   ]
  },
  {
   "cell_type": "code",
   "execution_count": null,
   "metadata": {},
   "outputs": [],
   "source": [
    "# A부터 E까지 단어가 담긴 리스트를 만드시오.\n",
    "# code here"
   ]
  },
  {
   "cell_type": "code",
   "execution_count": null,
   "metadata": {},
   "outputs": [],
   "source": [
    "# 만든 리스트에서, 2번째 글자를 뽑아보시오."
   ]
  },
  {
   "cell_type": "markdown",
   "metadata": {},
   "source": [
    "# dictionary"
   ]
  },
  {
   "cell_type": "markdown",
   "metadata": {},
   "source": [
    "- 사전은 값을 key : value 형태로 저장하는 자료구조이다.\n",
    "- 이 때, key 값은 중복되면 안된다."
   ]
  },
  {
   "cell_type": "code",
   "execution_count": null,
   "metadata": {},
   "outputs": [],
   "source": [
    "# 빈 딕셔너리는 다음과 같이 만든다.\n",
    "empty_dict = {}\n",
    "empty_dict = dict()"
   ]
  },
  {
   "cell_type": "code",
   "execution_count": null,
   "metadata": {},
   "outputs": [],
   "source": [
    "# 딕셔너리에 값은 key1:value1, key2:value2 형태로 넣어준다.\n",
    "# value값은 어떠한 형태로도 들어갈 수 있다.\n",
    "pnum_dict = {'신지섭' : ['01012341234', 'aaa'], '이소연' : '0104123124', '이한석':'0104124515'}"
   ]
  },
  {
   "cell_type": "code",
   "execution_count": null,
   "metadata": {},
   "outputs": [],
   "source": [
    "# 현재 스터디를 같이 하는 친구들의 학번을 key로, 이름과 혈액형을 value로 갖는 딕셔너리를 만드시오.\n",
    "# code here"
   ]
  }
 ],
 "metadata": {
  "kernelspec": {
   "display_name": "Python 3",
   "language": "python",
   "name": "python3"
  },
  "language_info": {
   "codemirror_mode": {
    "name": "ipython",
    "version": 3
   },
   "file_extension": ".py",
   "mimetype": "text/x-python",
   "name": "python",
   "nbconvert_exporter": "python",
   "pygments_lexer": "ipython3",
   "version": "3.7.7"
  }
 },
 "nbformat": 4,
 "nbformat_minor": 2
}
