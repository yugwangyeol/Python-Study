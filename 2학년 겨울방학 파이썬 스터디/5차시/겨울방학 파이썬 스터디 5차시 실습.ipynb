{
 "cells": [
  {
   "cell_type": "code",
   "execution_count": null,
   "metadata": {},
   "outputs": [],
   "source": [
    "import pandas as pd\n",
    "import numpy as np\n",
    "import time as t\n",
    "import matplotlib.pyplot as plt\n",
    "%matplotlib inline"
   ]
  },
  {
   "cell_type": "markdown",
   "metadata": {},
   "source": [
    "<font color = \"#CC3D3D\"><p>\n",
    "# Topics\n",
    "- [Group Aggregation](#Grou-Aggregation)\n",
    "- [Pivot Table](#Pivot-Table)\n",
    "- [Apply와 Applymap](#Apply&Applymap)\n",
    "- [Datetime](#Datetime)"
   ]
  },
  {
   "cell_type": "markdown",
   "metadata": {},
   "source": [
    "# Groupby Aggregation\n",
    "<img align=\"left\" src=\"http://drive.google.com/uc?export=view&id=17lLj-fLLYk6Dxcz7yBIX7bMEl4PAESBB\" width=600>"
   ]
  },
  {
   "cell_type": "markdown",
   "metadata": {},
   "source": [
    "### groupby\n",
    "- 데이터를 그룹별로 나누고 집계함수를 적용해 결과를 합쳐주는 함수\n",
    "```python\n",
    "# Series 형식으로 뽑고 싶을 때\n",
    "data.groupby(key_column)[value_column].function()\n",
    "# Dataframe 형식으로 뽑고 싶을 때\n",
    "data.groupby(key_column)[[value_column]].function()\n",
    "data.groupby(key_column)[value_column].function().reset_index()\n",
    "```"
   ]
  },
  {
   "cell_type": "code",
   "execution_count": null,
   "metadata": {
    "scrolled": false
   },
   "outputs": [],
   "source": [
    "# 데이터 불러오기\n",
    "buy_info = pd.read_csv('Buy_info.csv', encoding = 'cp949')\n",
    "id_info = pd.read_csv('Id_info.csv', encoding = 'cp949')\n",
    "data = pd.merge(buy_info, id_info, on = 'ID')\n",
    "data"
   ]
  },
  {
   "cell_type": "code",
   "execution_count": null,
   "metadata": {},
   "outputs": [],
   "source": [
    "# column을 뽑지 않고 함수를 사용하면 문자열인 column을 제외하고 모든 열에 함수 적용\n",
    "data.groupby('ID').sum()"
   ]
  },
  {
   "cell_type": "code",
   "execution_count": null,
   "metadata": {},
   "outputs": [],
   "source": [
    "# column을 뽑고 함수를 사용하면 해당 열에 함수를 적용하고 이를 series로 반환\n",
    "data.groupby('ID')['구매수량'].sum()"
   ]
  },
  {
   "cell_type": "code",
   "execution_count": null,
   "metadata": {},
   "outputs": [],
   "source": [
    "# reset_index를 사용하면 기준열을 index에서 열로 바꾸고 dataframe 형식으로 반환\n",
    "data.groupby('ID')['구매수량'].sum().reset_index()"
   ]
  },
  {
   "cell_type": "code",
   "execution_count": null,
   "metadata": {},
   "outputs": [],
   "source": [
    "# 함수를 적용할 column을 복수로 추출 가능\n",
    "data.groupby('ID')[['구매수량','상품대분류명']].nunique().reset_index()"
   ]
  },
  {
   "cell_type": "code",
   "execution_count": null,
   "metadata": {},
   "outputs": [],
   "source": [
    "# 기준열 또한 복수 추출 가능, 먼저 쓴 열부터 기준\n",
    "data.groupby(['ID','상품대분류명'])[['구매수량']].sum()"
   ]
  },
  {
   "cell_type": "markdown",
   "metadata": {},
   "source": [
    "### 집계함수\n",
    "- 집계함수는 기본적인 통계연산을 지원\n",
    "\n",
    " `mean(), std(), sum(), count(), max(), min(), size() 등`\n",
    "\n",
    "- 직접 만든 함수를 사용하고 싶다면, agg() 메서드를 사용\n",
    "```python\n",
    "data.groupby(key_column)[value_column].agg()\n",
    "```"
   ]
  },
  {
   "cell_type": "code",
   "execution_count": null,
   "metadata": {},
   "outputs": [],
   "source": [
    "# agg()를 사용하여 복수의 함수 적용\n",
    "data.groupby('ID')['구매수량'].agg(['mean','count'])"
   ]
  },
  {
   "cell_type": "code",
   "execution_count": null,
   "metadata": {},
   "outputs": [],
   "source": [
    "# agg()안에는 일반적인 함수가 모두 들어갈 수 있음\n",
    "data.groupby('ID')['구매수량'].agg(lambda x : x.max()- x.min()).reset_index()"
   ]
  },
  {
   "cell_type": "code",
   "execution_count": null,
   "metadata": {},
   "outputs": [],
   "source": [
    "# 여러 함수를 적용할 때 column의 이름을 정해줄 수 있음\n",
    "data.groupby('ID')['구매수량'].agg([('최대값','max'),('최소값','min')]).reset_index()"
   ]
  },
  {
   "cell_type": "code",
   "execution_count": null,
   "metadata": {},
   "outputs": [],
   "source": [
    "# column을 뽑아오지 않고 각각의 column에 다른 함수를 적용 가능\n",
    "data.groupby('ID').agg({'구매수량' : 'mean', '구매금액' : 'max'}).reset_index()"
   ]
  },
  {
   "cell_type": "markdown",
   "metadata": {},
   "source": [
    "<font color = 'red'>Live Coding<p>\n",
    "    <font color = 'black'>아래 사진과 같은 결과가 나오도록 하시오. (단, 구매변동은 표준편차입니다.)<p>\n",
    "<img align=\"left\" src = \"ab.jpg\" width = 350>"
   ]
  },
  {
   "cell_type": "code",
   "execution_count": null,
   "metadata": {},
   "outputs": [],
   "source": [
    "# code here\n"
   ]
  },
  {
   "cell_type": "markdown",
   "metadata": {},
   "source": [
    "# Pivot Table\n",
    "<br><img align=\"left\" src=\"http://drive.google.com/uc?export=view&id=1HEBp4qq4GaksdQBb2fx2tRsq-gVR-j6d\" width=600>"
   ]
  },
  {
   "cell_type": "markdown",
   "metadata": {},
   "source": [
    "- 데이터를 바탕으로, 서로 다른 column의 조합을 표로 만들어서 데이터를 일목요연하게 보기 위한 도구\n",
    "- 피벗테이블을 잘 활용하면, 데이터를 상황에 맞춰 내가 원하는 조합으로 결합해 한눈에 볼 수 있음"
   ]
  },
  {
   "cell_type": "markdown",
   "metadata": {},
   "source": [
    "- 피벗테이블의 기본형식\n",
    "```python\n",
    "pd.pivot_table(data, values = column_name, index = column_name, \n",
    "                 columns = column_name, aggfunc = function)\n",
    "```"
   ]
  },
  {
   "cell_type": "code",
   "execution_count": null,
   "metadata": {},
   "outputs": [],
   "source": [
    "# 사용자별 각 상품중분류명의 총구매금액\n",
    "pd.pivot_table(data, values = '구매금액', index = 'ID', columns = '상품중분류명', aggfunc = np.sum).reset_index()"
   ]
  },
  {
   "cell_type": "code",
   "execution_count": null,
   "metadata": {},
   "outputs": [],
   "source": [
    "# 사용자별 각 상품중분류명의 총구매액 (단, Nan => 0)\n",
    "pd.pivot_table(data, values = '구매금액', index = 'ID', columns = '상품중분류명', aggfunc = np.sum, fill_value = 0).reset_index()"
   ]
  },
  {
   "cell_type": "markdown",
   "metadata": {},
   "source": [
    "<font color = 'red'>Live Coding<p>\n",
    "    <font color = 'black'>고객별 각 구매지역의 총구매수"
   ]
  },
  {
   "cell_type": "code",
   "execution_count": null,
   "metadata": {},
   "outputs": [],
   "source": [
    "# code here\n"
   ]
  },
  {
   "cell_type": "markdown",
   "metadata": {},
   "source": [
    "# Apply와 Applymap"
   ]
  },
  {
   "cell_type": "markdown",
   "metadata": {},
   "source": [
    "- apply는 dataframe의 row 또는 column들에게 똑같은 function을 일괄적으로 적용해주는 함수\n",
    "```python\n",
    "dataframe.apply(function)\n",
    "```\n",
    "\n",
    "- applymap은 dataframe의 모든 요소에 같은 function을 일괄적으로 적용해주는 함수\n",
    "```python\n",
    "dataframe.applymap(function)\n",
    "```\n",
    "\n",
    "* 주로 lambda와 함께 사용"
   ]
  },
  {
   "cell_type": "code",
   "execution_count": null,
   "metadata": {},
   "outputs": [],
   "source": [
    "# 1,2,3,4,5 그래프\n",
    "pd.Series(range(1,5)).plot()\n",
    "plt.show()"
   ]
  },
  {
   "cell_type": "code",
   "execution_count": null,
   "metadata": {},
   "outputs": [],
   "source": [
    "# apply로 역수를 취한 그래프\n",
    "pd.Series(range(1,5)).apply(lambda x: 1/x).plot()\n",
    "plt.show()"
   ]
  },
  {
   "cell_type": "code",
   "execution_count": null,
   "metadata": {},
   "outputs": [],
   "source": [
    "# apply를 활용해 column의 모든 값에 2 더해주기\n",
    "start = t.time()\n",
    "\n",
    "data['구매수량'].apply(lambda x : x+2).reset_index()\n",
    "\n",
    "print(t.time()-start)"
   ]
  },
  {
   "cell_type": "code",
   "execution_count": null,
   "metadata": {},
   "outputs": [],
   "source": [
    "# for문을 활용해 column의 모든 값에 2 더해주기\n",
    "start = t.time()\n",
    "\n",
    "구매수량_plus_2 = []\n",
    "for i in data['구매수량']:\n",
    "    구매수량_plus_2.append(i+2)\n",
    "data['구매수량+2'] = 구매수량_plus_2\n",
    "\n",
    "print(t.time()-start)"
   ]
  },
  {
   "cell_type": "code",
   "execution_count": null,
   "metadata": {},
   "outputs": [],
   "source": [
    "# applymap을 활용해 dataframe의 모든 값에 2 곱하기\n",
    "data2 = data[['ID','구매일자','구매시간','구매수량','구매금액']]\n",
    "data2.applymap(lambda x : x*2)"
   ]
  },
  {
   "cell_type": "markdown",
   "metadata": {},
   "source": [
    "# Datetime"
   ]
  },
  {
   "cell_type": "code",
   "execution_count": null,
   "metadata": {},
   "outputs": [],
   "source": [
    "# datetime으로 자료형 바꿔주기\n",
    "data['구매일자'] = pd.to_datetime(data.구매일자, format = '%Y%m%d')"
   ]
  },
  {
   "cell_type": "code",
   "execution_count": null,
   "metadata": {},
   "outputs": [],
   "source": [
    "data.info()"
   ]
  },
  {
   "cell_type": "code",
   "execution_count": null,
   "metadata": {},
   "outputs": [],
   "source": [
    "# datetime 함수\n",
    "data['구매일자'].dt.year"
   ]
  },
  {
   "cell_type": "code",
   "execution_count": null,
   "metadata": {},
   "outputs": [],
   "source": [
    "data['구매일자'].dt.month"
   ]
  },
  {
   "cell_type": "code",
   "execution_count": null,
   "metadata": {},
   "outputs": [],
   "source": [
    "data['구매일자'].dt.day"
   ]
  },
  {
   "cell_type": "code",
   "execution_count": null,
   "metadata": {},
   "outputs": [],
   "source": [
    "data['구매일자'].dt.dayofweek"
   ]
  },
  {
   "cell_type": "code",
   "execution_count": null,
   "metadata": {},
   "outputs": [],
   "source": [
    "data['구매일자'].dt.day_name()"
   ]
  }
 ],
 "metadata": {
  "kernelspec": {
   "display_name": "Python 3",
   "language": "python",
   "name": "python3"
  },
  "language_info": {
   "codemirror_mode": {
    "name": "ipython",
    "version": 3
   },
   "file_extension": ".py",
   "mimetype": "text/x-python",
   "name": "python",
   "nbconvert_exporter": "python",
   "pygments_lexer": "ipython3",
   "version": "3.8.5"
  }
 },
 "nbformat": 4,
 "nbformat_minor": 4
}
