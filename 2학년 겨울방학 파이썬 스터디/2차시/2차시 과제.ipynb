{
 "cells": [
  {
   "cell_type": "markdown",
   "metadata": {},
   "source": [
    "**Q1.** 현준이는 200만원을 은행에 년 3.7%의 복리이자를 주는 통장에 돈을 예금했다. 현준이는 몇년 후에 원리금이 초기 원금의 10배가 넘는지를 구하시오. "
   ]
  },
  {
   "cell_type": "code",
   "execution_count": 55,
   "metadata": {},
   "outputs": [
    {
     "name": "stdout",
     "output_type": "stream",
     "text": [
      "64\n"
     ]
    }
   ],
   "source": [
    "### 코드를 작성해주세요\n",
    "\n",
    "money = 2000000\n",
    "interest = 0.037\n",
    "year = 0\n",
    "\n",
    "while True:\n",
    "    if money<20000000:\n",
    "        money=money+money*interest\n",
    "        year+=1\n",
    "    else:\n",
    "        break\n",
    "    \n",
    "print(year)"
   ]
  },
  {
   "cell_type": "markdown",
   "metadata": {},
   "source": [
    "**Q2-1.** 주어진 리스트와 반복문을 사용하여 새로운 멘토-점수 Dictionary를 생성하세요.\n",
    "\n",
    "| key      | value |\n",
    "| ----------- | ----------- |\n",
    "| 김정하 | [ 72, 80, 97, 92] |\n",
    "| 마민정 | [ 93, 95, 100, 85] |\n",
    "| 유광열 | [ 75, 88, 79, 86] |\n",
    "| 이현준 | [ 77, 88, 69, 56] |"
   ]
  },
  {
   "cell_type": "code",
   "execution_count": 14,
   "metadata": {},
   "outputs": [],
   "source": [
    "###코드에 손대지 말고 실행해 주세요\n",
    "\n",
    "mento = ['김정하','마민정','유광열','이현준']\n",
    "score = [[72,80,97,92], [93,95,100,85], [75,88,79,86], [77,88,69,56]]"
   ]
  },
  {
   "cell_type": "code",
   "execution_count": 42,
   "metadata": {
    "scrolled": true
   },
   "outputs": [
    {
     "data": {
      "text/plain": [
       "{'김정하': [72, 80, 97, 92],\n",
       " '마민정': [93, 95, 100, 85],\n",
       " '유광열': [75, 88, 79, 86],\n",
       " '이현준': [77, 88, 69, 56]}"
      ]
     },
     "execution_count": 42,
     "metadata": {},
     "output_type": "execute_result"
    }
   ],
   "source": [
    "### 코드를 입력하세요\n",
    "\n",
    "mento_score = {}\n",
    "for i,j in enumerate(mento):\n",
    "    mento_score[j] = score[i]\n",
    "mento_score"
   ]
  },
  {
   "cell_type": "markdown",
   "metadata": {},
   "source": [
    "**Q2-2.** 위에서 만든 Dictionary를 사용하여 멘토당 평균 점수를 내어 멘토의 이름과 학점을 출력하세요\n",
    "\n",
    "    A+: 95점 이상\n",
    "    A0: 90점 이상\n",
    "    B+: 85점 이상\n",
    "    B0: 80점 이상\n",
    "    C+: 70점 이상\\\n",
    "    (for문과 if문을 사용하여 문제를 푸세요)"
   ]
  },
  {
   "cell_type": "code",
   "execution_count": 36,
   "metadata": {},
   "outputs": [
    {
     "data": {
      "text/plain": [
       "85.25"
      ]
     },
     "execution_count": 36,
     "metadata": {},
     "output_type": "execute_result"
    }
   ],
   "source": [
    "for \n",
    "(mento_score['김정하'][0] + mento_score['김정하'][1] + mento_score['김정하'][2] + mento_score['김정하'][3])/4"
   ]
  },
  {
   "cell_type": "code",
   "execution_count": 45,
   "metadata": {},
   "outputs": [
    {
     "name": "stdout",
     "output_type": "stream",
     "text": [
      "[72, 80, 97, 92]\n",
      "[93, 95, 100, 85]\n",
      "[75, 88, 79, 86]\n",
      "[77, 88, 69, 56]\n"
     ]
    }
   ],
   "source": [
    "for i in mento_score.values():\n",
    "    print(i)"
   ]
  },
  {
   "cell_type": "code",
   "execution_count": 54,
   "metadata": {},
   "outputs": [
    {
     "name": "stdout",
     "output_type": "stream",
     "text": [
      "김정하 님 B+입니다\n",
      "마민정 님 A0입니다\n",
      "유광열 님 B0입니다\n",
      "이현준 님 C+입니다\n"
     ]
    }
   ],
   "source": [
    "for i,j in enumerate(mento_score.values()):\n",
    "    sc = ((j[0]+j[1]+j[2]+j[3])/4)\n",
    "    if sc >= 95:\n",
    "        print(mento[i]+ ' 님 A+입니다')\n",
    "    elif sc>= 90:\n",
    "        print(mento[i]+ ' 님 A0입니다')\n",
    "    elif sc >= 85:\n",
    "        print(mento[i]+ ' 님 B+입니다')\n",
    "    elif sc >= 80:\n",
    "        print(mento[i]+ ' 님 B0입니다')\n",
    "    else:\n",
    "        print(mento[i]+ ' 님 C+입니다')"
   ]
  },
  {
   "cell_type": "markdown",
   "metadata": {},
   "source": [
    "**Q3.** 다음 조건으로 리스트를 나누시오\n",
    "\n",
    "    원소가 문자일때:\n",
    "        str_list에 추가\n",
    "    원소가 숫자일때:\n",
    "        num_list에 추가"
   ]
  },
  {
   "cell_type": "code",
   "execution_count": 60,
   "metadata": {},
   "outputs": [
    {
     "data": {
      "text/plain": [
       "[95, 4, -7, 9500]"
      ]
     },
     "execution_count": 60,
     "metadata": {},
     "output_type": "execute_result"
    }
   ],
   "source": [
    "# code here\n",
    "unclean_list = [95 , 4, -7, '국민대', '빅데이터경영통계','mento',9500]\n",
    "num_list = []\n",
    "str_list = []\n",
    "\n",
    "for i in range(len(unclean_list)):\n",
    "    if type(unclean_list[i])==int and float :\n",
    "        num_list.append(unclean_list[i])\n",
    "    else:\n",
    "        str_list.append(unclean_list[i])\n",
    "        \n",
    "num_list"
   ]
  },
  {
   "cell_type": "code",
   "execution_count": 61,
   "metadata": {},
   "outputs": [
    {
     "data": {
      "text/plain": [
       "['국민대', '빅데이터경영통계', 'mento']"
      ]
     },
     "execution_count": 61,
     "metadata": {},
     "output_type": "execute_result"
    }
   ],
   "source": [
    "str_list"
   ]
  },
  {
   "cell_type": "markdown",
   "metadata": {},
   "source": [
    "**Q4.** 다음 주어진 Dictionary를 아래와 같은 형태로 정렬하세요.\n",
    "\n",
    "    [(96, '이현준'), (92, '마민정'), (88, '김정하'), (83, '유광열')]"
   ]
  },
  {
   "cell_type": "code",
   "execution_count": 56,
   "metadata": {},
   "outputs": [
    {
     "data": {
      "text/plain": [
       "{'김정하': 88, '마민정': 92, '유광열': 83, '이현준': 96}"
      ]
     },
     "execution_count": 56,
     "metadata": {},
     "output_type": "execute_result"
    }
   ],
   "source": [
    "### 코드를 건드리지 마시고 실행해주세요.\n",
    "Dit = {'김정하':88,'마민정':92,'유광열':83,'이현준':96};Dit"
   ]
  },
  {
   "cell_type": "code",
   "execution_count": 57,
   "metadata": {},
   "outputs": [
    {
     "data": {
      "text/plain": [
       "[(96, '이현준'), (92, '마민정'), (88, '김정하'), (83, '유광열')]"
      ]
     },
     "execution_count": 57,
     "metadata": {},
     "output_type": "execute_result"
    }
   ],
   "source": [
    "### 코드를 입력하세요\n",
    "\n",
    "sorted([(v,k) for k, v in Dit.items()], reverse=True)"
   ]
  }
 ],
 "metadata": {
  "kernelspec": {
   "display_name": "Python 3",
   "language": "python",
   "name": "python3"
  },
  "language_info": {
   "codemirror_mode": {
    "name": "ipython",
    "version": 3
   },
   "file_extension": ".py",
   "mimetype": "text/x-python",
   "name": "python",
   "nbconvert_exporter": "python",
   "pygments_lexer": "ipython3",
   "version": "3.7.7"
  }
 },
 "nbformat": 4,
 "nbformat_minor": 4
}
