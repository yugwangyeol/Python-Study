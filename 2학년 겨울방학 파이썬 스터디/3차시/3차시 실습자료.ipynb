{
 "cells": [
  {
   "cell_type": "markdown",
   "metadata": {},
   "source": [
    "# 파이썬 겨울방학 스터디 3차시"
   ]
  },
  {
   "cell_type": "markdown",
   "metadata": {},
   "source": [
    "<font color = \"#CC3D3D\"><p>\n",
    "\n",
    "- [함수](#함수)\n",
    "    - [내장함수](#내장함수)\n",
    "    - [모듈함수](#모듈함수)\n",
    "    - [사용자 정의 함수](#사용자-정의-함수)\n",
    "    - [무명함수](#무명함수)\n",
    "- [문자열 formatting](#문자열-formatting)\n",
    "    - [% 서식](#%-서식)\n",
    "    - [format](#format)\n",
    "    - [f-string](#f-string)\n",
    "- [문자열 method](#문자열-method)\n",
    "    - [join](#join)\n",
    "    - [split](#split)\n",
    "    - [replace](#replace)\n",
    "    - [in, not in](#in,-not-in)"
   ]
  },
  {
   "cell_type": "markdown",
   "metadata": {},
   "source": [
    "# 함수"
   ]
  },
  {
   "cell_type": "markdown",
   "metadata": {},
   "source": [
    "- 함수(function)는 특정한 작업을 하는 코드 조각이다. \n",
    "  - 자주 사용되는 코드를 작성해 두고, 필요할 때마다 불러서 사용하기 위한 목적\n",
    "- 함수를 호출(call)할 때는 함수명 뒤에 `()`를 붙여준다.\n",
    "- 함수에 따라서는 실행에 필요한 어떤 값들을 넘겨줘야 하는데, 이를 **인자(argument)**라고 한다. "
   ]
  },
  {
   "cell_type": "markdown",
   "metadata": {},
   "source": [
    "### 내장함수"
   ]
  },
  {
   "cell_type": "markdown",
   "metadata": {},
   "source": [
    "<img align=\"left\" src=\"https://t1.daumcdn.net/cfile/tistory/274A1F4F5773A4A837\" width=700 height=600>"
   ]
  },
  {
   "cell_type": "markdown",
   "metadata": {},
   "source": [
    "`max(iterable)`는 인수로 반복 가능한 자료형을 입력받아 그 최댓값을 돌려주는 함수이다."
   ]
  },
  {
   "cell_type": "code",
   "execution_count": null,
   "metadata": {},
   "outputs": [],
   "source": [
    "max([1, 2, 3])"
   ]
  },
  {
   "cell_type": "code",
   "execution_count": null,
   "metadata": {},
   "outputs": [],
   "source": [
    "max(\"python\")"
   ]
  },
  {
   "cell_type": "markdown",
   "metadata": {},
   "source": [
    "`min(iterable)`은 max 함수와 반대로, 인수로 반복 가능한 자료형을 입력받아 그 최솟값을 돌려주는 함수이다."
   ]
  },
  {
   "cell_type": "code",
   "execution_count": null,
   "metadata": {},
   "outputs": [],
   "source": [
    "min([1, 2, 3])"
   ]
  },
  {
   "cell_type": "code",
   "execution_count": null,
   "metadata": {},
   "outputs": [],
   "source": [
    "min(\"python\")"
   ]
  },
  {
   "cell_type": "markdown",
   "metadata": {},
   "source": [
    "`sum(iterable)`은 입력받은 리스트나 튜플의 모든 요소의 합을 돌려주는 함수이다."
   ]
  },
  {
   "cell_type": "code",
   "execution_count": null,
   "metadata": {},
   "outputs": [],
   "source": [
    "sum([1,2,3])"
   ]
  },
  {
   "cell_type": "code",
   "execution_count": null,
   "metadata": {},
   "outputs": [],
   "source": [
    "sum((4,5,6))"
   ]
  },
  {
   "cell_type": "markdown",
   "metadata": {},
   "source": [
    "`len(s)`은 입력값 s의 길이(요소의 전체 개수)를 돌려주는 함수이다."
   ]
  },
  {
   "cell_type": "code",
   "execution_count": null,
   "metadata": {},
   "outputs": [],
   "source": [
    "len(\"python\")"
   ]
  },
  {
   "cell_type": "code",
   "execution_count": null,
   "metadata": {},
   "outputs": [],
   "source": [
    "len([1,2,3])"
   ]
  },
  {
   "cell_type": "code",
   "execution_count": null,
   "metadata": {},
   "outputs": [],
   "source": [
    "len((1, 'a'))"
   ]
  },
  {
   "cell_type": "markdown",
   "metadata": {},
   "source": [
    "`range([start,] stop[,step])`는 for문과 함께 자주 사용하는 함수이다. 이 함수는 입력받은 숫자에 해당하는 범위 값을 반복 가능한 객체로 만들어 돌려준다."
   ]
  },
  {
   "cell_type": "code",
   "execution_count": null,
   "metadata": {},
   "outputs": [],
   "source": [
    "list(range(5))"
   ]
  },
  {
   "cell_type": "code",
   "execution_count": null,
   "metadata": {},
   "outputs": [],
   "source": [
    "list(range(5, 10))"
   ]
  },
  {
   "cell_type": "code",
   "execution_count": null,
   "metadata": {},
   "outputs": [],
   "source": [
    "list(range(1, 10, 2))"
   ]
  },
  {
   "cell_type": "code",
   "execution_count": null,
   "metadata": {},
   "outputs": [],
   "source": [
    "list(range(0, -10, -1))"
   ]
  },
  {
   "cell_type": "markdown",
   "metadata": {},
   "source": [
    "`list(s)`는 반복 가능한 자료형 s를 입력받아 리스트로 만들어 돌려주는 함수이다."
   ]
  },
  {
   "cell_type": "code",
   "execution_count": null,
   "metadata": {},
   "outputs": [],
   "source": [
    "list(\"python\")"
   ]
  },
  {
   "cell_type": "code",
   "execution_count": null,
   "metadata": {},
   "outputs": [],
   "source": [
    "list((1,2,3))"
   ]
  },
  {
   "cell_type": "markdown",
   "metadata": {},
   "source": [
    "`int(x)`는 문자열 형태의 숫자나 소수점이 있는 숫자 등을 정수 형태로 돌려주는 함수로, 정수를 입력으로 받으면 그대로 돌려준다."
   ]
  },
  {
   "cell_type": "code",
   "execution_count": null,
   "metadata": {},
   "outputs": [],
   "source": [
    "int('3')"
   ]
  },
  {
   "cell_type": "code",
   "execution_count": null,
   "metadata": {},
   "outputs": [],
   "source": [
    "int(3.4)"
   ]
  },
  {
   "cell_type": "markdown",
   "metadata": {},
   "source": [
    "`str(object)`은 문자열 형태로 객체를 변환하여 돌려주는 함수이다."
   ]
  },
  {
   "cell_type": "code",
   "execution_count": null,
   "metadata": {},
   "outputs": [],
   "source": [
    "str(3)"
   ]
  },
  {
   "cell_type": "code",
   "execution_count": null,
   "metadata": {},
   "outputs": [],
   "source": [
    "str(3.4)"
   ]
  },
  {
   "cell_type": "markdown",
   "metadata": {},
   "source": [
    "`type(object)`은 입력값의 자료형이 무엇인지 알려 주는 함수이다."
   ]
  },
  {
   "cell_type": "code",
   "execution_count": null,
   "metadata": {},
   "outputs": [],
   "source": [
    "type(\"abc\")"
   ]
  },
  {
   "cell_type": "code",
   "execution_count": null,
   "metadata": {},
   "outputs": [],
   "source": [
    "type([ ])"
   ]
  },
  {
   "cell_type": "markdown",
   "metadata": {},
   "source": [
    "`sorted(iterable)` 함수는 입력값을 정렬한 후 그 결과를 리스트로 돌려주는 함수이다."
   ]
  },
  {
   "cell_type": "code",
   "execution_count": null,
   "metadata": {},
   "outputs": [],
   "source": [
    "sorted([3, 1, 2])"
   ]
  },
  {
   "cell_type": "code",
   "execution_count": null,
   "metadata": {},
   "outputs": [],
   "source": [
    "sorted(['a', 'c', 'b'])"
   ]
  },
  {
   "cell_type": "code",
   "execution_count": null,
   "metadata": {},
   "outputs": [],
   "source": [
    "sorted(\"zero\")"
   ]
  },
  {
   "cell_type": "code",
   "execution_count": null,
   "metadata": {},
   "outputs": [],
   "source": [
    "sorted((3, 2, 1))"
   ]
  },
  {
   "cell_type": "markdown",
   "metadata": {},
   "source": [
    "`round(number[, ndigits])` 함수는 숫자를 입력받아 반올림해 주는 함수이다."
   ]
  },
  {
   "cell_type": "code",
   "execution_count": null,
   "metadata": {},
   "outputs": [],
   "source": [
    "round(4.6)"
   ]
  },
  {
   "cell_type": "code",
   "execution_count": null,
   "metadata": {},
   "outputs": [],
   "source": [
    "round(4.2)"
   ]
  },
  {
   "cell_type": "code",
   "execution_count": null,
   "metadata": {},
   "outputs": [],
   "source": [
    "round(5.678, 2)"
   ]
  },
  {
   "cell_type": "markdown",
   "metadata": {},
   "source": [
    "`map(f, iterable)`은 함수(f)와 반복 가능한(iterable) 자료형을 입력으로 받는다. map은 입력받은 자료형의 각 요소를 함수 f가 수행한 결과를 묶어서 돌려주는 함수이다."
   ]
  },
  {
   "cell_type": "code",
   "execution_count": null,
   "metadata": {},
   "outputs": [],
   "source": [
    "def double(x):\n",
    "    return x*2"
   ]
  },
  {
   "cell_type": "code",
   "execution_count": null,
   "metadata": {},
   "outputs": [],
   "source": [
    "list(map(double, [1, 2, 3, 4]))"
   ]
  },
  {
   "cell_type": "markdown",
   "metadata": {},
   "source": [
    "`input([prompt])`은 사용자 입력을 받는 함수이다. 매개변수로 문자열을 주면 그 문자열은 프롬프트가 된다."
   ]
  },
  {
   "cell_type": "code",
   "execution_count": null,
   "metadata": {},
   "outputs": [],
   "source": [
    "a = input()"
   ]
  },
  {
   "cell_type": "code",
   "execution_count": null,
   "metadata": {},
   "outputs": [],
   "source": [
    "b = input('name : ')"
   ]
  },
  {
   "cell_type": "markdown",
   "metadata": {},
   "source": [
    "`enumerate`는 순서가 있는 자료형(리스트, 튜플, 문자열)을 입력으로 받아 인덱스 값을 포함하는 enumerate 객체를 돌려준다."
   ]
  },
  {
   "cell_type": "code",
   "execution_count": null,
   "metadata": {},
   "outputs": [],
   "source": [
    "for i, name in enumerate(['김정하', '마민정', '유광열', '이현준']):\n",
    "    print(i, name)"
   ]
  },
  {
   "cell_type": "markdown",
   "metadata": {},
   "source": [
    "`zip(*iterable)`은 동일한 개수로 이루어진 자료형을 묶어 주는 역할을 하는 함수이다."
   ]
  },
  {
   "cell_type": "code",
   "execution_count": null,
   "metadata": {},
   "outputs": [],
   "source": [
    "list(zip([1, 2, 3], [4, 5, 6]))"
   ]
  },
  {
   "cell_type": "code",
   "execution_count": null,
   "metadata": {},
   "outputs": [],
   "source": [
    "list(zip(\"abc\", \"def\"))"
   ]
  },
  {
   "cell_type": "markdown",
   "metadata": {},
   "source": [
    "### 모듈함수"
   ]
  },
  {
   "cell_type": "markdown",
   "metadata": {},
   "source": [
    "- 파이썬 파일은 `.py` 확장자를 붙인다. \n",
    "- 하나의 파이썬 파일을 \"모듈\"이라고 부른다.\n",
    "\n",
    "<img align=\"left\" src=\"http://drive.google.com/uc?export=view&id=14tJyLDklDGVn7cndniOSdciEoMLUoGII\" width=600 height=400>"
   ]
  },
  {
   "cell_type": "markdown",
   "metadata": {},
   "source": [
    "모듈은 `import` 문으로 불러서 사용할 수 있다. 이떄 `.py`는 뺀 모듈명을 지정한다."
   ]
  },
  {
   "cell_type": "code",
   "execution_count": null,
   "metadata": {},
   "outputs": [],
   "source": [
    "import mymath"
   ]
  },
  {
   "cell_type": "markdown",
   "metadata": {},
   "source": [
    "`import`한 모듈 이름 뒤에 `.`을 붙이면 모듈의 변수나 함수에 접근할 수 있다."
   ]
  },
  {
   "cell_type": "code",
   "execution_count": null,
   "metadata": {},
   "outputs": [],
   "source": [
    "mymath.add(5, 6)"
   ]
  },
  {
   "cell_type": "code",
   "execution_count": null,
   "metadata": {},
   "outputs": [],
   "source": [
    "mymath.sub(5, 6)"
   ]
  },
  {
   "cell_type": "markdown",
   "metadata": {},
   "source": [
    "사용의 편의를 위해 (긴) 모듈명 대신 약칭을 사용할 수 있다."
   ]
  },
  {
   "cell_type": "code",
   "execution_count": null,
   "metadata": {},
   "outputs": [],
   "source": [
    "import mymath as m\n",
    "m.add(5, 6)"
   ]
  },
  {
   "cell_type": "markdown",
   "metadata": {},
   "source": [
    "`from`과 `import`를 사용하면 모듈의 함수나 변수를 직접 불러올 수 있다."
   ]
  },
  {
   "cell_type": "code",
   "execution_count": null,
   "metadata": {},
   "outputs": [],
   "source": [
    "from mymath import add\n",
    "add(5, 6)"
   ]
  },
  {
   "cell_type": "code",
   "execution_count": null,
   "metadata": {},
   "outputs": [],
   "source": [
    "from mymath import add, sub\n",
    "add(5, 6) + sub(5, 6)"
   ]
  },
  {
   "cell_type": "markdown",
   "metadata": {},
   "source": [
    "### 사용자 정의 함수"
   ]
  },
  {
   "cell_type": "markdown",
   "metadata": {},
   "source": [
    "- 새로운 함수를 만들 때는 `def` 라는 키워드를 사용한다. `def`는 definition의 약자이다.\n",
    "- 함수를 실행(호출, call)시키고 싶을때, 함수명을 적어준 후 ()를 붙여준다.\n",
    "\n",
    "```python\n",
    "def function_name (argument1, argument2 ...):\n",
    "    과정 1\n",
    "    과정 2\n",
    "    return output\n",
    "\n",
    "function_name(argument1, argument2 ...)\n",
    "```"
   ]
  },
  {
   "cell_type": "code",
   "execution_count": null,
   "metadata": {},
   "outputs": [],
   "source": [
    "def hello():\n",
    "    return 'Hello World!'\n",
    "\n",
    "hello()"
   ]
  },
  {
   "cell_type": "code",
   "execution_count": null,
   "metadata": {},
   "outputs": [],
   "source": [
    "def hello_name(my_name):\n",
    "    return \"Hello World! I'm \" + my_name\n",
    "\n",
    "hello_with_my_name('민정')"
   ]
  },
  {
   "cell_type": "markdown",
   "metadata": {},
   "source": [
    "`출력값, 입력값`을 `여러개`로도 할 수 있다.  \n",
    "출력값을 저장하고 싶을 때엔 출력값의 개수만큼 변수를 지정해줘야 한다."
   ]
  },
  {
   "cell_type": "code",
   "execution_count": null,
   "metadata": {},
   "outputs": [],
   "source": [
    "def my_function(a, b, c, d):\n",
    "    a = a + 1\n",
    "    b = b + 2\n",
    "    c = c + 3\n",
    "    d = d + 4\n",
    "    return a,b,c,d\n",
    "\n",
    "my_function(1,2,3,4)"
   ]
  },
  {
   "cell_type": "code",
   "execution_count": null,
   "metadata": {},
   "outputs": [],
   "source": [
    "x, y, z, w = my_function(1, 2, 3, 4)"
   ]
  },
  {
   "cell_type": "code",
   "execution_count": null,
   "metadata": {},
   "outputs": [],
   "source": [
    "x, y, z, w"
   ]
  },
  {
   "cell_type": "markdown",
   "metadata": {},
   "source": [
    "함수의 인자가 여러 개인 경우 호출할 때마다 모든 인자를 넣어주는 것은 번거로운 작업일 수 있다.  \n",
    "=> 함수를 정의할 때 `인자의 기본값을 지정`하여, 인자를 생략하고 호출 시 해당 기본값이 인자 값이 되도록 할 수 있다."
   ]
  },
  {
   "cell_type": "code",
   "execution_count": null,
   "metadata": {},
   "outputs": [],
   "source": [
    "def my_function(a=1, b=2, c=3, d=4):\n",
    "    a = a + 1\n",
    "    b = b + 2\n",
    "    c = c + 3\n",
    "    d = d + 4\n",
    "    return a,b,c,d\n",
    "\n",
    "my_function()"
   ]
  },
  {
   "cell_type": "markdown",
   "metadata": {},
   "source": [
    "파이썬에서는 2가지 인자가 있는데 하나는 `positional argument`이고, 하나는 `keyword argument`이다.  \n",
    "전자는 말그대로 위치에 따라 정해지는 인자이며, 후자는 키워드(이름)를 가진 인자를 말한다."
   ]
  },
  {
   "cell_type": "code",
   "execution_count": null,
   "metadata": {},
   "outputs": [],
   "source": [
    "def func(x, y):\n",
    "    return x*10 + y\n",
    "\n",
    "func(1, 2)"
   ]
  },
  {
   "cell_type": "code",
   "execution_count": null,
   "metadata": {},
   "outputs": [],
   "source": [
    "func(y=2, x=1)"
   ]
  },
  {
   "cell_type": "markdown",
   "metadata": {},
   "source": [
    "<font color='red'><b>\n",
    "[Live Coding] 주어진 리스트를 순서대로 정렬하는 함수 sort를 만드시오.\n",
    "</b></font>"
   ]
  },
  {
   "cell_type": "code",
   "execution_count": null,
   "metadata": {},
   "outputs": [],
   "source": [
    "practice_list = [9,2,4,1,6,3,7]\n",
    "\n",
    "# code here\n"
   ]
  },
  {
   "cell_type": "markdown",
   "metadata": {},
   "source": [
    "### 무명함수"
   ]
  },
  {
   "cell_type": "markdown",
   "metadata": {},
   "source": [
    "- `lambda`는 이름이 없는 함수로 한번 쓰고 버리는 일회성 함수이다. \n",
    "- 즉, 일반적인 함수와 같이 한번 정의한 후 여러번 쓰는 것이 아니고 필요한 곳에서 한번만 사용한다.\n",
    "- `lambda` 정의에는 `return` 문이 포함되어 있지 않고, 대신 반환값을 만드는 표현식이 있다. \n",
    "\n",
    "```python\n",
    "함수이름 = lambda 인자 : 수식\n",
    "```"
   ]
  },
  {
   "cell_type": "code",
   "execution_count": null,
   "metadata": {},
   "outputs": [],
   "source": [
    "function = lambda x, y : x + y\n",
    "function(10, 20)"
   ]
  },
  {
   "cell_type": "code",
   "execution_count": null,
   "metadata": {},
   "outputs": [],
   "source": [
    "function = lambda x, y : x * y\n",
    "function(10, 20)"
   ]
  },
  {
   "cell_type": "markdown",
   "metadata": {},
   "source": [
    "일반함수가 사용될 수 있는 곳에는 어디라도 `lambda` 정의를 넣을 수 있으며, 반드시 변수에 할당하여 사용할 필요는 없다.  \n",
    "`map()` 함수를 사용하게 되면 해당 함수를 리스트의 모든 원소에 적용한 값을 return한다.\n",
    "```python\n",
    "map(function, list)\n",
    "```"
   ]
  },
  {
   "cell_type": "code",
   "execution_count": 12,
   "metadata": {},
   "outputs": [],
   "source": [
    "# my_list에서 리스트의 모든 원소들의 제곱근 값을 출력하는 함수\n",
    "my_list = [i for i in range(1,11)]"
   ]
  },
  {
   "cell_type": "code",
   "execution_count": null,
   "metadata": {},
   "outputs": [],
   "source": [
    "# def 함수 사용\n",
    "def my_func(x):\n",
    "    return x ** (1/2)\n",
    "\n",
    "for i in range(len(my_list)):\n",
    "    my_list[i] = my_func(my_list[i])\n",
    "\n",
    "print(my_list)"
   ]
  },
  {
   "cell_type": "code",
   "execution_count": null,
   "metadata": {},
   "outputs": [],
   "source": [
    "# lambda 힘수 사용\n",
    "list(map(lambda x : x ** (1/2), my_list))"
   ]
  },
  {
   "cell_type": "markdown",
   "metadata": {},
   "source": [
    "<font color='red'><b>\n",
    "[Live Coding] my_list에서 3의 배수이면 문자열로, 나머지는 그대로 출력하는 lambda 함수를 만드시오.\n",
    "</b></font>"
   ]
  },
  {
   "cell_type": "markdown",
   "metadata": {},
   "source": [
    "lambda 안에 조건문을 사용하고 싶을 땐 다음과 같이 사용한다.\n",
    "```python\n",
    "lambda 변수 : 조건문1 맞을때 실행문1 if 조건문1 else 조건문1 틀릴때 실행문\n",
    "```"
   ]
  },
  {
   "cell_type": "code",
   "execution_count": null,
   "metadata": {},
   "outputs": [],
   "source": [
    "# code here\n"
   ]
  },
  {
   "cell_type": "markdown",
   "metadata": {},
   "source": [
    "<font color='red'><b>\n",
    "[Live Coding] my_list에서 1이면 문자열로, 2면 실수형으로, 나머지는 +10을 출력해주는 lambda 함수를 만드시오.\n",
    "</b></font>"
   ]
  },
  {
   "cell_type": "markdown",
   "metadata": {},
   "source": [
    "lambda는 elif를 사용할 수 없고, 대신 `if else`문을 여러번 사용해야 한다.\n",
    "```python\n",
    "lambda 변수 : 실행문1 if 조건문1 else 실행문2 if 조건문2 else 실행문3\n",
    "```"
   ]
  },
  {
   "cell_type": "code",
   "execution_count": null,
   "metadata": {},
   "outputs": [],
   "source": [
    "# code here\n"
   ]
  },
  {
   "cell_type": "markdown",
   "metadata": {},
   "source": [
    "# 문자열 formatting"
   ]
  },
  {
   "cell_type": "markdown",
   "metadata": {},
   "source": [
    "### % 서식\n",
    "%자료형’%값  \n",
    "문자열 안에 `%s, %d, %f` 등을 넣어준 후, %기호 뒤에 원하는 값을 넣는다."
   ]
  },
  {
   "cell_type": "code",
   "execution_count": null,
   "metadata": {
    "scrolled": true
   },
   "outputs": [],
   "source": [
    "'제 이름은 %s이고, 나이는 %d입니다.'%('마민정', 22)"
   ]
  },
  {
   "cell_type": "markdown",
   "metadata": {},
   "source": [
    "`변수`를 지정해서 대입할 수도 있다."
   ]
  },
  {
   "cell_type": "code",
   "execution_count": null,
   "metadata": {},
   "outputs": [],
   "source": [
    "name = '마민정'\n",
    "age = 22\n",
    "\n",
    "'제 이름은 %s이고, 나이는 %d입니다.'%(name, age)"
   ]
  },
  {
   "cell_type": "markdown",
   "metadata": {},
   "source": [
    "간단한 `사칙연산`도 가능하다."
   ]
  },
  {
   "cell_type": "code",
   "execution_count": null,
   "metadata": {},
   "outputs": [],
   "source": [
    "'저는 지금 %d살이고, 10년 뒤엔 %d살이 됩니다.'%(age, age+10)"
   ]
  },
  {
   "cell_type": "markdown",
   "metadata": {},
   "source": [
    "### format\n",
    "문자열에 원하는 값을 대입할 수 있게 해준다.  \n",
    "문자열 안에 `{ }`를 넣어준 후, `format()`을 부르고 안에 원하는 값을 넣는다."
   ]
  },
  {
   "cell_type": "code",
   "execution_count": null,
   "metadata": {},
   "outputs": [],
   "source": [
    "'제 이름은 {}이고, 나이는 {}입니다.'.format('마민정', '22')"
   ]
  },
  {
   "cell_type": "code",
   "execution_count": 20,
   "metadata": {},
   "outputs": [
    {
     "data": {
      "text/plain": [
       "'제 이름은 마민정이고, 나이는 22입니다.'"
      ]
     },
     "execution_count": 20,
     "metadata": {},
     "output_type": "execute_result"
    }
   ],
   "source": [
    "name = '마민정'\n",
    "age = 22\n",
    "\n",
    "'제 이름은 {}이고, 나이는 {}입니다.'.format(name, age)"
   ]
  },
  {
   "cell_type": "code",
   "execution_count": null,
   "metadata": {},
   "outputs": [],
   "source": [
    "'저는 지금 {}살이고, 10년 뒤엔 {}살이 됩니다.'.format(age, age+10)"
   ]
  },
  {
   "cell_type": "markdown",
   "metadata": {},
   "source": [
    "`숫자 자리수`나 `소숫점 자리수`를 지정할 수 있다.  \n",
    "온점 앞은 `전체 자릿수`, 뒤는 `소수점 아래 자릿수`를 맞추는 것이다."
   ]
  },
  {
   "cell_type": "code",
   "execution_count": null,
   "metadata": {},
   "outputs": [],
   "source": [
    "'제 키는 {:1}cm이며, 몸무게는 {:.1f}kg, 체지방률은 {:2.2%}입니다'.format(160.7, 50.77, 0.20567)"
   ]
  },
  {
   "cell_type": "markdown",
   "metadata": {},
   "source": [
    "### f-string\n",
    "파이썬 3.6버전 이상에서 지원하는 새로운 문자열 포매팅 방법이다.  \n",
    "문자열 앞에 `f`를 붙이면 된다."
   ]
  },
  {
   "cell_type": "code",
   "execution_count": null,
   "metadata": {},
   "outputs": [],
   "source": [
    "name = '마민정'\n",
    "age = 22\n",
    "\n",
    "f'제 이름은 {name}입니다. 나이는 {age}입니다.'"
   ]
  },
  {
   "cell_type": "code",
   "execution_count": null,
   "metadata": {},
   "outputs": [],
   "source": [
    "f'저는 지금 {age}살이고, 10년 뒤엔 {age+10}살이 됩니다.'"
   ]
  },
  {
   "cell_type": "markdown",
   "metadata": {},
   "source": [
    "<font color='red'><b>\n",
    "[Live Coding] 자신의 성별과 혈액형을 세가지 string formatting을 통해 출력해보시오.\n",
    "</b></font>"
   ]
  },
  {
   "cell_type": "code",
   "execution_count": null,
   "metadata": {},
   "outputs": [],
   "source": [
    "# code here\n"
   ]
  },
  {
   "cell_type": "markdown",
   "metadata": {},
   "source": [
    "# 문자열 method"
   ]
  },
  {
   "cell_type": "markdown",
   "metadata": {},
   "source": [
    "### join\n",
    "str을 구분점으로 list의 원소들을 string으로 합쳐준다.\n",
    "```python\n",
    "str.join(list)\n",
    "```"
   ]
  },
  {
   "cell_type": "code",
   "execution_count": null,
   "metadata": {},
   "outputs": [],
   "source": [
    "\",\".join('abcd')"
   ]
  },
  {
   "cell_type": "markdown",
   "metadata": {},
   "source": [
    "문자열뿐만 아니라 `리스트`나 `튜플`도 입력으로 사용할 수 있다."
   ]
  },
  {
   "cell_type": "code",
   "execution_count": null,
   "metadata": {},
   "outputs": [],
   "source": [
    "\",\".join(['a', 'b', 'c', 'd'])"
   ]
  },
  {
   "cell_type": "markdown",
   "metadata": {},
   "source": [
    "### split\n",
    "string을 기준으로 str을 나눠서 list로 바꿔준다.\n",
    "```python\n",
    "str.split(string)\n",
    "```"
   ]
  },
  {
   "cell_type": "markdown",
   "metadata": {},
   "source": [
    "괄호 안에 아무 값도 넣어 주지 않으면 `공백(스페이스, 탭, 엔터 등)`을 기준으로 문자열을 나누어 준다. "
   ]
  },
  {
   "cell_type": "code",
   "execution_count": null,
   "metadata": {},
   "outputs": [],
   "source": [
    "s = \"Life is too short\"\n",
    "s.split()"
   ]
  },
  {
   "cell_type": "markdown",
   "metadata": {},
   "source": [
    "괄호 안에 특정 값이 있을 경우에는 괄호 안의 값을 `구분자`로 해서 문자열을 나누어 준다. "
   ]
  },
  {
   "cell_type": "code",
   "execution_count": null,
   "metadata": {},
   "outputs": [],
   "source": [
    "s = \"Life_is_too_short\"\n",
    "s.split(\"_\")"
   ]
  },
  {
   "cell_type": "markdown",
   "metadata": {},
   "source": [
    "### replace\n",
    "old를 new로 count만큼 바꿔준다.\n",
    "```python\n",
    "str.replace(old, new, *count) \n",
    "```        "
   ]
  },
  {
   "cell_type": "code",
   "execution_count": null,
   "metadata": {},
   "outputs": [],
   "source": [
    "s = \"aaa-bbb-ccc\"\n",
    "s.replace('a', 'x', 2)"
   ]
  },
  {
   "cell_type": "markdown",
   "metadata": {},
   "source": [
    "`여러개의 문자`를 기준으로 문자열을 바꿔줄 수 있다."
   ]
  },
  {
   "cell_type": "code",
   "execution_count": null,
   "metadata": {},
   "outputs": [],
   "source": [
    "s = 'Hey, you - what are you doing here!?'\n",
    "s.replace(',', '').replace('-', '').replace('!', '').replace('?', '')"
   ]
  },
  {
   "cell_type": "markdown",
   "metadata": {},
   "source": [
    "### in, not in\n",
    "`in`을 사용해 문자열 안에 해당 글자가 포함되었는지 확인할 수 있다.  \n",
    "`not in`을 사용해 반대로 해당 글자가 없는지 확인할 수 있다."
   ]
  },
  {
   "cell_type": "code",
   "execution_count": null,
   "metadata": {},
   "outputs": [],
   "source": [
    "'a' in 'abc'"
   ]
  },
  {
   "cell_type": "code",
   "execution_count": null,
   "metadata": {},
   "outputs": [],
   "source": [
    "'x' not in 'abc'"
   ]
  },
  {
   "cell_type": "markdown",
   "metadata": {},
   "source": [
    "문자열뿐만 아니라 `리스트`나 `튜플`도 입력으로 사용할 수 있다."
   ]
  },
  {
   "cell_type": "code",
   "execution_count": null,
   "metadata": {},
   "outputs": [],
   "source": [
    "1 in [1, 2, 3]"
   ]
  },
  {
   "cell_type": "code",
   "execution_count": null,
   "metadata": {},
   "outputs": [],
   "source": [
    "'a' not in ('a', 'b', 'c')"
   ]
  }
 ],
 "metadata": {
  "kernelspec": {
   "display_name": "Python 3",
   "language": "python",
   "name": "python3"
  },
  "language_info": {
   "codemirror_mode": {
    "name": "ipython",
    "version": 3
   },
   "file_extension": ".py",
   "mimetype": "text/x-python",
   "name": "python",
   "nbconvert_exporter": "python",
   "pygments_lexer": "ipython3",
   "version": "3.8.5"
  }
 },
 "nbformat": 4,
 "nbformat_minor": 4
}
