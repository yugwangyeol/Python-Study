{
 "cells": [
  {
   "cell_type": "markdown",
   "metadata": {},
   "source": [
    "# 겨울방학 파이썬 스터디 3차시 과제"
   ]
  },
  {
   "cell_type": "markdown",
   "metadata": {},
   "source": [
    "### 난이도 하 (1점)"
   ]
  },
  {
   "cell_type": "markdown",
   "metadata": {},
   "source": [
    "**Q1.**  회문(palindrome)이란 거꾸로 써도 똑같은 말이 되는 단어를 의미한다.\n",
    "```python\n",
    "'다시합창합시다', '수박이박수', '소주만병만주소', 'racecar'\n",
    "```\n",
    "입력받은 문자열이 회문인지 아닌지 판단하는 함수 palin()을 작성하시오. 단, 띄어쓰기는 무시한다."
   ]
  },
  {
   "cell_type": "code",
   "execution_count": 1,
   "metadata": {},
   "outputs": [
    {
     "data": {
      "text/plain": [
       "True"
      ]
     },
     "execution_count": 1,
     "metadata": {},
     "output_type": "execute_result"
    }
   ],
   "source": [
    "def palin(string):\n",
    "    return string==string[::-1]\n",
    "    \n",
    "palin('토마토')"
   ]
  },
  {
   "cell_type": "markdown",
   "metadata": {},
   "source": [
    "**Q2.** 이름을 입력하면 파이썬 스터디 멘토인지 아닌지 판별해주는 코드를 한줄로 적으시오.\n",
    "\n",
    "( ex. 김정하 -> 멘토가 맞습니다. / 아이유 -> 멘토가 아닙니다. )"
   ]
  },
  {
   "cell_type": "code",
   "execution_count": 2,
   "metadata": {},
   "outputs": [
    {
     "name": "stdout",
     "output_type": "stream",
     "text": [
      "이름을 입력하세요.마민정\n"
     ]
    },
    {
     "data": {
      "text/plain": [
       "'멘토가 맞습니다.'"
      ]
     },
     "execution_count": 2,
     "metadata": {},
     "output_type": "execute_result"
    }
   ],
   "source": [
    "mentor = ['마민정','김정하','이현준','유광열']\n",
    "name = str(input('이름을 입력하세요.'))\n",
    "\n",
    "'멘토가 맞습니다.' if name in mentor else '멘토가 아닙니다.'"
   ]
  },
  {
   "cell_type": "markdown",
   "metadata": {},
   "source": [
    "**Q3.** 80점 이상이면 A, 60점 이상이면 B 나머지는 F학점을 받게된다. 아래 리스트는 학생들의 점수이다. 학생들의 학점을 가지는 리스트를 lambda 함수를 사용하여 만드시오.\n",
    "\n",
    "```python\n",
    "score = [91,51,82,25,62,70]\n",
    "```"
   ]
  },
  {
   "cell_type": "code",
   "execution_count": 3,
   "metadata": {},
   "outputs": [
    {
     "data": {
      "text/plain": [
       "['A', 'F', 'A', 'F', 'B', 'B']"
      ]
     },
     "execution_count": 3,
     "metadata": {},
     "output_type": "execute_result"
    }
   ],
   "source": [
    "score = [91,51,82,25,62,70]\n",
    "list(map(lambda x : 'A' if x >= 80 else ('B' if x >= 60 else 'F'),score))"
   ]
  },
  {
   "cell_type": "markdown",
   "metadata": {},
   "source": [
    "**Q4.** 손흥민이 들어간 문장을 찾은 후에 모든 문장에 있는 손흥민을 박지성으로 바꾸세요."
   ]
  },
  {
   "cell_type": "code",
   "execution_count": 4,
   "metadata": {},
   "outputs": [],
   "source": [
    "news1 = '손흥민 선수가 우리시간 2일 영국 런던의 토트넘 홋스퍼 스타디움에서 열린 리즈 유나이티드와의 2020-2021시즌 잉글랜드 프로축구 프리미어리그(EPL) 17라운드에 선발 출전해 전반 43분 해리 케인의 도움을 받아 2-0을 만드는 골을 넣었습니다. 2015년 8월에 토트넘에 입단한 손흥민 이 이 팀 유니폼을 입고 253경기 만에 달성한 100번째 골입니다. 손흥민 은 토트넘 소속으로 EPL에서 65골, 잉글랜드축구협회 FA컵에서 12골, 유럽축구연맹(UEFA) 챔피언스리그에서 14골 등을 넣어 100골을 채웠습니다. 손흥민 은 또 올 시즌 EPL 12호 골을 기록, 득점 랭킹 공동 2위에서 단독 2위로 올라섰다. 선두 무함마드 살라흐(13골·리버풀)와 격차를 1골로 좁혔습니다. 이날 토트넘의 3번째 골을 도운 손흥민 의 올 시즌 공식전 공격포인트 기록은 15골 8도움(EPL 12골 5도움·유로파리그 3골 3도움)입니다. '\n",
    "news2 = '(서울=연합뉴스) 안홍석 기자 = 손흥민 (29)과 해리 케인(28)이 새해 첫 경기에서 잉글랜드 프로축구 프리미어리그(EPL) 역사상 최고의 콤비로 공인받았다. 손흥민 과 케인은 2020-2021시즌 EPL에서 지난해 12월까지 12골을 합작했다. 수비적인 조제 모리뉴 감독의 전술 속에서 토트넘의 공격을 두 선수가 책임지다시피 하며 역대급 콤비 플레이를 펼쳐 보였다. 한 선수가 내려와서 공격을 풀어주면, 다른 선수가 이를 골로 마무리 지으며 연일 골 폭풍을 몰아쳤다. 이들의 합작 골 행진은 지난달 14일 크리스털 팰리스전(1-1 무승부)에서 손흥민 의 도움으로 케인이 선제골을 넣은 뒤 멈췄다. 그러면서 토트넘도 크리스털 팰리스전부터 2무 2패에 그치며 부진했다. 2020년 마지막 경기인 풀럼과의 정규리그 경기가 신종 코로나바이러스 감염증(코로나19)으로 연기되면서 푹 쉰 손흥민 -케인 듀오는 새해 첫 경기부터 다시금 타올랐다. 손흥민 -케인 13골 합작…EPL 사상 최고 콤비로 우뚝(종합) - 2 (서울=연합뉴스) 안홍석 기자 = 손흥민 (29)과 해리 케인(28)이 새해 첫 경기에서 잉글랜드 프로축구 프리미어리그(EPL) 역사상 최고의 콤비로 공인받았다. 손흥민 과 케인은 2020-2021시즌 EPL에서 지난해 12월까지 12골을 합작했다. 수비적인 조제 모리뉴 감독의 전술 속에서 토트넘의 공격을 두 선수가 책임지다시피 하며 역대급 콤비 플레이를 펼쳐 보였다. 한 선수가 내려와서 공격을 풀어주면, 다른 선수가 이를 골로 마무리 지으며 연일 골 폭풍을 몰아쳤다. 이들의 합작 골 행진은 지난달 14일 크리스털 팰리스전(1-1 무승부)에서 손흥민 의 도움으로 케인이 선제골을 넣은 뒤 멈췄다. 그러면서 토트넘도 크리스털 팰리스전부터 2무 2패에 그치며 부진했다. 2020년 마지막 경기인 풀럼과의 정규리그 경기가 신종 코로나바이러스 감염증(코로나19)으로 연기되면서 푹 쉰 손흥민 -케인 듀오는 새해 첫 경기부터 다시금 타올랐다.'\n",
    "news3 = '토트넘은 2일(한국시간) 영국 런던의 토트넘 홋스퍼 스타디움에서 리즈 유나이티드를 상대로 2020-2021 EPL 17라운드에서 3-0으로 완승을 했다. 이날 경기의 최고 하이라이트는 손흥민 과 케인의 물오른 찰떡궁합이었다. 토트넘이 1-0으로 앞선 전반 43분 케인이 오른쪽에서 침투 패스를 찔러줬고, 손흥민 은 상대 수비 2명 사이를 재빠르게 뚫고 빈 곳으로 들어가 골 지역 오른쪽에서 오른발 슈팅으로 마무리해 골망을 흔들었다. 이들의 이번 시즌 13번째 합작 골이었다. 손흥민 과 케인은 이로써 1994-1995시즌 블랙번 로버스에서 13골을 함께 만들어낸 앨런 시어러-크리스 서턴과 단일 시즌 최다 골을 합작한 듀오로 어깨를 나란히 했다. 아직 시즌이 절반 지난 상태에서 손-케인 듀오는 시어러-서턴 듀오와 타이기록을 세웠다. 축구 통계전문 사이트 옵타도 트위터 계정을 통해 \"케인과 손흥민 이 이번 시즌 EPL에서 13골을 합작했다. 지금까지 단일 시즌에서 케인- 손흥민 보다 많은 골을 합작한 듀오는 없다\"고 전했다. 특히 손흥민 과 케인은 이날 콤비 플레이로 지금까지 EPL 무대에서 통산 33골째를 기록했다. 역대 최다골 합작 기록은 프랭크 램퍼드-디디에 드로그바(첼시)의 36골이다. 손흥민 -케인 듀오는 이 부문 역대 2위다. 이미 월드클래스로 인정받은 손흥민 과 케인이 EPL 올 타임 베스트 듀오로 공인받기까지 불과 3골만을 남겨뒀다. 전반기 페이스를 후반기에도 살려 나간다면 손흥민 과 케인은 후배 공격수들이 범접하기 힘든 합작 골 기록을 써내려갈 전망이다. 물론 케인과 손흥민 은 각자 기록으로도 토트넘의 역대급 공격수들이다. 이날 페널티킥 선제골까지 토트넘에서 205골을 넣은 케인은 지미 그리브스(266골), 보비 스미스(208골)에 이어 토트넘 역대 최다골 3위에 올라있다. 리그 12호골(시즌 15호골)을 작성하며 2015년 8월에 토트넘 입단 이후 253경기 만에 개인 통산 100호골을 달성한 손흥민 은 토트넘에서 역대 18번째로 100골 클럽에 가입했다.'\n",
    "news4 = '[스포츠조선 이원만 기자] 영국 전역에 신종 코로나바이러스 감염증(코로나19)이 창궐하고 있지만, 잉글랜드 프리미어리그(EPL) 사무국은 중단을 고려하고 있지 않다고 단호하게 밝혔다. 영국 공영방송 BBC는 31일(한국시각) 경기 중단을 요청한 샘 앨러다이스 웨스트 브로미치앨비언 감독 등의 요청에 대해 EPL 사무국이 시즌 중단을 논의하지 않는다는 입장을 밝혔다고 보도했다. EPL 사무국이 이처럼 단호하게 현장의 요청을 일축한 것은 영국 정부의 대처에 대한 믿음 때문으로 볼 수 있다. EPL 사무국은 정부의 코로나19 프로토콜을 신뢰하고 있다며 리그를 계속 진행하는 이유를 설명했다. 현재 영국은 코로나19의 재확산으로 위기를 맞고 있다. 특히 변종 바이러스가 등장해 봉쇄 조치에 들어간 지역이 늘어나는 추세다. EPL 역시 이런 여파에서 자유롭지 못하다. 지난 12월 21일부터 27일까지 각 구단 선수와 관계자 등 1479명을 대상으로 코로나19 검사를 진행한 결과 역대 최다인 18명의 확진자가 발생했다. 연기되는 경기들도 속속 등장하고 있다. 그러자 앨러다이스 감독을 비롯한 여러 현장 감독들이 서킷 브레이크(일시 중단)를 요청했다. 물론 현행대로 유지하는 게 맞다는 주장도 있다. EPL 사무국은 리그 속행에 힘을 실어줬다.'"
   ]
  },
  {
   "cell_type": "code",
   "execution_count": 5,
   "metadata": {},
   "outputs": [
    {
     "name": "stdout",
     "output_type": "stream",
     "text": [
      "True\n",
      "True\n",
      "True\n",
      "False\n",
      "5\n",
      "9\n",
      "11\n"
     ]
    },
    {
     "data": {
      "text/plain": [
       "'토트넘은 2일(한국시간) 영국 런던의 토트넘 홋스퍼 스타디움에서 리즈 유나이티드를 상대로 2020-2021 EPL 17라운드에서 3-0으로 완승을 했다. 이날 경기의 최고 하이라이트는 박지성 과 케인의 물오른 찰떡궁합이었다. 토트넘이 1-0으로 앞선 전반 43분 케인이 오른쪽에서 침투 패스를 찔러줬고, 박지성 은 상대 수비 2명 사이를 재빠르게 뚫고 빈 곳으로 들어가 골 지역 오른쪽에서 오른발 슈팅으로 마무리해 골망을 흔들었다. 이들의 이번 시즌 13번째 합작 골이었다. 박지성 과 케인은 이로써 1994-1995시즌 블랙번 로버스에서 13골을 함께 만들어낸 앨런 시어러-크리스 서턴과 단일 시즌 최다 골을 합작한 듀오로 어깨를 나란히 했다. 아직 시즌이 절반 지난 상태에서 손-케인 듀오는 시어러-서턴 듀오와 타이기록을 세웠다. 축구 통계전문 사이트 옵타도 트위터 계정을 통해 \"케인과 박지성 이 이번 시즌 EPL에서 13골을 합작했다. 지금까지 단일 시즌에서 케인- 박지성 보다 많은 골을 합작한 듀오는 없다\"고 전했다. 특히 박지성 과 케인은 이날 콤비 플레이로 지금까지 EPL 무대에서 통산 33골째를 기록했다. 역대 최다골 합작 기록은 프랭크 램퍼드-디디에 드로그바(첼시)의 36골이다. 박지성 -케인 듀오는 이 부문 역대 2위다. 이미 월드클래스로 인정받은 박지성 과 케인이 EPL 올 타임 베스트 듀오로 공인받기까지 불과 3골만을 남겨뒀다. 전반기 페이스를 후반기에도 살려 나간다면 박지성 과 케인은 후배 공격수들이 범접하기 힘든 합작 골 기록을 써내려갈 전망이다. 물론 케인과 박지성 은 각자 기록으로도 토트넘의 역대급 공격수들이다. 이날 페널티킥 선제골까지 토트넘에서 205골을 넣은 케인은 지미 그리브스(266골), 보비 스미스(208골)에 이어 토트넘 역대 최다골 3위에 올라있다. 리그 12호골(시즌 15호골)을 작성하며 2015년 8월에 토트넘 입단 이후 253경기 만에 개인 통산 100호골을 달성한 박지성 은 토트넘에서 역대 18번째로 100골 클럽에 가입했다.'"
      ]
     },
     "execution_count": 5,
     "metadata": {},
     "output_type": "execute_result"
    }
   ],
   "source": [
    "story_1 = news1.split(' ')\n",
    "story_2 = news2.split(' ')\n",
    "story_3 = news3.split(' ')\n",
    "story_4 = news4.split(' ')\n",
    "print('손흥민' in story_1)\n",
    "print('손흥민' in story_2)\n",
    "print('손흥민' in story_3)\n",
    "print('손흥민' in story_4)\n",
    "print(story_1.count('손흥민'))\n",
    "print(story_2.count('손흥민'))\n",
    "print(story_3.count('손흥민'))\n",
    "news1.replace('손흥민', '박지성', 5)\n",
    "news2.replace('손흥민', '박지성', 9)\n",
    "news3.replace('손흥민', '박지성', 11)"
   ]
  },
  {
   "cell_type": "markdown",
   "metadata": {},
   "source": [
    "### 난이도 중 (2점)"
   ]
  },
  {
   "cell_type": "markdown",
   "metadata": {},
   "source": [
    "**Q5.** n차원에 있는 두 점 a,b의 거리를 구하는 함수 distance를 만드시오.\n",
    "    \n",
    "    a = [1,8,-2,4,5]\n",
    "    b = [2,4,-10,7,-5]"
   ]
  },
  {
   "cell_type": "code",
   "execution_count": 6,
   "metadata": {},
   "outputs": [
    {
     "data": {
      "text/plain": [
       "13.74772708486752"
      ]
     },
     "execution_count": 6,
     "metadata": {},
     "output_type": "execute_result"
    }
   ],
   "source": [
    "a = [1,8,-2,4,5]\n",
    "b = [2,4,-10,7,-5]\n",
    "\n",
    "def distance(a,b):\n",
    "    dist_1=0\n",
    "    for i in range(1,len(a)):\n",
    "        dist_1 += (b[i] - a[i])**2\n",
    "    return (dist_1)**(1/2)\n",
    "\n",
    "distance(a,b)"
   ]
  },
  {
   "cell_type": "markdown",
   "metadata": {},
   "source": [
    "**Q6.** 음이 아닌 정수n과 k를 인자로 받아 nCk를 반환하는 함수를 만드시오.\n",
    "\n",
    "    예시1) 입력: 4,2    출력: 6\n",
    "    예시2) 입력: 5,3    출력: 10"
   ]
  },
  {
   "cell_type": "code",
   "execution_count": 7,
   "metadata": {},
   "outputs": [
    {
     "data": {
      "text/plain": [
       "6"
      ]
     },
     "execution_count": 7,
     "metadata": {},
     "output_type": "execute_result"
    }
   ],
   "source": [
    "def combination(n, k):\n",
    "    factorial = lambda x : x * factorial(x-1) if x > 1 else 1\n",
    "    nCk = factorial(n) // (factorial(k) * factorial(n-k))\n",
    "    return nCk\n",
    "\n",
    "combination(4, 2)"
   ]
  },
  {
   "cell_type": "markdown",
   "metadata": {},
   "source": [
    "**Q7.** 문자열에서 특정 문자가 문자열에 몇번 들어가는지 구하는 함수를 만드시오."
   ]
  },
  {
   "cell_type": "code",
   "execution_count": 8,
   "metadata": {},
   "outputs": [],
   "source": [
    "# 풀이1\n",
    "def str_count(string, particular_str):\n",
    "    word_list = string.split() # 문장을 받을 경우\n",
    "    count = 0\n",
    "    for i in word_list:\n",
    "        if i == particular_str:\n",
    "            count += 1\n",
    "    return count"
   ]
  },
  {
   "cell_type": "code",
   "execution_count": 9,
   "metadata": {},
   "outputs": [],
   "source": [
    "# 풀이2\n",
    "def str_count(string, particular_str):\n",
    "    return string.count(particular_str)"
   ]
  },
  {
   "cell_type": "code",
   "execution_count": 10,
   "metadata": {},
   "outputs": [
    {
     "data": {
      "text/plain": [
       "3"
      ]
     },
     "execution_count": 10,
     "metadata": {},
     "output_type": "execute_result"
    }
   ],
   "source": [
    "str_count('aaa bbb ccc', 'a')"
   ]
  },
  {
   "cell_type": "markdown",
   "metadata": {},
   "source": [
    "**Q8.** 영문 이름들로 이루어진 리스트를 넣으면, 영문 이니셜을 key, 영문 이름을 value로 가지는 딕셔너리를 만들어주는 함수를 이용하여 다음과 같이 출력하시오.\n",
    "\n",
    "    입력예시 : ['Ma Min Jeong', 'Kim Jeong Ha', 'Lee Hyun Jun' , 'Yu Gwang Yeol']\n",
    "    출력예시 : {'MMJ' : 'Ma Min Jeong', 'KJH' : 'Kim Jeong Ha', 'LHJ' : 'Lee Hyun Jun' , 'YGY': 'Yu Gwang Yeol'}"
   ]
  },
  {
   "cell_type": "code",
   "execution_count": 11,
   "metadata": {},
   "outputs": [
    {
     "name": "stdout",
     "output_type": "stream",
     "text": [
      "{'MMJ': 'Ma Min Jeong', 'KJH': 'Kim Jeong Ha', 'LHJ': 'Lee Hyun Jun', 'YGY': 'Yu Gwang Yeol'}\n"
     ]
    }
   ],
   "source": [
    "e_name = ['Ma Min Jeong', 'Kim Jeong Ha', 'Lee Hyun Jun' , 'Yu Gwang Yeol']\n",
    "\n",
    "def e_name_dict(name) :\n",
    "    person = [i.split() for i in name]\n",
    "    first = [j[0] for i in person for j in i] \n",
    "    Initials = [first[i] + first[i+1] + first[i+2] for i in range(0,len(first)-1,3)] \n",
    "    print(dict(zip(Initials, name)))\n",
    "\n",
    "e_name_dict(e_name)"
   ]
  },
  {
   "cell_type": "markdown",
   "metadata": {},
   "source": [
    "### 난이도 상 (3점)"
   ]
  },
  {
   "cell_type": "markdown",
   "metadata": {},
   "source": [
    "**Q9.** 배열 arr의 각 원소는 숫자 0부터 9까지로 이루어져 있다. 이때, 배열 arr에서 연속적으로 나타나는 숫자는 하나만 남기고 전부 제거하려고 한다. 단, 제거된 후 남은 수들을 반환할 때는 배열 arr의 원소들의 순서를 유지해야 한다. 배열 arr에서 연속적으로 나타나는 숫자는 제거하고 남은 수들을 return 하는 solution 함수를 완성하시오.\n",
    "\n",
    "    입력예시1) [1,1,3,3,0,1,1]   \n",
    "    출력예시1) [1,3,0,1]  \n",
    "\n",
    "    입력예시2) [4,4,4,3,3]   \n",
    "    출력예시2) [4,3]"
   ]
  },
  {
   "cell_type": "code",
   "execution_count": 12,
   "metadata": {},
   "outputs": [
    {
     "data": {
      "text/plain": [
       "[1, 3, 0, 1]"
      ]
     },
     "execution_count": 12,
     "metadata": {},
     "output_type": "execute_result"
    }
   ],
   "source": [
    "def solution(arr):\n",
    "    answer = []\n",
    "    for i in arr:\n",
    "        if len(answer) == 0:\n",
    "            answer.append(i)\n",
    "        elif i != answer[-1]:\n",
    "            answer.append(i)\n",
    "        else:\n",
    "            continue\n",
    "    return answer\n",
    "\n",
    "solution([1, 1, 3, 3, 0, 1, 1])"
   ]
  },
  {
   "cell_type": "markdown",
   "metadata": {},
   "source": [
    "**Q10.** 다음 숫자를 받아 각 자릿수의 합을 구하는 함수를 만드시오. 단, 입력된 숫자가 음수일 경우 각 자리수의 합*(-1)을 출력한다.\n",
    "\n",
    "    예시1) 입력: 1234   출력: 10\n",
    "    예시2) 입력: -101    출력: -2"
   ]
  },
  {
   "cell_type": "code",
   "execution_count": 13,
   "metadata": {},
   "outputs": [
    {
     "name": "stdout",
     "output_type": "stream",
     "text": [
      "수를 입력하시오:-101\n"
     ]
    },
    {
     "data": {
      "text/plain": [
       "-2"
      ]
     },
     "execution_count": 13,
     "metadata": {},
     "output_type": "execute_result"
    }
   ],
   "source": [
    "# 풀이1\n",
    "def f():\n",
    "    number = input('수를 입력하시오:')\n",
    "    number = ','.join(number)\n",
    "    a = number.split(',')\n",
    "    if a[0] == '-':\n",
    "        a.remove(a[0])\n",
    "        a = map(int,a)\n",
    "        ssum = (-1)*sum(a)\n",
    "    else:\n",
    "        a = map(int,a)\n",
    "        ssum = sum(a)\n",
    "    return ssum\n",
    "f()"
   ]
  },
  {
   "cell_type": "code",
   "execution_count": 14,
   "metadata": {},
   "outputs": [],
   "source": [
    "# 풀이2\n",
    "def num_sum():\n",
    "    number = input('수를 입력하시오:')\n",
    "    number = int(number)\n",
    "    ssum = 0\n",
    "    if number > 0:\n",
    "        for i in range(len(str(number))):\n",
    "            ssum = ssum + number % 10\n",
    "            number = number // 10\n",
    "    else:\n",
    "        number = number*(-1)\n",
    "        for i in range(len(str(number))):\n",
    "            ssum = ssum + number % 10\n",
    "            number = number // 10\n",
    "        ssum = ssum*(-1)\n",
    "    return ssum"
   ]
  },
  {
   "cell_type": "markdown",
   "metadata": {},
   "source": [
    "**Q11.** 수많은 학생 중, 단 한 명을 제외하고는 모두 시험을 통과하였다. 시험을 본 학생들의 이름이 담긴 배열 student 와 시험을 통과한 학생들의 이름이 담긴 배열 success 가 주어질 때, 통과하지 못한 학생의 이름을 return 하도록 exam 함수를 작성하시오. 단, 학생 중에는 동명이인이 있을 수 있다.\n",
    "    \n",
    "    입력예시1) student : ['광열', '현준', '민정'], success : ['현준', '민정']\n",
    "    출력예시1) '광열'\n",
    "    입력예시2) student : ['정하', '광열', '민정', '승수', '현준'], success : ['광열', '현준', '정하', '민정']\n",
    "    출력예시2) '승수'\n",
    "    입력예시3) student : ['민정', '정하', '민정', '현준'], success : ['정하', '현준', '민정']\n",
    "    출력예시3) '민정'"
   ]
  },
  {
   "cell_type": "code",
   "execution_count": 15,
   "metadata": {},
   "outputs": [
    {
     "data": {
      "text/plain": [
       "'승수'"
      ]
     },
     "execution_count": 15,
     "metadata": {},
     "output_type": "execute_result"
    }
   ],
   "source": [
    "# 풀이1\n",
    "def exam(student, success):\n",
    "    \n",
    "    student.sort()\n",
    "    success.sort()\n",
    "    \n",
    "    for i in range(len(success)):\n",
    "        if student[i] != success[i]:\n",
    "            return student[i]\n",
    "    return student[len(student)-1] # 동명이인의 학생이 마지막에 정렬되는 경우\n",
    "\n",
    "exam(['정하', '광열', '민정', '승수', '현준'],['광열', '현준', '정하', '민정'])"
   ]
  },
  {
   "cell_type": "code",
   "execution_count": 16,
   "metadata": {},
   "outputs": [
    {
     "data": {
      "text/plain": [
       "'민정'"
      ]
     },
     "execution_count": 16,
     "metadata": {},
     "output_type": "execute_result"
    }
   ],
   "source": [
    "# 풀이2\n",
    "import collections\n",
    "\n",
    "def exam(student, success):\n",
    "    answer = collections.Counter(student) - collections.Counter(success) \n",
    "    return list(answer.keys())[0]\n",
    "\n",
    "exam(['민정', '정하', '민정', '현준'],['정하', '현준', '민정'])"
   ]
  },
  {
   "cell_type": "markdown",
   "metadata": {},
   "source": [
    "**Q12.** 다음은 정렬(sort)하는 방법 중 하나인, bubble sort에 대한 설명입니다. 이를 참조하여 리스트를 입력했을때 버블정렬을 해주는 함수를 만드시오.\n",
    "\n",
    "```\n",
    "1. 정렬할 list를 입력받는다. [2, 1, 3, 2, 5]\n",
    "2. 맨 앞의 두 원소를 서로 비교한다. (2, 1)\n",
    "3-1. 만약 앞의 원소가 뒤의 원소보다 크다면, 두 원소의 위치를 서로 바꾼다. (2, 1) -> (1, 2)\n",
    "3-2. 만약 앞의 원소보다 뒤의 원소가 크다면, 그대로 둔다.\n",
    "4. 한 칸 오른쪽으로 이동한다. (2, 3)\n",
    "5. 3의 과정을 반복한다.\n",
    "6. 정렬이 완료될 때까지 3, 4를 반복 수행한다.\n",
    "```\n",
    "- 이해가 잘 되지 않는다면, (https://www.youtube.com/watch?v=xli_FI7CuzA) 를 참조해보자."
   ]
  },
  {
   "cell_type": "code",
   "execution_count": 17,
   "metadata": {},
   "outputs": [
    {
     "data": {
      "text/plain": [
       "[1, 2, 2, 3, 5]"
      ]
     },
     "execution_count": 17,
     "metadata": {},
     "output_type": "execute_result"
    }
   ],
   "source": [
    "def bubble_sort(lst):\n",
    "    for i in range(len(lst)-1):\n",
    "        for j in range(len(lst)-1-i):\n",
    "            if lst[j] > lst[j+1]:\n",
    "                lst[j], lst[j+1] = lst[j+1], lst[j]\n",
    "    return lst\n",
    "    \n",
    "bubble_sort([2, 1, 3, 2, 5])"
   ]
  }
 ],
 "metadata": {
  "kernelspec": {
   "display_name": "Python 3",
   "language": "python",
   "name": "python3"
  },
  "language_info": {
   "codemirror_mode": {
    "name": "ipython",
    "version": 3
   },
   "file_extension": ".py",
   "mimetype": "text/x-python",
   "name": "python",
   "nbconvert_exporter": "python",
   "pygments_lexer": "ipython3",
   "version": "3.7.7"
  }
 },
 "nbformat": 4,
 "nbformat_minor": 4
}
