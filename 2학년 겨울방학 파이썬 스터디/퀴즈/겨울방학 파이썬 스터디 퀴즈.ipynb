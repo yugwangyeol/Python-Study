{
 "cells": [
  {
   "cell_type": "markdown",
   "metadata": {},
   "source": [
    "# 겨울방학 파이썬 스터디 퀴즈\n",
    "\n",
    "- 제한 시간 :4시 10분 ~ 5시 55분 (1시간 45분)\n",
    "- 제출 방법 : ipynb 형식으로 다운로드 후, 각 멘토에게 개인 카톡으로 보내주시기 바랍니다.\n",
    "- 5시 10분부터 퇴장이 가능합니다. 최선을 다해서 퀴즈에 임해주시기 바랍니다.\n",
    "- 각 문제의 배점은 문제마다 적혀있고 기본점수 30점 + 문제 70점으로 구성되어 있습니다.\n",
    "- 제출하지 않을 경우, 기본점수는 제공되지 않습니다. \n",
    "- 부분 점수는 따로 드리지 않고, 출력값을 기준으로 정답이 나누어지게 됩니다. \n",
    "- 알고리즘 문제의 경우, 특정 입력값에서만 작동하는 것이 아닌 모든 경우에 작동되는 코드를 작성하셔야 정답으로 인정됩니다.\n",
    "- pandas : 5개의 csv파일이 df라는 이름으로 merge되어 있습니다. df를 활용하여 문제를 풀어주시면 됩니다.\n",
    "- 문제 이해와 관련한 질문이 있으시다면, 비공개 채팅으로 보내주시기 바랍니다."
   ]
  },
  {
   "cell_type": "markdown",
   "metadata": {},
   "source": [
    "**Q1.** 다음과 같은 은행 예치금 데이터가 있습니다. 남자, 여자 각각의 평균 은행 예치금을 구하시오. - 2점\n",
    "```python\n",
    "my_dict = {'마민정' : ['F', 10000],\n",
    "           '이현준' : ['M', 20000],\n",
    "           '유광열' : ['M', 15000],\n",
    "           '김정하' : ['F', 15000],\n",
    "           '한승수' : ['M', 25000]}\n",
    "```\n",
    "출력예시 : 남성의 평균 예치금은 $ y_1 $원이고, 여성의 평균 예치금은 $ y_2 $원입니다."
   ]
  },
  {
   "cell_type": "code",
   "execution_count": null,
   "metadata": {},
   "outputs": [],
   "source": [
    "account = {'마민정' : ['F', 10000],\n",
    "           '이현준' : ['M', 20000],\n",
    "           '유광열' : ['M', 15000],\n",
    "           '김정하' : ['F', 15000],\n",
    "           '한승수' : ['M', 25000]}"
   ]
  },
  {
   "cell_type": "code",
   "execution_count": null,
   "metadata": {},
   "outputs": [],
   "source": [
    "# code here\n",
    "\n",
    "\n"
   ]
  },
  {
   "cell_type": "markdown",
   "metadata": {},
   "source": [
    "**Q2.** 영어 문장을 입력받고, 입력받은 문장에서 대문자는 소문자로, 소문자는 대문자로 변환하여 출력하시오. (단, upper, lower을 사용하지 말고 구글링을 이용하시오.) - 2점\n",
    "\n",
    "예시) I love YOU -> i LOVE you"
   ]
  },
  {
   "cell_type": "code",
   "execution_count": null,
   "metadata": {},
   "outputs": [],
   "source": [
    "# code here \n",
    "\n",
    "\n"
   ]
  },
  {
   "cell_type": "markdown",
   "metadata": {},
   "source": [
    "**Q3.** 다음은 딸기당근수박참외메론 게임에 대한 설명입니다.  - 2점\n",
    "```\n",
    "1. 딸기\n",
    "2. 딸기-당근\n",
    "3. 딸기-당근-수박\n",
    "4. 딸기-당근-수박-참외\n",
    "5. 딸기-당근-수박-참외-메론\n",
    "6. 딸기-당근-수박-참외-메론-딸기\n",
    "7. 딸기-당근-수박-참외-메론-딸기-당근\n",
    "8. 딸기-당근-수박-참외-메론-딸기-당근-수박\n",
    "\n",
    "이후 7 6 5 4 3 2 1순으로 되풀이\n",
    "```\n",
    "- 1~16 사이의 숫자 n을 입력받고, n번째 사람이 말하는 것을 반복문을 작성하세요. \n",
    "- 예를 들어, 10을 입력하면 딸기-당근-수박-참외-메론-딸기 를 출력해야 합니다.\n",
    "- 출력 예시 ( - 도 꼭 포함해서 출력해야 합니다. ) :\n",
    "``` \n",
    "10번째 사람은 딸기-당근-수박-참외-메론-딸기-당근을 말해야지!\n",
    "```"
   ]
  },
  {
   "cell_type": "code",
   "execution_count": null,
   "metadata": {},
   "outputs": [],
   "source": [
    "num = int(input(' '))\n",
    "\n",
    "game_list = ['딸기','당근','수박','참외','메론','딸기','당근','수박']"
   ]
  },
  {
   "cell_type": "code",
   "execution_count": null,
   "metadata": {},
   "outputs": [],
   "source": [
    "# code here\n",
    "\n",
    "\n"
   ]
  },
  {
   "cell_type": "markdown",
   "metadata": {},
   "source": [
    "**Q4.** 다음과 같은 모양을 반복문을 사용해서 만드시오. - 4점\n",
    "\n",
    "\n",
    "     *            *\n",
    "     **          **\n",
    "     ***        ***\n",
    "     ****      ****\n",
    "     *****    *****\n",
    "     ******  ******\n",
    "     *****    *****\n",
    "     ****      ****\n",
    "     ***        ***\n",
    "     **          **\n",
    "     *            *"
   ]
  },
  {
   "cell_type": "code",
   "execution_count": null,
   "metadata": {},
   "outputs": [],
   "source": [
    "# code here\n",
    "\n",
    "\n"
   ]
  },
  {
   "cell_type": "markdown",
   "metadata": {},
   "source": [
    "**Q5.** 주어진 리스트의 짝수 번째만 뽑은 리스트를 출력하시오. (단, 리스트를 출력하는 것을 포함하여 한 줄로 만드시오.) - 2점"
   ]
  },
  {
   "cell_type": "code",
   "execution_count": null,
   "metadata": {},
   "outputs": [],
   "source": [
    "inp = [2,4,8,16,32,64,128,256,512,1024]"
   ]
  },
  {
   "cell_type": "code",
   "execution_count": null,
   "metadata": {},
   "outputs": [],
   "source": [
    "# code here\n",
    "\n",
    "\n"
   ]
  },
  {
   "cell_type": "markdown",
   "metadata": {},
   "source": [
    "**Q6.** 주어진 input 단어들을 조건에 맞게 리스트에 집어넣으시오. - 8점\n",
    "\n",
    "    조건 : [[ㄱ으로 시작하는 단어],~ ,[ㅎ으로 시작하는 단어]]\n",
    "    \n",
    "    출력예시 : \n",
    "    [['고국', '갖다', '거지', '교양', '경영학'], ['나전칠기'], ['듣다', '다람쥐', '대나무', '도굴', '데르트'], ['레드콤보'],\n",
    "    ['막걸리', '무생체', '마리아'], ['부자', '비상', '비밀', '보유', '빅데이터경영통계'], ['소프트웨어', '실수', '수출품'], \n",
    "    ['우정', '요술'], ['좀벌레', '잘리다'], ['처량', '초최', '척도'], ['카트라이더'], ['통계학'], ['편지'], ['한국']]"
   ]
  },
  {
   "cell_type": "code",
   "execution_count": null,
   "metadata": {},
   "outputs": [],
   "source": [
    "inputWord = ['막걸리', '부자', '비상', '비밀', '우정', '처량', '초최', '소프트웨어', '좀벌레', '듣다', '실수','편지',\n",
    "             '수출품', '고국', '다람쥐', '대나무', '도굴', '한국', '요술', '무생체', '보유', '갖다', '거지','카트라이더',\n",
    "             '잘리다', '데르트', '마리아', '교양', '척도', '빅데이터경영통계', '경영학','통계학','나전칠기','레드콤보']"
   ]
  },
  {
   "cell_type": "code",
   "execution_count": null,
   "metadata": {},
   "outputs": [],
   "source": [
    "# code here\n",
    "\n",
    "\n"
   ]
  },
  {
   "cell_type": "markdown",
   "metadata": {},
   "source": [
    "**Q7.** 자연수 n을 입력했을 때 n보다 작거나 같은 소수의 리스트를 반환하는 `is_prime`함수를 작성하시오. - 4점\n",
    "    \n",
    "    입력예시 : is_prime(10)\n",
    "    출력예시 : [2,3,5,7]"
   ]
  },
  {
   "cell_type": "code",
   "execution_count": null,
   "metadata": {},
   "outputs": [],
   "source": [
    "# code here\n",
    "\n",
    "\n"
   ]
  },
  {
   "cell_type": "markdown",
   "metadata": {},
   "source": [
    "**Q8.** 리스트를 입력받아 중복값을 제거하고 고유한 값만을 정렬해서 반환하는 `my_set`함수를 만드시오. (단, set()을 사용하지 마시오.) - 4점\n",
    "    \n",
    "    입력예시 : my_set([1,1,3,2,5,4,4,6,7])\n",
    "    출력예시 : [1,2,3,4,5,6,7]"
   ]
  },
  {
   "cell_type": "code",
   "execution_count": null,
   "metadata": {},
   "outputs": [],
   "source": [
    "# code here\n",
    "\n",
    "\n"
   ]
  },
  {
   "cell_type": "markdown",
   "metadata": {},
   "source": [
    "**Q9.** 다음 n차원을 입력받아 n-1차원 함수를 출력하는 `n_func` 함수를 만드시오. - 6점\n",
    "    \n",
    "    입력예시 : n_func(5)\n",
    "    출력예시 : '1 + 2x^1 + 3x^2 + 4x^3 + 5x^4'"
   ]
  },
  {
   "cell_type": "code",
   "execution_count": null,
   "metadata": {},
   "outputs": [],
   "source": [
    "# code here\n",
    "\n",
    "\n"
   ]
  },
  {
   "cell_type": "markdown",
   "metadata": {},
   "source": [
    "**Q10.** 짝지어 제거하기란, 알파벳 소문자로 이루어진 문자열을 가지고 시작합니다. 먼저 문자열에서 같은 알파벳이 2개 붙어 있는 짝을 찾습니다. 그 다음, 그 둘을 제거한 뒤, 앞뒤로 문자열을 이어 붙입니다. 이 과정을 반복해서 문자열을 모두 제거한다면 짝지어 제거하기가 종료됩니다.  \n",
    "문자열 s가 주어졌을 때, 짝지어 제거하기를 성공하면 `성공`을 실패하면 `실패`를 출력하는 `pair`함수를 작성하시오. - 8점\n",
    "\n",
    "알고리즘 예시1 : 문자열 s = baabaa 라면  \n",
    "b ***aa*** baa -> ***bb*** aa -> ***aa*** ->  \n",
    "의 순서로 문자열을 모두 제거할 수 있으므로 `성공`을 출력한다.\n",
    "\n",
    "알고리즘 예시2 : 문자열 s = cddcd 라면  \n",
    "c ***dd*** cd -> ***cc*** d -> d  \n",
    "의 순서로 문자열을 모두 제거할 수 있으므로 `실패`를 출력한다."
   ]
  },
  {
   "cell_type": "code",
   "execution_count": null,
   "metadata": {},
   "outputs": [],
   "source": [
    "# code here\n",
    "\n",
    "\n"
   ]
  },
  {
   "cell_type": "markdown",
   "metadata": {},
   "source": [
    "### [데이터 명세서]  \n",
    "\n",
    "Product\n",
    "\n",
    "- CLNT_ID : 방문자에 랜덤으로 부여된 고유 ID\n",
    "\n",
    "- SESS_ID : Web/App에 접속 후 세션이 시작될 때 부여된 고유 ID\n",
    "\n",
    "- HITS_SEQ : Web/App에서 페이지 또는 화면 클릭, 이벤트 참여, 검색 등 방문자의 행위에 대해 순서대로 배열된 일련번호\n",
    "\n",
    "- PD_C : 구매한 상품의 코드(최소단위)\n",
    "\n",
    "- PD_ADD_NM : 구매한 상품의 추가 정보\n",
    "\n",
    "- PD_BRA_NM : 구매한 상품의 브랜드\n",
    "\n",
    "- PD_BUY_AM : 구매한 상품 1개의 금액\n",
    "\n",
    "- PD_BUY_CT : 구매한 상품의 수량\n",
    "\n",
    "Search\n",
    "\n",
    "- CLNT_ID : 방문자에 랜덤으로 부여된 고유 ID\n",
    "\n",
    "- SESS_ID : Web/App에 접속 후 세션이 시작될 때 부여된 고유 ID\n",
    "\n",
    "- KWD_NM : 검색창에 입력한 검색 키워드\n",
    "\n",
    "- SEARCH_CNT : 세션 내 해당 검색어 검색량\n",
    "\n",
    "Session\n",
    "\n",
    "- CLNT_ID : 방문자에 랜덤으로 부여된 고유 ID\n",
    "\n",
    "- SESS_ID : Web/App에 접속 후 세션이 시작될 때 부여된 고유 ID\n",
    "\n",
    "- SESS_SEQ : Web/App에 접속 후 세션이 시작될 때 부여된 일련번호\n",
    "\n",
    "- SESS_DT : 세션일자(yyyymmdd 형식)\n",
    "\n",
    "- TOT_PAG_VIEW_CT : 세션 내의 총 페이지(화면) 뷰 수\n",
    "\n",
    "- TOT_SESS_HR_V : 세션 내 총 시간(단위 : 초)\n",
    "\n",
    "- DVC_CTG_NM : 기기 유형(1 : desktop, 2 : mobile, 3 : tablet)\n",
    "\n",
    "- ZON_NM : 세션기준 발생 대분류 지역명\n",
    "\n",
    "- CITY_NM : 세션기준 발생 중분류 지역명\n",
    "\n",
    "Master\n",
    "\n",
    "- PD_C : 구매한 상품의 코드(최소단위)\n",
    "\n",
    "- PD_NM : 상품명\n",
    "\n",
    "- CLAC1_NM : 상품 대분류명\n",
    "\n",
    "- CLAC2_NM : 상품 중분류명\n",
    "\n",
    "- CLAC3_NM : 상품 소분류명"
   ]
  },
  {
   "cell_type": "code",
   "execution_count": null,
   "metadata": {},
   "outputs": [],
   "source": [
    "import pandas as pd\n",
    "import numpy as np\n",
    "import warnings\n",
    "warnings.filterwarnings('ignore')\n",
    "\n",
    "import matplotlib.pyplot as plt\n",
    "from matplotlib import font_manager, rc\n",
    "%matplotlib inline\n",
    "import seaborn as sns\n",
    "\n",
    "import platform\n",
    "your_os = platform.system()\n",
    "if your_os == 'Linux':\n",
    "    rc('font', family = 'NanumGothic')\n",
    "elif your_os == 'Windows':\n",
    "    ttf = \"c:/Windows/Fonts/malgun.ttf\"\n",
    "    font_name = font_manager.FontProperties(fname = ttf).get_name()\n",
    "    rc('font', family = font_name)\n",
    "elif your_os == 'Darwin':\n",
    "    rc('font', family = 'AppleGothic')\n",
    "rc('axes', unicode_minus = False)"
   ]
  },
  {
   "cell_type": "code",
   "execution_count": null,
   "metadata": {},
   "outputs": [],
   "source": [
    "cust = pd.read_csv('cust.csv', encoding='UTF-8')\n",
    "product = pd.read_csv('product.csv', encoding='UTF-8')\n",
    "session = pd.read_csv('session.csv', encoding='UTF-8')\n",
    "search = pd.read_csv('search.csv', encoding='UTF-8')\n",
    "master = pd.read_csv('master.csv', encoding='UTF-8')"
   ]
  },
  {
   "cell_type": "code",
   "execution_count": null,
   "metadata": {},
   "outputs": [],
   "source": [
    "df = pd.merge(product, session, on = ['CLNT_ID','SESS_ID'])\n",
    "df = pd.merge(df, search, on = ['CLNT_ID','SESS_ID'])\n",
    "df = pd.merge(df, master, on = 'PD_C')\n",
    "df = pd.merge(df, cust, on='CLNT_ID')"
   ]
  },
  {
   "cell_type": "code",
   "execution_count": null,
   "metadata": {},
   "outputs": [],
   "source": [
    "df"
   ]
  },
  {
   "cell_type": "markdown",
   "metadata": {},
   "source": [
    "**Q11.** `PD_BUY_AM`열을 `int`형으로 바꾸고 고객별 총구매액, 구매건수, 평균구매액, 최대구매액, 최소구매액, 구매액 표준편차, 구매액 변동계수를 구하시오. - 4점"
   ]
  },
  {
   "cell_type": "code",
   "execution_count": null,
   "metadata": {},
   "outputs": [],
   "source": [
    "# code here\n",
    "\n",
    "\n"
   ]
  },
  {
   "cell_type": "markdown",
   "metadata": {},
   "source": [
    "**Q12.** 위에 만든 `feature`를 가지고 아래와 같은 히트맵을 만드시오. (단, 그래프의 크기는 (10,8)이고 칸 사이의 넓이는 0.2으로 하시오.) - 2점\n",
    "<img align=\"left\" src = \"heatmap.jpg\" width = 500>"
   ]
  },
  {
   "cell_type": "code",
   "execution_count": null,
   "metadata": {},
   "outputs": [],
   "source": [
    "# code here\n",
    "\n",
    "\n"
   ]
  },
  {
   "cell_type": "markdown",
   "metadata": {},
   "source": [
    "**Q13.** 고객별, 상품 대분류별 구매건수를 구하시오. (단, 모든 대분류가 출력되어야 하고 NaN값은 0으로 채우시오.) - 2점"
   ]
  },
  {
   "cell_type": "code",
   "execution_count": null,
   "metadata": {},
   "outputs": [],
   "source": [
    "# code here\n",
    "\n",
    "\n"
   ]
  },
  {
   "cell_type": "markdown",
   "metadata": {},
   "source": [
    "**Q14.** 고객별로 주중방문비율, 주말방문비율을 구하시오. - 6점"
   ]
  },
  {
   "cell_type": "code",
   "execution_count": null,
   "metadata": {},
   "outputs": [],
   "source": [
    "# code here\n",
    "\n",
    "\n"
   ]
  },
  {
   "cell_type": "markdown",
   "metadata": {},
   "source": [
    "**Q15.** `PD_BUY_CT`열을 정수형으로 바꾸고 `PD_BUY_AM`와 `PD_BUY_CT`를 곱한 `AMOUNT`열을 생성하여 고객별 방문당구매액을 구하시오. - 8점"
   ]
  },
  {
   "cell_type": "code",
   "execution_count": null,
   "metadata": {},
   "outputs": [],
   "source": [
    "# code here\n",
    "\n",
    "\n"
   ]
  },
  {
   "cell_type": "markdown",
   "metadata": {},
   "source": [
    "**Q16.** 충청북도에 거주하는 고객의 지역별(시, 군별) 분포를 높은 순대로 아래와 같은`Pie Chart`로 시각화하시오.  (단, 그래프 크기는 (8, 8)로 하고 원의 형태를 유지해서 그리시오.) - 6점<p>\n",
    "<img align=\"left\" src = \"piechart.jpg\" width = 500>"
   ]
  },
  {
   "cell_type": "code",
   "execution_count": null,
   "metadata": {},
   "outputs": [],
   "source": [
    "# code here\n",
    "\n",
    "\n"
   ]
  },
  {
   "cell_type": "markdown",
   "metadata": {},
   "source": [
    "#### 수고하셨습니다! 압축 후, 멘토에게 개인 톡으로 제출해 주시면 됩니다 :)"
   ]
  }
 ],
 "metadata": {
  "kernelspec": {
   "display_name": "Python 3",
   "language": "python",
   "name": "python3"
  },
  "language_info": {
   "codemirror_mode": {
    "name": "ipython",
    "version": 3
   },
   "file_extension": ".py",
   "mimetype": "text/x-python",
   "name": "python",
   "nbconvert_exporter": "python",
   "pygments_lexer": "ipython3",
   "version": "3.7.7"
  }
 },
 "nbformat": 4,
 "nbformat_minor": 4
}
