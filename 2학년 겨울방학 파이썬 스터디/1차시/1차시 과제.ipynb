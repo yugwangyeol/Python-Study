{
 "cells": [
  {
   "cell_type": "markdown",
   "metadata": {},
   "source": [
    "# 문제 난이도: 하"
   ]
  },
  {
   "cell_type": "markdown",
   "metadata": {},
   "source": [
    "### 문제 1) 수식문제 (산술 연산 연습)\n",
    "다음 수식을 한 줄로 표현된 파이썬 코드로 작성하시오.\n",
    "\\begin{equation}\n",
    "y = 20\\cfrac{23\\cfrac{3x^3+5x+2}{7w-\\cfrac{3}{z}}-z}{z\\cfrac{3+x}{4}} - \\sqrt[7](wx^z)\n",
    "\\end{equation}"
   ]
  },
  {
   "cell_type": "code",
   "execution_count": 24,
   "metadata": {},
   "outputs": [
    {
     "data": {
      "text/plain": [
       "(59, 1, 95)"
      ]
     },
     "execution_count": 24,
     "metadata": {},
     "output_type": "execute_result"
    }
   ],
   "source": [
    "# 코드를 건드리지 말고 실행해주세요\n",
    "x = 2\n",
    "w = 3\n",
    "z = 4\n",
    "x, w, z"
   ]
  },
  {
   "cell_type": "code",
   "execution_count": 25,
   "metadata": {},
   "outputs": [
    {
     "name": "stdout",
     "output_type": "stream",
     "text": [
      "결과:  -1.0789258203923402e+24\n"
     ]
    }
   ],
   "source": [
    "### 코드를 작성해주세요\n",
    "\n",
    "###\n",
    "numerator = 23*((3*x**3+5*x+2)/(7*w-(3/z)))-z   # 분자\n",
    "denominator = z*((3+x)/4)                        # 분모\n",
    "y = 20*(numerator / denominator)-(w*(x**z))**(1/7)\n",
    "\n",
    "print(\"결과: \", y)"
   ]
  },
  {
   "cell_type": "markdown",
   "metadata": {},
   "source": [
    "### 문제 2-1 ) Dictionary 문제\n",
    "다음 Dictionary를 생성하시오\n",
    "\n",
    "| key      | value |\n",
    "| ----------- | ----------- |\n",
    "| 경영통계      | '이웅','경영경제통계학','1교시' |\n",
    "|경영수학 | '안성만','경영경제수학','5교시' |\n",
    "|경제학개론| '유은나','경제학 들어가기','4교시' |\n",
    "|회계학원론 | '홍창목','회계학원리','2교시'|"
   ]
  },
  {
   "cell_type": "code",
   "execution_count": null,
   "metadata": {},
   "outputs": [],
   "source": [
    "### 코드를 입력하세요\n",
    "\n",
    "Subject = {'경영통계':['이웅','경영경제통계학','1교시'],\n",
    "           '경영수학':['안성만','경영경제수학','5교시'],\n",
    "           '경제학개론':['유은나','경제학 들어가기','4교시'],\n",
    "           '회계학원론':['홍창목','회계학원리','2교시']};Subject"
   ]
  },
  {
   "cell_type": "markdown",
   "metadata": {},
   "source": [
    "### 문제 2-2 ) Dictionary 문제\n",
    "다음 Dictionary에서 경제학개론 4교시를 3교시로, 회계학원론에서 회계학원리를 회계원리로 바꾸세요"
   ]
  },
  {
   "cell_type": "code",
   "execution_count": null,
   "metadata": {},
   "outputs": [],
   "source": [
    "### 코드를 입력하세요\n",
    "Subject['경제학개론'][2] = '3교시'\n",
    "Subject['회계학원론'][1] = '회계원리'\n",
    "Subject"
   ]
  },
  {
   "cell_type": "markdown",
   "metadata": {},
   "source": [
    "# 문제 난이도: 중"
   ]
  },
  {
   "cell_type": "markdown",
   "metadata": {},
   "source": [
    "### 문제 3) 변수설정 + 연산\n",
    "현준이는 200만원 예금하고 연이율 2.4%의 복리로 7년간 예치했다.철수의 원리금이 매년 어떻게 변하는지 표기하고 매년 총 수익을 표현하세요\\\n",
    "<br><font color = \"#CC3D3D\">\n",
    "    이와 같은 형태를 출력하세요 !!\n",
    "\n",
    "    예치금:  200 만원\n",
    "    1 년 후:  204 만원 수익: 4 만원\n",
    "    2 년 후:  208 만원 수익: 8 만원\n",
    "    3 년 후:  212 만원 수익: 12 만원\n",
    "    4 년 후:  217 만원 수익: 17 만원\n",
    "    5 년 후:  222 만원 수익: 22 만원\n",
    "    6 년 후:  227 만원 수익: 27 만원\n",
    "    7 년 후:  232 만원 수익: 32 만원\n",
    "    (단 if문과 for문을 사용하지 않고 문제를 푸세요!!)"
   ]
  },
  {
   "cell_type": "code",
   "execution_count": 28,
   "metadata": {},
   "outputs": [
    {
     "name": "stdout",
     "output_type": "stream",
     "text": [
      "예치금:  200 만원\n",
      "1 년 후:  204 만원 수익: 4 만원\n",
      "2 년 후:  208 만원 수익: 8 만원\n",
      "3 년 후:  212 만원 수익: 12 만원\n",
      "4 년 후:  217 만원 수익: 17 만원\n",
      "5 년 후:  222 만원 수익: 22 만원\n",
      "6 년 후:  227 만원 수익: 27 만원\n",
      "7 년 후:  232 만원 수익: 32 만원\n"
     ]
    }
   ],
   "source": [
    "money = 200\n",
    "y = 0\n",
    "print('예치금: ', money, '만원')\n",
    "\n",
    "money = int(money * 1.024)\n",
    "b = money-200\n",
    "c = money\n",
    "y += 1\n",
    "print(y, '년 후: ', money, '만원', '수익:',b,'만원')\n",
    "\n",
    "money = int(money * 1.024)\n",
    "b = money-c+b\n",
    "c=money\n",
    "y += 1\n",
    "print(y, '년 후: ', money, '만원', '수익:',b,'만원')\n",
    "\n",
    "money = int(money * 1.024)\n",
    "b = money-c+b\n",
    "c=money\n",
    "y += 1\n",
    "print(y, '년 후: ', money, '만원', '수익:',b,'만원')\n",
    "\n",
    "money = int(money * 1.024)\n",
    "b = money-c+b\n",
    "c=money\n",
    "y += 1\n",
    "print(y, '년 후: ', money, '만원', '수익:',b,'만원')\n",
    "\n",
    "money = int(money * 1.024)\n",
    "b = money-c+b\n",
    "c=money\n",
    "y += 1\n",
    "print(y, '년 후: ', money, '만원', '수익:',b,'만원')\n",
    "\n",
    "money = int(money * 1.024)\n",
    "b = money-c+b\n",
    "c=money\n",
    "y += 1\n",
    "print(y, '년 후: ', money, '만원', '수익:',b,'만원')\n",
    "\n",
    "money = int(money * 1.024)\n",
    "b = money-c+b\n",
    "c=money\n",
    "y += 1\n",
    "print(y, '년 후: ', money, '만원', '수익:',b,'만원')\n",
    "\n"
   ]
  },
  {
   "cell_type": "markdown",
   "metadata": {},
   "source": [
    "### 문제 4) 리스트\n",
    "해당 문제를 해결 하세요!!"
   ]
  },
  {
   "cell_type": "code",
   "execution_count": 67,
   "metadata": {},
   "outputs": [],
   "source": [
    "# 코드를 건드리지 마세요.\n",
    "news1 = '손흥민 선수가 우리시간 2일 영국 런던의 토트넘 홋스퍼 스타디움에서 열린 리즈 유나이티드와의 2020-2021시즌 잉글랜드 프로축구 프리미어리그(EPL) 17라운드에 선발 출전해 전반 43분 해리 케인의 도움을 받아 2-0을 만드는 골을 넣었습니다. 2015년 8월에 토트넘에 입단한 손흥민 이 이 팀 유니폼을 입고 253경기 만에 달성한 100번째 골입니다. 손흥민 은 토트넘 소속으로 EPL에서 65골, 잉글랜드축구협회 FA컵에서 12골, 유럽축구연맹(UEFA) 챔피언스리그에서 14골 등을 넣어 100골을 채웠습니다. 손흥민 은 또 올 시즌 EPL 12호 골을 기록, 득점 랭킹 공동 2위에서 단독 2위로 올라섰다. 선두 무함마드 살라흐(13골·리버풀)와 격차를 1골로 좁혔습니다. 이날 토트넘의 3번째 골을 도운 손흥민 의 올 시즌 공식전 공격포인트 기록은 15골 8도움(EPL 12골 5도움·유로파리그 3골 3도움)입니다. '\n",
    "news2 = '(서울=연합뉴스) 안홍석 기자 = 손흥민 (29)과 해리 케인(28)이 새해 첫 경기에서 잉글랜드 프로축구 프리미어리그(EPL) 역사상 최고의 콤비로 공인받았다. 손흥민 과 케인은 2020-2021시즌 EPL에서 지난해 12월까지 12골을 합작했다. 수비적인 조제 모리뉴 감독의 전술 속에서 토트넘의 공격을 두 선수가 책임지다시피 하며 역대급 콤비 플레이를 펼쳐 보였다. 한 선수가 내려와서 공격을 풀어주면, 다른 선수가 이를 골로 마무리 지으며 연일 골 폭풍을 몰아쳤다. 이들의 합작 골 행진은 지난달 14일 크리스털 팰리스전(1-1 무승부)에서 손흥민 의 도움으로 케인이 선제골을 넣은 뒤 멈췄다. 그러면서 토트넘도 크리스털 팰리스전부터 2무 2패에 그치며 부진했다. 2020년 마지막 경기인 풀럼과의 정규리그 경기가 신종 코로나바이러스 감염증(코로나19)으로 연기되면서 푹 쉰 손흥민 -케인 듀오는 새해 첫 경기부터 다시금 타올랐다. 손흥민 -케인 13골 합작…EPL 사상 최고 콤비로 우뚝(종합) - 2 (서울=연합뉴스) 안홍석 기자 = 손흥민 (29)과 해리 케인(28)이 새해 첫 경기에서 잉글랜드 프로축구 프리미어리그(EPL) 역사상 최고의 콤비로 공인받았다. 손흥민 과 케인은 2020-2021시즌 EPL에서 지난해 12월까지 12골을 합작했다. 수비적인 조제 모리뉴 감독의 전술 속에서 토트넘의 공격을 두 선수가 책임지다시피 하며 역대급 콤비 플레이를 펼쳐 보였다. 한 선수가 내려와서 공격을 풀어주면, 다른 선수가 이를 골로 마무리 지으며 연일 골 폭풍을 몰아쳤다. 이들의 합작 골 행진은 지난달 14일 크리스털 팰리스전(1-1 무승부)에서 손흥민 의 도움으로 케인이 선제골을 넣은 뒤 멈췄다. 그러면서 토트넘도 크리스털 팰리스전부터 2무 2패에 그치며 부진했다. 2020년 마지막 경기인 풀럼과의 정규리그 경기가 신종 코로나바이러스 감염증(코로나19)으로 연기되면서 푹 쉰 손흥민 -케인 듀오는 새해 첫 경기부터 다시금 타올랐다.'\n",
    "news3 = '토트넘은 2일(한국시간) 영국 런던의 토트넘 홋스퍼 스타디움에서 리즈 유나이티드를 상대로 2020-2021 EPL 17라운드에서 3-0으로 완승을 했다. 이날 경기의 최고 하이라이트는 손흥민 과 케인의 물오른 찰떡궁합이었다. 토트넘이 1-0으로 앞선 전반 43분 케인이 오른쪽에서 침투 패스를 찔러줬고, 손흥민 은 상대 수비 2명 사이를 재빠르게 뚫고 빈 곳으로 들어가 골 지역 오른쪽에서 오른발 슈팅으로 마무리해 골망을 흔들었다. 이들의 이번 시즌 13번째 합작 골이었다. 손흥민 과 케인은 이로써 1994-1995시즌 블랙번 로버스에서 13골을 함께 만들어낸 앨런 시어러-크리스 서턴과 단일 시즌 최다 골을 합작한 듀오로 어깨를 나란히 했다. 아직 시즌이 절반 지난 상태에서 손-케인 듀오는 시어러-서턴 듀오와 타이기록을 세웠다. 축구 통계전문 사이트 옵타도 트위터 계정을 통해 \"케인과 손흥민 이 이번 시즌 EPL에서 13골을 합작했다. 지금까지 단일 시즌에서 케인- 손흥민 보다 많은 골을 합작한 듀오는 없다\"고 전했다. 특히 손흥민 과 케인은 이날 콤비 플레이로 지금까지 EPL 무대에서 통산 33골째를 기록했다. 역대 최다골 합작 기록은 프랭크 램퍼드-디디에 드로그바(첼시)의 36골이다. 손흥민 -케인 듀오는 이 부문 역대 2위다. 이미 월드클래스로 인정받은 손흥민 과 케인이 EPL 올 타임 베스트 듀오로 공인받기까지 불과 3골만을 남겨뒀다. 전반기 페이스를 후반기에도 살려 나간다면 손흥민 과 케인은 후배 공격수들이 범접하기 힘든 합작 골 기록을 써내려갈 전망이다. 물론 케인과 손흥민 은 각자 기록으로도 토트넘의 역대급 공격수들이다. 이날 페널티킥 선제골까지 토트넘에서 205골을 넣은 케인은 지미 그리브스(266골), 보비 스미스(208골)에 이어 토트넘 역대 최다골 3위에 올라있다. 리그 12호골(시즌 15호골)을 작성하며 2015년 8월에 토트넘 입단 이후 253경기 만에 개인 통산 100호골을 달성한 손흥민 은 토트넘에서 역대 18번째로 100골 클럽에 가입했다.'\n",
    "news4 = '[스포츠조선 이원만 기자] 영국 전역에 신종 코로나바이러스 감염증(코로나19)이 창궐하고 있지만, 잉글랜드 프리미어리그(EPL) 사무국은 중단을 고려하고 있지 않다고 단호하게 밝혔다. 영국 공영방송 BBC는 31일(한국시각) 경기 중단을 요청한 샘 앨러다이스 웨스트 브로미치앨비언 감독 등의 요청에 대해 EPL 사무국이 시즌 중단을 논의하지 않는다는 입장을 밝혔다고 보도했다. EPL 사무국이 이처럼 단호하게 현장의 요청을 일축한 것은 영국 정부의 대처에 대한 믿음 때문으로 볼 수 있다. EPL 사무국은 정부의 코로나19 프로토콜을 신뢰하고 있다며 리그를 계속 진행하는 이유를 설명했다. 현재 영국은 코로나19의 재확산으로 위기를 맞고 있다. 특히 변종 바이러스가 등장해 봉쇄 조치에 들어간 지역이 늘어나는 추세다. EPL 역시 이런 여파에서 자유롭지 못하다. 지난 12월 21일부터 27일까지 각 구단 선수와 관계자 등 1479명을 대상으로 코로나19 검사를 진행한 결과 역대 최다인 18명의 확진자가 발생했다. 연기되는 경기들도 속속 등장하고 있다. 그러자 앨러다이스 감독을 비롯한 여러 현장 감독들이 서킷 브레이크(일시 중단)를 요청했다. 물론 현행대로 유지하는 게 맞다는 주장도 있다. EPL 사무국은 리그 속행에 힘을 실어줬다.'\n",
    "\n",
    "story_1 = news1.split(' ')\n",
    "story_2 = news2.split(' ')\n",
    "story_3 = news3.split(' ')\n",
    "story_4 = news4.split(' ')"
   ]
  },
  {
   "cell_type": "markdown",
   "metadata": {},
   "source": [
    "### 문제 4-1) 손흥민이 들어간 리스트를 찾으세요"
   ]
  },
  {
   "cell_type": "code",
   "execution_count": 68,
   "metadata": {},
   "outputs": [
    {
     "name": "stdout",
     "output_type": "stream",
     "text": [
      "True\n",
      "True\n",
      "True\n",
      "False\n"
     ]
    }
   ],
   "source": [
    "### 코드를 입력하세요.\n",
    "print('손흥민' in story_1)\n",
    "print('손흥민' in story_2)\n",
    "print('손흥민' in story_3)\n",
    "print('손흥민' in story_4)"
   ]
  },
  {
   "cell_type": "markdown",
   "metadata": {},
   "source": [
    "### 문제 4-2) 손흥민이 들어간 리스트에서 손흥민이 몇번 나오는지 확인하세요"
   ]
  },
  {
   "cell_type": "code",
   "execution_count": 65,
   "metadata": {},
   "outputs": [
    {
     "name": "stdout",
     "output_type": "stream",
     "text": [
      "5\n",
      "9\n",
      "11\n"
     ]
    }
   ],
   "source": [
    "### 코드를 입력하세요\n",
    "\n",
    "print(story_1.count('손흥민'))\n",
    "print(story_2.count('손흥민'))\n",
    "print(story_3.count('손흥민'))"
   ]
  },
  {
   "cell_type": "markdown",
   "metadata": {},
   "source": [
    "# 문제 난이도: 상"
   ]
  },
  {
   "cell_type": "markdown",
   "metadata": {},
   "source": [
    "### 문제 5) LIst & set\n",
    "1)다음 주어진 리스트를 임의의 4개의 리스트로 분할 한 후 각 리스트이 중복된 원소를 제거한 후 갯수를 구하시오.\\\n",
    "2)그 후에 4개 리스트를 다시 합친후에 갯수를 구하여 원래 리스트에서 몇개의 원소가 사라졌는지 확인 하시오"
   ]
  },
  {
   "cell_type": "code",
   "execution_count": 30,
   "metadata": {},
   "outputs": [
    {
     "name": "stdout",
     "output_type": "stream",
     "text": [
      "['Hello,', 'Chicago.', 'If', 'there', 'is', 'anyone', 'out', 'there', 'who', 'still', 'doubts', 'that', 'America', 'is', 'a', 'place', 'where', 'all', 'things', 'are', 'possible,', 'who', 'still', 'wonders', 'if', 'the', 'dream', 'of', 'our', 'founders', 'is', 'alive', 'in', 'our', 'time,', 'who', 'still', 'questions', 'the', 'power', 'of', 'our', 'democracy,', 'tonight', 'is', 'your', 'answer.', \"It's\", 'the', 'answer', 'told', 'by', 'lines', 'that', 'stretched', 'around', 'schools', 'and', 'churches', 'in', 'numbers', 'this', 'nation', 'has', 'never', 'seen,', 'by', 'people', 'who', 'waited', 'three', 'hours', 'and', 'four', 'hours,', 'many', 'for', 'the', 'first', 'time', 'in', 'their', 'lives,', 'because', 'they', 'believed', 'that', 'this', 'time', 'must', 'be', 'different,', 'that', 'their', 'voices', 'could', 'be', 'that', 'difference.', \"It's\", 'the', 'answer', 'spoken', 'by', 'young', 'and', 'old,', 'rich', 'and', 'poor,', 'Democrat', 'and', 'Republican,', 'black,', 'white,', 'Hispanic,', 'Asian,', 'Native', 'American,', 'gay,', 'straight,', 'disabled', 'and', 'not', 'disabled.', 'Americans', 'who', 'sent', 'a', 'message', 'to', 'the', 'world', 'that', 'we', 'have', 'never', 'been', 'just', 'a', 'collection', 'of', 'individuals', 'or', 'a', 'collection', 'of', 'red', 'states', 'and', 'blue', 'states.', 'We', 'are,', 'and', 'always', 'will', 'be,', 'the', 'United', 'States', 'of', 'America.', \"It's\", 'the', 'answer', 'that', 'led', 'those', \"who've\", 'been', 'told', 'for', 'so', 'long', 'by', 'so', 'many', 'to', 'be', 'cynical', 'and', 'fearful', 'and', 'doubtful', 'about', 'what', 'we', 'can', 'achieve', 'to', 'put', 'their', 'hands', 'on', 'the', 'arc', 'of', 'history', 'and', 'bend', 'it', 'on-ce', 'more', 'toward', 'the', 'hope', 'of', 'a', 'better', 'day.', \"It's\", 'been', 'a', 'long', 'time', 'coming,', 'but', 'tonight,', 'because', 'of', 'what', 'we', 'did', 'on', 'this', 'date', 'in', 'this', 'election', 'at', 'this', 'defining', 'moment', 'change', 'has', 'come', 'to', 'America.', 'A', 'little', 'bit', 'earlier', 'this', 'evening,', 'I', 'received', 'an', 'extraordinarily', 'gracious', 'call', 'from', 'Sen.', 'McCain.', \"Don't\", 'Miss', 'America', 'votes', 'for', 'change', 'Transcript', 'of', \"McCain's\", 'concession', 'speech', 'African-American', 'centenarian', 'votes', 'Obama', 'grandmother', 'dies', 'before', 'election', 'Presidential', 'election', 'results', 'Sen.', 'McCain', 'fought', 'long', 'and', 'hard', 'in', 'this', 'campaign.', 'And', \"he's\", 'fought', 'even', 'longer', 'and', 'harder', 'for', 'the', 'country', 'that', 'he', 'loves.', 'He', 'has', 'endured', 'sacrifices', 'for', 'America', 'that', 'most', 'of', 'us', 'cannot', 'begin', 'to', 'imagine.', 'We', 'are', 'better', 'off', 'for', 'the', 'service', 'rendered', 'by', 'this', 'brave', 'and', 'selfless', 'leader.', 'I', 'congratulate', 'him;', 'I', 'congratulate', 'Gov.', 'Palin', 'for', 'all', 'that', \"they've\", 'achieved.', 'And', 'I', 'look', 'forward', 'to', 'working', 'with', 'them', 'to', 'renew', 'this', \"nation's\", 'promise', 'in', 'the', 'months', 'ahead.', 'I', 'want', 'to', 'thank', 'my', 'partner', 'in', 'this', 'journey,', 'a', 'man', 'who', 'campaigned', 'from', 'his', 'heart,', 'and', 'spoke', 'for', 'the', 'men', 'and', 'women', 'he', 'grew', 'up', 'with', 'on', 'the', 'streets', 'of', 'Scranton', 'and', 'rode', 'with', 'on', 'the', 'train', 'home', 'to', 'Delaware,', 'the', 'vice', 'president-elect', 'of', 'the', 'United', 'States,', 'Joe', 'Biden.', 'And', 'I', 'would', 'not', 'be', 'standing', 'here', 'tonight', 'without', 'the', 'unyielding', 'support', 'of', 'my', 'best', 'friend', 'for', 'the', 'last', '16', 'years', 'the', 'rock', 'of', 'our', 'family,', 'the', 'love', 'of', 'my', 'life,', 'the', \"nation's\", 'next', 'first', 'lady', 'Michelle', 'Obama.', 'Sasha', 'and', 'Malia', 'I', 'love', 'you', 'both', 'more', 'than', 'you', 'can', 'imagine.', 'And', 'you', 'have', 'earned', 'the', 'new', 'puppy', \"that's\", 'coming', 'with', 'us', 'to', 'the', 'new', 'White', 'House.', 'And', 'while', \"she's\", 'no', 'longer', 'with', 'us,', 'I', 'know', 'my', \"grandmother's\", 'watching,', 'along', 'with', 'the', 'family', 'that', 'made', 'me', 'who', 'I', 'am.', 'I', 'miss', 'them', 'tonight.', 'I', 'know', 'that', 'my', 'debt', 'to', 'them', 'is', 'beyond', 'measure.', 'To', 'my', 'sister', 'Maya,', 'my', 'sister', 'Alma,', 'all', 'my', 'other', 'brothers', 'and', 'sisters,', 'thank', 'you', 'so', 'much', 'for', 'all', 'the', 'support', 'that', \"you've\", 'given', 'me.', 'I', 'am', 'grateful', 'to', 'them.', 'And', 'to', 'my', 'campaign', 'manager,', 'David', 'Plouffe,', 'the', 'unsung', 'hero', 'of', 'this', 'campaign,', 'who', 'built', 'the', 'best', '--', 'the', 'best', 'political', 'campaign,', 'I', 'think,', 'in', 'the', 'history', 'of', 'the', 'United', 'States', 'of', 'America.', 'To', 'my', 'chief', 'strategist', 'David', 'Axelrod', \"who's\", 'been', 'a', 'partner', 'with', 'me', 'every', 'step', 'of', 'the', 'way.', 'To', 'the', 'best', 'campaign', 'team', 'ever', 'assembled', 'in', 'the', 'history', 'of', 'politics', 'you', 'made', 'this', 'happen,', 'and', 'I', 'am', 'forever', 'grateful', 'for', 'what', \"you've\", 'sacrificed', 'to', 'get', 'it', 'done.', 'But', 'above', 'all,', 'I', 'will', 'never', 'forget', 'who', 'this', 'victory', 'truly', 'belongs', 'to.', 'It', 'belongs', 'to', 'you.', 'It', 'belongs', 'to', 'you.', 'I', 'was', 'never', 'the', 'likeliest', 'candidate', 'for', 'this', 'office.', 'We', \"didn't\", 'start', 'with', 'much', 'money', 'or', 'many', 'endorsements.', 'Our', 'campaign', 'was', 'not', 'hatched', 'in', 'the', 'halls', 'of', 'Washington.', 'It', 'began', 'in', 'the', 'backyards', 'of', 'Des', 'Moines', 'and', 'the', 'living', 'rooms', 'of', 'Concord', 'and', 'the', 'front', 'porches', 'of', 'Charleston.', 'It', 'was', 'built', 'by', 'working', 'men', 'and', 'women', 'who', 'dug', 'into', 'what', 'little', 'savings', 'they', 'had', 'to', 'give', '$5', 'and', '$10', 'and', '$20', 'to', 'the', 'cause.', 'It', 'grew', 'strength', 'from', 'the', 'young', 'people', 'who', 'rejected', 'the', 'myth', 'of', 'their', \"generation's\", 'apathy', 'who', 'left', 'their', 'homes', 'and', 'their', 'families', 'for', 'jobs', 'that', 'offered', 'little', 'pay', 'and', 'less', 'sleep.', 'It', 'drew', 'strength', 'from', 'the', 'not-so-young', 'people', 'who', 'braved', 'the', 'bitter', 'cold', 'and', 'scorching', 'heat', 'to', 'knock', 'on', 'doors', 'of', 'perfect', 'strangers,', 'and', 'from', 'the', 'millions', 'of', 'Americans', 'who', 'volunteered', 'and', 'organized', 'and', 'proved', 'that', 'more', 'than', 'two', 'centuries', 'later', 'a', 'government', 'of', 'the', 'people,', 'by', 'the', 'people,', 'and', 'for', 'the', 'people', 'has', 'not', 'perished', 'from', 'the', 'Earth.', 'This', 'is', 'your', 'victory.', 'And', 'I', 'know', 'you', \"didn't\", 'do', 'this', 'just', 'to', 'win', 'an', 'election.', 'And', 'I', 'know', 'you', \"didn't\", 'do', 'it', 'for', 'me.', 'You', 'did', 'it', 'because', 'you', 'understand', 'the', 'enormity', 'of', 'the', 'task', 'that', 'lies', 'ahead.', 'For', 'even', 'as', 'we', 'celebrate', 'tonight,', 'we', 'know', 'the', 'challenges', 'that', 'tomorrow', 'will', 'bring', 'are', 'the', 'greatest', 'of', 'our', 'lifetime', '--', 'two', 'wars,', 'a', 'planet', 'in', 'peril,', 'the', 'worst', 'financial', 'crisis', 'in', 'a', 'century.', 'Even', 'as', 'we', 'stand', 'here', 'tonight,', 'we', 'know', 'there', 'are', 'brave', 'Americans', 'waking', 'up', 'in', 'the', 'deserts', 'of', 'Iraq', 'and', 'the', 'mountains', 'of', 'Afghanistan', 'to', 'risk', 'their', 'lives', 'for', 'us.', 'There', 'are', 'mothers', 'and', 'fathers', 'who', 'will', 'lie', 'awake', 'after', 'the', 'children', 'fall', 'asleep', 'and', 'wonder', 'how', \"they'll\", 'make', 'the', 'mortgage', 'or', 'pay', 'their', \"doctors'\", 'bills', 'or', 'save', 'enough', 'for', 'their', \"child's\", 'college', 'education.', \"There's\", 'new', 'energy', 'to', 'harness,', 'new', 'jobs', 'to', 'be', 'created,', 'new', 'schools', 'to', 'build,', 'and', 'threats', 'to', 'meet,', 'alliances', 'to', 'repair.', 'The', 'road', 'ahead', 'will', 'be', 'long.', 'Our', 'climb', 'will', 'be', 'steep.', 'We', 'may', 'not', 'get', 'there', 'in', 'on-e', 'year', 'or', 'even', 'in', 'on-e', 'term.', 'But,', 'America,', 'I', 'have', 'never', 'been', 'more', 'hopeful', 'than', 'I', 'am', 'tonight', 'that', 'we', 'will', 'get', 'there.', 'I', 'promise', 'you,', 'we', 'as', 'a', 'people', 'will', 'get', 'there.', 'There', 'will', 'be', 'setbacks', 'and', 'false', 'starts.', 'There', 'are', 'many', 'who', \"won't\", 'agree', 'with', 'every', 'decision', 'or', 'policy', 'I', 'make', 'as', 'president.', 'And', 'we', 'know', 'the', 'government', \"can't\", 'solve', 'every', 'problem.', 'But', 'I', 'will', 'always', 'be', 'honest', 'with', 'you', 'about', 'the', 'challenges', 'we', 'face.', 'I', 'will', 'listen', 'to', 'you,', 'especially', 'when', 'we', 'disagree.', 'And,', 'above', 'all,', 'I', 'will', 'ask', 'you', 'to', 'join', 'in', 'the', 'work', 'of', 'remaking', 'this', 'nation,', 'the', 'on-ly', 'way', \"it's\", 'been', 'done', 'in', 'America', 'for', '221', 'years', '--', 'block', 'by', 'block,', 'brick', 'by', 'brick,', 'calloused', 'hand', 'by', 'calloused', 'hand.', 'What', 'began', '21', 'months', 'ago', 'in', 'the', 'depths', 'of', 'winter', 'cannot', 'end', 'on', 'this', 'autumn', 'night.', 'This', 'victory', 'alone', 'is', 'not', 'the', 'change', 'we', 'seek.', 'It', 'is', 'on-ly', 'the', 'chance', 'for', 'us', 'to', 'make', 'that', 'change.', 'And', 'that', 'cannot', 'happen', 'if', 'we', 'go', 'back', 'to', 'the', 'way', 'things', 'were.', 'It', \"can't\", 'happen', 'without', 'you,', 'without', 'a', 'new', 'spirit', 'of', 'service,', 'a', 'new', 'spirit', 'of', 'sacrifice.', 'So', 'let', 'us', 'summon', 'a', 'new', 'spirit', 'of', 'patriotism,', 'of', 'responsibility,', 'where', 'each', 'of', 'us', 'resolves', 'to', 'pitch', 'in', 'and', 'work', 'harder', 'and', 'look', 'after', 'not', 'on-ly', 'ourselves', 'but', 'each', 'other.', 'Let', 'us', 'remember', 'that,', 'if', 'this', 'financial', 'crisis', 'taught', 'us', 'anything,', \"it's\", 'that', 'we', 'cannot', 'have', 'a', 'thriving', 'Wall', 'Street', 'while', 'Main', 'Street', 'suffers.', 'In', 'this', 'country,', 'we', 'rise', 'or', 'fall', 'as', 'on-e', 'nation,', 'as', 'on-e', 'people.', \"Let's\", 'resist', 'the', 'temptation', 'to', 'fall', 'back', 'on', 'the', 'same', 'partisanship', 'and', 'pettiness', 'and', 'immaturity', 'that', 'has', 'poisoned', 'our', 'politics', 'for', 'so', 'long.', \"Let's\", 'remember', 'that', 'it', 'was', 'a', 'man', 'from', 'this', 'state', 'who', 'first', 'carried', 'the', 'banner', 'of', 'the', 'Republican', 'Party', 'to', 'the', 'White', 'House,', 'a', 'party', 'founded', 'on', 'the', 'values', 'of', 'self-reliance', 'and', 'individual', 'liberty', 'and', 'national', 'unity.', 'Those', 'are', 'values', 'that', 'we', 'all', 'share.', 'And', 'while', 'the', 'Democratic', 'Party', 'has', 'won', 'a', 'great', 'victory', 'tonight,', 'we', 'do', 'so', 'with', 'a', 'measure', 'of', 'humility', 'and', 'determination', 'to', 'heal', 'the', 'divides', 'that', 'have', 'held', 'back', 'our', 'progress.', 'As', 'Lincoln', 'said', 'to', 'a', 'nation', 'far', 'more', 'divided', 'than', 'ours,', 'we', 'are', 'not', 'enemies', 'but', 'friends.', 'Though', 'passion', 'may', 'have', 'strained,', 'it', 'must', 'not', 'break', 'our', 'bonds', 'of', 'affection.', 'And', 'to', 'those', 'Americans', 'whose', 'support', 'I', 'have', 'yet', 'to', 'earn,', 'I', 'may', 'not', 'have', 'won', 'your', 'vote', 'tonight,', 'but', 'I', 'hear', 'your', 'voices.', 'I', 'need', 'your', 'help.', 'And', 'I', 'will', 'be', 'your', 'president,', 'too.', 'And', 'to', 'all', 'those', 'watching', 'tonight', 'from', 'beyond', 'our', 'shores,', 'from', 'parliaments', 'and', 'palaces,', 'to', 'those', 'who', 'are', 'huddled', 'around', 'radios', 'in', 'the', 'forgotten', 'corners', 'of', 'the', 'world,', 'our', 'stories', 'are', 'singular,', 'but', 'our', 'destiny', 'is', 'shared,', 'and', 'a', 'new', 'dawn', 'of', 'American', 'leadership', 'is', 'at', 'hand.', 'To', 'those', '--', 'to', 'those', 'who', 'would', 'tear', 'the', 'world', 'down:', 'We', 'will', 'defeat', 'you.', 'To', 'those', 'who', 'seek', 'peace', 'and', 'security:', 'We', 'support', 'you.', 'And', 'to', 'all', 'those', 'who', 'have', 'wondered', 'if', \"America's\", 'beacon', 'still', 'burns', 'as', 'bright:', 'Tonight', 'we', 'proved', 'on-ce', 'more', 'that', 'the', 'true', 'strength', 'of', 'our', 'nation', 'comes', 'not', 'from', 'the', 'might', 'of', 'our', 'arms', 'or', 'the', 'scale', 'of', 'our', 'wealth,', 'but', 'from', 'the', 'enduring', 'power', 'of', 'our', 'ideals:', 'democracy,', 'liberty,', 'opportunity', 'and', 'unyielding', 'hope.', \"That's\", 'the', 'true', 'genius', 'of', 'America:', 'that', 'America', 'can', 'change.', 'Our', 'union', 'can', 'be', 'perfected.', 'What', \"we've\", 'already', 'achieved', 'gives', 'us', 'hope', 'for', 'what', 'we', 'can', 'and', 'must', 'achieve', 'tomorrow.', 'This', 'election', 'had', 'many', 'firsts', 'and', 'many', 'stories', 'that', 'will', 'be', 'told', 'for', 'generations.', 'But', 'on-e', \"that's\", 'on', 'my', 'mind', \"tonight's\", 'about', 'a', 'woman', 'who', 'cast', 'her', 'ballot', 'in', 'Atlanta.', \"She's\", 'a', 'lot', 'like', 'the', 'millions', 'of', 'others', 'who', 'stood', 'in', 'line', 'to', 'make', 'their', 'voice', 'heard', 'in', 'this', 'election', 'except', 'for', 'on-e', 'thing:', 'Ann', 'Nixon', 'Cooper', 'is', '106', 'years', 'old.', 'She', 'was', 'born', 'just', 'a', 'generation', 'past', 'slavery;', 'a', 'time', 'when', 'there', 'were', 'no', 'cars', 'on', 'the', 'road', 'or', 'planes', 'in', 'the', 'sky;', 'when', 'someone', 'like', 'her', \"couldn't\", 'vote', 'for', 'two', 'reasons', '--', 'because', 'she', 'was', 'a', 'woman', 'and', 'because', 'of', 'the', 'color', 'of', 'her', 'skin.', 'And', 'tonight,', 'I', 'think', 'about', 'all', 'that', \"she's\", 'seen', 'throughout', 'her', 'century', 'in', 'America', '--', 'the', 'heartache', 'and', 'the', 'hope;', 'the', 'struggle', 'and', 'the', 'progress;', 'the', 'times', 'we', 'were', 'told', 'that', 'we', \"can't,\", 'and', 'the', 'people', 'who', 'pressed', 'on', 'with', 'that', 'American', 'creed:', 'Yes', 'we', 'can.', 'At', 'a', 'time', 'when', \"women's\", 'voices', 'were', 'silenced', 'and', 'their', 'hopes', 'dismissed,', 'she', 'lived', 'to', 'see', 'them', 'stand', 'up', 'and', 'speak', 'out', 'and', 'reach', 'for', 'the', 'ballot.', 'Yes', 'we', 'can.', 'When', 'there', 'was', 'despair', 'in', 'the', 'dust', 'bowl', 'and', 'depression', 'across', 'the', 'land,', 'she', 'saw', 'a', 'nation', 'conquer', 'fear', 'itself', 'with', 'a', 'New', 'Deal,', 'new', 'jobs,', 'a', 'new', 'sense', 'of', 'common', 'purpose.', 'Yes', 'we', 'can.', 'When', 'the', 'bombs', 'fell', 'on', 'our', 'harbor', 'and', 'tyranny', 'threatened', 'the', 'world,', 'she', 'was', 'there', 'to', 'witness', 'a', 'generation', 'rise', 'to', 'greatness', 'and', 'a', 'democracy', 'was', 'saved.', 'Yes', 'we', 'can.', 'She', 'was', 'there', 'for', 'the', 'buses', 'in', 'Montgomery,', 'the', 'hoses', 'in', 'Birmingham,', 'a', 'bridge', 'in', 'Selma,', 'and', 'a', 'preacher', 'from', 'Atlanta', 'who', 'told', 'a', 'people', 'that', '\"We', 'Shall', 'Overcome.\"', 'Yes', 'we', 'can.', 'A', 'man', 'touched', 'down', 'on', 'the', 'moon,', 'a', 'wall', 'came', 'down', 'in', 'Berlin,', 'a', 'world', 'was', 'connected', 'by', 'our', 'own', 'science', 'and', 'imagination.', 'And', 'this', 'year,', 'in', 'this', 'election,', 'she', 'touched', 'her', 'finger', 'to', 'a', 'screen,', 'and', 'cast', 'her', 'vote,', 'because', 'after', '106', 'years', 'in', 'America,', 'through', 'the', 'best', 'of', 'times', 'and', 'the', 'darkest', 'of', 'hours,', 'she', 'knows', 'how', 'America', 'can', 'change.', 'Yes', 'we', 'can.', 'America,', 'we', 'have', 'come', 'so', 'far.', 'We', 'have', 'seen', 'so', 'much.', 'But', 'there', 'is', 'so', 'much', 'more', 'to', 'do.', 'So', 'tonight,', 'let', 'us', 'ask', 'ourselves', '--', 'if', 'our', 'children', 'should', 'live', 'to', 'see', 'the', 'next', 'century;', 'if', 'my', 'daughters', 'should', 'be', 'so', 'lucky', 'to', 'live', 'as', 'long', 'as', 'Ann', 'Nixon', 'Cooper,', 'what', 'change', 'will', 'they', 'see?', 'What', 'progress', 'will', 'we', 'have', 'made?', 'This', 'is', 'our', 'chance', 'to', 'answer', 'that', 'call.', 'This', 'is', 'our', 'moment.', 'This', 'is', 'our', 'time,', 'to', 'put', 'our', 'people', 'back', 'to', 'work', 'and', 'open', 'doors', 'of', 'opportunity', 'for', 'our', 'kids;', 'to', 'restore', 'prosperity', 'and', 'promote', 'the', 'cause', 'of', 'peace;', 'to', 'reclaim', 'the', 'American', 'dream', 'and', 'reaffirm', 'that', 'fundamental', 'truth,', 'that,', 'out', 'of', 'many,', 'we', 'are', 'on-e;', 'that', 'while', 'we', 'breathe,', 'we', 'hope.', 'And', 'where', 'we', 'are', 'met', 'with', 'cynicism', 'and', 'doubts', 'and', 'those', 'who', 'tell', 'us', 'that', 'we', \"can't,\", 'we', 'will', 'respond', 'with', 'that', 'timeless', 'creed', 'that', 'sums', 'up', 'the', 'spirit', 'of', 'a', 'people:', 'Yes,', 'we', 'can.', 'Thank', 'you.', 'God', 'bless', 'you.', 'And', 'may', 'God', 'bless', 'the', 'United', 'States', 'of', 'America.']\n"
     ]
    }
   ],
   "source": [
    "### 코드를 건드리지 마세요!!\n",
    "import requests\n",
    "\n",
    "url = 'http://cfile221.uf.daum.net/attach/1332E3064975C0E70F1AFF' #오바마 연설문 파일\n",
    "res = requests.get(url)\n",
    "text = res.text\n",
    "words = text.split() # 사용할 데이터\n",
    "# 데이터 확인\n",
    "print(words)"
   ]
  },
  {
   "cell_type": "markdown",
   "metadata": {},
   "source": [
    "### 문제 5-1) 리스트 슬라이싱"
   ]
  },
  {
   "cell_type": "code",
   "execution_count": 33,
   "metadata": {},
   "outputs": [
    {
     "data": {
      "text/plain": [
       "2072"
      ]
     },
     "execution_count": 33,
     "metadata": {},
     "output_type": "execute_result"
    }
   ],
   "source": [
    "### 코드를 입력하세요\n",
    "len(words)"
   ]
  },
  {
   "cell_type": "code",
   "execution_count": 34,
   "metadata": {},
   "outputs": [
    {
     "name": "stdout",
     "output_type": "stream",
     "text": [
      "291\n",
      "274\n",
      "271\n",
      "298\n"
     ]
    }
   ],
   "source": [
    "list1 = set(words[:500])\n",
    "list2 = set(words[500:1000])\n",
    "list3 = set(words[1000:1500])\n",
    "list4 = set(words[1500:])\n",
    "print(len(list1))\n",
    "print(len(list2))\n",
    "print(len(list3))\n",
    "print(len(list4))"
   ]
  },
  {
   "cell_type": "markdown",
   "metadata": {},
   "source": [
    "### 문제 5-2) 합집합 "
   ]
  },
  {
   "cell_type": "code",
   "execution_count": 36,
   "metadata": {},
   "outputs": [
    {
     "name": "stdout",
     "output_type": "stream",
     "text": [
      "1238\n"
     ]
    }
   ],
   "source": [
    "li = list(list1 | list2 | list3 | list4)\n",
    "print(len(words)-len(li))"
   ]
  }
 ],
 "metadata": {
  "kernelspec": {
   "display_name": "Python 3",
   "language": "python",
   "name": "python3"
  },
  "language_info": {
   "codemirror_mode": {
    "name": "ipython",
    "version": 3
   },
   "file_extension": ".py",
   "mimetype": "text/x-python",
   "name": "python",
   "nbconvert_exporter": "python",
   "pygments_lexer": "ipython3",
   "version": "3.7.7"
  }
 },
 "nbformat": 4,
 "nbformat_minor": 4
}
