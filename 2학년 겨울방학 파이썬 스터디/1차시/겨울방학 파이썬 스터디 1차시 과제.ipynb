{
 "cells": [
  {
   "cell_type": "markdown",
   "metadata": {},
   "source": [
    "# 겨울방학 파이썬 스터디 1차시 과제"
   ]
  },
  {
   "cell_type": "markdown",
   "metadata": {},
   "source": [
    "### 문제 난이도 하 (1점)"
   ]
  },
  {
   "cell_type": "markdown",
   "metadata": {},
   "source": [
    "**Q1.**    두 자연수 A와 B를 입력받아, 덧셈, 뺄셈, 곱셈, 몫, 나머지를 출력하는 프로그램을 작성하시오. "
   ]
  },
  {
   "cell_type": "code",
   "execution_count": 1,
   "metadata": {},
   "outputs": [],
   "source": [
    "### 코드를 입력하세요\n"
   ]
  },
  {
   "cell_type": "markdown",
   "metadata": {},
   "source": [
    "**Q2.**   요일을 입력받아 월요일(0) ~ 일요일(6) 중 스터디 요일이면 True, 스터디 요일이 아니면 False를 출력하시오. "
   ]
  },
  {
   "cell_type": "code",
   "execution_count": 2,
   "metadata": {},
   "outputs": [],
   "source": [
    "### 코드를 입력하세요\n"
   ]
  },
  {
   "cell_type": "markdown",
   "metadata": {},
   "source": [
    "**Q3.** 출력 결과가 다음과 같이 나오도록 문자열을 만들고 print()를 이용해 출력하시오. \n",
    "```python\n",
    "He said, \"My name is Tom!\".\n",
    "```\n"
   ]
  },
  {
   "cell_type": "code",
   "execution_count": 3,
   "metadata": {},
   "outputs": [],
   "source": [
    "### 코드를 입력하세요\n"
   ]
  },
  {
   "cell_type": "markdown",
   "metadata": {},
   "source": [
    "**Q4.** 1이라는 값 하나만 가지는 튜플을 만드시오."
   ]
  },
  {
   "cell_type": "code",
   "execution_count": 4,
   "metadata": {},
   "outputs": [],
   "source": [
    "### 코드를 입력하세요\n"
   ]
  },
  {
   "cell_type": "markdown",
   "metadata": {},
   "source": [
    "**Q5.** 다음 Dictionary를 생성하시오.\n",
    "\n",
    "| key      | value |\n",
    "| ----------- | ----------- |\n",
    "| 경영통계      | '이웅','경영경제통계학','1교시' |\n",
    "|경영수학 | '안성만','경영경제수학','5교시' |\n",
    "|경제학개론| '유은나','경제학 들어가기','4교시' |\n",
    "|회계학원론 | '홍창목','회계학원리','2교시'|"
   ]
  },
  {
   "cell_type": "code",
   "execution_count": 5,
   "metadata": {},
   "outputs": [],
   "source": [
    "### 코드를 입력하세요\n"
   ]
  },
  {
   "cell_type": "markdown",
   "metadata": {},
   "source": [
    "**Q5-1.** 다음 Dictionary에서 경제학개론 4교시를 3교시로, 회계학원론에서 회계학원리를 회계원리로 바꾸시오."
   ]
  },
  {
   "cell_type": "code",
   "execution_count": 6,
   "metadata": {},
   "outputs": [],
   "source": [
    "### 코드를 입력하세요\n"
   ]
  },
  {
   "cell_type": "markdown",
   "metadata": {},
   "source": [
    "**Q6.** 아래 그림과 같은 3차원 리스트를 만들고 131을 출력하시오.<p>\n",
    "<img align=\"left\" width = '400' src=\"https://img1.daumcdn.net/thumb/R800x0/?scode=mtistory2&fname=https%3A%2F%2Ft1.daumcdn.net%2Fcfile%2Ftistory%2F9950704F5B711DB223\" alt=\"2D List in Python\">"
   ]
  },
  {
   "cell_type": "code",
   "execution_count": 7,
   "metadata": {},
   "outputs": [],
   "source": [
    "### 코드를 입력하세요\n"
   ]
  },
  {
   "cell_type": "markdown",
   "metadata": {},
   "source": [
    "### 문제 난이도 중 (2점)"
   ]
  },
  {
   "cell_type": "markdown",
   "metadata": {},
   "source": [
    "**Q7.** 주어진 튜플의 첫번째 값을 0에서 본인 이름으로 변경하시오."
   ]
  },
  {
   "cell_type": "code",
   "execution_count": 17,
   "metadata": {},
   "outputs": [],
   "source": [
    "### 코드를 건드리지 말고 실행해주세요\n",
    "\n",
    "x = (0, 1, 22,'김정하', 1+1)"
   ]
  },
  {
   "cell_type": "code",
   "execution_count": 8,
   "metadata": {},
   "outputs": [],
   "source": [
    "### 코드를 입력하세요\n"
   ]
  },
  {
   "cell_type": "markdown",
   "metadata": {},
   "source": [
    "**Q8.** 다음 수식을 한 줄로 표현된 파이썬 코드로 작성하시오.\n",
    "\\begin{equation}\n",
    "y = 20\\cfrac{23\\cfrac{3x^3+5x+2}{7w-\\cfrac{3}{z}}-z}{z\\cfrac{3+x}{4}} - \\sqrt[7](wx^z)\n",
    "\\end{equation}"
   ]
  },
  {
   "cell_type": "code",
   "execution_count": 17,
   "metadata": {},
   "outputs": [
    {
     "data": {
      "text/plain": [
       "(2, 3, 4)"
      ]
     },
     "execution_count": 17,
     "metadata": {},
     "output_type": "execute_result"
    }
   ],
   "source": [
    "### 코드를 건드리지 말고 실행해주세요\n",
    "x = 2\n",
    "w = 3\n",
    "z = 4\n",
    "x, w, z"
   ]
  },
  {
   "cell_type": "code",
   "execution_count": 9,
   "metadata": {},
   "outputs": [],
   "source": [
    "### 코드를 작성해주세요\n"
   ]
  },
  {
   "cell_type": "markdown",
   "metadata": {},
   "source": [
    "**Q9.** 현준이는 200만원 예금하고 연이율 2.4%의 복리로 7년간 예치했다.철수의 원리금이 매년 어떻게 변하는지 표기하고 매년 총 수익을 표현하시오.\\\n",
    "<br><font color = \"#CC3D3D\">\n",
    "    이와 같은 형태를 출력하세요 !!\n",
    "\n",
    "    예치금:  200 만원\n",
    "    1 년 후:  204 만원 수익: 4 만원\n",
    "    2 년 후:  208 만원 수익: 8 만원\n",
    "    3 년 후:  212 만원 수익: 12 만원\n",
    "    4 년 후:  217 만원 수익: 17 만원\n",
    "    5 년 후:  222 만원 수익: 22 만원\n",
    "    6 년 후:  227 만원 수익: 27 만원\n",
    "    7 년 후:  232 만원 수익: 32 만원\n",
    "    (단 if문과 for문을 사용하지 않고 문제를 푸세요!!)"
   ]
  },
  {
   "cell_type": "code",
   "execution_count": 10,
   "metadata": {},
   "outputs": [],
   "source": [
    "### 코드를 입력하세요\n"
   ]
  },
  {
   "cell_type": "markdown",
   "metadata": {},
   "source": [
    "### 문제 난이도 상 (3점)"
   ]
  },
  {
   "cell_type": "markdown",
   "metadata": {},
   "source": [
    "**Q10.** 다음 주어진 리스트를 임의의 4개의 리스트로 분할 한 후 각 리스트의 중복된 원소를 제거한 후 각 리스트의 원소 갯수를 구하시오."
   ]
  },
  {
   "cell_type": "code",
   "execution_count": 20,
   "metadata": {},
   "outputs": [
    {
     "name": "stdout",
     "output_type": "stream",
     "text": [
      "['Hello,', 'Chicago.', 'If', 'there', 'is', 'anyone', 'out', 'there', 'who', 'still', 'doubts', 'that', 'America', 'is', 'a', 'place', 'where', 'all', 'things', 'are', 'possible,', 'who', 'still', 'wonders', 'if', 'the', 'dream', 'of', 'our', 'founders', 'is', 'alive', 'in', 'our', 'time,', 'who', 'still', 'questions', 'the', 'power', 'of', 'our', 'democracy,', 'tonight', 'is', 'your', 'answer.', \"It's\", 'the', 'answer', 'told', 'by', 'lines', 'that', 'stretched', 'around', 'schools', 'and', 'churches', 'in', 'numbers', 'this', 'nation', 'has', 'never', 'seen,', 'by', 'people', 'who', 'waited', 'three', 'hours', 'and', 'four', 'hours,', 'many', 'for', 'the', 'first', 'time', 'in', 'their', 'lives,', 'because', 'they', 'believed', 'that', 'this', 'time', 'must', 'be', 'different,', 'that', 'their', 'voices', 'could', 'be', 'that', 'difference.', \"It's\", 'the', 'answer', 'spoken', 'by', 'young', 'and', 'old,', 'rich', 'and', 'poor,', 'Democrat', 'and', 'Republican,', 'black,', 'white,', 'Hispanic,', 'Asian,', 'Native', 'American,', 'gay,', 'straight,', 'disabled', 'and', 'not', 'disabled.', 'Americans', 'who', 'sent', 'a', 'message', 'to', 'the', 'world', 'that', 'we', 'have', 'never', 'been', 'just', 'a', 'collection', 'of', 'individuals', 'or', 'a', 'collection', 'of', 'red', 'states', 'and', 'blue', 'states.', 'We', 'are,', 'and', 'always', 'will', 'be,', 'the', 'United', 'States', 'of', 'America.', \"It's\", 'the', 'answer', 'that', 'led', 'those', \"who've\", 'been', 'told', 'for', 'so', 'long', 'by', 'so', 'many', 'to', 'be', 'cynical', 'and', 'fearful', 'and', 'doubtful', 'about', 'what', 'we', 'can', 'achieve', 'to', 'put', 'their', 'hands', 'on', 'the', 'arc', 'of', 'history', 'and', 'bend', 'it', 'on-ce', 'more', 'toward', 'the', 'hope', 'of', 'a', 'better', 'day.', \"It's\", 'been', 'a', 'long', 'time', 'coming,', 'but', 'tonight,', 'because', 'of', 'what', 'we', 'did', 'on', 'this', 'date', 'in', 'this', 'election', 'at', 'this', 'defining', 'moment', 'change', 'has', 'come', 'to', 'America.', 'A', 'little', 'bit', 'earlier', 'this', 'evening,', 'I', 'received', 'an', 'extraordinarily', 'gracious', 'call', 'from', 'Sen.', 'McCain.', \"Don't\", 'Miss', 'America', 'votes', 'for', 'change', 'Transcript', 'of', \"McCain's\", 'concession', 'speech', 'African-American', 'centenarian', 'votes', 'Obama', 'grandmother', 'dies', 'before', 'election', 'Presidential', 'election', 'results', 'Sen.', 'McCain', 'fought', 'long', 'and', 'hard', 'in', 'this', 'campaign.', 'And', \"he's\", 'fought', 'even', 'longer', 'and', 'harder', 'for', 'the', 'country', 'that', 'he', 'loves.', 'He', 'has', 'endured', 'sacrifices', 'for', 'America', 'that', 'most', 'of', 'us', 'cannot', 'begin', 'to', 'imagine.', 'We', 'are', 'better', 'off', 'for', 'the', 'service', 'rendered', 'by', 'this', 'brave', 'and', 'selfless', 'leader.', 'I', 'congratulate', 'him;', 'I', 'congratulate', 'Gov.', 'Palin', 'for', 'all', 'that', \"they've\", 'achieved.', 'And', 'I', 'look', 'forward', 'to', 'working', 'with', 'them', 'to', 'renew', 'this', \"nation's\", 'promise', 'in', 'the', 'months', 'ahead.', 'I', 'want', 'to', 'thank', 'my', 'partner', 'in', 'this', 'journey,', 'a', 'man', 'who', 'campaigned', 'from', 'his', 'heart,', 'and', 'spoke', 'for', 'the', 'men', 'and', 'women', 'he', 'grew', 'up', 'with', 'on', 'the', 'streets', 'of', 'Scranton', 'and', 'rode', 'with', 'on', 'the', 'train', 'home', 'to', 'Delaware,', 'the', 'vice', 'president-elect', 'of', 'the', 'United', 'States,', 'Joe', 'Biden.', 'And', 'I', 'would', 'not', 'be', 'standing', 'here', 'tonight', 'without', 'the', 'unyielding', 'support', 'of', 'my', 'best', 'friend', 'for', 'the', 'last', '16', 'years', 'the', 'rock', 'of', 'our', 'family,', 'the', 'love', 'of', 'my', 'life,', 'the', \"nation's\", 'next', 'first', 'lady', 'Michelle', 'Obama.', 'Sasha', 'and', 'Malia', 'I', 'love', 'you', 'both', 'more', 'than', 'you', 'can', 'imagine.', 'And', 'you', 'have', 'earned', 'the', 'new', 'puppy', \"that's\", 'coming', 'with', 'us', 'to', 'the', 'new', 'White', 'House.', 'And', 'while', \"she's\", 'no', 'longer', 'with', 'us,', 'I', 'know', 'my', \"grandmother's\", 'watching,', 'along', 'with', 'the', 'family', 'that', 'made', 'me', 'who', 'I', 'am.', 'I', 'miss', 'them', 'tonight.', 'I', 'know', 'that', 'my', 'debt', 'to', 'them', 'is', 'beyond', 'measure.', 'To', 'my', 'sister', 'Maya,', 'my', 'sister', 'Alma,', 'all', 'my', 'other', 'brothers', 'and', 'sisters,', 'thank', 'you', 'so', 'much', 'for', 'all', 'the', 'support', 'that', \"you've\", 'given', 'me.', 'I', 'am', 'grateful', 'to', 'them.', 'And', 'to', 'my', 'campaign', 'manager,', 'David', 'Plouffe,', 'the', 'unsung', 'hero', 'of', 'this', 'campaign,', 'who', 'built', 'the', 'best', '--', 'the', 'best', 'political', 'campaign,', 'I', 'think,', 'in', 'the', 'history', 'of', 'the', 'United', 'States', 'of', 'America.', 'To', 'my', 'chief', 'strategist', 'David', 'Axelrod', \"who's\", 'been', 'a', 'partner', 'with', 'me', 'every', 'step', 'of', 'the', 'way.', 'To', 'the', 'best', 'campaign', 'team', 'ever', 'assembled', 'in', 'the', 'history', 'of', 'politics', 'you', 'made', 'this', 'happen,', 'and', 'I', 'am', 'forever', 'grateful', 'for', 'what', \"you've\", 'sacrificed', 'to', 'get', 'it', 'done.', 'But', 'above', 'all,', 'I', 'will', 'never', 'forget', 'who', 'this', 'victory', 'truly', 'belongs', 'to.', 'It', 'belongs', 'to', 'you.', 'It', 'belongs', 'to', 'you.', 'I', 'was', 'never', 'the', 'likeliest', 'candidate', 'for', 'this', 'office.', 'We', \"didn't\", 'start', 'with', 'much', 'money', 'or', 'many', 'endorsements.', 'Our', 'campaign', 'was', 'not', 'hatched', 'in', 'the', 'halls', 'of', 'Washington.', 'It', 'began', 'in', 'the', 'backyards', 'of', 'Des', 'Moines', 'and', 'the', 'living', 'rooms', 'of', 'Concord', 'and', 'the', 'front', 'porches', 'of', 'Charleston.', 'It', 'was', 'built', 'by', 'working', 'men', 'and', 'women', 'who', 'dug', 'into', 'what', 'little', 'savings', 'they', 'had', 'to', 'give', '$5', 'and', '$10', 'and', '$20', 'to', 'the', 'cause.', 'It', 'grew', 'strength', 'from', 'the', 'young', 'people', 'who', 'rejected', 'the', 'myth', 'of', 'their', \"generation's\", 'apathy', 'who', 'left', 'their', 'homes', 'and', 'their', 'families', 'for', 'jobs', 'that', 'offered', 'little', 'pay', 'and', 'less', 'sleep.', 'It', 'drew', 'strength', 'from', 'the', 'not-so-young', 'people', 'who', 'braved', 'the', 'bitter', 'cold', 'and', 'scorching', 'heat', 'to', 'knock', 'on', 'doors', 'of', 'perfect', 'strangers,', 'and', 'from', 'the', 'millions', 'of', 'Americans', 'who', 'volunteered', 'and', 'organized', 'and', 'proved', 'that', 'more', 'than', 'two', 'centuries', 'later', 'a', 'government', 'of', 'the', 'people,', 'by', 'the', 'people,', 'and', 'for', 'the', 'people', 'has', 'not', 'perished', 'from', 'the', 'Earth.', 'This', 'is', 'your', 'victory.', 'And', 'I', 'know', 'you', \"didn't\", 'do', 'this', 'just', 'to', 'win', 'an', 'election.', 'And', 'I', 'know', 'you', \"didn't\", 'do', 'it', 'for', 'me.', 'You', 'did', 'it', 'because', 'you', 'understand', 'the', 'enormity', 'of', 'the', 'task', 'that', 'lies', 'ahead.', 'For', 'even', 'as', 'we', 'celebrate', 'tonight,', 'we', 'know', 'the', 'challenges', 'that', 'tomorrow', 'will', 'bring', 'are', 'the', 'greatest', 'of', 'our', 'lifetime', '--', 'two', 'wars,', 'a', 'planet', 'in', 'peril,', 'the', 'worst', 'financial', 'crisis', 'in', 'a', 'century.', 'Even', 'as', 'we', 'stand', 'here', 'tonight,', 'we', 'know', 'there', 'are', 'brave', 'Americans', 'waking', 'up', 'in', 'the', 'deserts', 'of', 'Iraq', 'and', 'the', 'mountains', 'of', 'Afghanistan', 'to', 'risk', 'their', 'lives', 'for', 'us.', 'There', 'are', 'mothers', 'and', 'fathers', 'who', 'will', 'lie', 'awake', 'after', 'the', 'children', 'fall', 'asleep', 'and', 'wonder', 'how', \"they'll\", 'make', 'the', 'mortgage', 'or', 'pay', 'their', \"doctors'\", 'bills', 'or', 'save', 'enough', 'for', 'their', \"child's\", 'college', 'education.', \"There's\", 'new', 'energy', 'to', 'harness,', 'new', 'jobs', 'to', 'be', 'created,', 'new', 'schools', 'to', 'build,', 'and', 'threats', 'to', 'meet,', 'alliances', 'to', 'repair.', 'The', 'road', 'ahead', 'will', 'be', 'long.', 'Our', 'climb', 'will', 'be', 'steep.', 'We', 'may', 'not', 'get', 'there', 'in', 'on-e', 'year', 'or', 'even', 'in', 'on-e', 'term.', 'But,', 'America,', 'I', 'have', 'never', 'been', 'more', 'hopeful', 'than', 'I', 'am', 'tonight', 'that', 'we', 'will', 'get', 'there.', 'I', 'promise', 'you,', 'we', 'as', 'a', 'people', 'will', 'get', 'there.', 'There', 'will', 'be', 'setbacks', 'and', 'false', 'starts.', 'There', 'are', 'many', 'who', \"won't\", 'agree', 'with', 'every', 'decision', 'or', 'policy', 'I', 'make', 'as', 'president.', 'And', 'we', 'know', 'the', 'government', \"can't\", 'solve', 'every', 'problem.', 'But', 'I', 'will', 'always', 'be', 'honest', 'with', 'you', 'about', 'the', 'challenges', 'we', 'face.', 'I', 'will', 'listen', 'to', 'you,', 'especially', 'when', 'we', 'disagree.', 'And,', 'above', 'all,', 'I', 'will', 'ask', 'you', 'to', 'join', 'in', 'the', 'work', 'of', 'remaking', 'this', 'nation,', 'the', 'on-ly', 'way', \"it's\", 'been', 'done', 'in', 'America', 'for', '221', 'years', '--', 'block', 'by', 'block,', 'brick', 'by', 'brick,', 'calloused', 'hand', 'by', 'calloused', 'hand.', 'What', 'began', '21', 'months', 'ago', 'in', 'the', 'depths', 'of', 'winter', 'cannot', 'end', 'on', 'this', 'autumn', 'night.', 'This', 'victory', 'alone', 'is', 'not', 'the', 'change', 'we', 'seek.', 'It', 'is', 'on-ly', 'the', 'chance', 'for', 'us', 'to', 'make', 'that', 'change.', 'And', 'that', 'cannot', 'happen', 'if', 'we', 'go', 'back', 'to', 'the', 'way', 'things', 'were.', 'It', \"can't\", 'happen', 'without', 'you,', 'without', 'a', 'new', 'spirit', 'of', 'service,', 'a', 'new', 'spirit', 'of', 'sacrifice.', 'So', 'let', 'us', 'summon', 'a', 'new', 'spirit', 'of', 'patriotism,', 'of', 'responsibility,', 'where', 'each', 'of', 'us', 'resolves', 'to', 'pitch', 'in', 'and', 'work', 'harder', 'and', 'look', 'after', 'not', 'on-ly', 'ourselves', 'but', 'each', 'other.', 'Let', 'us', 'remember', 'that,', 'if', 'this', 'financial', 'crisis', 'taught', 'us', 'anything,', \"it's\", 'that', 'we', 'cannot', 'have', 'a', 'thriving', 'Wall', 'Street', 'while', 'Main', 'Street', 'suffers.', 'In', 'this', 'country,', 'we', 'rise', 'or', 'fall', 'as', 'on-e', 'nation,', 'as', 'on-e', 'people.', \"Let's\", 'resist', 'the', 'temptation', 'to', 'fall', 'back', 'on', 'the', 'same', 'partisanship', 'and', 'pettiness', 'and', 'immaturity', 'that', 'has', 'poisoned', 'our', 'politics', 'for', 'so', 'long.', \"Let's\", 'remember', 'that', 'it', 'was', 'a', 'man', 'from', 'this', 'state', 'who', 'first', 'carried', 'the', 'banner', 'of', 'the', 'Republican', 'Party', 'to', 'the', 'White', 'House,', 'a', 'party', 'founded', 'on', 'the', 'values', 'of', 'self-reliance', 'and', 'individual', 'liberty', 'and', 'national', 'unity.', 'Those', 'are', 'values', 'that', 'we', 'all', 'share.', 'And', 'while', 'the', 'Democratic', 'Party', 'has', 'won', 'a', 'great', 'victory', 'tonight,', 'we', 'do', 'so', 'with', 'a', 'measure', 'of', 'humility', 'and', 'determination', 'to', 'heal', 'the', 'divides', 'that', 'have', 'held', 'back', 'our', 'progress.', 'As', 'Lincoln', 'said', 'to', 'a', 'nation', 'far', 'more', 'divided', 'than', 'ours,', 'we', 'are', 'not', 'enemies', 'but', 'friends.', 'Though', 'passion', 'may', 'have', 'strained,', 'it', 'must', 'not', 'break', 'our', 'bonds', 'of', 'affection.', 'And', 'to', 'those', 'Americans', 'whose', 'support', 'I', 'have', 'yet', 'to', 'earn,', 'I', 'may', 'not', 'have', 'won', 'your', 'vote', 'tonight,', 'but', 'I', 'hear', 'your', 'voices.', 'I', 'need', 'your', 'help.', 'And', 'I', 'will', 'be', 'your', 'president,', 'too.', 'And', 'to', 'all', 'those', 'watching', 'tonight', 'from', 'beyond', 'our', 'shores,', 'from', 'parliaments', 'and', 'palaces,', 'to', 'those', 'who', 'are', 'huddled', 'around', 'radios', 'in', 'the', 'forgotten', 'corners', 'of', 'the', 'world,', 'our', 'stories', 'are', 'singular,', 'but', 'our', 'destiny', 'is', 'shared,', 'and', 'a', 'new', 'dawn', 'of', 'American', 'leadership', 'is', 'at', 'hand.', 'To', 'those', '--', 'to', 'those', 'who', 'would', 'tear', 'the', 'world', 'down:', 'We', 'will', 'defeat', 'you.', 'To', 'those', 'who', 'seek', 'peace', 'and', 'security:', 'We', 'support', 'you.', 'And', 'to', 'all', 'those', 'who', 'have', 'wondered', 'if', \"America's\", 'beacon', 'still', 'burns', 'as', 'bright:', 'Tonight', 'we', 'proved', 'on-ce', 'more', 'that', 'the', 'true', 'strength', 'of', 'our', 'nation', 'comes', 'not', 'from', 'the', 'might', 'of', 'our', 'arms', 'or', 'the', 'scale', 'of', 'our', 'wealth,', 'but', 'from', 'the', 'enduring', 'power', 'of', 'our', 'ideals:', 'democracy,', 'liberty,', 'opportunity', 'and', 'unyielding', 'hope.', \"That's\", 'the', 'true', 'genius', 'of', 'America:', 'that', 'America', 'can', 'change.', 'Our', 'union', 'can', 'be', 'perfected.', 'What', \"we've\", 'already', 'achieved', 'gives', 'us', 'hope', 'for', 'what', 'we', 'can', 'and', 'must', 'achieve', 'tomorrow.', 'This', 'election', 'had', 'many', 'firsts', 'and', 'many', 'stories', 'that', 'will', 'be', 'told', 'for', 'generations.', 'But', 'on-e', \"that's\", 'on', 'my', 'mind', \"tonight's\", 'about', 'a', 'woman', 'who', 'cast', 'her', 'ballot', 'in', 'Atlanta.', \"She's\", 'a', 'lot', 'like', 'the', 'millions', 'of', 'others', 'who', 'stood', 'in', 'line', 'to', 'make', 'their', 'voice', 'heard', 'in', 'this', 'election', 'except', 'for', 'on-e', 'thing:', 'Ann', 'Nixon', 'Cooper', 'is', '106', 'years', 'old.', 'She', 'was', 'born', 'just', 'a', 'generation', 'past', 'slavery;', 'a', 'time', 'when', 'there', 'were', 'no', 'cars', 'on', 'the', 'road', 'or', 'planes', 'in', 'the', 'sky;', 'when', 'someone', 'like', 'her', \"couldn't\", 'vote', 'for', 'two', 'reasons', '--', 'because', 'she', 'was', 'a', 'woman', 'and', 'because', 'of', 'the', 'color', 'of', 'her', 'skin.', 'And', 'tonight,', 'I', 'think', 'about', 'all', 'that', \"she's\", 'seen', 'throughout', 'her', 'century', 'in', 'America', '--', 'the', 'heartache', 'and', 'the', 'hope;', 'the', 'struggle', 'and', 'the', 'progress;', 'the', 'times', 'we', 'were', 'told', 'that', 'we', \"can't,\", 'and', 'the', 'people', 'who', 'pressed', 'on', 'with', 'that', 'American', 'creed:', 'Yes', 'we', 'can.', 'At', 'a', 'time', 'when', \"women's\", 'voices', 'were', 'silenced', 'and', 'their', 'hopes', 'dismissed,', 'she', 'lived', 'to', 'see', 'them', 'stand', 'up', 'and', 'speak', 'out', 'and', 'reach', 'for', 'the', 'ballot.', 'Yes', 'we', 'can.', 'When', 'there', 'was', 'despair', 'in', 'the', 'dust', 'bowl', 'and', 'depression', 'across', 'the', 'land,', 'she', 'saw', 'a', 'nation', 'conquer', 'fear', 'itself', 'with', 'a', 'New', 'Deal,', 'new', 'jobs,', 'a', 'new', 'sense', 'of', 'common', 'purpose.', 'Yes', 'we', 'can.', 'When', 'the', 'bombs', 'fell', 'on', 'our', 'harbor', 'and', 'tyranny', 'threatened', 'the', 'world,', 'she', 'was', 'there', 'to', 'witness', 'a', 'generation', 'rise', 'to', 'greatness', 'and', 'a', 'democracy', 'was', 'saved.', 'Yes', 'we', 'can.', 'She', 'was', 'there', 'for', 'the', 'buses', 'in', 'Montgomery,', 'the', 'hoses', 'in', 'Birmingham,', 'a', 'bridge', 'in', 'Selma,', 'and', 'a', 'preacher', 'from', 'Atlanta', 'who', 'told', 'a', 'people', 'that', '\"We', 'Shall', 'Overcome.\"', 'Yes', 'we', 'can.', 'A', 'man', 'touched', 'down', 'on', 'the', 'moon,', 'a', 'wall', 'came', 'down', 'in', 'Berlin,', 'a', 'world', 'was', 'connected', 'by', 'our', 'own', 'science', 'and', 'imagination.', 'And', 'this', 'year,', 'in', 'this', 'election,', 'she', 'touched', 'her', 'finger', 'to', 'a', 'screen,', 'and', 'cast', 'her', 'vote,', 'because', 'after', '106', 'years', 'in', 'America,', 'through', 'the', 'best', 'of', 'times', 'and', 'the', 'darkest', 'of', 'hours,', 'she', 'knows', 'how', 'America', 'can', 'change.', 'Yes', 'we', 'can.', 'America,', 'we', 'have', 'come', 'so', 'far.', 'We', 'have', 'seen', 'so', 'much.', 'But', 'there', 'is', 'so', 'much', 'more', 'to', 'do.', 'So', 'tonight,', 'let', 'us', 'ask', 'ourselves', '--', 'if', 'our', 'children', 'should', 'live', 'to', 'see', 'the', 'next', 'century;', 'if', 'my', 'daughters', 'should', 'be', 'so', 'lucky', 'to', 'live', 'as', 'long', 'as', 'Ann', 'Nixon', 'Cooper,', 'what', 'change', 'will', 'they', 'see?', 'What', 'progress', 'will', 'we', 'have', 'made?', 'This', 'is', 'our', 'chance', 'to', 'answer', 'that', 'call.', 'This', 'is', 'our', 'moment.', 'This', 'is', 'our', 'time,', 'to', 'put', 'our', 'people', 'back', 'to', 'work', 'and', 'open', 'doors', 'of', 'opportunity', 'for', 'our', 'kids;', 'to', 'restore', 'prosperity', 'and', 'promote', 'the', 'cause', 'of', 'peace;', 'to', 'reclaim', 'the', 'American', 'dream', 'and', 'reaffirm', 'that', 'fundamental', 'truth,', 'that,', 'out', 'of', 'many,', 'we', 'are', 'on-e;', 'that', 'while', 'we', 'breathe,', 'we', 'hope.', 'And', 'where', 'we', 'are', 'met', 'with', 'cynicism', 'and', 'doubts', 'and', 'those', 'who', 'tell', 'us', 'that', 'we', \"can't,\", 'we', 'will', 'respond', 'with', 'that', 'timeless', 'creed', 'that', 'sums', 'up', 'the', 'spirit', 'of', 'a', 'people:', 'Yes,', 'we', 'can.', 'Thank', 'you.', 'God', 'bless', 'you.', 'And', 'may', 'God', 'bless', 'the', 'United', 'States', 'of', 'America.']\n"
     ]
    }
   ],
   "source": [
    "### 코드를 건드리지 마시고 실행행주세요\n",
    "import requests\n",
    "\n",
    "url = 'http://cfile221.uf.daum.net/attach/1332E3064975C0E70F1AFF' #오바마 연설문 파일\n",
    "res = requests.get(url)\n",
    "text = res.text\n",
    "words = text.split() # 사용할 데이터\n",
    "# 데이터 확인\n",
    "print(words)"
   ]
  },
  {
   "cell_type": "code",
   "execution_count": 11,
   "metadata": {},
   "outputs": [],
   "source": [
    "### 코드를 입력하세요\n"
   ]
  },
  {
   "cell_type": "markdown",
   "metadata": {},
   "source": [
    "**Q10-1.** 4개 리스트를 다시 합친후에 갯수를 구하여 원래 리스트에서 몇개의 원소가 사라졌는지 확인하시오."
   ]
  },
  {
   "cell_type": "code",
   "execution_count": 12,
   "metadata": {},
   "outputs": [],
   "source": [
    "###코드를 입력하세요\n"
   ]
  },
  {
   "cell_type": "markdown",
   "metadata": {},
   "source": [
    "**Q11.** 이름과 주민번호 앞자리를 따로 입력받은 후, 주어진 딕셔너리에 알맞게 이름을 넣으시오."
   ]
  },
  {
   "cell_type": "code",
   "execution_count": 18,
   "metadata": {},
   "outputs": [
    {
     "data": {
      "text/plain": [
       "{'96': ['신데렐라'],\n",
       " '97': ['알라딘'],\n",
       " '98': ['지니'],\n",
       " '99': ['라푼젤'],\n",
       " '00': ['신데렐라'],\n",
       " '01': ['백설공주'],\n",
       " '02': ['인어공주'],\n",
       " '03': ['자스민']}"
      ]
     },
     "execution_count": 18,
     "metadata": {},
     "output_type": "execute_result"
    }
   ],
   "source": [
    "### 코드를 건드리지 말고 실행해주세요\n",
    "age_name = {'96':['신데렐라'],'97':['알라딘'],'98':['지니'],'99':['라푼젤'],'00':['신데렐라'],'01':['백설공주'],'02':['인어공주'],'03':['자스민']};age_name"
   ]
  },
  {
   "cell_type": "code",
   "execution_count": 15,
   "metadata": {},
   "outputs": [],
   "source": [
    "### 코드를 입력하세요\n"
   ]
  },
  {
   "cell_type": "markdown",
   "metadata": {},
   "source": [
    "**Q12.** 세 개의 자연수 150, 266, 427가 주어졌을 때 세 자연수의 곱을 계산한 결과에 몇 개의 숫자가 쓰였는지 구하시오. "
   ]
  },
  {
   "cell_type": "code",
   "execution_count": 16,
   "metadata": {},
   "outputs": [],
   "source": [
    "### 코드를 입력하세요\n"
   ]
  }
 ],
 "metadata": {
  "kernelspec": {
   "display_name": "Python 3",
   "language": "python",
   "name": "python3"
  },
  "language_info": {
   "codemirror_mode": {
    "name": "ipython",
    "version": 3
   },
   "file_extension": ".py",
   "mimetype": "text/x-python",
   "name": "python",
   "nbconvert_exporter": "python",
   "pygments_lexer": "ipython3",
   "version": "3.7.7"
  }
 },
 "nbformat": 4,
 "nbformat_minor": 4
}
