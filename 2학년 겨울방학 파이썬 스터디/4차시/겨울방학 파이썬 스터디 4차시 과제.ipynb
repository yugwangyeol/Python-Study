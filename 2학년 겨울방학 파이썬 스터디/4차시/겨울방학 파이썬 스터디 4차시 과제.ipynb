{
 "cells": [
  {
   "cell_type": "markdown",
   "metadata": {},
   "source": [
    "# 겨울방학 파이썬 스터디 4차시 과제"
   ]
  },
  {
   "cell_type": "markdown",
   "metadata": {},
   "source": [
    "## A."
   ]
  },
  {
   "cell_type": "markdown",
   "metadata": {},
   "source": [
    "**A1.** 출력값이 아래와 동일하도록 DataFrame을 생성하시오. (1점)"
   ]
  },
  {
   "cell_type": "markdown",
   "metadata": {},
   "source": [
    "|  | continent\t| year\t| lifeExp\t| pop\t| gdpPercap |\n",
    "| ----- | ------------- | ------ | -------- | ----------- | --------- |\n",
    "| 0 |\tAsia|\t1952|\t28|\t843|\t779.4 |\n",
    "| 1 |\tAsia|\t1957|\t30|\t924\t|820.7 |\n",
    "| 2 |\tAsia|\t1962|\t31|\t1083|\t853.1 |\n",
    "| 3 |\tAsia|\t1967|\t34|\t1376|\t836.1 |\n",
    "| 4 |\tAsia|\t1972|\t36|\t1370|\t739.9 |\n",
    "| 5 |\tAsia| 1977|\t38|\t1488|\t786.3 |"
   ]
  },
  {
   "cell_type": "code",
   "execution_count": 1,
   "metadata": {},
   "outputs": [],
   "source": [
    "#code here\n"
   ]
  },
  {
   "cell_type": "markdown",
   "metadata": {},
   "source": [
    "**A2.** 인덱싱을 이용하여 데이터프레임에서 1376를 출력하시오. (1점)"
   ]
  },
  {
   "cell_type": "code",
   "execution_count": 34,
   "metadata": {},
   "outputs": [
    {
     "data": {
      "text/plain": [
       "1376"
      ]
     },
     "execution_count": 34,
     "metadata": {},
     "output_type": "execute_result"
    }
   ],
   "source": [
    "#code here\n"
   ]
  },
  {
   "cell_type": "markdown",
   "metadata": {},
   "source": [
    "**A3.** 두 가지 방법으로 DataFrame의 열 순서를 지금과 반대로 변경하시오. (구글링)  (2점)"
   ]
  },
  {
   "cell_type": "code",
   "execution_count": 52,
   "metadata": {},
   "outputs": [
    {
     "data": {
      "text/html": [
       "<div>\n",
       "<style scoped>\n",
       "    .dataframe tbody tr th:only-of-type {\n",
       "        vertical-align: middle;\n",
       "    }\n",
       "\n",
       "    .dataframe tbody tr th {\n",
       "        vertical-align: top;\n",
       "    }\n",
       "\n",
       "    .dataframe thead th {\n",
       "        text-align: right;\n",
       "    }\n",
       "</style>\n",
       "<table border=\"1\" class=\"dataframe\">\n",
       "  <thead>\n",
       "    <tr style=\"text-align: right;\">\n",
       "      <th></th>\n",
       "      <th>gdpPercap</th>\n",
       "      <th>pop</th>\n",
       "      <th>lifeExp</th>\n",
       "      <th>year</th>\n",
       "      <th>continent</th>\n",
       "    </tr>\n",
       "  </thead>\n",
       "  <tbody>\n",
       "    <tr>\n",
       "      <th>0</th>\n",
       "      <td>779.4</td>\n",
       "      <td>843</td>\n",
       "      <td>28</td>\n",
       "      <td>1952</td>\n",
       "      <td>Asia</td>\n",
       "    </tr>\n",
       "    <tr>\n",
       "      <th>1</th>\n",
       "      <td>820.7</td>\n",
       "      <td>924</td>\n",
       "      <td>30</td>\n",
       "      <td>1957</td>\n",
       "      <td>Asia</td>\n",
       "    </tr>\n",
       "    <tr>\n",
       "      <th>2</th>\n",
       "      <td>853.1</td>\n",
       "      <td>1083</td>\n",
       "      <td>31</td>\n",
       "      <td>1962</td>\n",
       "      <td>Asia</td>\n",
       "    </tr>\n",
       "    <tr>\n",
       "      <th>3</th>\n",
       "      <td>836.1</td>\n",
       "      <td>1376</td>\n",
       "      <td>34</td>\n",
       "      <td>1967</td>\n",
       "      <td>Asia</td>\n",
       "    </tr>\n",
       "    <tr>\n",
       "      <th>4</th>\n",
       "      <td>739.9</td>\n",
       "      <td>1370</td>\n",
       "      <td>36</td>\n",
       "      <td>1972</td>\n",
       "      <td>Asia</td>\n",
       "    </tr>\n",
       "    <tr>\n",
       "      <th>5</th>\n",
       "      <td>786.3</td>\n",
       "      <td>1488</td>\n",
       "      <td>38</td>\n",
       "      <td>1977</td>\n",
       "      <td>Asia</td>\n",
       "    </tr>\n",
       "  </tbody>\n",
       "</table>\n",
       "</div>"
      ],
      "text/plain": [
       "   gdpPercap   pop  lifeExp  year continent\n",
       "0      779.4   843       28  1952      Asia\n",
       "1      820.7   924       30  1957      Asia\n",
       "2      853.1  1083       31  1962      Asia\n",
       "3      836.1  1376       34  1967      Asia\n",
       "4      739.9  1370       36  1972      Asia\n",
       "5      786.3  1488       38  1977      Asia"
      ]
     },
     "execution_count": 52,
     "metadata": {},
     "output_type": "execute_result"
    }
   ],
   "source": [
    "#code here\n"
   ]
  },
  {
   "cell_type": "code",
   "execution_count": 53,
   "metadata": {},
   "outputs": [
    {
     "data": {
      "text/html": [
       "<div>\n",
       "<style scoped>\n",
       "    .dataframe tbody tr th:only-of-type {\n",
       "        vertical-align: middle;\n",
       "    }\n",
       "\n",
       "    .dataframe tbody tr th {\n",
       "        vertical-align: top;\n",
       "    }\n",
       "\n",
       "    .dataframe thead th {\n",
       "        text-align: right;\n",
       "    }\n",
       "</style>\n",
       "<table border=\"1\" class=\"dataframe\">\n",
       "  <thead>\n",
       "    <tr style=\"text-align: right;\">\n",
       "      <th></th>\n",
       "      <th>gdpPercap</th>\n",
       "      <th>pop</th>\n",
       "      <th>lifeExp</th>\n",
       "      <th>year</th>\n",
       "      <th>continent</th>\n",
       "    </tr>\n",
       "  </thead>\n",
       "  <tbody>\n",
       "    <tr>\n",
       "      <th>0</th>\n",
       "      <td>779.4</td>\n",
       "      <td>843</td>\n",
       "      <td>28</td>\n",
       "      <td>1952</td>\n",
       "      <td>Asia</td>\n",
       "    </tr>\n",
       "    <tr>\n",
       "      <th>1</th>\n",
       "      <td>820.7</td>\n",
       "      <td>924</td>\n",
       "      <td>30</td>\n",
       "      <td>1957</td>\n",
       "      <td>Asia</td>\n",
       "    </tr>\n",
       "    <tr>\n",
       "      <th>2</th>\n",
       "      <td>853.1</td>\n",
       "      <td>1083</td>\n",
       "      <td>31</td>\n",
       "      <td>1962</td>\n",
       "      <td>Asia</td>\n",
       "    </tr>\n",
       "    <tr>\n",
       "      <th>3</th>\n",
       "      <td>836.1</td>\n",
       "      <td>1376</td>\n",
       "      <td>34</td>\n",
       "      <td>1967</td>\n",
       "      <td>Asia</td>\n",
       "    </tr>\n",
       "    <tr>\n",
       "      <th>4</th>\n",
       "      <td>739.9</td>\n",
       "      <td>1370</td>\n",
       "      <td>36</td>\n",
       "      <td>1972</td>\n",
       "      <td>Asia</td>\n",
       "    </tr>\n",
       "    <tr>\n",
       "      <th>5</th>\n",
       "      <td>786.3</td>\n",
       "      <td>1488</td>\n",
       "      <td>38</td>\n",
       "      <td>1977</td>\n",
       "      <td>Asia</td>\n",
       "    </tr>\n",
       "  </tbody>\n",
       "</table>\n",
       "</div>"
      ],
      "text/plain": [
       "   gdpPercap   pop  lifeExp  year continent\n",
       "0      779.4   843       28  1952      Asia\n",
       "1      820.7   924       30  1957      Asia\n",
       "2      853.1  1083       31  1962      Asia\n",
       "3      836.1  1376       34  1967      Asia\n",
       "4      739.9  1370       36  1972      Asia\n",
       "5      786.3  1488       38  1977      Asia"
      ]
     },
     "execution_count": 53,
     "metadata": {},
     "output_type": "execute_result"
    }
   ],
   "source": [
    "#code here\n"
   ]
  },
  {
   "cell_type": "markdown",
   "metadata": {},
   "source": [
    "## B."
   ]
  },
  {
   "cell_type": "markdown",
   "metadata": {},
   "source": [
    "**B1.** dataCustomers, dataTransactions 데이터를 합쳐서 df를 만들고 column의 이름을 한글로 바꾸시오. 단, 구분자는 tab이다. (1점)"
   ]
  },
  {
   "cell_type": "code",
   "execution_count": 35,
   "metadata": {},
   "outputs": [],
   "source": [
    "import pandas as pd"
   ]
  },
  {
   "cell_type": "code",
   "execution_count": 36,
   "metadata": {},
   "outputs": [],
   "source": [
    "#code here\n"
   ]
  },
  {
   "cell_type": "code",
   "execution_count": 37,
   "metadata": {},
   "outputs": [],
   "source": [
    "#code here\n"
   ]
  },
  {
   "cell_type": "code",
   "execution_count": 38,
   "metadata": {
    "scrolled": true
   },
   "outputs": [
    {
     "data": {
      "text/html": [
       "<div>\n",
       "<style scoped>\n",
       "    .dataframe tbody tr th:only-of-type {\n",
       "        vertical-align: middle;\n",
       "    }\n",
       "\n",
       "    .dataframe tbody tr th {\n",
       "        vertical-align: top;\n",
       "    }\n",
       "\n",
       "    .dataframe thead th {\n",
       "        text-align: right;\n",
       "    }\n",
       "</style>\n",
       "<table border=\"1\" class=\"dataframe\">\n",
       "  <thead>\n",
       "    <tr style=\"text-align: right;\">\n",
       "      <th></th>\n",
       "      <th>고객 아이디</th>\n",
       "      <th>성별</th>\n",
       "      <th>나이</th>\n",
       "      <th>결혼여부</th>\n",
       "      <th>거주지</th>\n",
       "      <th>직업</th>\n",
       "      <th>구매일자</th>\n",
       "      <th>상점</th>\n",
       "      <th>상품번호</th>\n",
       "      <th>브랜드</th>\n",
       "      <th>코너</th>\n",
       "      <th>수입</th>\n",
       "      <th>구매액</th>\n",
       "      <th>할부</th>\n",
       "    </tr>\n",
       "  </thead>\n",
       "  <tbody>\n",
       "    <tr>\n",
       "      <th>0</th>\n",
       "      <td>10070</td>\n",
       "      <td>여</td>\n",
       "      <td>28</td>\n",
       "      <td>미혼</td>\n",
       "      <td>Yongsan-gu</td>\n",
       "      <td>제조업</td>\n",
       "      <td>2000-06-27 12:23</td>\n",
       "      <td>무역점</td>\n",
       "      <td>4408173027000</td>\n",
       "      <td>1492마일즈</td>\n",
       "      <td>유니캐주얼</td>\n",
       "      <td>0</td>\n",
       "      <td>39000</td>\n",
       "      <td>1</td>\n",
       "    </tr>\n",
       "    <tr>\n",
       "      <th>1</th>\n",
       "      <td>10070</td>\n",
       "      <td>여</td>\n",
       "      <td>28</td>\n",
       "      <td>미혼</td>\n",
       "      <td>Yongsan-gu</td>\n",
       "      <td>제조업</td>\n",
       "      <td>2000-09-03 11:33</td>\n",
       "      <td>신촌점</td>\n",
       "      <td>4106530008200</td>\n",
       "      <td>메이컵포에버</td>\n",
       "      <td>화장품</td>\n",
       "      <td>1</td>\n",
       "      <td>18000</td>\n",
       "      <td>1</td>\n",
       "    </tr>\n",
       "    <tr>\n",
       "      <th>2</th>\n",
       "      <td>10070</td>\n",
       "      <td>여</td>\n",
       "      <td>28</td>\n",
       "      <td>미혼</td>\n",
       "      <td>Yongsan-gu</td>\n",
       "      <td>제조업</td>\n",
       "      <td>2000-10-05 12:10</td>\n",
       "      <td>무역점</td>\n",
       "      <td>4800429513002</td>\n",
       "      <td>밀라노스토리무역</td>\n",
       "      <td>캐릭터캐주얼</td>\n",
       "      <td>0</td>\n",
       "      <td>39000</td>\n",
       "      <td>1</td>\n",
       "    </tr>\n",
       "    <tr>\n",
       "      <th>3</th>\n",
       "      <td>10070</td>\n",
       "      <td>여</td>\n",
       "      <td>28</td>\n",
       "      <td>미혼</td>\n",
       "      <td>Yongsan-gu</td>\n",
       "      <td>제조업</td>\n",
       "      <td>2000-10-05 18:43</td>\n",
       "      <td>무역점</td>\n",
       "      <td>4408173027000</td>\n",
       "      <td>1492마일즈</td>\n",
       "      <td>유니캐주얼</td>\n",
       "      <td>0</td>\n",
       "      <td>69000</td>\n",
       "      <td>1</td>\n",
       "    </tr>\n",
       "    <tr>\n",
       "      <th>4</th>\n",
       "      <td>10070</td>\n",
       "      <td>여</td>\n",
       "      <td>28</td>\n",
       "      <td>미혼</td>\n",
       "      <td>Yongsan-gu</td>\n",
       "      <td>제조업</td>\n",
       "      <td>2000-10-17 19:10</td>\n",
       "      <td>무역점</td>\n",
       "      <td>4800429513002</td>\n",
       "      <td>밀라노스토리무역</td>\n",
       "      <td>캐릭터캐주얼</td>\n",
       "      <td>0</td>\n",
       "      <td>74000</td>\n",
       "      <td>1</td>\n",
       "    </tr>\n",
       "    <tr>\n",
       "      <th>...</th>\n",
       "      <td>...</td>\n",
       "      <td>...</td>\n",
       "      <td>...</td>\n",
       "      <td>...</td>\n",
       "      <td>...</td>\n",
       "      <td>...</td>\n",
       "      <td>...</td>\n",
       "      <td>...</td>\n",
       "      <td>...</td>\n",
       "      <td>...</td>\n",
       "      <td>...</td>\n",
       "      <td>...</td>\n",
       "      <td>...</td>\n",
       "      <td>...</td>\n",
       "    </tr>\n",
       "    <tr>\n",
       "      <th>19120</th>\n",
       "      <td>49470</td>\n",
       "      <td>남</td>\n",
       "      <td>69</td>\n",
       "      <td>기혼</td>\n",
       "      <td>Yongsan-gu</td>\n",
       "      <td>제조업</td>\n",
       "      <td>2001-04-12 11:50</td>\n",
       "      <td>본점</td>\n",
       "      <td>4125900006670</td>\n",
       "      <td>쟝폴클라리쎄</td>\n",
       "      <td>장신구</td>\n",
       "      <td>0</td>\n",
       "      <td>30000</td>\n",
       "      <td>1</td>\n",
       "    </tr>\n",
       "    <tr>\n",
       "      <th>19121</th>\n",
       "      <td>49470</td>\n",
       "      <td>남</td>\n",
       "      <td>69</td>\n",
       "      <td>기혼</td>\n",
       "      <td>Yongsan-gu</td>\n",
       "      <td>제조업</td>\n",
       "      <td>2001-04-12 12:30</td>\n",
       "      <td>본점</td>\n",
       "      <td>2700000000000</td>\n",
       "      <td>식품</td>\n",
       "      <td>일반식품</td>\n",
       "      <td>0</td>\n",
       "      <td>118431</td>\n",
       "      <td>1</td>\n",
       "    </tr>\n",
       "    <tr>\n",
       "      <th>19122</th>\n",
       "      <td>49470</td>\n",
       "      <td>남</td>\n",
       "      <td>69</td>\n",
       "      <td>기혼</td>\n",
       "      <td>Yongsan-gu</td>\n",
       "      <td>제조업</td>\n",
       "      <td>2001-04-13 17:10</td>\n",
       "      <td>본점</td>\n",
       "      <td>4107320001120</td>\n",
       "      <td>월비스타킹</td>\n",
       "      <td>섬유</td>\n",
       "      <td>0</td>\n",
       "      <td>20400</td>\n",
       "      <td>1</td>\n",
       "    </tr>\n",
       "    <tr>\n",
       "      <th>19123</th>\n",
       "      <td>49470</td>\n",
       "      <td>남</td>\n",
       "      <td>69</td>\n",
       "      <td>기혼</td>\n",
       "      <td>Yongsan-gu</td>\n",
       "      <td>제조업</td>\n",
       "      <td>2001-04-13 17:10</td>\n",
       "      <td>본점</td>\n",
       "      <td>4125900006620</td>\n",
       "      <td>쟝폴클라리쎄</td>\n",
       "      <td>장신구</td>\n",
       "      <td>0</td>\n",
       "      <td>48000</td>\n",
       "      <td>1</td>\n",
       "    </tr>\n",
       "    <tr>\n",
       "      <th>19124</th>\n",
       "      <td>49470</td>\n",
       "      <td>남</td>\n",
       "      <td>69</td>\n",
       "      <td>기혼</td>\n",
       "      <td>Yongsan-gu</td>\n",
       "      <td>제조업</td>\n",
       "      <td>2001-04-13 17:40</td>\n",
       "      <td>본점</td>\n",
       "      <td>2700000000000</td>\n",
       "      <td>식품</td>\n",
       "      <td>일반식품</td>\n",
       "      <td>0</td>\n",
       "      <td>61172</td>\n",
       "      <td>1</td>\n",
       "    </tr>\n",
       "  </tbody>\n",
       "</table>\n",
       "<p>19125 rows × 14 columns</p>\n",
       "</div>"
      ],
      "text/plain": [
       "       고객 아이디 성별  나이 결혼여부         거주지   직업              구매일자   상점  \\\n",
       "0       10070  여  28   미혼  Yongsan-gu  제조업  2000-06-27 12:23  무역점   \n",
       "1       10070  여  28   미혼  Yongsan-gu  제조업  2000-09-03 11:33  신촌점   \n",
       "2       10070  여  28   미혼  Yongsan-gu  제조업  2000-10-05 12:10  무역점   \n",
       "3       10070  여  28   미혼  Yongsan-gu  제조업  2000-10-05 18:43  무역점   \n",
       "4       10070  여  28   미혼  Yongsan-gu  제조업  2000-10-17 19:10  무역점   \n",
       "...       ... ..  ..  ...         ...  ...               ...  ...   \n",
       "19120   49470  남  69   기혼  Yongsan-gu  제조업  2001-04-12 11:50   본점   \n",
       "19121   49470  남  69   기혼  Yongsan-gu  제조업  2001-04-12 12:30   본점   \n",
       "19122   49470  남  69   기혼  Yongsan-gu  제조업  2001-04-13 17:10   본점   \n",
       "19123   49470  남  69   기혼  Yongsan-gu  제조업  2001-04-13 17:10   본점   \n",
       "19124   49470  남  69   기혼  Yongsan-gu  제조업  2001-04-13 17:40   본점   \n",
       "\n",
       "                상품번호       브랜드      코너  수입     구매액  할부  \n",
       "0      4408173027000   1492마일즈   유니캐주얼   0   39000   1  \n",
       "1      4106530008200    메이컵포에버     화장품   1   18000   1  \n",
       "2      4800429513002  밀라노스토리무역  캐릭터캐주얼   0   39000   1  \n",
       "3      4408173027000   1492마일즈   유니캐주얼   0   69000   1  \n",
       "4      4800429513002  밀라노스토리무역  캐릭터캐주얼   0   74000   1  \n",
       "...              ...       ...     ...  ..     ...  ..  \n",
       "19120  4125900006670    쟝폴클라리쎄     장신구   0   30000   1  \n",
       "19121  2700000000000        식품    일반식품   0  118431   1  \n",
       "19122  4107320001120     월비스타킹      섬유   0   20400   1  \n",
       "19123  4125900006620    쟝폴클라리쎄     장신구   0   48000   1  \n",
       "19124  2700000000000        식품    일반식품   0   61172   1  \n",
       "\n",
       "[19125 rows x 14 columns]"
      ]
     },
     "execution_count": 38,
     "metadata": {},
     "output_type": "execute_result"
    }
   ],
   "source": [
    "#code here\n"
   ]
  },
  {
   "cell_type": "markdown",
   "metadata": {},
   "source": [
    "**B2.** brand의 종류의 수를 구하시오. (1점)"
   ]
  },
  {
   "cell_type": "code",
   "execution_count": 39,
   "metadata": {},
   "outputs": [
    {
     "data": {
      "text/plain": [
       "1191"
      ]
     },
     "execution_count": 39,
     "metadata": {},
     "output_type": "execute_result"
    }
   ],
   "source": [
    "#code here\n"
   ]
  },
  {
   "cell_type": "markdown",
   "metadata": {},
   "source": [
    "**B3.** 본점에서 화장품을 구입한 고객의 평균 나이를 구하시오. (2가지로 풀이할 것) (1점)"
   ]
  },
  {
   "cell_type": "code",
   "execution_count": 40,
   "metadata": {
    "scrolled": true
   },
   "outputs": [
    {
     "data": {
      "text/plain": [
       "41.70152091254753"
      ]
     },
     "execution_count": 40,
     "metadata": {},
     "output_type": "execute_result"
    }
   ],
   "source": [
    "#code here\n"
   ]
  },
  {
   "cell_type": "code",
   "execution_count": 41,
   "metadata": {},
   "outputs": [
    {
     "data": {
      "text/plain": [
       "41.70152091254753"
      ]
     },
     "execution_count": 41,
     "metadata": {},
     "output_type": "execute_result"
    }
   ],
   "source": [
    "#code here\n"
   ]
  },
  {
   "cell_type": "markdown",
   "metadata": {},
   "source": [
    "**B4.** 총 구매액이 가장 많은 사람부터 적은 사람 순으로 정렬하여 상위 10명만 출력하시오. (1점)"
   ]
  },
  {
   "cell_type": "code",
   "execution_count": 42,
   "metadata": {},
   "outputs": [
    {
     "data": {
      "text/plain": [
       "2226     15968\n",
       "9331     30648\n",
       "8228     28045\n",
       "1290     13493\n",
       "8538     28715\n",
       "15224    40822\n",
       "12706    35904\n",
       "7958     27436\n",
       "12800    36087\n",
       "7640     27074\n",
       "Name: 고객 아이디, dtype: int64"
      ]
     },
     "execution_count": 42,
     "metadata": {},
     "output_type": "execute_result"
    }
   ],
   "source": [
    "#code here\n"
   ]
  },
  {
   "cell_type": "markdown",
   "metadata": {},
   "source": [
    "**B5.** 3월에 구매한 50대 여성의 평균 구매액을 구하시오. (2점)"
   ]
  },
  {
   "cell_type": "code",
   "execution_count": 43,
   "metadata": {},
   "outputs": [
    {
     "data": {
      "text/plain": [
       "133265.56069364163"
      ]
     },
     "execution_count": 43,
     "metadata": {},
     "output_type": "execute_result"
    }
   ],
   "source": [
    "#code here\n"
   ]
  },
  {
   "cell_type": "markdown",
   "metadata": {},
   "source": [
    "**B6.** 지오다노는 어느 시간대에 가장 많이 팔리는지 구하시오. (2점)"
   ]
  },
  {
   "cell_type": "code",
   "execution_count": 44,
   "metadata": {},
   "outputs": [
    {
     "data": {
      "text/plain": [
       "'19'"
      ]
     },
     "execution_count": 44,
     "metadata": {},
     "output_type": "execute_result"
    }
   ],
   "source": [
    "#code here\n"
   ]
  },
  {
   "cell_type": "markdown",
   "metadata": {},
   "source": [
    "**B7.** df에서 거주지의 비율을 구하고 df에 '거주지 비율'열을 추가하시오. (2점)"
   ]
  },
  {
   "cell_type": "code",
   "execution_count": 45,
   "metadata": {},
   "outputs": [
    {
     "data": {
      "text/html": [
       "<div>\n",
       "<style scoped>\n",
       "    .dataframe tbody tr th:only-of-type {\n",
       "        vertical-align: middle;\n",
       "    }\n",
       "\n",
       "    .dataframe tbody tr th {\n",
       "        vertical-align: top;\n",
       "    }\n",
       "\n",
       "    .dataframe thead th {\n",
       "        text-align: right;\n",
       "    }\n",
       "</style>\n",
       "<table border=\"1\" class=\"dataframe\">\n",
       "  <thead>\n",
       "    <tr style=\"text-align: right;\">\n",
       "      <th></th>\n",
       "      <th>고객 아이디</th>\n",
       "      <th>성별</th>\n",
       "      <th>나이</th>\n",
       "      <th>결혼여부</th>\n",
       "      <th>거주지</th>\n",
       "      <th>직업</th>\n",
       "      <th>구매일자</th>\n",
       "      <th>상점</th>\n",
       "      <th>상품번호</th>\n",
       "      <th>브랜드</th>\n",
       "      <th>코너</th>\n",
       "      <th>수입</th>\n",
       "      <th>구매액</th>\n",
       "      <th>할부</th>\n",
       "      <th>구매월</th>\n",
       "      <th>구매시간</th>\n",
       "      <th>거주지 비율</th>\n",
       "    </tr>\n",
       "  </thead>\n",
       "  <tbody>\n",
       "    <tr>\n",
       "      <th>0</th>\n",
       "      <td>10070</td>\n",
       "      <td>여</td>\n",
       "      <td>28</td>\n",
       "      <td>미혼</td>\n",
       "      <td>Yongsan-gu</td>\n",
       "      <td>제조업</td>\n",
       "      <td>2000-06-27 12:23</td>\n",
       "      <td>무역점</td>\n",
       "      <td>4408173027000</td>\n",
       "      <td>1492마일즈</td>\n",
       "      <td>유니캐주얼</td>\n",
       "      <td>0</td>\n",
       "      <td>39000</td>\n",
       "      <td>1</td>\n",
       "      <td>06</td>\n",
       "      <td>12</td>\n",
       "      <td>3.236601</td>\n",
       "    </tr>\n",
       "    <tr>\n",
       "      <th>1</th>\n",
       "      <td>10070</td>\n",
       "      <td>여</td>\n",
       "      <td>28</td>\n",
       "      <td>미혼</td>\n",
       "      <td>Yongsan-gu</td>\n",
       "      <td>제조업</td>\n",
       "      <td>2000-09-03 11:33</td>\n",
       "      <td>신촌점</td>\n",
       "      <td>4106530008200</td>\n",
       "      <td>메이컵포에버</td>\n",
       "      <td>화장품</td>\n",
       "      <td>1</td>\n",
       "      <td>18000</td>\n",
       "      <td>1</td>\n",
       "      <td>09</td>\n",
       "      <td>11</td>\n",
       "      <td>3.236601</td>\n",
       "    </tr>\n",
       "    <tr>\n",
       "      <th>2</th>\n",
       "      <td>10070</td>\n",
       "      <td>여</td>\n",
       "      <td>28</td>\n",
       "      <td>미혼</td>\n",
       "      <td>Yongsan-gu</td>\n",
       "      <td>제조업</td>\n",
       "      <td>2000-10-05 12:10</td>\n",
       "      <td>무역점</td>\n",
       "      <td>4800429513002</td>\n",
       "      <td>밀라노스토리무역</td>\n",
       "      <td>캐릭터캐주얼</td>\n",
       "      <td>0</td>\n",
       "      <td>39000</td>\n",
       "      <td>1</td>\n",
       "      <td>10</td>\n",
       "      <td>12</td>\n",
       "      <td>3.236601</td>\n",
       "    </tr>\n",
       "    <tr>\n",
       "      <th>3</th>\n",
       "      <td>10070</td>\n",
       "      <td>여</td>\n",
       "      <td>28</td>\n",
       "      <td>미혼</td>\n",
       "      <td>Yongsan-gu</td>\n",
       "      <td>제조업</td>\n",
       "      <td>2000-10-05 18:43</td>\n",
       "      <td>무역점</td>\n",
       "      <td>4408173027000</td>\n",
       "      <td>1492마일즈</td>\n",
       "      <td>유니캐주얼</td>\n",
       "      <td>0</td>\n",
       "      <td>69000</td>\n",
       "      <td>1</td>\n",
       "      <td>10</td>\n",
       "      <td>18</td>\n",
       "      <td>3.236601</td>\n",
       "    </tr>\n",
       "    <tr>\n",
       "      <th>4</th>\n",
       "      <td>10070</td>\n",
       "      <td>여</td>\n",
       "      <td>28</td>\n",
       "      <td>미혼</td>\n",
       "      <td>Yongsan-gu</td>\n",
       "      <td>제조업</td>\n",
       "      <td>2000-10-17 19:10</td>\n",
       "      <td>무역점</td>\n",
       "      <td>4800429513002</td>\n",
       "      <td>밀라노스토리무역</td>\n",
       "      <td>캐릭터캐주얼</td>\n",
       "      <td>0</td>\n",
       "      <td>74000</td>\n",
       "      <td>1</td>\n",
       "      <td>10</td>\n",
       "      <td>19</td>\n",
       "      <td>3.236601</td>\n",
       "    </tr>\n",
       "  </tbody>\n",
       "</table>\n",
       "</div>"
      ],
      "text/plain": [
       "   고객 아이디 성별  나이 결혼여부         거주지   직업              구매일자   상점           상품번호  \\\n",
       "0   10070  여  28   미혼  Yongsan-gu  제조업  2000-06-27 12:23  무역점  4408173027000   \n",
       "1   10070  여  28   미혼  Yongsan-gu  제조업  2000-09-03 11:33  신촌점  4106530008200   \n",
       "2   10070  여  28   미혼  Yongsan-gu  제조업  2000-10-05 12:10  무역점  4800429513002   \n",
       "3   10070  여  28   미혼  Yongsan-gu  제조업  2000-10-05 18:43  무역점  4408173027000   \n",
       "4   10070  여  28   미혼  Yongsan-gu  제조업  2000-10-17 19:10  무역점  4800429513002   \n",
       "\n",
       "        브랜드      코너  수입    구매액  할부 구매월 구매시간    거주지 비율  \n",
       "0   1492마일즈   유니캐주얼   0  39000   1  06   12  3.236601  \n",
       "1    메이컵포에버     화장품   1  18000   1  09   11  3.236601  \n",
       "2  밀라노스토리무역  캐릭터캐주얼   0  39000   1  10   12  3.236601  \n",
       "3   1492마일즈   유니캐주얼   0  69000   1  10   18  3.236601  \n",
       "4  밀라노스토리무역  캐릭터캐주얼   0  74000   1  10   19  3.236601  "
      ]
     },
     "execution_count": 45,
     "metadata": {},
     "output_type": "execute_result"
    }
   ],
   "source": [
    "#code here\n"
   ]
  },
  {
   "cell_type": "markdown",
   "metadata": {},
   "source": [
    "## C."
   ]
  },
  {
   "cell_type": "code",
   "execution_count": 46,
   "metadata": {},
   "outputs": [
    {
     "name": "stderr",
     "output_type": "stream",
     "text": [
      "C:\\Users\\gimje\\Anaconda\\lib\\site-packages\\IPython\\core\\interactiveshell.py:3063: DtypeWarning: Columns (4,5) have mixed types.Specify dtype option on import or set low_memory=False.\n",
      "  interactivity=interactivity, compiler=compiler, result=result)\n"
     ]
    },
    {
     "data": {
      "text/html": [
       "<div>\n",
       "<style scoped>\n",
       "    .dataframe tbody tr th:only-of-type {\n",
       "        vertical-align: middle;\n",
       "    }\n",
       "\n",
       "    .dataframe tbody tr th {\n",
       "        vertical-align: top;\n",
       "    }\n",
       "\n",
       "    .dataframe thead th {\n",
       "        text-align: right;\n",
       "    }\n",
       "</style>\n",
       "<table border=\"1\" class=\"dataframe\">\n",
       "  <thead>\n",
       "    <tr style=\"text-align: right;\">\n",
       "      <th></th>\n",
       "      <th>login_id</th>\n",
       "      <th>user_id</th>\n",
       "      <th>c_time</th>\n",
       "      <th>platform</th>\n",
       "      <th>browser</th>\n",
       "    </tr>\n",
       "  </thead>\n",
       "  <tbody>\n",
       "    <tr>\n",
       "      <th>0</th>\n",
       "      <td>14196.0</td>\n",
       "      <td>19195.0</td>\n",
       "      <td>2018-09-23 1:30</td>\n",
       "      <td>Windows 8</td>\n",
       "      <td>Internet Explorer 10.0</td>\n",
       "    </tr>\n",
       "    <tr>\n",
       "      <th>1</th>\n",
       "      <td>14234.0</td>\n",
       "      <td>22045.0</td>\n",
       "      <td>2018-09-23 2:46</td>\n",
       "      <td>Windows</td>\n",
       "      <td>Chrome 67.0.3396.99</td>\n",
       "    </tr>\n",
       "    <tr>\n",
       "      <th>2</th>\n",
       "      <td>14256.0</td>\n",
       "      <td>8790.0</td>\n",
       "      <td>2018-09-23 3:35</td>\n",
       "      <td>Windows</td>\n",
       "      <td>Chrome 69.0.3497.100</td>\n",
       "    </tr>\n",
       "    <tr>\n",
       "      <th>3</th>\n",
       "      <td>14278.0</td>\n",
       "      <td>NaN</td>\n",
       "      <td>2018-09-23 12:50</td>\n",
       "      <td>Windows</td>\n",
       "      <td>Chrome 69.0.3497.100</td>\n",
       "    </tr>\n",
       "    <tr>\n",
       "      <th>4</th>\n",
       "      <td>14279.0</td>\n",
       "      <td>NaN</td>\n",
       "      <td>2018-09-23 12:50</td>\n",
       "      <td>Windows</td>\n",
       "      <td>Chrome 69.0.3497.100</td>\n",
       "    </tr>\n",
       "    <tr>\n",
       "      <th>...</th>\n",
       "      <td>...</td>\n",
       "      <td>...</td>\n",
       "      <td>...</td>\n",
       "      <td>...</td>\n",
       "      <td>...</td>\n",
       "    </tr>\n",
       "    <tr>\n",
       "      <th>148994</th>\n",
       "      <td>584404.0</td>\n",
       "      <td>19696.0</td>\n",
       "      <td>2020-12-08 23:46</td>\n",
       "      <td>NaN</td>\n",
       "      <td>NaN</td>\n",
       "    </tr>\n",
       "    <tr>\n",
       "      <th>148995</th>\n",
       "      <td>584405.0</td>\n",
       "      <td>6586.0</td>\n",
       "      <td>2020-12-08 23:49</td>\n",
       "      <td>NaN</td>\n",
       "      <td>NaN</td>\n",
       "    </tr>\n",
       "    <tr>\n",
       "      <th>148996</th>\n",
       "      <td>584406.0</td>\n",
       "      <td>19303.0</td>\n",
       "      <td>2020-12-08 23:49</td>\n",
       "      <td>NaN</td>\n",
       "      <td>NaN</td>\n",
       "    </tr>\n",
       "    <tr>\n",
       "      <th>148997</th>\n",
       "      <td>584407.0</td>\n",
       "      <td>11103.0</td>\n",
       "      <td>2020-12-08 23:51</td>\n",
       "      <td>NaN</td>\n",
       "      <td>NaN</td>\n",
       "    </tr>\n",
       "    <tr>\n",
       "      <th>148998</th>\n",
       "      <td>584408.0</td>\n",
       "      <td>6600.0</td>\n",
       "      <td>2020-12-08 23:59</td>\n",
       "      <td>NaN</td>\n",
       "      <td>NaN</td>\n",
       "    </tr>\n",
       "  </tbody>\n",
       "</table>\n",
       "<p>148999 rows × 5 columns</p>\n",
       "</div>"
      ],
      "text/plain": [
       "        login_id  user_id            c_time   platform                 browser\n",
       "0        14196.0  19195.0   2018-09-23 1:30  Windows 8  Internet Explorer 10.0\n",
       "1        14234.0  22045.0   2018-09-23 2:46    Windows     Chrome 67.0.3396.99\n",
       "2        14256.0   8790.0   2018-09-23 3:35    Windows    Chrome 69.0.3497.100\n",
       "3        14278.0      NaN  2018-09-23 12:50    Windows    Chrome 69.0.3497.100\n",
       "4        14279.0      NaN  2018-09-23 12:50    Windows    Chrome 69.0.3497.100\n",
       "...          ...      ...               ...        ...                     ...\n",
       "148994  584404.0  19696.0  2020-12-08 23:46        NaN                     NaN\n",
       "148995  584405.0   6586.0  2020-12-08 23:49        NaN                     NaN\n",
       "148996  584406.0  19303.0  2020-12-08 23:49        NaN                     NaN\n",
       "148997  584407.0  11103.0  2020-12-08 23:51        NaN                     NaN\n",
       "148998  584408.0   6600.0  2020-12-08 23:59        NaN                     NaN\n",
       "\n",
       "[148999 rows x 5 columns]"
      ]
     },
     "execution_count": 46,
     "metadata": {},
     "output_type": "execute_result"
    }
   ],
   "source": [
    "### 코드를 건드리지 마시고 실행해주세요.\n",
    "info_login = pd.read_csv('info_login.csv',encoding='cp949').iloc[:148999,1:] ; info_login"
   ]
  },
  {
   "cell_type": "markdown",
   "metadata": {},
   "source": [
    "**C1.** 위에 데이터를 가지고 user_id가 NaN인 행은 모두 지우고, platform과 browser는 최빈값으로 대체하시오.\\\n",
    "(결측치를 채운 후에 인덱스 번호를 다시 생성하시오)  (2점)"
   ]
  },
  {
   "cell_type": "code",
   "execution_count": 47,
   "metadata": {},
   "outputs": [],
   "source": [
    "#code here\n"
   ]
  },
  {
   "cell_type": "code",
   "execution_count": null,
   "metadata": {},
   "outputs": [],
   "source": []
  },
  {
   "cell_type": "markdown",
   "metadata": {},
   "source": [
    "**C2.** 위에 만든 info_login데이터를 가지고 login_id와 user_id를 int형으로 바꾸세요. (info_login을 출력할때 바뀐 형태로 출력되어야 함)  (1점)"
   ]
  },
  {
   "cell_type": "code",
   "execution_count": 50,
   "metadata": {},
   "outputs": [
    {
     "data": {
      "text/html": [
       "<div>\n",
       "<style scoped>\n",
       "    .dataframe tbody tr th:only-of-type {\n",
       "        vertical-align: middle;\n",
       "    }\n",
       "\n",
       "    .dataframe tbody tr th {\n",
       "        vertical-align: top;\n",
       "    }\n",
       "\n",
       "    .dataframe thead th {\n",
       "        text-align: right;\n",
       "    }\n",
       "</style>\n",
       "<table border=\"1\" class=\"dataframe\">\n",
       "  <thead>\n",
       "    <tr style=\"text-align: right;\">\n",
       "      <th></th>\n",
       "      <th>login_id</th>\n",
       "      <th>user_id</th>\n",
       "      <th>c_time</th>\n",
       "      <th>platform</th>\n",
       "      <th>browser</th>\n",
       "    </tr>\n",
       "  </thead>\n",
       "  <tbody>\n",
       "    <tr>\n",
       "      <th>0</th>\n",
       "      <td>14196</td>\n",
       "      <td>19195</td>\n",
       "      <td>2018-09-23 1:30</td>\n",
       "      <td>Windows 8</td>\n",
       "      <td>Internet Explorer 10.0</td>\n",
       "    </tr>\n",
       "    <tr>\n",
       "      <th>1</th>\n",
       "      <td>14234</td>\n",
       "      <td>22045</td>\n",
       "      <td>2018-09-23 2:46</td>\n",
       "      <td>Windows</td>\n",
       "      <td>Chrome 67.0.3396.99</td>\n",
       "    </tr>\n",
       "    <tr>\n",
       "      <th>2</th>\n",
       "      <td>14256</td>\n",
       "      <td>8790</td>\n",
       "      <td>2018-09-23 3:35</td>\n",
       "      <td>Windows</td>\n",
       "      <td>Chrome 69.0.3497.100</td>\n",
       "    </tr>\n",
       "    <tr>\n",
       "      <th>3</th>\n",
       "      <td>14280</td>\n",
       "      <td>10206</td>\n",
       "      <td>2018-09-23 13:24</td>\n",
       "      <td>Windows</td>\n",
       "      <td>Chrome 68.0.3440.106</td>\n",
       "    </tr>\n",
       "    <tr>\n",
       "      <th>4</th>\n",
       "      <td>14288</td>\n",
       "      <td>488</td>\n",
       "      <td>2018-09-23 14:05</td>\n",
       "      <td>Windows 7</td>\n",
       "      <td>Chrome 68.0.3440.106</td>\n",
       "    </tr>\n",
       "    <tr>\n",
       "      <th>...</th>\n",
       "      <td>...</td>\n",
       "      <td>...</td>\n",
       "      <td>...</td>\n",
       "      <td>...</td>\n",
       "      <td>...</td>\n",
       "    </tr>\n",
       "    <tr>\n",
       "      <th>141580</th>\n",
       "      <td>584404</td>\n",
       "      <td>19696</td>\n",
       "      <td>2020-12-08 23:46</td>\n",
       "      <td>Windows</td>\n",
       "      <td>Chrome 78.0.3904.108</td>\n",
       "    </tr>\n",
       "    <tr>\n",
       "      <th>141581</th>\n",
       "      <td>584405</td>\n",
       "      <td>6586</td>\n",
       "      <td>2020-12-08 23:49</td>\n",
       "      <td>Windows</td>\n",
       "      <td>Chrome 78.0.3904.108</td>\n",
       "    </tr>\n",
       "    <tr>\n",
       "      <th>141582</th>\n",
       "      <td>584406</td>\n",
       "      <td>19303</td>\n",
       "      <td>2020-12-08 23:49</td>\n",
       "      <td>Windows</td>\n",
       "      <td>Chrome 78.0.3904.108</td>\n",
       "    </tr>\n",
       "    <tr>\n",
       "      <th>141583</th>\n",
       "      <td>584407</td>\n",
       "      <td>11103</td>\n",
       "      <td>2020-12-08 23:51</td>\n",
       "      <td>Windows</td>\n",
       "      <td>Chrome 78.0.3904.108</td>\n",
       "    </tr>\n",
       "    <tr>\n",
       "      <th>141584</th>\n",
       "      <td>584408</td>\n",
       "      <td>6600</td>\n",
       "      <td>2020-12-08 23:59</td>\n",
       "      <td>Windows</td>\n",
       "      <td>Chrome 78.0.3904.108</td>\n",
       "    </tr>\n",
       "  </tbody>\n",
       "</table>\n",
       "<p>141585 rows × 5 columns</p>\n",
       "</div>"
      ],
      "text/plain": [
       "        login_id  user_id            c_time   platform                 browser\n",
       "0          14196    19195   2018-09-23 1:30  Windows 8  Internet Explorer 10.0\n",
       "1          14234    22045   2018-09-23 2:46    Windows     Chrome 67.0.3396.99\n",
       "2          14256     8790   2018-09-23 3:35    Windows    Chrome 69.0.3497.100\n",
       "3          14280    10206  2018-09-23 13:24    Windows    Chrome 68.0.3440.106\n",
       "4          14288      488  2018-09-23 14:05  Windows 7    Chrome 68.0.3440.106\n",
       "...          ...      ...               ...        ...                     ...\n",
       "141580    584404    19696  2020-12-08 23:46    Windows    Chrome 78.0.3904.108\n",
       "141581    584405     6586  2020-12-08 23:49    Windows    Chrome 78.0.3904.108\n",
       "141582    584406    19303  2020-12-08 23:49    Windows    Chrome 78.0.3904.108\n",
       "141583    584407    11103  2020-12-08 23:51    Windows    Chrome 78.0.3904.108\n",
       "141584    584408     6600  2020-12-08 23:59    Windows    Chrome 78.0.3904.108\n",
       "\n",
       "[141585 rows x 5 columns]"
      ]
     },
     "execution_count": 50,
     "metadata": {},
     "output_type": "execute_result"
    }
   ],
   "source": [
    "#code here\n"
   ]
  },
  {
   "cell_type": "code",
   "execution_count": null,
   "metadata": {},
   "outputs": [],
   "source": []
  }
 ],
 "metadata": {
  "kernelspec": {
   "display_name": "Python 3",
   "language": "python",
   "name": "python3"
  },
  "language_info": {
   "codemirror_mode": {
    "name": "ipython",
    "version": 3
   },
   "file_extension": ".py",
   "mimetype": "text/x-python",
   "name": "python",
   "nbconvert_exporter": "python",
   "pygments_lexer": "ipython3",
   "version": "3.7.6"
  }
 },
 "nbformat": 4,
 "nbformat_minor": 4
}
